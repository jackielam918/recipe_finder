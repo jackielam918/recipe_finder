{
 "cells": [
  {
   "cell_type": "code",
   "execution_count": null,
   "metadata": {},
   "outputs": [],
   "source": [
    "import psycopg2\n",
    "import pandas as pd\n",
    "import numpy as np\n",
    "import psycopg2.extras as extras\n",
    "from ast import literal_eval\n",
    "from psycopg2.extensions import register_adapter, AsIs\n",
    "\n",
    "psycopg2.extensions.register_adapter(np.int64, psycopg2._psycopg.AsIs)\n",
    "\n",
    "pd.options.display.max_columns = 100"
   ]
  },
  {
   "cell_type": "markdown",
   "metadata": {},
   "source": [
    "## Connect to Database"
   ]
  },
  {
   "cell_type": "code",
   "execution_count": null,
   "metadata": {},
   "outputs": [],
   "source": [
    "# Enter credentials\n",
    "host = ####\n",
    "database = ####\n",
    "user = ####\n",
    "password = ####\n",
    "\n",
    "def create_connection(host, database, user, password):\n",
    "    return psycopg2.connect(\n",
    "        host=host,\n",
    "        database=database,\n",
    "        user=user,\n",
    "        password=password)\n",
    "\n",
    "connection = create_connection(host, database, user, password)"
   ]
  },
  {
   "cell_type": "markdown",
   "metadata": {},
   "source": [
    "## Clear Database"
   ]
  },
  {
   "cell_type": "code",
   "execution_count": null,
   "metadata": {
    "scrolled": true
   },
   "outputs": [],
   "source": [
    "cursor = connection.cursor()\n",
    "\n",
    "drop_table_query = '''\n",
    "    DROP TABLE IF EXISTS recipeIngredientJoin;\n",
    "    DROP TABLE IF EXISTS recipeCleanJoin;\n",
    "    DROP TABLE IF EXISTS rawIngredients;\n",
    "    DROP TABLE IF EXISTS ingredients;\n",
    "    DROP TABLE IF EXISTS cleanIngredients;\n",
    "    DROP TABLE IF EXISTS recipeTagJoin;\n",
    "    DROP TABLE IF EXISTS tags;\n",
    "    DROP TABLE IF EXISTS interactions;\n",
    "    DROP TABLE IF EXISTS users;\n",
    "    DROP TABLE IF EXISTS recipes;\n",
    "'''\n",
    "    \n",
    "cursor.execute(drop_table_query)\n",
    "connection.commit()\n",
    "print(\"Tables successfully deleted.\")"
   ]
  },
  {
   "cell_type": "markdown",
   "metadata": {},
   "source": [
    "## Insert Data into Tables"
   ]
  },
  {
   "cell_type": "code",
   "execution_count": null,
   "metadata": {},
   "outputs": [],
   "source": [
    "def insert_data(conn, df, table):\n",
    "    \"\"\"\n",
    "    Using psycopg2.extras.execute_values() to insert the dataframe\n",
    "    Code from: https://naysan.ca/2020/05/09/pandas-to-postgresql-using-psycopg2-bulk-insert-performance-benchmark/\n",
    "    \"\"\"\n",
    "    # Create a list of tuples from the dataframe values\n",
    "    tuples = [tuple(x) for x in df.to_numpy()]\n",
    "    \n",
    "    # Comma-separated dataframe columns\n",
    "    cols = ','.join(list(df.columns))\n",
    "    \n",
    "    # SQL quert to execute\n",
    "    query  = \"INSERT INTO %s(%s) VALUES %%s\" % (table, cols)\n",
    "    cursor = conn.cursor()\n",
    "    try:\n",
    "        extras.execute_values(cursor, query, tuples)\n",
    "        conn.commit()\n",
    "    except (Exception, psycopg2.DatabaseError) as error:\n",
    "        print(\"Error: %s\" % error)\n",
    "        conn.rollback()\n",
    "        cursor.close()\n",
    "        return 1\n",
    "    \n",
    "    print(\"Inserted data into {} table.\".format(table))\n",
    "    cursor.close()"
   ]
  },
  {
   "cell_type": "markdown",
   "metadata": {},
   "source": [
    "### Recipes"
   ]
  },
  {
   "cell_type": "code",
   "execution_count": null,
   "metadata": {},
   "outputs": [],
   "source": [
    "# Create table\n",
    "cursor = connection.cursor()\n",
    "\n",
    "create_table_query = '''\n",
    "    DROP TABLE IF EXISTS recipes;\n",
    "    \n",
    "    CREATE TABLE IF NOT EXISTS recipes (\n",
    "      recipeID INTEGER PRIMARY KEY,\n",
    "      name VARCHAR(255),\n",
    "      minutes INTEGER,\n",
    "      contributorID INTEGER,\n",
    "      submittedDate DATE,\n",
    "      tagsList TEXT [],\n",
    "      nutritionList FLOAT [],\n",
    "      numSteps INTEGER,\n",
    "      stepsList TEXT [],\n",
    "      description TEXT,\n",
    "      cleanIngredientNameList TEXT [],\n",
    "      numIngredients INTEGER,\n",
    "      i FLOAT,\n",
    "      nameTokenList INTEGER [],\n",
    "      ingredientTokenList TEXT,\n",
    "      stepTokenList INTEGER [],\n",
    "      techniqueList INTEGER [],\n",
    "      calorieLevel FLOAT,\n",
    "      cleanIngredientIDList INTEGER [],\n",
    "      isComplete BOOLEAN,\n",
    "      calories FLOAT,\n",
    "      fatPDV FLOAT,\n",
    "      sugarPDV FLOAT,\n",
    "      sodiumPDV FLOAT,\n",
    "      proteinPDV FLOAT,\n",
    "      saturatedFatPDV FLOAT,\n",
    "      carbsPDV FLOAT\n",
    "    );\n",
    "'''\n",
    "\n",
    "cursor.execute(create_table_query)\n",
    "connection.commit()\n",
    "print(\"Table created successfully in PostgreSQL \")"
   ]
  },
  {
   "cell_type": "code",
   "execution_count": null,
   "metadata": {
    "scrolled": true
   },
   "outputs": [],
   "source": [
    "# Insert data\n",
    "recipes = pd.read_csv(\"Clean Recipe Data/recipes.csv\", parse_dates=[\"submittedDate\"])\n",
    "# nonblank_recipes = recipes.copy().dropna(how=\"any\", axis=0)\n",
    "\n",
    "# Convert list columns to lists\n",
    "list_columns = [\"tagsList\", \"nutritionList\", \"stepsList\", \"cleanIngredientNameList\", \\\n",
    "                \"nameTokenList\", \"stepTokenList\", \"techniqueList\", \"cleanIngredientIDList\"]\n",
    "print(\"Converting columns to list:\")\n",
    "for col in list_columns:\n",
    "    print(col)\n",
    "    # Replace nan with an empty list\n",
    "    recipes.loc[pd.isnull(recipes[col]), col] = \"[]\"\n",
    "    recipes[col] = recipes[col].apply(lambda x: literal_eval(str(x)))\n",
    "    \n",
    "insert_data(connection, recipes, \"recipes\")"
   ]
  },
  {
   "cell_type": "markdown",
   "metadata": {},
   "source": [
    "### Clean Ingredients"
   ]
  },
  {
   "cell_type": "code",
   "execution_count": null,
   "metadata": {},
   "outputs": [],
   "source": [
    "# Create table\n",
    "cursor = connection.cursor()\n",
    "\n",
    "create_table_query = '''\n",
    "    CREATE TABLE IF NOT EXISTS cleanIngredients (\n",
    "      cleanIngredientID INTEGER PRIMARY KEY,\n",
    "      name VARCHAR(255)\n",
    "    );\n",
    "'''\n",
    "\n",
    "cursor.execute(create_table_query)\n",
    "connection.commit()\n",
    "print(\"Table created successfully in PostgreSQL \")"
   ]
  },
  {
   "cell_type": "code",
   "execution_count": null,
   "metadata": {},
   "outputs": [],
   "source": [
    "# Insert data\n",
    "cleanIngredients = pd.read_csv(\"Clean Recipe Data/cleanIngredients.csv\")\n",
    "# cleanIngredients.head()\n",
    "\n",
    "insert_data(connection, cleanIngredients, \"cleaningredients\")"
   ]
  },
  {
   "cell_type": "markdown",
   "metadata": {},
   "source": [
    "### Raw Ingredients"
   ]
  },
  {
   "cell_type": "code",
   "execution_count": null,
   "metadata": {},
   "outputs": [],
   "source": [
    "# Create table\n",
    "cursor = connection.cursor()\n",
    "\n",
    "create_table_query = '''\n",
    "    DROP TABLE IF EXISTS rawIngredients;\n",
    "    \n",
    "    CREATE TABLE IF NOT EXISTS rawIngredients (\n",
    "      rawIngredientID INTEGER PRIMARY KEY,\n",
    "      cleanIngredientID INTEGER,\n",
    "      rawName VARCHAR(255),\n",
    "      rawNameLength INTEGER,\n",
    "      processedName VARCHAR(255),\n",
    "      processedNameLength INTEGER,\n",
    "      FOREIGN KEY (cleanIngredientID) REFERENCES cleanIngredients (cleanIngredientID)\n",
    "    );\n",
    "'''\n",
    "\n",
    "cursor.execute(create_table_query)\n",
    "connection.commit()\n",
    "print(\"Table created successfully in PostgreSQL \")"
   ]
  },
  {
   "cell_type": "code",
   "execution_count": null,
   "metadata": {},
   "outputs": [],
   "source": [
    "# Insert data\n",
    "rawIngredients = pd.read_csv(\"Clean Recipe Data/rawIngredients.csv\")\n",
    "# rawIngredients.head()\n",
    "\n",
    "insert_data(connection, rawIngredients, \"rawingredients\")"
   ]
  },
  {
   "cell_type": "markdown",
   "metadata": {},
   "source": [
    "### Recipe Clean Join"
   ]
  },
  {
   "cell_type": "code",
   "execution_count": null,
   "metadata": {},
   "outputs": [],
   "source": [
    "# Create table\n",
    "cursor = connection.cursor()\n",
    "\n",
    "create_table_query = '''\n",
    "    DROP TABLE IF EXISTS recipeCleanJoin;\n",
    "\n",
    "    CREATE TABLE IF NOT EXISTS recipeCleanJoin (\n",
    "       recipeID INTEGER NOT NULL,\n",
    "       cleanIngredientID INTEGER NOT NULL,\n",
    "       PRIMARY KEY (recipeID, cleanIngredientID),\n",
    "       FOREIGN KEY (recipeID) REFERENCES recipes (recipeID),\n",
    "       FOREIGN KEY (cleanIngredientID) REFERENCES cleanIngredients (cleanIngredientID)\n",
    "    );\n",
    "'''\n",
    "\n",
    "cursor.execute(create_table_query)\n",
    "connection.commit()\n",
    "print(\"Table created successfully in PostgreSQL \")  "
   ]
  },
  {
   "cell_type": "code",
   "execution_count": null,
   "metadata": {
    "scrolled": true
   },
   "outputs": [],
   "source": [
    "# Insert data\n",
    "recipeCleanJoin = pd.read_csv(\"Clean Recipe Data/recipeCleanJoin.csv\")\n",
    "recipeCleanJoin.drop_duplicates(inplace=True)\n",
    "# recipeCleanJoin.head()\n",
    "\n",
    "insert_data(connection, recipeCleanJoin, \"recipeCleanJoin\")"
   ]
  },
  {
   "cell_type": "markdown",
   "metadata": {},
   "source": [
    "### Tags"
   ]
  },
  {
   "cell_type": "code",
   "execution_count": null,
   "metadata": {},
   "outputs": [],
   "source": [
    "# Create table\n",
    "cursor = connection.cursor()\n",
    "\n",
    "create_table_query = '''\n",
    "    DROP TABLE IF EXISTS tags;\n",
    "    \n",
    "    CREATE TABLE IF NOT EXISTS tags (\n",
    "      tagID INTEGER PRIMARY KEY,\n",
    "      tag VARCHAR(255),\n",
    "      numRecipes INTEGER\n",
    "    );\n",
    "'''\n",
    "\n",
    "cursor.execute(create_table_query)\n",
    "connection.commit()\n",
    "print(\"Table created successfully in PostgreSQL \")"
   ]
  },
  {
   "cell_type": "code",
   "execution_count": null,
   "metadata": {},
   "outputs": [],
   "source": [
    "# Insert data\n",
    "tags = pd.read_csv(\"Clean Recipe Data/tags.csv\")\n",
    "# tags.head()\n",
    "\n",
    "insert_data(connection, tags, \"tags\")"
   ]
  },
  {
   "cell_type": "markdown",
   "metadata": {},
   "source": [
    "### Recipe Tag Join"
   ]
  },
  {
   "cell_type": "code",
   "execution_count": null,
   "metadata": {},
   "outputs": [],
   "source": [
    "# Create table\n",
    "cursor = connection.cursor()\n",
    "\n",
    "create_table_query = '''\n",
    "    DROP TABLE IF EXISTS recipeTagJoin;\n",
    "\n",
    "    CREATE TABLE IF NOT EXISTS recipeTagJoin (\n",
    "       recipeID INTEGER NOT NULL,\n",
    "       tagID INTEGER NOT NULL,\n",
    "       PRIMARY KEY (recipeID, tagID),\n",
    "       FOREIGN KEY (recipeID) REFERENCES recipes (recipeID),\n",
    "       FOREIGN KEY (tagID) REFERENCES tags (tagID)\n",
    "    );\n",
    "'''\n",
    "\n",
    "cursor.execute(create_table_query)\n",
    "connection.commit()\n",
    "print(\"Table created successfully in PostgreSQL \") "
   ]
  },
  {
   "cell_type": "code",
   "execution_count": null,
   "metadata": {},
   "outputs": [],
   "source": [
    "# Insert data\n",
    "recipeTagJoin = pd.read_csv(\"Clean Recipe Data/recipeTagJoin.csv\")\n",
    "recipeTagJoin.drop_duplicates(inplace=True)\n",
    "# recipeTagJoin.head()\n",
    "\n",
    "n = 50000\n",
    "\n",
    "for g, df in recipeTagJoin.groupby(np.arange(len(recipeTagJoin)) // n):\n",
    "    \n",
    "    # Recreate connection to avoid time-out\n",
    "    connection = create_connection(host, database, user, password)\n",
    "\n",
    "    # Insert group of rows\n",
    "    insert_data(connection, df, \"recipeTagJoin\")\n",
    "    print(\"Inserted {} records.\".format(n * g + df.shape[0]))\n",
    "    \n",
    "    # Close connection\n",
    "    if(connection):\n",
    "        connection.close()\n",
    "#         print(\"PostgreSQL connection is closed\")"
   ]
  },
  {
   "cell_type": "markdown",
   "metadata": {},
   "source": [
    "### Users"
   ]
  },
  {
   "cell_type": "code",
   "execution_count": null,
   "metadata": {},
   "outputs": [],
   "source": [
    "# Create table\n",
    "connection = create_connection(host, database, user, password)\n",
    "\n",
    "cursor = connection.cursor()\n",
    "\n",
    "create_table_query = '''\n",
    "    DROP TABLE IF EXISTS users;\n",
    "    \n",
    "    CREATE TABLE IF NOT EXISTS users (\n",
    "      userID INTEGER PRIMARY KEY,\n",
    "      techniquesList INTEGER [],\n",
    "      itemsList INTEGER [],\n",
    "      numItems INTEGER,\n",
    "      ratingsList FLOAT [],\n",
    "      numRatings INTEGER\n",
    "    );\n",
    "'''\n",
    "\n",
    "cursor.execute(create_table_query)\n",
    "connection.commit()\n",
    "print(\"Table created successfully in PostgreSQL \")"
   ]
  },
  {
   "cell_type": "code",
   "execution_count": null,
   "metadata": {},
   "outputs": [],
   "source": [
    "# Insert data\n",
    "users = pd.read_csv(\"Clean Recipe Data/users.csv\")\n",
    "\n",
    "# Convert list columns to lists\n",
    "list_columns_users = [\"techniquesList\", \"itemsList\", \"ratingsList\"]\n",
    "print(\"Converting columns to list:\")\n",
    "for col in list_columns_users:\n",
    "    print(col)\n",
    "    # Replace nan with an empty list\n",
    "    users.loc[pd.isnull(users[col]), col] = \"[]\"\n",
    "    users[col] = users[col].apply(lambda x: literal_eval(str(x)))\n",
    "\n",
    "insert_data(connection, users, \"users\")"
   ]
  },
  {
   "cell_type": "markdown",
   "metadata": {},
   "source": [
    "### Interactions"
   ]
  },
  {
   "cell_type": "code",
   "execution_count": null,
   "metadata": {},
   "outputs": [],
   "source": [
    "# Create table\n",
    "cursor = connection.cursor()\n",
    "\n",
    "create_table_query = '''\n",
    "    DROP TABLE IF EXISTS interactions;\n",
    "\n",
    "    CREATE TABLE IF NOT EXISTS interactions (\n",
    "      interactionID INTEGER PRIMARY KEY,\n",
    "      recipeID INTEGER,\n",
    "      userID INTEGER,\n",
    "      date DATE,\n",
    "      rating INTEGER,\n",
    "      review TEXT,\n",
    "      FOREIGN KEY (recipeID) REFERENCES recipes (recipeID)\n",
    "    );\n",
    "'''\n",
    "\n",
    "cursor.execute(create_table_query)\n",
    "connection.commit()\n",
    "print(\"Table created successfully in PostgreSQL \") "
   ]
  },
  {
   "cell_type": "code",
   "execution_count": null,
   "metadata": {},
   "outputs": [],
   "source": [
    "# Interactions\n",
    "interactions = pd.read_csv(\"Clean Recipe Data/interactions.csv\")\n",
    "# interactions.head()\n",
    "\n",
    "n = 50000\n",
    "\n",
    "for g, df in interactions.groupby(np.arange(len(interactions)) // n):\n",
    "    \n",
    "    # Recreate connection to avoid time-out\n",
    "    connection = create_connection(host, database, user, password)\n",
    "\n",
    "    # Insert group of rows\n",
    "    insert_data(connection, df, \"interactions\")\n",
    "    print(\"Inserted {} records.\".format(n * g + df.shape[0]))\n",
    "    \n",
    "    # Close connection\n",
    "    if(connection):\n",
    "        connection.close()\n",
    "#         print(\"PostgreSQL connection is closed\")"
   ]
  },
  {
   "cell_type": "code",
   "execution_count": null,
   "metadata": {},
   "outputs": [],
   "source": [
    "#closing database connection.\n",
    "if(connection):\n",
    "    cursor.close()\n",
    "    connection.close()\n",
    "    print(\"PostgreSQL connection is closed\")"
   ]
  },
  {
   "cell_type": "code",
   "execution_count": null,
   "metadata": {},
   "outputs": [],
   "source": [
    "## Insert new table\n",
    "\n",
    "## Add column to recipes\n",
    "\n",
    "## Add new join table"
   ]
  },
  {
   "cell_type": "markdown",
   "metadata": {},
   "source": [
    "### Ingredients"
   ]
  },
  {
   "cell_type": "code",
   "execution_count": null,
   "metadata": {},
   "outputs": [],
   "source": [
    "# Create table\n",
    "cursor = connection.cursor()\n",
    "\n",
    "create_table_query = '''\n",
    "    DROP TABLE IF EXISTS ingredients;\n",
    "    \n",
    "    CREATE TABLE IF NOT EXISTS ingredients (\n",
    "      ingredientID INTEGER PRIMARY KEY,\n",
    "      name VARCHAR(255)\n",
    "    );\n",
    "'''\n",
    "\n",
    "cursor.execute(create_table_query)\n",
    "connection.commit()\n",
    "print(\"Table created successfully in PostgreSQL \")"
   ]
  },
  {
   "cell_type": "code",
   "execution_count": null,
   "metadata": {},
   "outputs": [],
   "source": [
    "# Insert data\n",
    "ingredients = pd.read_csv(\"Clean Recipe Data/ingredients.csv\")\n",
    "ingredients.head()\n",
    "\n",
    "insert_data(connection, ingredients, \"ingredients\")"
   ]
  },
  {
   "cell_type": "markdown",
   "metadata": {},
   "source": [
    "### Recipe Ingredient Join"
   ]
  },
  {
   "cell_type": "code",
   "execution_count": null,
   "metadata": {},
   "outputs": [],
   "source": [
    "# Create table\n",
    "cursor = connection.cursor()\n",
    "\n",
    "create_table_query = '''\n",
    "    DROP TABLE IF EXISTS recipeIngredientJoin;\n",
    "\n",
    "    CREATE TABLE IF NOT EXISTS recipeIngredientJoin (\n",
    "       recipeID INTEGER NOT NULL,\n",
    "       ingredientID INTEGER NOT NULL,\n",
    "       PRIMARY KEY (recipeID, ingredientID),\n",
    "       FOREIGN KEY (recipeID) REFERENCES recipes (recipeID),\n",
    "       FOREIGN KEY (ingredientID) REFERENCES ingredients (ingredientID)\n",
    "    );\n",
    "'''\n",
    "\n",
    "cursor.execute(create_table_query)\n",
    "connection.commit()\n",
    "print(\"Table created successfully in PostgreSQL \")  "
   ]
  },
  {
   "cell_type": "code",
   "execution_count": null,
   "metadata": {},
   "outputs": [],
   "source": [
    "# Insert data\n",
    "recipeIngredientJoin = pd.read_csv(\"Clean Recipe Data/recipeIngredientJoin.csv\")\n",
    "recipeIngredientJoin.head()\n",
    "\n",
    "insert_data(connection, recipeIngredientJoin, \"recipeIngredientJoin\")"
   ]
  },
  {
   "cell_type": "markdown",
   "metadata": {},
   "source": [
    "## Add Column(s) to Recipe Table"
   ]
  },
  {
   "cell_type": "code",
   "execution_count": null,
   "metadata": {},
   "outputs": [],
   "source": [
    "# Create the column\n",
    "cursor = connection.cursor()\n",
    "\n",
    "create_column_query = '''\n",
    "    ALTER TABLE recipes\n",
    "    ADD COLUMN ingredientIDList INTEGER [];\n",
    "'''\n",
    "\n",
    "cursor.execute(create_column_query)\n",
    "connection.commit()\n",
    "print(\"Column created successfully in PostgreSQL \")  "
   ]
  },
  {
   "cell_type": "code",
   "execution_count": null,
   "metadata": {},
   "outputs": [],
   "source": [
    "# Format the data\n",
    "recipeIngredientList = pd.read_csv(\"Clean Recipe Data/recipeIngredientList.csv\")\n",
    "\n",
    "# Convert list columns to lists\n",
    "recipeIngredientList['ingredientIDList'] = recipeIngredientList['ingredientIDList'].apply(lambda x: literal_eval(str(x)))\n",
    "\n",
    "recipeIngredientList.head()"
   ]
  },
  {
   "cell_type": "code",
   "execution_count": null,
   "metadata": {},
   "outputs": [],
   "source": [
    "# Insert the data\n",
    "# https://stackoverflow.com/questions/55052395/how-to-update-a-postgres-table-column-using-a-pandas-data-frame\n",
    "cursor = connection.cursor()\n",
    "rows = zip(recipeIngredientList.recipeID, recipeIngredientList.ingredientIDList)\n",
    "cursor.execute(\"\"\"CREATE TEMP TABLE ingredientList(id INTEGER, z INTEGER []) ON COMMIT DROP\"\"\")\n",
    "cursor.executemany(\"\"\"INSERT INTO ingredientList (id, z) VALUES(%s, %s)\"\"\", rows)\n",
    "\n",
    "cursor.execute(\"\"\"\n",
    "    UPDATE recipes\n",
    "    SET ingredientIDList = ingredientList.z\n",
    "    FROM ingredientList\n",
    "    WHERE ingredientList.id = recipes.recipeID;\n",
    "    \"\"\")\n",
    "\n",
    "cursor.rowcount\n",
    "connection.commit()"
   ]
  }
 ],
 "metadata": {
  "kernelspec": {
   "display_name": "pydata37",
   "language": "python",
   "name": "pydata37"
  },
  "language_info": {
   "codemirror_mode": {
    "name": "ipython",
    "version": 3
   },
   "file_extension": ".py",
   "mimetype": "text/x-python",
   "name": "python",
   "nbconvert_exporter": "python",
   "pygments_lexer": "ipython3",
   "version": "3.7.7"
  }
 },
 "nbformat": 4,
 "nbformat_minor": 4
}
