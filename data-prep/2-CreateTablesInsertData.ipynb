{
 "cells": [
  {
   "cell_type": "code",
   "execution_count": 1,
   "metadata": {},
   "outputs": [],
   "source": [
    "import psycopg2\n",
    "import pandas as pd\n",
    "import numpy as np\n",
    "import psycopg2.extras as extras\n",
    "from ast import literal_eval\n",
    "from psycopg2.extensions import register_adapter, AsIs\n",
    "\n",
    "psycopg2.extensions.register_adapter(np.int64, psycopg2._psycopg.AsIs)\n",
    "\n",
    "pd.options.display.max_columns = 100"
   ]
  },
  {
   "cell_type": "markdown",
   "metadata": {},
   "source": [
    "## Create Tables"
   ]
  },
  {
   "cell_type": "code",
   "execution_count": 3,
   "metadata": {
    "scrolled": true
   },
   "outputs": [
    {
     "name": "stdout",
     "output_type": "stream",
     "text": [
      "Table created successfully in PostgreSQL \n"
     ]
    }
   ],
   "source": [
    "try:\n",
    "    # Connect to database\n",
    "    connection = psycopg2.connect(\n",
    "                    host=\"##\",\n",
    "                    database=\"##\",\n",
    "                    user=\"##\",\n",
    "                    password=\"##\"\n",
    "    )\n",
    "\n",
    "    cursor = connection.cursor()\n",
    "    \n",
    "    create_table_query = '''\n",
    "        DROP TABLE IF EXISTS recipeIngredientJoin;\n",
    "        DROP TABLE IF EXISTS cleanIngredients;\n",
    "        DROP TABLE IF EXISTS rawIngredients;\n",
    "        DROP TABLE IF EXISTS recipeTagJoin;\n",
    "        DROP TABLE IF EXISTS tags;\n",
    "        DROP TABLE IF EXISTS interactions;\n",
    "        DROP TABLE IF EXISTS users;\n",
    "        DROP TABLE IF EXISTS recipes;\n",
    "\n",
    "        CREATE TABLE IF NOT EXISTS recipes (\n",
    "          recipeID INTEGER PRIMARY KEY,\n",
    "          name VARCHAR(255),\n",
    "          minutes INTEGER,\n",
    "          contributorID INTEGER,\n",
    "          submittedDate DATE,\n",
    "          tagsList TEXT [],\n",
    "          nutritionList FLOAT [],\n",
    "          numSteps INTEGER,\n",
    "          stepsList TEXT [],\n",
    "          description TEXT,\n",
    "          ingredientNameList TEXT [],\n",
    "          numIngredients INTEGER,\n",
    "          i FLOAT,\n",
    "          nameTokenList INTEGER [],\n",
    "          ingredientTokenList TEXT,\n",
    "          stepTokenList INTEGER [],\n",
    "          techniqueList INTEGER [],\n",
    "          calorieLevel FLOAT,\n",
    "          ingredientIDList INTEGER [],\n",
    "          isComplete BOOLEAN,\n",
    "          calories FLOAT,\n",
    "          fatPDV FLOAT,\n",
    "          sugarPDV FLOAT,\n",
    "          sodiumPDV FLOAT,\n",
    "          proteinPDV FLOAT,\n",
    "          saturatedFatPDV FLOAT,\n",
    "          carbsPDV FLOAT\n",
    "        );\n",
    "\n",
    "        CREATE TABLE IF NOT EXISTS cleanIngredients (\n",
    "          cleanIngredientID INTEGER PRIMARY KEY,\n",
    "          name VARCHAR(255)\n",
    "        );\n",
    "\n",
    "        CREATE TABLE IF NOT EXISTS rawIngredients (\n",
    "          rawIngredientID INTEGER PRIMARY KEY,\n",
    "          cleanIngredientID INTEGER,\n",
    "          rawName VARCHAR(255),\n",
    "          rawNameLength INTEGER,\n",
    "          processedName VARCHAR(255),\n",
    "          processedNameLength INTEGER\n",
    "        );\n",
    "\n",
    "        CREATE TABLE IF NOT EXISTS recipeIngredientJoin (\n",
    "           recipeID INTEGER NOT NULL,\n",
    "           cleanIngredientID INTEGER NOT NULL,\n",
    "           PRIMARY KEY (recipeID, cleanIngredientID),\n",
    "           FOREIGN KEY (recipeID) REFERENCES recipes (recipeID),\n",
    "           FOREIGN KEY (cleanIngredientID) REFERENCES cleanIngredients (cleanIngredientID)\n",
    "        );\n",
    "\n",
    "        CREATE TABLE IF NOT EXISTS tags (\n",
    "          tagID INTEGER PRIMARY KEY,\n",
    "          tag VARCHAR(255),\n",
    "          numRecipes INTEGER\n",
    "        );\n",
    "\n",
    "        CREATE TABLE IF NOT EXISTS recipeTagJoin (\n",
    "           recipeID INTEGER NOT NULL,\n",
    "           tagID INTEGER NOT NULL,\n",
    "           PRIMARY KEY (recipeID, tagID),\n",
    "           FOREIGN KEY (recipeID) REFERENCES recipes (recipeID),\n",
    "           FOREIGN KEY (tagID) REFERENCES tags (tagID)\n",
    "        );\n",
    "\n",
    "        CREATE TABLE IF NOT EXISTS interactions (\n",
    "          interactionID INTEGER PRIMARY KEY,\n",
    "          recipeID INTEGER,\n",
    "          userID INTEGER,\n",
    "          date DATE,\n",
    "          rating INTEGER,\n",
    "          review TEXT,\n",
    "          FOREIGN KEY (recipeID) REFERENCES recipes (recipeID)\n",
    "        );\n",
    "\n",
    "        CREATE TABLE IF NOT EXISTS users (\n",
    "          userID INTEGER PRIMARY KEY,\n",
    "          techniquesList INTEGER [],\n",
    "          itemsList INTEGER [],\n",
    "          numItems INTEGER,\n",
    "          ratingsList FLOAT [],\n",
    "          numRatings INTEGER\n",
    "        );\n",
    "\n",
    "    '''\n",
    "    \n",
    "    cursor.execute(create_table_query)\n",
    "    connection.commit()\n",
    "    print(\"Table created successfully in PostgreSQL \")\n",
    "\n",
    "except (Exception, psycopg2.Error) as error :\n",
    "    print (\"Error while connecting to PostgreSQL\", error)"
   ]
  },
  {
   "cell_type": "markdown",
   "metadata": {},
   "source": [
    "## Insert Data into Tables"
   ]
  },
  {
   "cell_type": "code",
   "execution_count": 4,
   "metadata": {},
   "outputs": [],
   "source": [
    "def insert_data(conn, df, table):\n",
    "    \"\"\"\n",
    "    Using psycopg2.extras.execute_values() to insert the dataframe\n",
    "    Code from: https://naysan.ca/2020/05/09/pandas-to-postgresql-using-psycopg2-bulk-insert-performance-benchmark/\n",
    "    \"\"\"\n",
    "    # Create a list of tuples from the dataframe values\n",
    "    tuples = [tuple(x) for x in df.to_numpy()]\n",
    "    \n",
    "    # Comma-separated dataframe columns\n",
    "    cols = ','.join(list(df.columns))\n",
    "    \n",
    "    # SQL quert to execute\n",
    "    query  = \"INSERT INTO %s(%s) VALUES %%s\" % (table, cols)\n",
    "    cursor = conn.cursor()\n",
    "    try:\n",
    "        extras.execute_values(cursor, query, tuples)\n",
    "        conn.commit()\n",
    "    except (Exception, psycopg2.DatabaseError) as error:\n",
    "        print(\"Error: %s\" % error)\n",
    "        conn.rollback()\n",
    "        cursor.close()\n",
    "        return 1\n",
    "    \n",
    "    print(\"Inserted data into {} table.\".format(table))\n",
    "    cursor.close()"
   ]
  },
  {
   "cell_type": "code",
   "execution_count": 5,
   "metadata": {},
   "outputs": [
    {
     "name": "stdout",
     "output_type": "stream",
     "text": [
      "Inserted data into cleaningredients table.\n"
     ]
    }
   ],
   "source": [
    "# Clean ingredients\n",
    "cleanIngredients = pd.read_csv(\"Clean Recipe Data/cleanIngredients.csv\")\n",
    "# cleanIngredients.head()\n",
    "\n",
    "insert_data(conn, cleanIngredients, \"cleaningredients\")"
   ]
  },
  {
   "cell_type": "code",
   "execution_count": 6,
   "metadata": {},
   "outputs": [
    {
     "name": "stdout",
     "output_type": "stream",
     "text": [
      "Inserted data into rawingredients table.\n"
     ]
    }
   ],
   "source": [
    "# Raw ingredients\n",
    "rawIngredients = pd.read_csv(\"Clean Recipe Data/rawIngredients.csv\")\n",
    "# rawIngredients.head()\n",
    "\n",
    "insert_data(conn, rawIngredients, \"rawingredients\")"
   ]
  },
  {
   "cell_type": "code",
   "execution_count": 7,
   "metadata": {},
   "outputs": [
    {
     "name": "stdout",
     "output_type": "stream",
     "text": [
      "Inserted data into tags table.\n"
     ]
    }
   ],
   "source": [
    "# Tags\n",
    "tags = pd.read_csv(\"Clean Recipe Data/tags.csv\")\n",
    "# tags.head()\n",
    "\n",
    "insert_data(conn, tags, \"tags\")"
   ]
  },
  {
   "cell_type": "code",
   "execution_count": 8,
   "metadata": {
    "scrolled": true
   },
   "outputs": [
    {
     "name": "stdout",
     "output_type": "stream",
     "text": [
      "Converting columns to list:\n",
      "tagsList\n",
      "nutritionList\n",
      "stepsList\n",
      "ingredientNameList\n",
      "nameTokenList\n",
      "stepTokenList\n",
      "techniqueList\n",
      "ingredientIDList\n",
      "Inserted data into recipes table.\n"
     ]
    }
   ],
   "source": [
    "# Recipes\n",
    "recipes = pd.read_csv(\"Clean Recipe Data/recipes.csv\", parse_dates=[\"submittedDate\"])\n",
    "# nonblank_recipes = recipes.copy().dropna(how=\"any\", axis=0)\n",
    "\n",
    "# Convert list columns to lists\n",
    "list_columns = [\"tagsList\", \"nutritionList\", \"stepsList\", \"ingredientNameList\", \\\n",
    "                \"nameTokenList\", \"stepTokenList\", \"techniqueList\", \"ingredientIDList\"]\n",
    "print(\"Converting columns to list:\")\n",
    "for col in list_columns:\n",
    "    print(col)\n",
    "    # Replace nan with an empty list\n",
    "    recipes.loc[pd.isnull(recipes[col]), col] = \"[]\"\n",
    "    recipes[col] = recipes[col].apply(lambda x: literal_eval(str(x)))\n",
    "    \n",
    "insert_data(conn, recipes, \"recipes\")"
   ]
  },
  {
   "cell_type": "code",
   "execution_count": 9,
   "metadata": {
    "scrolled": true
   },
   "outputs": [
    {
     "name": "stdout",
     "output_type": "stream",
     "text": [
      "Inserted data into recipeIngredientJoin table.\n"
     ]
    }
   ],
   "source": [
    "# Recipe Ingredient Join\n",
    "recipeIngredientJoin = pd.read_csv(\"Clean Recipe Data/recipeIngredientJoin.csv\")\n",
    "recipeIngredientJoin.drop_duplicates(inplace=True)\n",
    "# recipeIngredientJoin.head()\n",
    "\n",
    "insert_data(conn, recipeIngredientJoin, \"recipeIngredientJoin\")"
   ]
  },
  {
   "cell_type": "code",
   "execution_count": 10,
   "metadata": {},
   "outputs": [
    {
     "name": "stdout",
     "output_type": "stream",
     "text": [
      "Inserted data into recipeTagJoin table.\n"
     ]
    }
   ],
   "source": [
    "# Recipe Tags Join\n",
    "recipeTagJoin = pd.read_csv(\"Clean Recipe Data/recipeTagJoin.csv\")\n",
    "recipeTagJoin.drop_duplicates(inplace=True)\n",
    "# recipeTagJoin.head()\n",
    "\n",
    "insert_data(conn, recipeTagJoin, \"recipeTagJoin\")"
   ]
  },
  {
   "cell_type": "code",
   "execution_count": 11,
   "metadata": {},
   "outputs": [
    {
     "name": "stdout",
     "output_type": "stream",
     "text": [
      "Inserted data into interactions table.\n"
     ]
    }
   ],
   "source": [
    "# Interactions\n",
    "interactions = pd.read_csv(\"Clean Recipe Data/interactions.csv\")\n",
    "# interactions.head()\n",
    "\n",
    "insert_data(conn, interactions, \"interactions\")"
   ]
  },
  {
   "cell_type": "code",
   "execution_count": 12,
   "metadata": {},
   "outputs": [
    {
     "name": "stdout",
     "output_type": "stream",
     "text": [
      "Converting columns to list:\n",
      "techniquesList\n",
      "itemsList\n",
      "ratingsList\n",
      "Inserted data into users table.\n"
     ]
    }
   ],
   "source": [
    "# users\n",
    "users = pd.read_csv(\"Clean Recipe Data/users.csv\")\n",
    "\n",
    "# Convert list columns to lists\n",
    "list_columns_users = [\"techniquesList\", \"itemsList\", \"ratingsList\"]\n",
    "print(\"Converting columns to list:\")\n",
    "for col in list_columns_users:\n",
    "    print(col)\n",
    "    # Replace nan with an empty list\n",
    "    users.loc[pd.isnull(users[col]), col] = \"[]\"\n",
    "    users[col] = users[col].apply(lambda x: literal_eval(str(x)))\n",
    "\n",
    "insert_data(conn, users, \"users\")"
   ]
  },
  {
   "cell_type": "code",
   "execution_count": 13,
   "metadata": {},
   "outputs": [
    {
     "name": "stdout",
     "output_type": "stream",
     "text": [
      "PostgreSQL connection is closed\n"
     ]
    }
   ],
   "source": [
    "#closing database connection.\n",
    "if(connection):\n",
    "    cursor.close()\n",
    "    connection.close()\n",
    "    print(\"PostgreSQL connection is closed\")"
   ]
  }
 ],
 "metadata": {
  "kernelspec": {
   "display_name": "pydata37",
   "language": "python",
   "name": "pydata37"
  },
  "language_info": {
   "codemirror_mode": {
    "name": "ipython",
    "version": 3
   },
   "file_extension": ".py",
   "mimetype": "text/x-python",
   "name": "python",
   "nbconvert_exporter": "python",
   "pygments_lexer": "ipython3",
   "version": "3.7.7"
  }
 },
 "nbformat": 4,
 "nbformat_minor": 4
}
