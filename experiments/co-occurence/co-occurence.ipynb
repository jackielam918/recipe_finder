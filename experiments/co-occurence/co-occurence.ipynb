{
 "cells": [
  {
   "cell_type": "code",
   "execution_count": 1,
   "metadata": {
    "ExecuteTime": {
     "end_time": "2020-10-20T05:18:20.574606Z",
     "start_time": "2020-10-20T05:18:19.788018Z"
    }
   },
   "outputs": [],
   "source": [
    "import pandas as pd\n",
    "import pickle\n",
    "import numpy as np\n",
    "from sklearn.decomposition import TruncatedSVD\n",
    "from sklearn.metrics.pairwise import cosine_similarity\n",
    "from tqdm import tqdm\n",
    "import plotly.express as px\n",
    "import seaborn as sns"
   ]
  },
  {
   "cell_type": "code",
   "execution_count": 2,
   "metadata": {
    "ExecuteTime": {
     "end_time": "2020-10-20T05:18:24.220254Z",
     "start_time": "2020-10-20T05:18:20.582518Z"
    }
   },
   "outputs": [],
   "source": [
    "ingr_map_file = open('./data/ingr_map.pkl', 'rb')\n",
    "ingr_map = pickle.load(ingr_map_file)\n",
    "\n",
    "recipes = pd.read_csv('./data/PP_recipes.csv')\n",
    "raw_recipes = pd.read_csv('./data/RAW_recipes.csv')\n",
    "recipe_corpus = recipes['ingredient_ids']"
   ]
  },
  {
   "cell_type": "code",
   "execution_count": 19,
   "metadata": {
    "ExecuteTime": {
     "end_time": "2020-10-20T05:34:18.599670Z",
     "start_time": "2020-10-20T05:34:18.561547Z"
    }
   },
   "outputs": [],
   "source": [
    "def create_ingr_dict_frame(ingr_map=ingr_map, min_occurence=10):\n",
    "    ingr_above_min = ingr_map[ingr_map['count'] > min_occurence]\n",
    "    unique_ingrs = ingr_above_min.loc[:, ['id', 'replaced', 'count']].drop_duplicates().sort_values(by='id')\n",
    "    unique_ingrs.rename(columns={'id': 'org_id', 'replaced': 'name'}, inplace=True)\n",
    "    unique_ingrs['idx'] = list(range(len(unique_ingrs)))\n",
    "    return unique_ingrs\n",
    "\n",
    "ingr_frame = create_ingr_dict_frame(min_occurence=0)"
   ]
  },
  {
   "cell_type": "code",
   "execution_count": 23,
   "metadata": {
    "ExecuteTime": {
     "end_time": "2020-10-20T05:35:52.574732Z",
     "start_time": "2020-10-20T05:35:52.562053Z"
    }
   },
   "outputs": [],
   "source": [
    "mock_table = ingr_frame.loc[:, ['org_id', 'name']].reset_index(drop=True)"
   ]
  },
  {
   "cell_type": "code",
   "execution_count": 25,
   "metadata": {
    "ExecuteTime": {
     "end_time": "2020-10-20T05:36:31.675598Z",
     "start_time": "2020-10-20T05:36:31.665751Z"
    }
   },
   "outputs": [],
   "source": [
    "mock_table.rename(columns={'org_id': 'ingredient_id'}, inplace=True)"
   ]
  },
  {
   "cell_type": "code",
   "execution_count": 27,
   "metadata": {
    "ExecuteTime": {
     "end_time": "2020-10-20T05:36:50.340098Z",
     "start_time": "2020-10-20T05:36:50.326294Z"
    }
   },
   "outputs": [],
   "source": [
    "mock_table.to_pickle('mock_ingredient_table.pkl')"
   ]
  },
  {
   "cell_type": "code",
   "execution_count": 4,
   "metadata": {
    "ExecuteTime": {
     "end_time": "2020-10-20T05:18:24.326941Z",
     "start_time": "2020-10-20T05:18:24.318897Z"
    }
   },
   "outputs": [],
   "source": [
    "org_id_to_idx = ingr_frame.set_index('org_id').to_dict()['idx']\n",
    "idx_to_name = ingr_frame.set_index('idx').to_dict()['name']"
   ]
  },
  {
   "cell_type": "code",
   "execution_count": null,
   "metadata": {},
   "outputs": [],
   "source": []
  },
  {
   "cell_type": "code",
   "execution_count": 5,
   "metadata": {
    "ExecuteTime": {
     "end_time": "2020-10-20T05:18:24.374544Z",
     "start_time": "2020-10-20T05:18:24.371955Z"
    }
   },
   "outputs": [],
   "source": [
    "def org_ids_to_idxs(org_ids, exclude):\n",
    "    idxs = []\n",
    "    for org_id in org_ids:\n",
    "        if org_id != exclude:\n",
    "            try:\n",
    "                idx = org_id_to_idx[org_id]\n",
    "                idxs.append(idx)\n",
    "            \n",
    "            except KeyError:\n",
    "                pass\n",
    "    return idxs\n",
    "\n",
    "def mat_size(ingr_frame=ingr_frame):\n",
    "    return len(ingr_frame)"
   ]
  },
  {
   "cell_type": "code",
   "execution_count": 6,
   "metadata": {
    "ExecuteTime": {
     "end_time": "2020-10-20T05:18:24.428670Z",
     "start_time": "2020-10-20T05:18:24.424255Z"
    }
   },
   "outputs": [],
   "source": [
    "def create_occurence_matrix(recipe_corpus=recipe_corpus):\n",
    "    size = mat_size()\n",
    "    mat = np.zeros((size, size))\n",
    "    for recipe in tqdm(recipe_corpus):\n",
    "        recipe = eval(recipe)\n",
    "        for ingr in recipe:\n",
    "            try:\n",
    "                m = org_id_to_idx[ingr]\n",
    "            except KeyError:\n",
    "                continue\n",
    "            n = org_ids_to_idxs(recipe, exclude=ingr)\n",
    "            mat[m, n] += 1\n",
    "    return mat\n",
    "            \n",
    "            \n",
    "    \n",
    "def most_similar(idx, co_mat, n=1):\n",
    "    print(f'selected: {idx_to_name[idx]}')\n",
    "    sim_ingrs = {}\n",
    "    sims = cosine_similarity(co_mat_reduced[idx].reshape(1, -1), co_mat_reduced).flatten()\n",
    "    sims_sorted_idx = np.argsort(-sims).flatten()[1: n+1]\n",
    "    sim_scores = sims[sims_sorted_idx]\n",
    "    for i, score in zip(sims_sorted_idx, sim_scores):\n",
    "        name = idx_to_name[i]\n",
    "        sim_ingrs[name] = score\n",
    "    return sim_ingrs\n",
    "    \n",
    "    \n",
    "    "
   ]
  },
  {
   "cell_type": "code",
   "execution_count": 7,
   "metadata": {
    "ExecuteTime": {
     "end_time": "2020-10-20T05:18:38.467213Z",
     "start_time": "2020-10-20T05:18:24.472919Z"
    }
   },
   "outputs": [
    {
     "name": "stderr",
     "output_type": "stream",
     "text": [
      "100%|██████████| 178265/178265 [00:13<00:00, 12741.33it/s]\n"
     ]
    }
   ],
   "source": [
    "co_mat = create_occurence_matrix()"
   ]
  },
  {
   "cell_type": "code",
   "execution_count": 8,
   "metadata": {
    "ExecuteTime": {
     "end_time": "2020-10-20T05:18:38.512622Z",
     "start_time": "2020-10-20T05:18:38.510889Z"
    }
   },
   "outputs": [],
   "source": [
    "svd = TruncatedSVD(n_components=20)"
   ]
  },
  {
   "cell_type": "code",
   "execution_count": 9,
   "metadata": {
    "ExecuteTime": {
     "end_time": "2020-10-20T05:18:39.444899Z",
     "start_time": "2020-10-20T05:18:38.557171Z"
    }
   },
   "outputs": [],
   "source": [
    "co_mat_reduced = svd.fit_transform(co_mat)"
   ]
  },
  {
   "cell_type": "code",
   "execution_count": 10,
   "metadata": {
    "ExecuteTime": {
     "end_time": "2020-10-20T05:18:39.501759Z",
     "start_time": "2020-10-20T05:18:39.495370Z"
    }
   },
   "outputs": [
    {
     "name": "stdout",
     "output_type": "stream",
     "text": [
      "selected: american cheese\n"
     ]
    },
    {
     "data": {
      "text/plain": [
       "{'cheddar': 0.9834412936919918,\n",
       " 'processed cheese': 0.9775793597547966,\n",
       " 'velveeta cheese': 0.9738401287584965,\n",
       " 'cooked ham': 0.9719391219484539,\n",
       " 'medium noodle': 0.9718757272123286}"
      ]
     },
     "execution_count": 10,
     "metadata": {},
     "output_type": "execute_result"
    }
   ],
   "source": [
    "most_similar(57, co_mat, n=5)"
   ]
  },
  {
   "cell_type": "code",
   "execution_count": 11,
   "metadata": {
    "ExecuteTime": {
     "end_time": "2020-10-20T05:18:40.080117Z",
     "start_time": "2020-10-20T05:18:39.595661Z"
    }
   },
   "outputs": [],
   "source": [
    "svd_2 = TruncatedSVD(n_components=2)\n",
    "co_mat_2d = svd_2.fit_transform(co_mat)"
   ]
  },
  {
   "cell_type": "code",
   "execution_count": 12,
   "metadata": {
    "ExecuteTime": {
     "end_time": "2020-10-20T05:18:40.128769Z",
     "start_time": "2020-10-20T05:18:40.126230Z"
    }
   },
   "outputs": [],
   "source": [
    "names = [idx_to_name[i] for i in range(co_mat_2d.shape[0])]"
   ]
  },
  {
   "cell_type": "code",
   "execution_count": 13,
   "metadata": {
    "ExecuteTime": {
     "end_time": "2020-10-20T05:18:40.178063Z",
     "start_time": "2020-10-20T05:18:40.175724Z"
    }
   },
   "outputs": [],
   "source": [
    "df = pd.DataFrame(co_mat_2d, columns=['x', 'y'] )"
   ]
  },
  {
   "cell_type": "code",
   "execution_count": 14,
   "metadata": {
    "ExecuteTime": {
     "end_time": "2020-10-20T05:18:40.230899Z",
     "start_time": "2020-10-20T05:18:40.228582Z"
    }
   },
   "outputs": [],
   "source": [
    "df['name'] = names"
   ]
  },
  {
   "cell_type": "code",
   "execution_count": 36,
   "metadata": {},
   "outputs": [
    {
     "data": {
      "text/html": [
       "<div>\n",
       "<style scoped>\n",
       "    .dataframe tbody tr th:only-of-type {\n",
       "        vertical-align: middle;\n",
       "    }\n",
       "\n",
       "    .dataframe tbody tr th {\n",
       "        vertical-align: top;\n",
       "    }\n",
       "\n",
       "    .dataframe thead th {\n",
       "        text-align: right;\n",
       "    }\n",
       "</style>\n",
       "<table border=\"1\" class=\"dataframe\">\n",
       "  <thead>\n",
       "    <tr style=\"text-align: right;\">\n",
       "      <th></th>\n",
       "      <th>x</th>\n",
       "      <th>y</th>\n",
       "      <th>name</th>\n",
       "    </tr>\n",
       "  </thead>\n",
       "  <tbody>\n",
       "    <tr>\n",
       "      <th>0</th>\n",
       "      <td>8.520132</td>\n",
       "      <td>-5.888900</td>\n",
       "      <td>'s chocolate chip</td>\n",
       "    </tr>\n",
       "    <tr>\n",
       "      <th>1</th>\n",
       "      <td>10.866503</td>\n",
       "      <td>-7.546211</td>\n",
       "      <td>'s syrup</td>\n",
       "    </tr>\n",
       "    <tr>\n",
       "      <th>2</th>\n",
       "      <td>5.044401</td>\n",
       "      <td>-1.435586</td>\n",
       "      <td>7-up</td>\n",
       "    </tr>\n",
       "    <tr>\n",
       "      <th>3</th>\n",
       "      <td>15.519834</td>\n",
       "      <td>-5.186499</td>\n",
       "      <td>7-up soda</td>\n",
       "    </tr>\n",
       "    <tr>\n",
       "      <th>4</th>\n",
       "      <td>78.605770</td>\n",
       "      <td>43.099998</td>\n",
       "      <td>a.1. sauce</td>\n",
       "    </tr>\n",
       "  </tbody>\n",
       "</table>\n",
       "</div>"
      ],
      "text/plain": [
       "           x          y               name\n",
       "0   8.520132  -5.888900  's chocolate chip\n",
       "1  10.866503  -7.546211           's syrup\n",
       "2   5.044401  -1.435586               7-up\n",
       "3  15.519834  -5.186499          7-up soda\n",
       "4  78.605770  43.099998         a.1. sauce"
      ]
     },
     "execution_count": 36,
     "metadata": {},
     "output_type": "execute_result"
    }
   ],
   "source": [
    "df.head()"
   ]
  },
  {
   "cell_type": "code",
   "execution_count": 41,
   "metadata": {},
   "outputs": [
    {
     "data": {
      "application/vnd.plotly.v1+json": {
       "config": {
        "plotlyServerURL": "https://plot.ly"
       },
       "data": [
        {
         "customdata": [
          [
           "'s chocolate chip"
          ],
          [
           "'s syrup"
          ],
          [
           "7-up"
          ],
          [
           "7-up soda"
          ],
          [
           "a.1. sauce"
          ],
          [
           "absolut citron vodka"
          ],
          [
           "absolut mandarin vodka"
          ],
          [
           "absolut vodka"
          ],
          [
           "accent seasoning"
          ],
          [
           "acini di pepe pastum"
          ],
          [
           "acorn squash"
          ],
          [
           "active starter"
          ],
          [
           "adobo sauce"
          ],
          [
           "adobo seasoning"
          ],
          [
           "adzuki bean"
          ],
          [
           "agave"
          ],
          [
           "agave nectar"
          ],
          [
           "agave syrup"
          ],
          [
           "ahi tuna steak"
          ],
          [
           "aioli"
          ],
          [
           "ajwain"
          ],
          [
           "albacore tuna"
          ],
          [
           "albacore tuna in water"
          ],
          [
           "ale"
          ],
          [
           "alfalfa sprout"
          ],
          [
           "alfredo sauce"
          ],
          [
           "alfredo sauce mix"
          ],
          [
           "all purpose greek seasoning"
          ],
          [
           "all-bran cereal"
          ],
          [
           "all-purpose flmy"
          ],
          [
           "all-purpose white flmy"
          ],
          [
           "allspice"
          ],
          [
           "allspice berry"
          ],
          [
           "almond"
          ],
          [
           "almond bark"
          ],
          [
           "almond brickle chip"
          ],
          [
           "almond butter"
          ],
          [
           "almond essence"
          ],
          [
           "almond extract"
          ],
          [
           "almond flmy"
          ],
          [
           "almond liqueur"
          ],
          [
           "almond meal"
          ],
          [
           "almond milk"
          ],
          [
           "almond oil"
          ],
          [
           "almond paste"
          ],
          [
           "almond syrup"
          ],
          [
           "almonding"
          ],
          [
           "alphabet pastum"
          ],
          [
           "alum"
          ],
          [
           "aluminum foil"
          ],
          [
           "amaranth"
          ],
          [
           "amaranth flmy"
          ],
          [
           "amaretti cookies"
          ],
          [
           "amaretto"
          ],
          [
           "amaretto liqueur"
          ],
          [
           "amarula cream liqueur"
          ],
          [
           "amber beer"
          ],
          [
           "american cheese"
          ],
          [
           "amish starter"
          ],
          [
           "anaheim chili"
          ],
          [
           "anaheim chily"
          ],
          [
           "ancho chili"
          ],
          [
           "ancho chily"
          ],
          [
           "anchovies packed in oil"
          ],
          [
           "anchovy"
          ],
          [
           "anchovy fillet"
          ],
          [
           "anchovy paste"
          ],
          [
           "andes mints candy"
          ],
          [
           "angel flake coconut"
          ],
          [
           "angel food cake"
          ],
          [
           "angel hair pastum"
          ],
          [
           "angostura bitter"
          ],
          [
           "anise"
          ],
          [
           "anise extract"
          ],
          [
           "anise seed"
          ],
          [
           "aniseing"
          ],
          [
           "anjou pear"
          ],
          [
           "annatto"
          ],
          [
           "apple"
          ],
          [
           "apple brandy"
          ],
          [
           "apple butter"
          ],
          [
           "apple cider"
          ],
          [
           "apple cider vinegar"
          ],
          [
           "apple jelly"
          ],
          [
           "apple juice"
          ],
          [
           "apple juice concentrate"
          ],
          [
           "apple pie filling"
          ],
          [
           "apple pie spice"
          ],
          [
           "apple schnapp"
          ],
          [
           "apple-smoked bacon"
          ],
          [
           "applesauce"
          ],
          [
           "apricot"
          ],
          [
           "apricot brandy"
          ],
          [
           "apricot fruit spread"
          ],
          [
           "apricot gelatin"
          ],
          [
           "apricot half"
          ],
          [
           "apricot jam"
          ],
          [
           "apricot nectar"
          ],
          [
           "apricot preserve"
          ],
          [
           "arborio rice"
          ],
          [
           "arrowroot"
          ],
          [
           "artichoke"
          ],
          [
           "artichoke bottom"
          ],
          [
           "artichoke heart"
          ],
          [
           "artificial sweetener"
          ],
          [
           "arugula"
          ],
          [
           "arugula leaf"
          ],
          [
           "asadero cheese"
          ],
          [
           "asafoetida powder"
          ],
          [
           "asiago cheese"
          ],
          [
           "asian pear"
          ],
          [
           "asparagu"
          ],
          [
           "asparagus spear"
          ],
          [
           "asparagus tip"
          ],
          [
           "assorted fresh vegetable"
          ],
          [
           "ature chocolate chip"
          ],
          [
           "ature m&m baking bit"
          ],
          [
           "ature marshmallow"
          ],
          [
           "ature party rye round"
          ],
          [
           "ature peanut butter cup"
          ],
          [
           "ature phyllo cup"
          ],
          [
           "ature pretzel"
          ],
          [
           "ature pretzel twist"
          ],
          [
           "au gratin potato"
          ],
          [
           "au gratin potato mix"
          ],
          [
           "au jus mix"
          ],
          [
           "aubergine"
          ],
          [
           "avocado"
          ],
          [
           "baby artichoke"
          ],
          [
           "baby arugula"
          ],
          [
           "baby back rib"
          ],
          [
           "baby beet"
          ],
          [
           "baby bok choy"
          ],
          [
           "baby carrot"
          ],
          [
           "baby clam"
          ],
          [
           "baby corn"
          ],
          [
           "baby eggplant"
          ],
          [
           "baby green"
          ],
          [
           "baby green pea"
          ],
          [
           "baby lima bean"
          ],
          [
           "baby onion"
          ],
          [
           "baby pea"
          ],
          [
           "baby portabella mushroom"
          ],
          [
           "baby potato"
          ],
          [
           "baby red potato"
          ],
          [
           "baby rocket"
          ],
          [
           "baby shrimp"
          ],
          [
           "baby spinach"
          ],
          [
           "baby spinach leaf"
          ],
          [
           "bacardi limon"
          ],
          [
           "back bacon"
          ],
          [
           "backfin crab meat"
          ],
          [
           "bacon"
          ],
          [
           "bacon bit"
          ],
          [
           "bacon dripping"
          ],
          [
           "bacon fat"
          ],
          [
           "bacon grease"
          ],
          [
           "bagel"
          ],
          [
           "baguette"
          ],
          [
           "baharat"
          ],
          [
           "baked bean"
          ],
          [
           "baked beans in tomato sauce"
          ],
          [
           "baked pie crust"
          ],
          [
           "baked tofu"
          ],
          [
           "baker's chocolate"
          ],
          [
           "baking apple"
          ],
          [
           "baking chocolate"
          ],
          [
           "baking chocolate square"
          ],
          [
           "baking cocoa"
          ],
          [
           "baking mix"
          ],
          [
           "baking potato"
          ],
          [
           "baking powder"
          ],
          [
           "baking soda"
          ],
          [
           "balsamic vinaigrette"
          ],
          [
           "balsamic vinegar"
          ],
          [
           "bamboo shoot"
          ],
          [
           "bamboo skewer"
          ],
          [
           "banana"
          ],
          [
           "banana chip"
          ],
          [
           "banana cream instant pudding"
          ],
          [
           "banana extract"
          ],
          [
           "banana leaf"
          ],
          [
           "banana liqueur"
          ],
          [
           "banana pepper"
          ],
          [
           "banana pepper ring"
          ],
          [
           "bananaing"
          ],
          [
           "bar"
          ],
          [
           "barbecue sauce"
          ],
          [
           "barbecue seasoning"
          ],
          [
           "barbecued chicken"
          ],
          [
           "barbecued pork"
          ],
          [
           "barley"
          ],
          [
           "barley flmy"
          ],
          [
           "bartlett pear"
          ],
          [
           "basil"
          ],
          [
           "basil leaf"
          ],
          [
           "basil pesto"
          ],
          [
           "basil sprig"
          ],
          [
           "basmati rice"
          ],
          [
           "batter"
          ],
          [
           "bay leaf"
          ],
          [
           "bay leaf powder"
          ],
          [
           "bay scallop"
          ],
          [
           "bay shrimp"
          ],
          [
           "bean"
          ],
          [
           "bean dip"
          ],
          [
           "bean flmy"
          ],
          [
           "bean sprout"
          ],
          [
           "bean thread noodle"
          ],
          [
           "beau monde seasoning"
          ],
          [
           "bechamel sauce"
          ],
          [
           "beef"
          ],
          [
           "beef and onion soup mix"
          ],
          [
           "beef base"
          ],
          [
           "beef bone"
          ],
          [
           "beef bouillon"
          ],
          [
           "beef bouillon cube"
          ],
          [
           "beef bouillon granule"
          ],
          [
           "beef bouillon powder"
          ],
          [
           "beef brisket"
          ],
          [
           "beef broth"
          ],
          [
           "beef chuck"
          ],
          [
           "beef chuck roast"
          ],
          [
           "beef chuck steak"
          ],
          [
           "beef consomme"
          ],
          [
           "beef consomme soup"
          ],
          [
           "beef cube"
          ],
          [
           "beef cube steak"
          ],
          [
           "beef dripping"
          ],
          [
           "beef eye round"
          ],
          [
           "beef flank steak"
          ],
          [
           "beef gravy"
          ],
          [
           "beef hot dog"
          ],
          [
           "beef mince"
          ],
          [
           "beef ramen noodle"
          ],
          [
           "beef rib"
          ],
          [
           "beef roast"
          ],
          [
           "beef round steak"
          ],
          [
           "beef shank"
          ],
          [
           "beef short rib"
          ],
          [
           "beef shoulder"
          ],
          [
           "beef sirloin"
          ],
          [
           "beef sirloin steak"
          ],
          [
           "beef steak"
          ],
          [
           "beef stew meat"
          ],
          [
           "beef stock"
          ],
          [
           "beef stock cube"
          ],
          [
           "beef stock powder"
          ],
          [
           "beef t-bone steak"
          ],
          [
           "beef tenderloin"
          ],
          [
           "beef tenderloin steak"
          ],
          [
           "beef tip"
          ],
          [
           "beef top loin steak"
          ],
          [
           "beef top round steak"
          ],
          [
           "beef top sirloin steak"
          ],
          [
           "beefsteak tomato"
          ],
          [
           "beer"
          ],
          [
           "beet"
          ],
          [
           "beet juice"
          ],
          [
           "beet leaf"
          ],
          [
           "beetroot"
          ],
          [
           "belgian endive"
          ],
          [
           "bell pepper"
          ],
          [
           "berbere"
          ],
          [
           "bermuda onion"
          ],
          [
           "berry"
          ],
          [
           "besan"
          ],
          [
           "bicarbonate of soda"
          ],
          [
           "bing cherry"
          ],
          [
           "biscottus"
          ],
          [
           "biscuit"
          ],
          [
           "biscuit dough"
          ],
          [
           "biscuit mix"
          ],
          [
           "bisquick"
          ],
          [
           "bisquick baking mix"
          ],
          [
           "bisquick heart smart mix"
          ],
          [
           "bitter"
          ],
          [
           "bittersweet chocolate"
          ],
          [
           "bittersweet chocolate chip"
          ],
          [
           "bittersweet chocolate square"
          ],
          [
           "black bean"
          ],
          [
           "black bean garlic sauce"
          ],
          [
           "black bean paste"
          ],
          [
           "black bean sauce"
          ],
          [
           "black cardamom pod"
          ],
          [
           "black caviar"
          ],
          [
           "black cherry"
          ],
          [
           "black coffee"
          ],
          [
           "black currant"
          ],
          [
           "black decorating gel"
          ],
          [
           "black forest ham"
          ],
          [
           "black mustard seed"
          ],
          [
           "black olife"
          ],
          [
           "black pepper"
          ],
          [
           "black peppercorn"
          ],
          [
           "black sesame seed"
          ],
          [
           "black tea"
          ],
          [
           "black tea bag"
          ],
          [
           "black tea leaf"
          ],
          [
           "black treacle"
          ],
          [
           "black vinegar"
          ],
          [
           "black walnut"
          ],
          [
           "black-eyed pea"
          ],
          [
           "blackberry"
          ],
          [
           "blackberry jam"
          ],
          [
           "blackening seasoning"
          ],
          [
           "blackstrap molass"
          ],
          [
           "blade steak"
          ],
          [
           "blanched almond"
          ],
          [
           "blood orange"
          ],
          [
           "blood orange juice"
          ],
          [
           "bloody mary mix"
          ],
          [
           "blue cheese"
          ],
          [
           "blue cornmeal"
          ],
          [
           "blue curacao"
          ],
          [
           "blue food coloring"
          ],
          [
           "blueberry"
          ],
          [
           "blueberry muffin mix"
          ],
          [
           "blueberry pie filling"
          ],
          [
           "blueberry preserve"
          ],
          [
           "blueberry yogurt"
          ],
          [
           "boboli pizza crust"
          ],
          [
           "bocconcini"
          ],
          [
           "boil-in-the-bag rice"
          ],
          [
           "boiled ham"
          ],
          [
           "boiled potato"
          ],
          [
           "boiling onion"
          ],
          [
           "boiling potato"
          ],
          [
           "boiling water"
          ],
          [
           "bok choy"
          ],
          [
           "bologna"
          ],
          [
           "bone-in ham"
          ],
          [
           "bonito flake"
          ],
          [
           "bosc pear"
          ],
          [
           "bottled clam juice"
          ],
          [
           "bottled garlic"
          ],
          [
           "bottled hot pepper sauce"
          ],
          [
           "bottled lemon juice"
          ],
          [
           "bottled water"
          ],
          [
           "bottom round beef roast"
          ],
          [
           "bottom round roast"
          ],
          [
           "bottom round steak"
          ],
          [
           "bouillon"
          ],
          [
           "bouillon cube"
          ],
          [
           "bouquet garni"
          ],
          [
           "bourbon"
          ],
          [
           "bourbon whiskey"
          ],
          [
           "boursin cheese"
          ],
          [
           "bow tie pastum"
          ],
          [
           "braggs liquid amino"
          ],
          [
           "bran flake"
          ],
          [
           "brandy"
          ],
          [
           "brandy extract"
          ],
          [
           "bratwurst"
          ],
          [
           "brazil nut"
          ],
          [
           "bread"
          ],
          [
           "bread crumb"
          ],
          [
           "bread cube"
          ],
          [
           "bread dough"
          ],
          [
           "bread flmy"
          ],
          [
           "bread round"
          ],
          [
           "bread stuffing mix"
          ],
          [
           "breadcrumb"
          ],
          [
           "breadstick"
          ],
          [
           "brewed coffee"
          ],
          [
           "brewed espresso"
          ],
          [
           "brewed tea"
          ],
          [
           "brie cheese"
          ],
          [
           "brie round"
          ],
          [
           "brine"
          ],
          [
           "brine-cured black olife"
          ],
          [
           "brioche bread"
          ],
          [
           "broad bean"
          ],
          [
           "broad egg noodle"
          ],
          [
           "broccoli"
          ],
          [
           "broccoli cheese soup"
          ],
          [
           "broccoli coleslaw mix"
          ],
          [
           "broccoli floret"
          ],
          [
           "broccoli rabe"
          ],
          [
           "broccoli slaw mix"
          ],
          [
           "broccoli spear"
          ],
          [
           "broccoli stem"
          ],
          [
           "broccolini"
          ],
          [
           "broiler chicken"
          ],
          [
           "broiler-fryer chicken"
          ],
          [
           "broth"
          ],
          [
           "brown ale"
          ],
          [
           "brown basmati rice"
          ],
          [
           "brown bread"
          ],
          [
           "brown button mushroom"
          ],
          [
           "brown gravy mix"
          ],
          [
           "brown lentil"
          ],
          [
           "brown mustard"
          ],
          [
           "brown mustard seed"
          ],
          [
           "brown onion"
          ],
          [
           "brown rice"
          ],
          [
           "brown rice flmy"
          ],
          [
           "brown rice syrup"
          ],
          [
           "brown sugar"
          ],
          [
           "brown sugar twin"
          ],
          [
           "brownie mix"
          ],
          [
           "browning sauce"
          ],
          [
           "brussels sprout"
          ],
          [
           "bucatini pastum"
          ],
          [
           "buckwheat flmy"
          ],
          [
           "buckwheat groat"
          ],
          [
           "buffalo wing sauce"
          ],
          [
           "bugles snack"
          ],
          [
           "bulb of garlic"
          ],
          [
           "bulbs of garlic"
          ],
          [
           "bulgar wheat"
          ],
          [
           "bulgur"
          ],
          [
           "bulgur wheat"
          ],
          [
           "bun"
          ],
          [
           "burgundy wine"
          ],
          [
           "butt"
          ],
          [
           "butter"
          ],
          [
           "butter bean"
          ],
          [
           "butter bud"
          ],
          [
           "butter cracker"
          ],
          [
           "butter extract"
          ],
          [
           "butter pecan ice cream"
          ],
          [
           "butter pound cake"
          ],
          [
           "butter shortening"
          ],
          [
           "butter spread"
          ],
          [
           "butter substitute"
          ],
          [
           "buttered bread crumb"
          ],
          [
           "buttering"
          ],
          [
           "buttermilk"
          ],
          [
           "buttermilk baking mix"
          ],
          [
           "buttermilk biscuit"
          ],
          [
           "buttermilk biscuit mix"
          ],
          [
           "butternut pumpkin"
          ],
          [
           "butternut squash"
          ],
          [
           "butterscotch chip"
          ],
          [
           "butterscotch pudding"
          ],
          [
           "butterscotch pudding mix"
          ],
          [
           "butterscotch schnapp"
          ],
          [
           "butterscotch sundae sauce"
          ],
          [
           "buttery cracker"
          ],
          [
           "button mushroom"
          ],
          [
           "cabbage"
          ],
          [
           "cabbage and carrot coleslaw mix"
          ],
          [
           "cabbage kimchi"
          ],
          [
           "cabbage leaf"
          ],
          [
           "cabernet sauvignon wine"
          ],
          [
           "cacao"
          ],
          [
           "cachaca"
          ],
          [
           "cajun seasoning"
          ],
          [
           "cajun spice"
          ],
          [
           "cake"
          ],
          [
           "cake crumb"
          ],
          [
           "cake flmy"
          ],
          [
           "cake mix"
          ],
          [
           "cake-and-pastry flmy"
          ],
          [
           "calamarus"
          ],
          [
           "california avocado"
          ],
          [
           "california-blend frozen vegetable"
          ],
          [
           "calvado"
          ],
          [
           "camembert cheese"
          ],
          [
           "campanelle pastum"
          ],
          [
           "camparus"
          ],
          [
           "canadian bacon"
          ],
          [
           "candied cherry"
          ],
          [
           "candied fruit"
          ],
          [
           "candied ginger"
          ],
          [
           "candied orange peel"
          ],
          [
           "candied pecan"
          ],
          [
           "candied peel"
          ],
          [
           "candied pineapple"
          ],
          [
           "candied red cherry"
          ],
          [
           "candied walnut"
          ],
          [
           "candy"
          ],
          [
           "candy bar"
          ],
          [
           "candy cane"
          ],
          [
           "candy corn"
          ],
          [
           "candy covered plain chocolate candy"
          ],
          [
           "candy sprinkle"
          ],
          [
           "cane syrup"
          ],
          [
           "canned artichoke heart"
          ],
          [
           "canned black bean"
          ],
          [
           "canned chick-pea"
          ],
          [
           "canned chicken"
          ],
          [
           "canned clam"
          ],
          [
           "canned corn"
          ],
          [
           "canned corn kernel"
          ],
          [
           "canned corn niblet"
          ],
          [
           "canned crabmeat"
          ],
          [
           "canned crushed pineapple"
          ],
          [
           "canned green bean"
          ],
          [
           "canned jalapeno pepper"
          ],
          [
           "canned jalapeno slice"
          ],
          [
           "canned mandarin orange"
          ],
          [
           "canned milk"
          ],
          [
           "canned mushroom"
          ],
          [
           "canned mushroom slice"
          ],
          [
           "canned peach"
          ],
          [
           "canned peach half"
          ],
          [
           "canned pear"
          ],
          [
           "canned pineapple"
          ],
          [
           "canned pineapple chunk"
          ],
          [
           "canned pinto bean"
          ],
          [
           "canned plum tomato"
          ],
          [
           "canned pumpkin"
          ],
          [
           "canned pumpkin puree"
          ],
          [
           "canned salmon"
          ],
          [
           "canned solid-pack pumpkin"
          ],
          [
           "canned stewed tomato"
          ],
          [
           "canned tomato"
          ],
          [
           "canned tomato sauce"
          ],
          [
           "canned tuna"
          ],
          [
           "canned unsweetened coconut milk"
          ],
          [
           "canned whole kernel corn"
          ],
          [
           "canned whole tomato"
          ],
          [
           "cannellini"
          ],
          [
           "cannellini bean"
          ],
          [
           "cannelloni tube"
          ],
          [
           "canning salt"
          ],
          [
           "canola oil"
          ],
          [
           "cantaloupe"
          ],
          [
           "cantaloupe ball"
          ],
          [
           "capellini"
          ],
          [
           "caper"
          ],
          [
           "capicola"
          ],
          [
           "capsicum"
          ],
          [
           "caramel"
          ],
          [
           "caramel candy"
          ],
          [
           "caramel ice cream topping"
          ],
          [
           "caramel sauce"
          ],
          [
           "caramel syrup"
          ],
          [
           "caramel topping"
          ],
          [
           "caraway seed"
          ],
          [
           "carbonated lemon-lime beverage"
          ],
          [
           "carbonated water"
          ],
          [
           "cardamom"
          ],
          [
           "cardamom pod"
          ],
          [
           "cardamom powder"
          ],
          [
           "cardamom seed"
          ],
          [
           "caribbean jerk seasoning"
          ],
          [
           "carob chip"
          ],
          [
           "carob powder"
          ],
          [
           "carrot"
          ],
          [
           "carrot baby food"
          ],
          [
           "carrot juice"
          ],
          [
           "carrot stick"
          ],
          [
           "cashew"
          ],
          [
           "cashew half"
          ],
          [
           "cashew nut"
          ],
          [
           "cashew piece"
          ],
          [
           "casing"
          ],
          [
           "caster sugar"
          ],
          [
           "catfish"
          ],
          [
           "catfish fillet"
          ],
          [
           "catfish nugget"
          ],
          [
           "catsup"
          ],
          [
           "cauliflower"
          ],
          [
           "cauliflower floret"
          ],
          [
           "cauliflower head"
          ],
          [
           "cavatappi pastum"
          ],
          [
           "cavatelli"
          ],
          [
           "cayenne"
          ],
          [
           "cayenne pepper"
          ],
          [
           "cayenne pepper sauce"
          ],
          [
           "cayenne powder"
          ],
          [
           "cedar plank"
          ],
          [
           "celeriac"
          ],
          [
           "celery"
          ],
          [
           "celery & leaf"
          ],
          [
           "celery heart"
          ],
          [
           "celery leaf"
          ],
          [
           "celery rib"
          ],
          [
           "celery root"
          ],
          [
           "celery salt"
          ],
          [
           "celery seed"
          ],
          [
           "cellophane noodle"
          ],
          [
           "center cut pork chop"
          ],
          [
           "center cut pork loin roast"
          ],
          [
           "center-cut bacon"
          ],
          [
           "center-cut pork chop"
          ],
          [
           "center-cut pork loin chop"
          ],
          [
           "cereal"
          ],
          [
           "chabli"
          ],
          [
           "chai tea teabag"
          ],
          [
           "challah"
          ],
          [
           "chambord raspberry liquor"
          ],
          [
           "champagne"
          ],
          [
           "champagne vinegar"
          ],
          [
           "channa dal"
          ],
          [
           "chanterelle mushroom"
          ],
          [
           "chard leaf"
          ],
          [
           "chardonnay wine"
          ],
          [
           "chat masala"
          ],
          [
           "chayote"
          ],
          [
           "cheddar"
          ],
          [
           "cheerios"
          ],
          [
           "cheese"
          ],
          [
           "cheese cracker"
          ],
          [
           "cheese ravioli"
          ],
          [
           "cheese sauce"
          ],
          [
           "cheese slice"
          ],
          [
           "cheese slouse"
          ],
          [
           "cheese soup"
          ],
          [
           "cheese spread"
          ],
          [
           "cheese tortellini"
          ],
          [
           "cheese whiz"
          ],
          [
           "cheese-filled egg tortellini"
          ],
          [
           "cheese-filled tortellini"
          ],
          [
           "cheesecake instant pudding and pie filling mix"
          ],
          [
           "cheesecloth"
          ],
          [
           "cheez whiz"
          ],
          [
           "cheez-it cracker"
          ],
          [
           "cherry"
          ],
          [
           "cherry brandy"
          ],
          [
           "cherry gelatin"
          ],
          [
           "cherry jam"
          ],
          [
           "cherry jell-o"
          ],
          [
           "cherry juice"
          ],
          [
           "cherry liqueur"
          ],
          [
           "cherry pepper"
          ],
          [
           "cherry pie filling"
          ],
          [
           "cherry preserve"
          ],
          [
           "cherry tomato"
          ],
          [
           "chervil"
          ],
          [
           "chestnut"
          ],
          [
           "chestnut mushroom"
          ],
          [
           "chevre cheese"
          ],
          [
           "chex cereal"
          ],
          [
           "chia seed"
          ],
          [
           "chianti wine"
          ],
          [
           "chicken"
          ],
          [
           "chicken and rice soup"
          ],
          [
           "chicken base"
          ],
          [
           "chicken bouillon"
          ],
          [
           "chicken bouillon cube"
          ],
          [
           "chicken bouillon granule"
          ],
          [
           "chicken bouillon powder"
          ],
          [
           "chicken breast"
          ],
          [
           "chicken breast fillet"
          ],
          [
           "chicken breast half"
          ],
          [
           "chicken breast tender"
          ],
          [
           "chicken broth"
          ],
          [
           "chicken coating mix"
          ],
          [
           "chicken cutlet"
          ],
          [
           "chicken drummette"
          ],
          [
           "chicken drumstick"
          ],
          [
           "chicken fat"
          ],
          [
           "chicken fillet"
          ],
          [
           "chicken gizzard"
          ],
          [
           "chicken gravy"
          ],
          [
           "chicken gravy mix"
          ],
          [
           "chicken gumbo soup"
          ],
          [
           "chicken instant bouillon"
          ],
          [
           "chicken leg"
          ],
          [
           "chicken leg quarter"
          ],
          [
           "chicken legs-thigh"
          ],
          [
           "chicken meat"
          ],
          [
           "chicken noodle soup"
          ],
          [
           "chicken noodle soup mix"
          ],
          [
           "chicken part"
          ],
          [
           "chicken piece"
          ],
          [
           "chicken quarter"
          ],
          [
           "chicken ramen noodle"
          ],
          [
           "chicken soup"
          ],
          [
           "chicken soup base"
          ],
          [
           "chicken soup powder"
          ],
          [
           "chicken stock"
          ],
          [
           "chicken stock cube"
          ],
          [
           "chicken stock powder"
          ],
          [
           "chicken stove top stuffing mix"
          ],
          [
           "chicken strip"
          ],
          [
           "chicken stuffing mix"
          ],
          [
           "chicken tender"
          ],
          [
           "chicken tenderloin"
          ],
          [
           "chicken thigh"
          ],
          [
           "chicken thigh fillet"
          ],
          [
           "chicken wing"
          ],
          [
           "chicken wing sauce"
          ],
          [
           "chickpea"
          ],
          [
           "chickpea flmy"
          ],
          [
           "chile"
          ],
          [
           "chili"
          ],
          [
           "chili bean"
          ],
          [
           "chili bean sauce"
          ],
          [
           "chili flake"
          ],
          [
           "chili oil"
          ],
          [
           "chili paste"
          ],
          [
           "chili pepper"
          ],
          [
           "chili pepper flake"
          ],
          [
           "chili powder"
          ],
          [
           "chili sauce"
          ],
          [
           "chili without bean"
          ],
          [
           "chili-garlic sauce"
          ],
          [
           "chily"
          ],
          [
           "chinese cabbage"
          ],
          [
           "chinese duck sauce"
          ],
          [
           "chinese egg noodle"
          ],
          [
           "chinese five spice powder"
          ],
          [
           "chinese hot mustard"
          ],
          [
           "chinese mustard"
          ],
          [
           "chinese noodle"
          ],
          [
           "chinese rice wine"
          ],
          [
           "chinese vegetable"
          ],
          [
           "chinese white rice vinegar"
          ],
          [
           "chinese wine"
          ],
          [
           "chip"
          ],
          [
           "chipotle hot sauce"
          ],
          [
           "chipotle pepper"
          ],
          [
           "chipped beef"
          ],
          [
           "chive"
          ],
          [
           "chocolate"
          ],
          [
           "chocolate almond bark"
          ],
          [
           "chocolate baking square"
          ],
          [
           "chocolate bar"
          ],
          [
           "chocolate bit"
          ],
          [
           "chocolate cake"
          ],
          [
           "chocolate candy"
          ],
          [
           "chocolate candy coating"
          ],
          [
           "chocolate chip"
          ],
          [
           "chocolate chip cookies"
          ],
          [
           "chocolate chunk"
          ],
          [
           "chocolate cookie crumb"
          ],
          [
           "chocolate cookie pie crust"
          ],
          [
           "chocolate cookies"
          ],
          [
           "chocolate crumb crust"
          ],
          [
           "chocolate curl"
          ],
          [
           "chocolate frosting"
          ],
          [
           "chocolate fudge frosting"
          ],
          [
           "chocolate fudge instant pudding mix"
          ],
          [
           "chocolate fudge topping"
          ],
          [
           "chocolate graham cracker"
          ],
          [
           "chocolate graham cracker crumb"
          ],
          [
           "chocolate graham wafer pie crust"
          ],
          [
           "chocolate hazelnut spread"
          ],
          [
           "chocolate ice cream"
          ],
          [
           "chocolate icing"
          ],
          [
           "chocolate instant pudding"
          ],
          [
           "chocolate instant pudding and pie filling mix"
          ],
          [
           "chocolate kis"
          ],
          [
           "chocolate kiss"
          ],
          [
           "chocolate liqueur"
          ],
          [
           "chocolate milk"
          ],
          [
           "chocolate morsel"
          ],
          [
           "chocolate piece"
          ],
          [
           "chocolate protein powder"
          ],
          [
           "chocolate pudding"
          ],
          [
           "chocolate pudding mix"
          ],
          [
           "chocolate shaving"
          ],
          [
           "chocolate soymilk"
          ],
          [
           "chocolate sprinkle"
          ],
          [
           "chocolate square"
          ],
          [
           "chocolate syrup"
          ],
          [
           "chocolate wafer"
          ],
          [
           "chocolate wafer cookies"
          ],
          [
           "chocolate wafer crumb"
          ],
          [
           "chocolate wafer pie crust"
          ],
          [
           "chocolate whipped cream"
          ],
          [
           "chocolate-covered coffee bean"
          ],
          [
           "chocolate-covered english toffee bar"
          ],
          [
           "chocolate-covered raisin"
          ],
          [
           "chopped pimiento"
          ],
          [
           "chopped tomato"
          ],
          [
           "chow mein noodle"
          ],
          [
           "chuck"
          ],
          [
           "chuck roast"
          ],
          [
           "chuck steak"
          ],
          [
           "chunk chicken"
          ],
          [
           "chunk light tuna"
          ],
          [
           "chunk pineapple"
          ],
          [
           "chunk tuna"
          ],
          [
           "chunky applesauce"
          ],
          [
           "chunky peanut butter"
          ],
          [
           "chunky salsa"
          ],
          [
           "chutney"
          ],
          [
           "ciabatta roll"
          ],
          [
           "ciabattum"
          ],
          [
           "cider"
          ],
          [
           "cider vinegar"
          ],
          [
           "cilantro"
          ],
          [
           "cilantro leaf"
          ],
          [
           "cinnamon"
          ],
          [
           "cinnamon applesauce"
          ],
          [
           "cinnamon baking chip"
          ],
          [
           "cinnamon bark"
          ],
          [
           "cinnamon graham cracker"
          ],
          [
           "cinnamon oil"
          ],
          [
           "cinnamon raisin bread"
          ],
          [
           "cinnamon schnapp"
          ],
          [
           "cinnamon stick"
          ],
          [
           "cinnamon sugar"
          ],
          [
           "cinnamon syrup"
          ],
          [
           "cinnamon-raisin bread"
          ],
          [
           "cinnamon-sugar mixture"
          ],
          [
           "cinnamon-swirl bread"
          ],
          [
           "citric acid"
          ],
          [
           "citron"
          ],
          [
           "citrus peel"
          ],
          [
           "citrus-infused vodka"
          ],
          [
           "clam"
          ],
          [
           "clam broth"
          ],
          [
           "clam juice"
          ],
          [
           "clamato juice"
          ],
          [
           "clarified butter"
          ],
          [
           "clear honey"
          ],
          [
           "clementine"
          ],
          [
           "clove"
          ],
          [
           "club cracker"
          ],
          [
           "club soda"
          ],
          [
           "coarse black pepper"
          ],
          [
           "coarse grain mustard"
          ],
          [
           "coarse salt"
          ],
          [
           "coarse sea salt"
          ],
          [
           "coarse sugar"
          ],
          [
           "coca-cola"
          ],
          [
           "cocktail frank"
          ],
          [
           "cocktail onion"
          ],
          [
           "coco lopez"
          ],
          [
           "cocoa"
          ],
          [
           "cocoa krispies cereal"
          ],
          [
           "cocoa powder"
          ],
          [
           "coconut"
          ],
          [
           "coconut cream"
          ],
          [
           "coconut essence"
          ],
          [
           "coconut extract"
          ],
          [
           "coconut flake"
          ],
          [
           "coconut flmy"
          ],
          [
           "coconut milk"
          ],
          [
           "coconut milk powder"
          ],
          [
           "coconut oil"
          ],
          [
           "coconut pecan frosting"
          ],
          [
           "coconut syrup"
          ],
          [
           "coconut water"
          ],
          [
           "coconuting"
          ],
          [
           "cod"
          ],
          [
           "cod fish fillet"
          ],
          [
           "coffee"
          ],
          [
           "coffee bean"
          ],
          [
           "coffee creamer"
          ],
          [
           "coffee ice cream"
          ],
          [
           "coffee liqueur"
          ],
          [
           "coffee-mate"
          ],
          [
           "cognac"
          ],
          [
           "cointreau liqueur"
          ],
          [
           "coke"
          ],
          [
           "cola"
          ],
          [
           "cola drink"
          ],
          [
           "colby"
          ],
          [
           "colby cheese"
          ],
          [
           "colby-monterey jack cheese"
          ],
          [
           "cold water"
          ],
          [
           "coleman's dry mustard"
          ],
          [
           "coleslaw"
          ],
          [
           "coleslaw mix"
          ],
          [
           "collard green"
          ],
          [
           "colored ature marshmallow"
          ],
          [
           "colored crystal sugar"
          ],
          [
           "colored sprinkle"
          ],
          [
           "colored sugar sprinkle"
          ],
          [
           "condensed beef consomme"
          ],
          [
           "condensed cream of broccoli soup"
          ],
          [
           "condensed cream of celery soup"
          ],
          [
           "condensed cream of chicken soup"
          ],
          [
           "condensed cream of mushroom & garlic soup"
          ],
          [
           "condensed cream of mushroom soup"
          ],
          [
           "condensed cream of potato soup"
          ],
          [
           "condensed french onion soup"
          ],
          [
           "condensed golden mushroom soup"
          ],
          [
           "condensed milk"
          ],
          [
           "condensed mushroom soup"
          ],
          [
           "condensed tomato soup"
          ],
          [
           "condiment"
          ],
          [
           "confectioners' sugar"
          ],
          [
           "consomme"
          ],
          [
           "converted long grain rice"
          ],
          [
           "converted rice"
          ],
          [
           "converted white rice"
          ],
          [
           "convertedrice"
          ],
          [
           "cooked bacon"
          ],
          [
           "cooked barley"
          ],
          [
           "cooked basmati rice"
          ],
          [
           "cooked beef"
          ],
          [
           "cooked beet"
          ],
          [
           "cooked broccoli"
          ],
          [
           "cooked brown rice"
          ],
          [
           "cooked chicken"
          ],
          [
           "cooked chicken breast"
          ],
          [
           "cooked corned beef"
          ],
          [
           "cooked couscou"
          ],
          [
           "cooked egg noodle"
          ],
          [
           "cooked elbow macaroni"
          ],
          [
           "cooked fettuccine"
          ],
          [
           "cooked ground beef"
          ],
          [
           "cooked ham"
          ],
          [
           "cooked jasmine rice"
          ],
          [
           "cooked lentil"
          ],
          [
           "cooked linguine"
          ],
          [
           "cooked lobster meat"
          ],
          [
           "cooked long-grain rice"
          ],
          [
           "cooked macaroni"
          ],
          [
           "cooked noodle"
          ],
          [
           "cooked oatmeal"
          ],
          [
           "cooked orzo pastum"
          ],
          [
           "cooked pastum"
          ],
          [
           "cooked penne"
          ],
          [
           "cooked pork"
          ],
          [
           "cooked pumpkin"
          ],
          [
           "cooked quinoa"
          ],
          [
           "cooked rice"
          ],
          [
           "cooked salmon"
          ],
          [
           "cooked short-grain rice"
          ],
          [
           "cooked shrimp"
          ],
          [
           "cooked spaghettus"
          ],
          [
           "cooked sweet potato"
          ],
          [
           "cooked turkey"
          ],
          [
           "cooked turkey breast"
          ],
          [
           "cooked white rice"
          ],
          [
           "cooked wild rice"
          ],
          [
           "cookie"
          ],
          [
           "cookie crumb"
          ],
          [
           "cookies"
          ],
          [
           "cooking apple"
          ],
          [
           "cooking oil"
          ],
          [
           "cooking onion"
          ],
          [
           "cooking sherry"
          ],
          [
           "cooking spray"
          ],
          [
           "cooking wine"
          ],
          [
           "cool whip"
          ],
          [
           "cool whip free"
          ],
          [
           "cool whip lite"
          ],
          [
           "cool whip topping"
          ],
          [
           "copha"
          ],
          [
           "coriander"
          ],
          [
           "coriander leaf"
          ],
          [
           "coriander powder"
          ],
          [
           "coriander root"
          ],
          [
           "coriander seed"
          ],
          [
           "coriander sprig"
          ],
          [
           "corkscrew macaroni"
          ],
          [
           "corn"
          ],
          [
           "corn beef hash"
          ],
          [
           "corn chex"
          ],
          [
           "corn chip"
          ],
          [
           "corn cob"
          ],
          [
           "corn flake"
          ],
          [
           "corn flake crumb"
          ],
          [
           "corn flakes cereal"
          ],
          [
           "corn husk"
          ],
          [
           "corn kernel"
          ],
          [
           "corn mixed"
          ],
          [
           "corn muffin mix"
          ],
          [
           "corn niblet"
          ],
          [
           "corn oil"
          ],
          [
           "corn on the cob"
          ],
          [
           "corn syrup"
          ],
          [
           "cornbread"
          ],
          [
           "corned beef"
          ],
          [
           "corned beef brisket"
          ],
          [
           "cornflmy"
          ],
          [
           "cornichon"
          ],
          [
           "cornish hen"
          ],
          [
           "cornmeal"
          ],
          [
           "cornstarch"
          ],
          [
           "cotija cheese"
          ],
          [
           "cottage cheese"
          ],
          [
           "country bread"
          ],
          [
           "country gravy mix"
          ],
          [
           "country ham"
          ],
          [
           "courgette"
          ],
          [
           "couscou"
          ],
          [
           "crab"
          ],
          [
           "crab boil"
          ],
          [
           "crab boil seasoning"
          ],
          [
           "crabmeat"
          ],
          [
           "cracked black pepper"
          ],
          [
           "cracked ice"
          ],
          [
           "cracked pepper"
          ],
          [
           "cracked wheat"
          ],
          [
           "cracker"
          ],
          [
           "cracker crumb"
          ],
          [
           "craisin"
          ],
          [
           "cranberry"
          ],
          [
           "cranberry juice"
          ],
          [
           "cranberry juice cocktail"
          ],
          [
           "cranberry sauce"
          ],
          [
           "cranberry-apple juice"
          ],
          [
           "cranberry-raspberry juice"
          ],
          [
           "crawfish"
          ],
          [
           "crawfish tail"
          ],
          [
           "cre mushroom"
          ],
          [
           "cream"
          ],
          [
           "cream cheese"
          ],
          [
           "cream of asparagus soup"
          ],
          [
           "cream of broccoli soup"
          ],
          [
           "cream of celery soup"
          ],
          [
           "cream of chicken and mushroom soup"
          ],
          [
           "cream of chicken soup"
          ],
          [
           "cream of coconut"
          ],
          [
           "cream of mushroom soup"
          ],
          [
           "cream of onion soup"
          ],
          [
           "cream of potato soup"
          ],
          [
           "cream of shrimp soup"
          ],
          [
           "cream of tartar"
          ],
          [
           "cream of tomato soup"
          ],
          [
           "cream of wheat"
          ],
          [
           "cream sherry"
          ],
          [
           "cream soda"
          ],
          [
           "cream soup"
          ],
          [
           "cream-filled chocolate sandwich cookies"
          ],
          [
           "creamed coconut"
          ],
          [
           "creamed corn"
          ],
          [
           "creamed horseradish"
          ],
          [
           "creamy peanut butter"
          ],
          [
           "crema"
          ],
          [
           "creme de banane"
          ],
          [
           "creme de cacao"
          ],
          [
           "creme de cassi"
          ],
          [
           "creme de menthe"
          ],
          [
           "creme fraiche"
          ],
          [
           "creole mustard"
          ],
          [
           "creole seasoning"
          ],
          [
           "crepe"
          ],
          [
           "crescent roll"
          ],
          [
           "crescent roll dough"
          ],
          [
           "crisco"
          ],
          [
           "crisp bacon"
          ],
          [
           "crisp chow mein noodle"
          ],
          [
           "crisp rice cereal"
          ],
          [
           "crispix cereal"
          ],
          [
           "crispy rice cereal"
          ],
          [
           "croissant"
          ],
          [
           "crookneck yellow squash"
          ],
          [
           "crouton"
          ],
          [
           "crunchy peanut butter"
          ],
          [
           "crushed pineapple"
          ],
          [
           "crushed pineapple in juice"
          ],
          [
           "crushed pineapple in syrup"
          ],
          [
           "crushed red pepper flake"
          ],
          [
           "crushed tomato"
          ],
          [
           "crushed tomatoes in puree"
          ],
          [
           "crusty bread"
          ],
          [
           "crusty italian bread"
          ],
          [
           "crystallized ginger"
          ],
          [
           "cubanelle pepper"
          ],
          [
           "cube steak"
          ],
          [
           "cubed ham"
          ],
          [
           "cucumber"
          ],
          [
           "cumin"
          ],
          [
           "cumin powder"
          ],
          [
           "cumin seed"
          ],
          [
           "cupcake"
          ],
          [
           "cupcake liner"
          ],
          [
           "curacao"
          ],
          [
           "curd"
          ],
          [
           "currant"
          ],
          [
           "currant jelly"
          ],
          [
           "curry"
          ],
          [
           "curry leaf"
          ],
          [
           "curry paste"
          ],
          [
           "curry powder"
          ],
          [
           "custard"
          ],
          [
           "custard powder"
          ],
          [
           "cut green bean"
          ],
          [
           "daikon radish"
          ],
          [
           "dairy-free margarine"
          ],
          [
           "dandelion flower"
          ],
          [
           "dandelion green"
          ],
          [
           "danish blue cheese"
          ],
          [
           "dark beer"
          ],
          [
           "dark brown sugar"
          ],
          [
           "dark chocolate"
          ],
          [
           "dark chocolate bar"
          ],
          [
           "dark chocolate chip"
          ],
          [
           "dark cocoa"
          ],
          [
           "dark cooking chocolate"
          ],
          [
           "dark corn syrup"
          ],
          [
           "dark creme de cacao"
          ],
          [
           "dark karo syrup"
          ],
          [
           "dark molass"
          ],
          [
           "dark muscovado sugar"
          ],
          [
           "dark raisin"
          ],
          [
           "dark rye bread"
          ],
          [
           "dark seedless raisin"
          ],
          [
           "dark sesame oil"
          ],
          [
           "dark soya sauce"
          ],
          [
           "dark sweet cherry"
          ],
          [
           "dashi"
          ],
          [
           "date"
          ],
          [
           "day-old french bread"
          ],
          [
           "day-old white bread"
          ],
          [
           "decorative candy"
          ],
          [
           "decorator sugar"
          ],
          [
           "deep dish pie crust"
          ],
          [
           "deep dish pie shell"
          ],
          [
           "dehydrated onion"
          ],
          [
           "deli corned beef"
          ],
          [
           "deli ham"
          ],
          [
           "deli roast beef"
          ],
          [
           "deli turkey"
          ],
          [
           "delicata squash"
          ],
          [
           "demerara sugar"
          ],
          [
           "demi-glace"
          ],
          [
           "desiccated coconut"
          ],
          [
           "deviled ham"
          ],
          [
           "diced fire-roasted tomato"
          ],
          [
           "diced green chili"
          ],
          [
           "diced green chily"
          ],
          [
           "diced onion"
          ],
          [
           "diced pimento"
          ],
          [
           "diced potato"
          ],
          [
           "diced tomato"
          ],
          [
           "diced tomatoes in tomato puree"
          ],
          [
           "diet cola"
          ],
          [
           "diet lemon-lime soda"
          ],
          [
           "diet sprite"
          ],
          [
           "digestive biscuit"
          ],
          [
           "dijon mustard"
          ],
          [
           "dijonnaise mustard"
          ],
          [
           "dill"
          ],
          [
           "dill relish"
          ],
          [
           "dill seed"
          ],
          [
           "dill sprig"
          ],
          [
           "dill weed"
          ],
          [
           "dinner roll"
          ],
          [
           "dipping chocolate"
          ],
          [
           "distilled vinegar"
          ],
          [
           "distilled white vinegar"
          ],
          [
           "ditalini"
          ],
          [
           "dorito"
          ],
          [
           "double cream"
          ],
          [
           "double crust pie crust"
          ],
          [
           "double-acting baking powder"
          ],
          [
           "dr. pepper cola"
          ],
          [
           "drambuie"
          ],
          [
           "dream whip"
          ],
          [
           "dressing"
          ],
          [
           "dried apple"
          ],
          [
           "dried apricot"
          ],
          [
           "dried apricot half"
          ],
          [
           "dried basil"
          ],
          [
           "dried basil leaf"
          ],
          [
           "dried bay leaf"
          ],
          [
           "dried bean"
          ],
          [
           "dried beef"
          ],
          [
           "dried black bean"
          ],
          [
           "dried black mushroom"
          ],
          [
           "dried black-eyed pea"
          ],
          [
           "dried blueberry"
          ],
          [
           "dried breadcrumb"
          ],
          [
           "dried brown lentil"
          ],
          [
           "dried celery flake"
          ],
          [
           "dried chamomile"
          ],
          [
           "dried cherry"
          ],
          [
           "dried chervil"
          ],
          [
           "dried chili"
          ],
          [
           "dried chili pepper flake"
          ],
          [
           "dried chily"
          ],
          [
           "dried chinese mushroom"
          ],
          [
           "dried chipotle pepper"
          ],
          [
           "dried chipotle powder"
          ],
          [
           "dried chive"
          ],
          [
           "dried cilantro"
          ],
          [
           "dried coconut"
          ],
          [
           "dried coriander"
          ],
          [
           "dried cranberry"
          ],
          [
           "dried currant"
          ],
          [
           "dried date"
          ],
          [
           "dried dill"
          ],
          [
           "dried dill weed"
          ],
          [
           "dried fenugreek leaf"
          ],
          [
           "dried fig"
          ],
          [
           "dried fruit"
          ],
          [
           "dried garbanzo bean"
          ],
          [
           "dried garlic"
          ],
          [
           "dried ginger"
          ],
          [
           "dried great northern bean"
          ],
          [
           "dried herb"
          ],
          [
           "dried hibiscus flower"
          ],
          [
           "dried hot chili pepper"
          ],
          [
           "dried hot pepper"
          ],
          [
           "dried hot red chili pepper"
          ],
          [
           "dried italian herb seasoning"
          ],
          [
           "dried italian seasoning"
          ],
          [
           "dried lavender"
          ],
          [
           "dried lavender blossom"
          ],
          [
           "dried lavender flower"
          ],
          [
           "dried leaf basil"
          ],
          [
           "dried leaf thyme"
          ],
          [
           "dried lemon peel"
          ],
          [
           "dried lentil"
          ],
          [
           "dried lima bean"
          ],
          [
           "dried lime"
          ],
          [
           "dried mango"
          ],
          [
           "dried marjoram"
          ],
          [
           "dried mexican oregano"
          ],
          [
           "dried mint"
          ],
          [
           "dried mixed fruit"
          ],
          [
           "dried mushroom"
          ],
          [
           "dried mustard"
          ],
          [
           "dried navy bean"
          ],
          [
           "dried onion"
          ],
          [
           "dried onion flake"
          ],
          [
           "dried orange peel"
          ],
          [
           "dried oregano"
          ],
          [
           "dried oregano leaf"
          ],
          [
           "dried parsley"
          ],
          [
           "dried parsley flake"
          ],
          [
           "dried peach"
          ],
          [
           "dried pear"
          ],
          [
           "dried pear half"
          ],
          [
           "dried pineapple"
          ],
          [
           "dried pinto bean"
          ],
          [
           "dried plum"
          ],
          [
           "dried porcini mushroom"
          ],
          [
           "dried prune"
          ],
          [
           "dried red bean"
          ],
          [
           "dried red chili"
          ],
          [
           "dried red chili pepper"
          ],
          [
           "dried red chily"
          ],
          [
           "dried red lentil"
          ],
          [
           "dried red pepper"
          ],
          [
           "dried red pepper flake"
          ],
          [
           "dried rice noodle"
          ],
          [
           "dried rosemary"
          ],
          [
           "dried rosemary leaf"
          ],
          [
           "dried rubbed sage"
          ],
          [
           "dried sage"
          ],
          [
           "dried savory"
          ],
          [
           "dried shiitake mushroom"
          ],
          [
           "dried shredded coconut"
          ],
          [
           "dried shrimp"
          ],
          [
           "dried sour cherry"
          ],
          [
           "dried split green pea"
          ],
          [
           "dried split pea"
          ],
          [
           "dried split yellow pea"
          ],
          [
           "dried summer savory"
          ],
          [
           "dried sweet basil leaf"
          ],
          [
           "dried sweetened cranberry"
          ],
          [
           "dried tarragon"
          ],
          [
           "dried tarragon leaf"
          ],
          [
           "dried tart cherry"
          ],
          [
           "dried thyme"
          ],
          [
           "dried thyme leaf"
          ],
          [
           "dried tomato"
          ],
          [
           "dried tomatoe"
          ],
          [
           "dried white bean"
          ],
          [
           "dried whole thyme"
          ],
          [
           "dried wild mushroom"
          ],
          [
           "dripping"
          ],
          [
           "dry basil"
          ],
          [
           "dry bread"
          ],
          [
           "dry bread cube"
          ],
          [
           "dry breadcrumb"
          ],
          [
           "dry buttermilk"
          ],
          [
           "dry cider"
          ],
          [
           "dry crushed red pepper"
          ],
          [
           "dry curd cottage cheese"
          ],
          [
           "dry dill weed"
          ],
          [
           "dry fettuccine"
          ],
          [
           "dry green lentil"
          ],
          [
           "dry lentil"
          ],
          [
           "dry linguine"
          ],
          [
           "dry marsala"
          ],
          [
           "dry marsala wine"
          ],
          [
           "dry milk"
          ],
          [
           "dry milk powder"
          ],
          [
           "dry mustard"
          ],
          [
           "dry onion"
          ],
          [
           "dry onion flake"
          ],
          [
           "dry onion soup mix"
          ],
          [
           "dry oregano"
          ],
          [
           "dry oregano leaf"
          ],
          [
           "dry parmesan cheese"
          ],
          [
           "dry parsley flake"
          ],
          [
           "dry pastum"
          ],
          [
           "dry pectin"
          ],
          [
           "dry penne pastum"
          ],
          [
           "dry pinto bean"
          ],
          [
           "dry red wine"
          ],
          [
           "dry roasted peanut"
          ],
          [
           "dry roasted salted peanut"
          ],
          [
           "dry rub seasoning"
          ],
          [
           "dry sherry"
          ],
          [
           "dry tapioca"
          ],
          [
           "dry tarragon"
          ],
          [
           "dry vegetable soup mix"
          ],
          [
           "dry vermouth"
          ],
          [
           "dry white bean"
          ],
          [
           "dry white vermouth"
          ],
          [
           "dry white wine"
          ],
          [
           "dry wine"
          ],
          [
           "dry-roasted unsalted peanut"
          ],
          [
           "duck"
          ],
          [
           "duck breast"
          ],
          [
           "dulce de leche"
          ],
          [
           "dumpling"
          ],
          [
           "dungeness crab"
          ],
          [
           "dungeness crabmeat"
          ],
          [
           "dutch process cocoa"
          ],
          [
           "dutch-processed cocoa powder"
          ],
          [
           "eaglecondensed milk"
          ],
          [
           "ear of corn"
          ],
          [
           "ears of corn"
          ],
          [
           "earth balance margarine"
          ],
          [
           "edam cheese"
          ],
          [
           "edamame"
          ],
          [
           "egg"
          ],
          [
           "egg beaters egg substitute"
          ],
          [
           "egg bread"
          ],
          [
           "egg noodle"
          ],
          [
           "egg roll wrap"
          ],
          [
           "egg substitute"
          ],
          [
           "egg wash"
          ],
          [
           "egg white"
          ],
          [
           "egg yolk"
          ],
          [
           "eggnog"
          ],
          [
           "eggplant"
          ],
          [
           "elbow macaroni"
          ],
          [
           "emeril's essence"
          ],
          [
           "emmenthaler cheese"
          ],
          [
           "enchilada sauce"
          ],
          [
           "endive"
          ],
          [
           "ener-g egg substitute"
          ],
          [
           "english cucumber"
          ],
          [
           "english muffin"
          ],
          [
           "english mustard"
          ],
          [
           "english mustard powder"
          ],
          [
           "english pea"
          ],
          [
           "english seedless cucumber"
          ],
          [
           "english toffee bit"
          ],
          [
           "english walnut"
          ],
          [
           "epazote"
          ],
          [
           "escarole"
          ],
          [
           "espresso"
          ],
          [
           "espresso bean"
          ],
          [
           "espresso coffee"
          ],
          [
           "espresso powder"
          ],
          [
           "evaporated milk"
          ],
          [
           "evaporated skim milk"
          ],
          [
           "extract"
          ],
          [
           "eye of round roast"
          ],
          [
           "family-size tea bag"
          ],
          [
           "farfalle pastum"
          ],
          [
           "farina"
          ],
          [
           "farmer cheese"
          ],
          [
           "fat"
          ],
          [
           "fat buttermilk"
          ],
          [
           "fat cottage cheese"
          ],
          [
           "fava bean"
          ],
          [
           "fennel"
          ],
          [
           "fennel bulb"
          ],
          [
           "fennel leaf"
          ],
          [
           "fennel seed"
          ],
          [
           "fenugreek leaf"
          ],
          [
           "fenugreek seed"
          ],
          [
           "fermented black bean"
          ],
          [
           "feta cheese"
          ],
          [
           "fettuccine"
          ],
          [
           "fettuccine pastum"
          ],
          [
           "fetum"
          ],
          [
           "fiber one cereal"
          ],
          [
           "fiddlehead"
          ],
          [
           "field mushroom"
          ],
          [
           "fiesta nacho cheese soup"
          ],
          [
           "fig"
          ],
          [
           "fig preserve"
          ],
          [
           "file powder"
          ],
          [
           "filet mignon"
          ],
          [
           "filet mignon steak"
          ],
          [
           "filet of beef"
          ],
          [
           "fillet"
          ],
          [
           "fine breadcrumb"
          ],
          [
           "fine cracker crumb"
          ],
          [
           "fine dry breadcrumb"
          ],
          [
           "fine egg noodle"
          ],
          [
           "fine noodle"
          ],
          [
           "fine salt"
          ],
          [
           "fine sea salt"
          ],
          [
           "fine semolina"
          ],
          [
           "fine sugar"
          ],
          [
           "fines herbe"
          ],
          [
           "fingerling potato"
          ],
          [
           "fire-roasted tomato"
          ],
          [
           "firm banana"
          ],
          [
           "firm butter"
          ],
          [
           "firm silken tofu"
          ],
          [
           "firm tofu"
          ],
          [
           "firm tomato"
          ],
          [
           "fish"
          ],
          [
           "fish fillet"
          ],
          [
           "fish sauce"
          ],
          [
           "fish steak"
          ],
          [
           "fish stock"
          ],
          [
           "five-spice powder"
          ],
          [
           "flaked coconut"
          ],
          [
           "flaked sea salt"
          ],
          [
           "flakey biscuit"
          ],
          [
           "flank steak"
          ],
          [
           "flat bread"
          ],
          [
           "flat iron steak"
          ],
          [
           "flat leaf parsley"
          ],
          [
           "flat-leaf italian parsley"
          ],
          [
           "flavoring"
          ],
          [
           "flax seed"
          ],
          [
           "flax seed meal"
          ],
          [
           "flax seed oil"
          ],
          [
           "fleur de sel"
          ],
          [
           "flmy"
          ],
          [
           "flounder"
          ],
          [
           "flounder fillet"
          ],
          [
           "floury potato"
          ],
          [
           "focaccia bread"
          ],
          [
           "fontina"
          ],
          [
           "fontina cheese"
          ],
          [
           "food coloring"
          ],
          [
           "four cheese blend"
          ],
          [
           "four-cheese mexican blend cheese"
          ],
          [
           "frangelico"
          ],
          [
           "frank"
          ],
          [
           "frank's red hot sauce"
          ],
          [
           "frankfurter"
          ],
          [
           "free-range egg"
          ],
          [
           "french baguette"
          ],
          [
           "french bean"
          ],
          [
           "french bread"
          ],
          [
           "french bread cube"
          ],
          [
           "french bread dough"
          ],
          [
           "french fried onion ring"
          ],
          [
           "french fry"
          ],
          [
           "french haricots vert"
          ],
          [
           "french lentil"
          ],
          [
           "french mustard"
          ],
          [
           "french onion dip"
          ],
          [
           "french onion soup"
          ],
          [
           "french onion soup mix"
          ],
          [
           "french roll"
          ],
          [
           "french vanilla coffee creamer"
          ],
          [
           "french vanilla ice cream"
          ],
          [
           "french vanilla instant pudding"
          ],
          [
           "french's french fried onion"
          ],
          [
           "french-fried onion"
          ],
          [
           "fresh apricot"
          ],
          [
           "fresh asparagu"
          ],
          [
           "fresh basil"
          ],
          [
           "fresh basil leaf"
          ],
          [
           "fresh bay leaf"
          ],
          [
           "fresh bean sprout"
          ],
          [
           "fresh black pepper"
          ],
          [
           "fresh blackberry"
          ],
          [
           "fresh blueberry"
          ],
          [
           "fresh breadcrumb"
          ],
          [
           "fresh broccoli"
          ],
          [
           "fresh broccoli floret"
          ],
          [
           "fresh brussels sprout"
          ],
          [
           "fresh button mushroom"
          ],
          [
           "fresh carrot"
          ],
          [
           "fresh cherry"
          ],
          [
           "fresh chervil"
          ],
          [
           "fresh chili pepper"
          ],
          [
           "fresh chive"
          ],
          [
           "fresh cilantro"
          ],
          [
           "fresh cilantro leaf"
          ],
          [
           "fresh cilantro stem"
          ],
          [
           "fresh coarse ground black pepper"
          ],
          [
           "fresh coconut"
          ],
          [
           "fresh coriander"
          ],
          [
           "fresh coriander leaf"
          ],
          [
           "fresh corn"
          ],
          [
           "fresh corn kernel"
          ],
          [
           "fresh crabmeat"
          ],
          [
           "fresh cracked pepper"
          ],
          [
           "fresh cranberry"
          ],
          [
           "fresh cream"
          ],
          [
           "fresh curly-leaf parsley"
          ],
          [
           "fresh dill"
          ],
          [
           "fresh dill leaf"
          ],
          [
           "fresh dill sprig"
          ],
          [
           "fresh dill weed"
          ],
          [
           "fresh edible flower"
          ],
          [
           "fresh fettuccine"
          ],
          [
           "fresh fig"
          ],
          [
           "fresh flat-leaf parsley"
          ],
          [
           "fresh fruit"
          ],
          [
           "fresh garlic"
          ],
          [
           "fresh garlic clove"
          ],
          [
           "fresh ginger"
          ],
          [
           "fresh gingerroot"
          ],
          [
           "fresh goat cheese"
          ],
          [
           "fresh green bean"
          ],
          [
           "fresh green chily"
          ],
          [
           "fresh ground black pepper"
          ],
          [
           "fresh ground pepper"
          ],
          [
           "fresh ground white pepper"
          ],
          [
           "fresh herb"
          ],
          [
           "fresh horseradish"
          ],
          [
           "fresh italian parsley"
          ],
          [
           "fresh jalapeno"
          ],
          [
           "fresh jalapeno pepper"
          ],
          [
           "fresh kale"
          ],
          [
           "fresh large mushroom"
          ],
          [
           "fresh lemon"
          ],
          [
           "fresh lemon juice"
          ],
          [
           "fresh lemon rind"
          ],
          [
           "fresh lemon zest"
          ],
          [
           "fresh lemongras"
          ],
          [
           "fresh lime juice"
          ],
          [
           "fresh lime leaf"
          ],
          [
           "fresh linguine"
          ],
          [
           "fresh lump crabmeat"
          ],
          [
           "fresh mango"
          ],
          [
           "fresh marjoram"
          ],
          [
           "fresh mint leaf"
          ],
          [
           "fresh mushroom"
          ],
          [
           "fresh mussel"
          ],
          [
           "fresh nutmeg"
          ],
          [
           "fresh okra"
          ],
          [
           "fresh onion"
          ],
          [
           "fresh orange juice"
          ],
          [
           "fresh oregano"
          ],
          [
           "fresh parmesan cheese"
          ],
          [
           "fresh parsley"
          ],
          [
           "fresh parsley leaf"
          ],
          [
           "fresh parsley sprig"
          ],
          [
           "fresh pea"
          ],
          [
           "fresh peach"
          ],
          [
           "fresh pear"
          ],
          [
           "fresh pepper"
          ],
          [
           "fresh pineapple"
          ],
          [
           "fresh pineapple chunk"
          ],
          [
           "fresh portabella mushroom"
          ],
          [
           "fresh pumpkin"
          ],
          [
           "fresh pumpkin puree"
          ],
          [
           "fresh raspberry"
          ],
          [
           "fresh rhubarb"
          ],
          [
           "fresh ricottum"
          ],
          [
           "fresh rosemary"
          ],
          [
           "fresh rosemary leaf"
          ],
          [
           "fresh sage"
          ],
          [
           "fresh sage leaf"
          ],
          [
           "fresh salmon"
          ],
          [
           "fresh savory"
          ],
          [
           "fresh scallop"
          ],
          [
           "fresh sea scallop"
          ],
          [
           "fresh shiitake mushroom"
          ],
          [
           "fresh shrimp"
          ],
          [
           "fresh snow pea"
          ],
          [
           "fresh spearmint"
          ],
          [
           "fresh spinach"
          ],
          [
           "fresh spinach leaf"
          ],
          [
           "fresh strawberry"
          ],
          [
           "fresh tarragon"
          ],
          [
           "fresh tarragon leaf"
          ],
          [
           "fresh thyme"
          ],
          [
           "fresh thyme leaf"
          ],
          [
           "fresh thyme leave"
          ],
          [
           "fresh thyme sprig"
          ],
          [
           "fresh tomato"
          ],
          [
           "fresh white breadcrumb"
          ],
          [
           "fresh white mushroom"
          ],
          [
           "fresh zucchini"
          ],
          [
           "fried chinese noodle"
          ],
          [
           "fried onion"
          ],
          [
           "frisee"
          ],
          [
           "frito corn chip"
          ],
          [
           "fritos corn chip"
          ],
          [
           "frosted flake"
          ],
          [
           "frosting"
          ],
          [
           "frozen apple juice concentrate"
          ],
          [
           "frozen artichoke heart"
          ],
          [
           "frozen asparagus cut"
          ],
          [
           "frozen baby lima bean"
          ],
          [
           "frozen baby pea"
          ],
          [
           "frozen blackberrie"
          ],
          [
           "frozen blackberry"
          ],
          [
           "frozen blueberry"
          ],
          [
           "frozen bread dough"
          ],
          [
           "frozen broccoli"
          ],
          [
           "frozen broccoli carrots cauliflower mix"
          ],
          [
           "frozen broccoli cut"
          ],
          [
           "frozen broccoli floret"
          ],
          [
           "frozen broccoli spear"
          ],
          [
           "frozen brussels sprout"
          ],
          [
           "frozen carrot"
          ],
          [
           "frozen cauliflower"
          ],
          [
           "frozen cheese ravioli"
          ],
          [
           "frozen cheese tortellini"
          ],
          [
           "frozen cherry"
          ],
          [
           "frozen chopped broccoli"
          ],
          [
           "frozen chopped onion"
          ],
          [
           "frozen chopped spinach"
          ],
          [
           "frozen concentrated lemonade"
          ],
          [
           "frozen concentrated orange juice"
          ],
          [
           "frozen cooked shrimp"
          ],
          [
           "frozen corn"
          ],
          [
           "frozen corn kernel"
          ],
          [
           "frozen crabmeat"
          ],
          [
           "frozen cranberry"
          ],
          [
           "frozen cranberry juice concentrate"
          ],
          [
           "frozen creamed spinach"
          ],
          [
           "frozen cubed hash brown potato"
          ],
          [
           "frozen cut broccoli in cheese sauce"
          ],
          [
           "frozen cut green bean"
          ],
          [
           "frozen cut okra"
          ],
          [
           "frozen dark sweet cherry"
          ],
          [
           "frozen deep dish pie shell"
          ],
          [
           "frozen dinner roll"
          ],
          [
           "frozen dough roll"
          ],
          [
           "frozen edamame"
          ],
          [
           "frozen english pea"
          ],
          [
           "frozen french fry"
          ],
          [
           "frozen french-cut green bean"
          ],
          [
           "frozen fruit"
          ],
          [
           "frozen green bean"
          ],
          [
           "frozen green pea"
          ],
          [
           "frozen hash brown"
          ],
          [
           "frozen hash brown potato"
          ],
          [
           "frozen italian cut green bean"
          ],
          [
           "frozen lemonade"
          ],
          [
           "frozen lemonade concentrate"
          ],
          [
           "frozen light whipped dessert topping"
          ],
          [
           "frozen lima bean"
          ],
          [
           "frozen limeade concentrate"
          ],
          [
           "frozen mango chunk"
          ],
          [
           "frozen mixed berry"
          ],
          [
           "frozen mixed vegetable"
          ],
          [
           "frozen non-dairy topping"
          ],
          [
           "frozen okra"
          ],
          [
           "frozen orange juice"
          ],
          [
           "frozen orange juice concentrate"
          ],
          [
           "frozen pea"
          ],
          [
           "frozen pea pod"
          ],
          [
           "frozen peach"
          ],
          [
           "frozen pearl onion"
          ],
          [
           "frozen peas and carrot"
          ],
          [
           "frozen peppers and onion"
          ],
          [
           "frozen pie crust"
          ],
          [
           "frozen pineapple concentrate"
          ],
          [
           "frozen pink lemonade concentrate"
          ],
          [
           "frozen pound cake"
          ],
          [
           "frozen puff pastry"
          ],
          [
           "frozen raspberries in light syrup"
          ],
          [
           "frozen raspberry"
          ],
          [
           "frozen rhubarb"
          ],
          [
           "frozen shredded hash brown"
          ],
          [
           "frozen shrimp"
          ],
          [
           "frozen sliced peach"
          ],
          [
           "frozen sliced strawberries in syrup"
          ],
          [
           "frozen sliced strawberry"
          ],
          [
           "frozen spinach"
          ],
          [
           "frozen strawberry"
          ],
          [
           "frozen sugar snap pea"
          ],
          [
           "frozen sweet corn"
          ],
          [
           "frozen sweet pea"
          ],
          [
           "frozen sweetened strawberry"
          ],
          [
           "frozen tart shell"
          ],
          [
           "frozen tater tot"
          ],
          [
           "frozen tiny pea"
          ],
          [
           "frozen unsweetened raspberry"
          ],
          [
           "frozen unsweetened strawberry"
          ],
          [
           "frozen vegetable"
          ],
          [
           "frozen waffle"
          ],
          [
           "frozen whipped topping"
          ],
          [
           "frozen white bread dough"
          ],
          [
           "frozen white corn"
          ],
          [
           "frozen whole kernel corn"
          ],
          [
           "frozen whole strawberry"
          ],
          [
           "frozen yogurt"
          ],
          [
           "fruit"
          ],
          [
           "fruit chutney"
          ],
          [
           "fruit cocktail"
          ],
          [
           "fruit filling"
          ],
          [
           "fruit jam"
          ],
          [
           "fruit juice"
          ],
          [
           "fruit pectin"
          ],
          [
           "fruit preserve"
          ],
          [
           "fryer"
          ],
          [
           "fryer chicken"
          ],
          [
           "frying chicken"
          ],
          [
           "frying oil"
          ],
          [
           "fudge brownie mix"
          ],
          [
           "fudge sauce"
          ],
          [
           "fuji apple"
          ],
          [
           "full-fat milk"
          ],
          [
           "fusilli"
          ],
          [
           "gai lan"
          ],
          [
           "gala apple"
          ],
          [
           "galangal"
          ],
          [
           "galliano"
          ],
          [
           "garam masala"
          ],
          [
           "garam masala powder"
          ],
          [
           "garbanzo bean"
          ],
          [
           "garbanzo flmy"
          ],
          [
           "garlic"
          ],
          [
           "garlic & herb cheese"
          ],
          [
           "garlic and herb seasoning"
          ],
          [
           "garlic bread"
          ],
          [
           "garlic butter"
          ],
          [
           "garlic chive"
          ],
          [
           "garlic clove"
          ],
          [
           "garlic crouton"
          ],
          [
           "garlic flake"
          ],
          [
           "garlic granule"
          ],
          [
           "garlic head"
          ],
          [
           "garlic juice"
          ],
          [
           "garlic oil"
          ],
          [
           "garlic paste"
          ],
          [
           "garlic pepper seasoning"
          ],
          [
           "garlic powder"
          ],
          [
           "garlic salt"
          ],
          [
           "garlic sauce"
          ],
          [
           "garlic scape"
          ],
          [
           "garlic seasoning"
          ],
          [
           "gelatin"
          ],
          [
           "gelatin powder"
          ],
          [
           "gemelli pastum"
          ],
          [
           "genoa salami"
          ],
          [
           "german chocolate"
          ],
          [
           "german mustard"
          ],
          [
           "german sweet chocolate"
          ],
          [
           "ghee"
          ],
          [
           "gherkin"
          ],
          [
           "giardiniera"
          ],
          [
           "gin"
          ],
          [
           "ginger"
          ],
          [
           "ginger ale"
          ],
          [
           "ginger beer"
          ],
          [
           "ginger juice"
          ],
          [
           "ginger paste"
          ],
          [
           "ginger powder"
          ],
          [
           "ginger snap"
          ],
          [
           "ginger-garlic paste"
          ],
          [
           "gingerroot"
          ],
          [
           "gingersnap"
          ],
          [
           "gingersnap cookie"
          ],
          [
           "gingersnap cookies"
          ],
          [
           "gingersnap crumb"
          ],
          [
           "glace cherry"
          ],
          [
           "glaze"
          ],
          [
           "gluten"
          ],
          [
           "gluten flmy"
          ],
          [
           "glutinous rice"
          ],
          [
           "glutinous-rice flmy"
          ],
          [
           "gnocchi"
          ],
          [
           "goat cheese"
          ],
          [
           "goat's cheese"
          ],
          [
           "goji berry"
          ],
          [
           "gold medal all-purpose flmy"
          ],
          [
           "gold tequila"
          ],
          [
           "golden brown sugar"
          ],
          [
           "golden caster sugar"
          ],
          [
           "golden delicious apple"
          ],
          [
           "golden grahams cereal"
          ],
          [
           "golden mushroom soup"
          ],
          [
           "golden raisin"
          ],
          [
           "golden seedless raisin"
          ],
          [
           "golden syrup"
          ],
          [
           "goldfish cracker"
          ],
          [
           "gooseberry"
          ],
          [
           "gorgonzola"
          ],
          [
           "gouda cheese"
          ],
          [
           "graham cracker"
          ],
          [
           "graham cracker crumb"
          ],
          [
           "graham cracker crumb crust"
          ],
          [
           "graham cracker crust"
          ],
          [
           "graham cracker pie crust"
          ],
          [
           "graham cracker square"
          ],
          [
           "graham flmy"
          ],
          [
           "graham wafer"
          ],
          [
           "graham wafer crumb"
          ],
          [
           "grainy mustard"
          ],
          [
           "gram flmy"
          ],
          [
           "grand marnier"
          ],
          [
           "grands refrigerated buttermilk biscuit"
          ],
          [
           "granny smith apple"
          ],
          [
           "granola"
          ],
          [
           "granola cereal"
          ],
          [
           "granulated garlic"
          ],
          [
           "granulated onion"
          ],
          [
           "granulated sugar"
          ],
          [
           "grape"
          ],
          [
           "grape jelly"
          ],
          [
           "grape juice"
          ],
          [
           "grape leaf"
          ],
          [
           "grape tomato"
          ],
          [
           "grape-nuts cereal"
          ],
          [
           "grapefruit"
          ],
          [
           "grapefruit juice"
          ],
          [
           "grapefruit zest"
          ],
          [
           "grapeseed oil"
          ],
          [
           "grated parmesan cheese"
          ],
          [
           "gravy"
          ],
          [
           "gravy mix"
          ],
          [
           "great northern bean"
          ],
          [
           "greek feta cheese"
          ],
          [
           "greek olife"
          ],
          [
           "greek olive"
          ],
          [
           "greek oregano"
          ],
          [
           "greek seasoning"
          ],
          [
           "greek yogurt"
          ],
          [
           "green"
          ],
          [
           "green apple"
          ],
          [
           "green asparagu"
          ],
          [
           "green bean"
          ],
          [
           "green bell pepper"
          ],
          [
           "green cabbage"
          ],
          [
           "green capsicum"
          ],
          [
           "green cardamom"
          ],
          [
           "green cardamom pod"
          ],
          [
           "green chili"
          ],
          [
           "green chili pepper"
          ],
          [
           "green chili salsa"
          ],
          [
           "green chily"
          ],
          [
           "green coriander"
          ],
          [
           "green creme de menthe"
          ],
          [
           "green curry paste"
          ],
          [
           "green enchilada sauce"
          ],
          [
           "green food coloring"
          ],
          [
           "green glazed cherry"
          ],
          [
           "green grape"
          ],
          [
           "green lentil"
          ],
          [
           "green mango"
          ],
          [
           "green olife"
          ],
          [
           "green olives in brine"
          ],
          [
           "green pea"
          ],
          [
           "green pepper"
          ],
          [
           "green pepper ring"
          ],
          [
           "green pepper strip"
          ],
          [
           "green peppercorn"
          ],
          [
           "green plantain"
          ],
          [
           "green seedless grape"
          ],
          [
           "green sweet pepper"
          ],
          [
           "green tea"
          ],
          [
           "green tea bag"
          ],
          [
           "green tea leaf"
          ],
          [
           "green tea powder"
          ],
          [
           "green tomato"
          ],
          [
           "green zucchini"
          ],
          [
           "grenadine"
          ],
          [
           "grey poupon dijon mustard"
          ],
          [
           "grey poupon mustard"
          ],
          [
           "grilled chicken"
          ],
          [
           "grilled chicken breast"
          ],
          [
           "grilled chicken breast strip"
          ],
          [
           "grit"
          ],
          [
           "ground allspice"
          ],
          [
           "ground almond"
          ],
          [
           "ground ancho chili pepper"
          ],
          [
           "ground aniseed"
          ],
          [
           "ground basil"
          ],
          [
           "ground beef"
          ],
          [
           "ground beef round"
          ],
          [
           "ground black pepper"
          ],
          [
           "ground buffalo meat"
          ],
          [
           "ground caraway"
          ],
          [
           "ground cardamom"
          ],
          [
           "ground cayenne pepper"
          ],
          [
           "ground celery seed"
          ],
          [
           "ground chicken"
          ],
          [
           "ground chicken breast"
          ],
          [
           "ground chuck"
          ],
          [
           "ground cinnamon"
          ],
          [
           "ground clove"
          ],
          [
           "ground coffee"
          ],
          [
           "ground coriander"
          ],
          [
           "ground cumin"
          ],
          [
           "ground deer meat"
          ],
          [
           "ground fennel"
          ],
          [
           "ground fenugreek"
          ],
          [
           "ground flax seed"
          ],
          [
           "ground ginger"
          ],
          [
           "ground ham"
          ],
          [
           "ground hazelnut"
          ],
          [
           "ground lamb"
          ],
          [
           "ground lean pork"
          ],
          [
           "ground mace"
          ],
          [
           "ground marjoram"
          ],
          [
           "ground meat"
          ],
          [
           "ground mixed spice"
          ],
          [
           "ground mustard"
          ],
          [
           "ground nut"
          ],
          [
           "ground nutmeg"
          ],
          [
           "ground oregano"
          ],
          [
           "ground paprika"
          ],
          [
           "ground pecan"
          ],
          [
           "ground pepper"
          ],
          [
           "ground pork"
          ],
          [
           "ground red chili pepper"
          ],
          [
           "ground red pepper"
          ],
          [
           "ground rosemary"
          ],
          [
           "ground round"
          ],
          [
           "ground sage"
          ],
          [
           "ground sirloin"
          ],
          [
           "ground sumac"
          ],
          [
           "ground thyme"
          ],
          [
           "ground turkey"
          ],
          [
           "ground turkey breast"
          ],
          [
           "ground turmeric"
          ],
          [
           "ground veal"
          ],
          [
           "ground venison"
          ],
          [
           "ground walnut"
          ],
          [
           "grouper"
          ],
          [
           "grouper fillet"
          ],
          [
           "gruyere"
          ],
          [
           "gruyere cheese"
          ],
          [
           "guacamole"
          ],
          [
           "guar gum"
          ],
          [
           "guava"
          ],
          [
           "guava juice"
          ],
          [
           "guava nectar"
          ],
          [
           "guinness stout"
          ],
          [
           "gumdrop"
          ],
          [
           "gummy worm"
          ],
          [
           "habanero"
          ],
          [
           "habanero pepper"
          ],
          [
           "habanero sauce"
          ],
          [
           "haddock"
          ],
          [
           "haddock fillet"
          ],
          [
           "half & half light cream"
          ],
          [
           "half and half milk"
          ],
          [
           "half-and-half"
          ],
          [
           "half-and-half cream"
          ],
          [
           "halibut"
          ],
          [
           "halibut fillet"
          ],
          [
           "halibut steak"
          ],
          [
           "halloumi cheese"
          ],
          [
           "ham"
          ],
          [
           "ham bone"
          ],
          [
           "ham hock"
          ],
          [
           "ham slice"
          ],
          [
           "ham steak"
          ],
          [
           "ham stock"
          ],
          [
           "hamburger"
          ],
          [
           "hamburger bun"
          ],
          [
           "hamburger meat"
          ],
          [
           "hamburger patty"
          ],
          [
           "hard alcoholic cider"
          ],
          [
           "hard cheese"
          ],
          [
           "hard roll"
          ],
          [
           "hard salami"
          ],
          [
           "hard-boiled egg"
          ],
          [
           "hard-cooked egg"
          ],
          [
           "hardboiled egg"
          ],
          [
           "harissa"
          ],
          [
           "hash brown"
          ],
          [
           "hash brown patty"
          ],
          [
           "hash brown potato"
          ],
          [
           "hass avocado"
          ],
          [
           "havarti cheese"
          ],
          [
           "hawaiian bread"
          ],
          [
           "hawaiian roll"
          ],
          [
           "hazelnut"
          ],
          [
           "hazelnut liqueur"
          ],
          [
           "hazelnut oil"
          ],
          [
           "hazelnut syrup"
          ],
          [
           "head broccoli"
          ],
          [
           "head cauliflower"
          ],
          [
           "head of broccoli"
          ],
          [
           "head of cabbage"
          ],
          [
           "head of garlic"
          ],
          [
           "heads of garlic"
          ],
          [
           "hearts of palm"
          ],
          [
           "heavy cream"
          ],
          [
           "heavy whipping cream"
          ],
          [
           "heirloom tomato"
          ],
          [
           "hemp seed"
          ],
          [
           "herb"
          ],
          [
           "herb seasoned stuffing mix"
          ],
          [
           "herb stuffing"
          ],
          [
           "herb stuffing mix"
          ],
          [
           "herb-seasoned stuffing cube"
          ],
          [
           "herbed crouton"
          ],
          [
           "herbed goat cheese"
          ],
          [
           "herbes de provence"
          ],
          [
           "herring fillet"
          ],
          [
           "hickory barbecue sauce"
          ],
          [
           "hickory chip"
          ],
          [
           "hickory liquid smoke"
          ],
          [
           "hickory smoke salt"
          ],
          [
           "hickory smoked bacon"
          ],
          [
           "hing"
          ],
          [
           "hoagie roll"
          ],
          [
           "hoisin sauce"
          ],
          [
           "hokkien noodle"
          ],
          [
           "hollandaise sauce"
          ],
          [
           "hollandaise sauce mix"
          ],
          [
           "hominy"
          ],
          [
           "homogenized milk"
          ],
          [
           "honey"
          ],
          [
           "honey bunches of oats cereal"
          ],
          [
           "honey dijon mustard"
          ],
          [
           "honey graham cracker"
          ],
          [
           "honey mustard"
          ],
          [
           "honey roasted peanut"
          ],
          [
           "honey-roasted ham"
          ],
          [
           "honey-roasted peanut"
          ],
          [
           "honeydew"
          ],
          [
           "honeydew melon"
          ],
          [
           "hormel real bacon bit"
          ],
          [
           "horseradish"
          ],
          [
           "horseradish cream"
          ],
          [
           "horseradish mustard"
          ],
          [
           "horseradish sauce"
          ],
          [
           "hostess twinky"
          ],
          [
           "hot banana pepper"
          ],
          [
           "hot chicken stock"
          ],
          [
           "hot chili bean"
          ],
          [
           "hot chili flake"
          ],
          [
           "hot chili oil"
          ],
          [
           "hot chili paste"
          ],
          [
           "hot chili pepper"
          ],
          [
           "hot chili powder"
          ],
          [
           "hot chocolate powder"
          ],
          [
           "hot cocoa"
          ],
          [
           "hot cocoa mix"
          ],
          [
           "hot coffee"
          ],
          [
           "hot dog"
          ],
          [
           "hot dog bun"
          ],
          [
           "hot fudge"
          ],
          [
           "hot fudge topping"
          ],
          [
           "hot green chili pepper"
          ],
          [
           "hot green pepper"
          ],
          [
           "hot mustard"
          ],
          [
           "hot paprika"
          ],
          [
           "hot pepper"
          ],
          [
           "hot pepper flake"
          ],
          [
           "hot pepper jelly"
          ],
          [
           "hot pepper sauce"
          ],
          [
           "hot red chili pepper"
          ],
          [
           "hot red pepper"
          ],
          [
           "hot red pepper flake"
          ],
          [
           "hot red pepper sauce"
          ],
          [
           "hot roll mix"
          ],
          [
           "hot salsa"
          ],
          [
           "hot sauce"
          ],
          [
           "hot smoked paprika"
          ],
          [
           "hot water"
          ],
          [
           "huckleberry"
          ],
          [
           "hummu"
          ],
          [
           "hungarian paprika"
          ],
          [
           "ice"
          ],
          [
           "ice cream"
          ],
          [
           "ice cream cone"
          ],
          [
           "ice cream sandwich"
          ],
          [
           "ice cube"
          ],
          [
           "ice water"
          ],
          [
           "icing"
          ],
          [
           "icing sugar"
          ],
          [
           "idaho potato"
          ],
          [
           "imitation bacon bit"
          ],
          [
           "imitation crabmeat"
          ],
          [
           "instant banana pudding mix"
          ],
          [
           "instant beef bouillon"
          ],
          [
           "instant bouillon granule"
          ],
          [
           "instant brown rice"
          ],
          [
           "instant butterscotch pudding mix"
          ],
          [
           "instant cheesecake pudding mix"
          ],
          [
           "instant chicken bouillon"
          ],
          [
           "instant chicken bouillon granule"
          ],
          [
           "instant chocolate drink mix"
          ],
          [
           "instant chocolate pudding mix"
          ],
          [
           "instant coconut cream pudding mix"
          ],
          [
           "instant coffee"
          ],
          [
           "instant coffee crystal"
          ],
          [
           "instant coffee granule"
          ],
          [
           "instant coffee powder"
          ],
          [
           "instant couscou"
          ],
          [
           "instant dry milk powder"
          ],
          [
           "instant espresso"
          ],
          [
           "instant espresso coffee powder"
          ],
          [
           "instant espresso powder"
          ],
          [
           "instant lemon pudding"
          ],
          [
           "instant lemon pudding mix"
          ],
          [
           "instant malted milk powder"
          ],
          [
           "instant mashed potato"
          ],
          [
           "instant milk"
          ],
          [
           "instant minced garlic"
          ],
          [
           "instant minced onion"
          ],
          [
           "instant oat"
          ],
          [
           "instant oatmeal"
          ],
          [
           "instant pistachio pudding mix"
          ],
          [
           "instant polentum"
          ],
          [
           "instant potato flake"
          ],
          [
           "instant pudding mix"
          ],
          [
           "instant rice"
          ],
          [
           "instant tea"
          ],
          [
           "instant tea powder"
          ],
          [
           "instant vanilla pudding"
          ],
          [
           "instant vanilla pudding and pie filling"
          ],
          [
           "instant vanilla pudding mix"
          ],
          [
           "instant white chocolate pudding and pie filling mix"
          ],
          [
           "irish cream"
          ],
          [
           "irish whiskey"
          ],
          [
           "israeli couscou"
          ],
          [
           "italian bread"
          ],
          [
           "italian breadcrumb"
          ],
          [
           "italian cheese"
          ],
          [
           "italian cheese blend"
          ],
          [
           "italian herb seasoning"
          ],
          [
           "italian parsley"
          ],
          [
           "italian plum"
          ],
          [
           "italian plum tomato"
          ],
          [
           "italian roll"
          ],
          [
           "italian seasoned breadcrumb"
          ],
          [
           "italian seasoning"
          ],
          [
           "italian spice"
          ],
          [
           "italian stewed tomato"
          ],
          [
           "italian tomato"
          ],
          [
           "jack daniels whiskey"
          ],
          [
           "jaggery"
          ],
          [
           "jalapeno"
          ],
          [
           "jalapeno jack cheese"
          ],
          [
           "jalapeno jelly"
          ],
          [
           "jalapeno juice"
          ],
          [
           "jalapeno pepper"
          ],
          [
           "jalapeno pepper cheese"
          ],
          [
           "jam"
          ],
          [
           "jamaican jerk spice"
          ],
          [
           "japanese eggplant"
          ],
          [
           "jar"
          ],
          [
           "jarlsberg cheese"
          ],
          [
           "jasmine rice"
          ],
          [
           "jeera powder"
          ],
          [
           "jell-o chocolate pudding and pie filling"
          ],
          [
           "jellied cranberry sauce"
          ],
          [
           "jello"
          ],
          [
           "jello gelatin"
          ],
          [
           "jello instant vanilla pudding mix"
          ],
          [
           "jelly"
          ],
          [
           "jelly bean"
          ],
          [
           "jerusalem artichoke"
          ],
          [
           "jicama"
          ],
          [
           "jiffy corn muffin mix"
          ],
          [
           "juice"
          ],
          [
           "jumbo egg"
          ],
          [
           "jumbo pasta shell"
          ],
          [
           "jumbo shrimp"
          ],
          [
           "juniper berry"
          ],
          [
           "k cereal"
          ],
          [
           "kabocha squash"
          ],
          [
           "kaffir lime leaf"
          ],
          [
           "kahlua"
          ],
          [
           "kaiser roll"
          ],
          [
           "kalamata olife"
          ],
          [
           "kalamata olive"
          ],
          [
           "kale"
          ],
          [
           "kale leaf"
          ],
          [
           "karo light corn syrup"
          ],
          [
           "karo syrup"
          ],
          [
           "kasseri cheese"
          ],
          [
           "kernel corn"
          ],
          [
           "ketchup"
          ],
          [
           "ketjap mani"
          ],
          [
           "key lime"
          ],
          [
           "key lime juice"
          ],
          [
           "key lime zest"
          ],
          [
           "kidney bean"
          ],
          [
           "kielbasa"
          ],
          [
           "king prawn"
          ],
          [
           "kirby cucumber"
          ],
          [
           "kirsch"
          ],
          [
           "kitchen bouquet"
          ],
          [
           "kiwi"
          ],
          [
           "kiwi fruit"
          ],
          [
           "kohlrabi"
          ],
          [
           "kool-aid"
          ],
          [
           "kosher salt"
          ],
          [
           "kosher salt & ground black pepper"
          ],
          [
           "kumara"
          ],
          [
           "kumquat"
          ],
          [
           "ladyfinger"
          ],
          [
           "lager beer"
          ],
          [
           "lamb"
          ],
          [
           "lamb chop"
          ],
          [
           "lamb cutlet"
          ],
          [
           "lamb fillet"
          ],
          [
           "lamb loin chop"
          ],
          [
           "lamb rib chop"
          ],
          [
           "lamb shank"
          ],
          [
           "lamb shoulder"
          ],
          [
           "lamb steak"
          ],
          [
           "lamb stew meat"
          ],
          [
           "lamb stock"
          ],
          [
           "lard"
          ],
          [
           "lardon"
          ],
          [
           "large egg"
          ],
          [
           "large egg yolk"
          ],
          [
           "large marshmallow"
          ],
          [
           "large refrigerated biscuit"
          ],
          [
           "large scallop"
          ],
          [
           "large shrimp"
          ],
          [
           "lasagna noodle"
          ],
          [
           "lasagna sheet"
          ],
          [
           "laughing cow cheese"
          ],
          [
           "laughing cow light swiss cheese"
          ],
          [
           "lavash bread"
          ],
          [
           "lavender"
          ],
          [
           "lavender flower"
          ],
          [
           "lawry's seasoned salt"
          ],
          [
           "leafy green"
          ],
          [
           "lean bacon"
          ],
          [
           "lean beef"
          ],
          [
           "lean flank steak"
          ],
          [
           "lean ground beef"
          ],
          [
           "lean ground chicken"
          ],
          [
           "lean ground chuck"
          ],
          [
           "lean ground lamb"
          ],
          [
           "lean ground meat"
          ],
          [
           "lean ground sirloin"
          ],
          [
           "lean ground turkey"
          ],
          [
           "lean ham"
          ],
          [
           "lean hamburger"
          ],
          [
           "lean lamb"
          ],
          [
           "lean pork"
          ],
          [
           "lean pork chop"
          ],
          [
           "lean pork loin"
          ],
          [
           "lean round steak"
          ],
          [
           "lean sirloin steak"
          ],
          [
           "lean stewing beef"
          ],
          [
           "lebanese cucumber"
          ],
          [
           "leek"
          ],
          [
           "leek soup mix"
          ],
          [
           "leg of lamb"
          ],
          [
           "lemon"
          ],
          [
           "lemon & herb seasoning"
          ],
          [
           "lemon balm"
          ],
          [
           "lemon curd"
          ],
          [
           "lemon extract"
          ],
          [
           "lemon gelatin"
          ],
          [
           "lemon instant pudding and pie filling"
          ],
          [
           "lemon jell-o gelatin"
          ],
          [
           "lemon juice"
          ],
          [
           "lemon juice concentrate"
          ],
          [
           "lemon peel"
          ],
          [
           "lemon pepper"
          ],
          [
           "lemon pepper seasoning"
          ],
          [
           "lemon pie filling"
          ],
          [
           "lemon pudding mix"
          ],
          [
           "lemon rind"
          ],
          [
           "lemon slice"
          ],
          [
           "lemon slouse"
          ],
          [
           "lemon sorbet"
          ],
          [
           "lemon thyme"
          ],
          [
           "lemon twist"
          ],
          [
           "lemon verbena leaf"
          ],
          [
           "lemon vodka"
          ],
          [
           "lemon wedge"
          ],
          [
           "lemon yogurt"
          ],
          [
           "lemon zest"
          ],
          [
           "lemon, juice and rind of"
          ],
          [
           "lemon, juice and zest of"
          ],
          [
           "lemon, juice of"
          ],
          [
           "lemon, rind of"
          ],
          [
           "lemon, zest of"
          ],
          [
           "lemon-pepper seasoning"
          ],
          [
           "lemonade"
          ],
          [
           "lemonade concentrate"
          ],
          [
           "lemonade drink mix"
          ],
          [
           "lemonade mix"
          ],
          [
           "lemongras"
          ],
          [
           "lemoning"
          ],
          [
           "lemons, juice and zest of"
          ],
          [
           "lemons, juice of"
          ],
          [
           "lemons, rind of"
          ],
          [
           "lemons, zest of"
          ],
          [
           "lentil"
          ],
          [
           "lettuce"
          ],
          [
           "libby's canned pumpkin"
          ],
          [
           "licorice"
          ],
          [
           "light beer"
          ],
          [
           "light bread"
          ],
          [
           "light brown sugar"
          ],
          [
           "light butter"
          ],
          [
           "light cheese"
          ],
          [
           "light chunk tuna in water"
          ],
          [
           "light coconut milk"
          ],
          [
           "light corn syrup"
          ],
          [
           "light cream"
          ],
          [
           "light karo syrup"
          ],
          [
           "light maple syrup"
          ],
          [
           "light margarine"
          ],
          [
           "light miso"
          ],
          [
           "light molass"
          ],
          [
           "light muscovado sugar"
          ],
          [
           "light oil"
          ],
          [
           "light raisin"
          ],
          [
           "light ricotta cheese"
          ],
          [
           "light sesame oil"
          ],
          [
           "light sour cream"
          ],
          [
           "light soya sauce"
          ],
          [
           "light vanilla soymilk"
          ],
          [
           "light vegetable oil"
          ],
          [
           "light whipped topping"
          ],
          [
           "light-brown sugar"
          ],
          [
           "lightly-salted butter"
          ],
          [
           "lima bean"
          ],
          [
           "lime"
          ],
          [
           "lime gelatin"
          ],
          [
           "lime jell-o gelatin"
          ],
          [
           "lime juice"
          ],
          [
           "lime peel"
          ],
          [
           "lime rind"
          ],
          [
           "lime sherbet"
          ],
          [
           "lime slice"
          ],
          [
           "lime slouse"
          ],
          [
           "lime wedge"
          ],
          [
           "lime zest"
          ],
          [
           "lime, juice and zest of"
          ],
          [
           "lime, juice of"
          ],
          [
           "lime, zest of"
          ],
          [
           "limeade"
          ],
          [
           "limes, juice and zest of"
          ],
          [
           "limes, juice of"
          ],
          [
           "limes, zest of"
          ],
          [
           "limoncello"
          ],
          [
           "lingonberry"
          ],
          [
           "linguine"
          ],
          [
           "liqueur"
          ],
          [
           "liquid"
          ],
          [
           "liquid egg product"
          ],
          [
           "liquid egg substitute"
          ],
          [
           "liquid fruit pectin"
          ],
          [
           "liquid honey"
          ],
          [
           "liquid hot pepper sauce"
          ],
          [
           "liquid pectin"
          ],
          [
           "liquid smoke"
          ],
          [
           "liquid smokeing"
          ],
          [
           "liquid stevium"
          ],
          [
           "liquor"
          ],
          [
           "littleneck clam"
          ],
          [
           "liver"
          ],
          [
           "lo mein noodle"
          ],
          [
           "lobster"
          ],
          [
           "lobster meat"
          ],
          [
           "lobster tail"
          ],
          [
           "lollipop stick"
          ],
          [
           "london broil beef"
          ],
          [
           "long bean"
          ],
          [
           "long grain and wild rice blend"
          ],
          [
           "long grain brown rice"
          ],
          [
           "long grain rice"
          ],
          [
           "long grain white rice"
          ],
          [
           "long-grain rice"
          ],
          [
           "long-grain white rice"
          ],
          [
           "longhorn cheese"
          ],
          [
           "louisiana hot sauce"
          ],
          [
           "lovage"
          ],
          [
           "lox"
          ],
          [
           "lump crabmeat"
          ],
          [
           "lumpia skin"
          ],
          [
           "lychee"
          ],
          [
           "m&m'"
          ],
          [
           "macadamia"
          ],
          [
           "macadamia nut"
          ],
          [
           "macadamia nut oil"
          ],
          [
           "macaroni"
          ],
          [
           "macaroni & cheese dinner mix"
          ],
          [
           "macaroni and cheese"
          ],
          [
           "macaroni and cheese mix"
          ],
          [
           "macaroni noodle"
          ],
          [
           "macaroni shells and cheese"
          ],
          [
           "macaroon"
          ],
          [
           "mace"
          ],
          [
           "madeira wine"
          ],
          [
           "madras curry powder"
          ],
          [
           "mafalda pastum"
          ],
          [
           "maggi seasoning"
          ],
          [
           "mahi mahi"
          ],
          [
           "mahi mahi fillet"
          ],
          [
           "malt vinegar"
          ],
          [
           "malted milk ball"
          ],
          [
           "manchego cheese"
          ],
          [
           "mandarin orange"
          ],
          [
           "mandarin orange section"
          ],
          [
           "mandarin orange segment"
          ],
          [
           "mandarin oranges in juice"
          ],
          [
           "mandarin oranges in light syrup"
          ],
          [
           "mange-touts pea"
          ],
          [
           "mango"
          ],
          [
           "mango chutney"
          ],
          [
           "mango juice"
          ],
          [
           "mango nectar"
          ],
          [
           "mango powder"
          ],
          [
           "mango pulp"
          ],
          [
           "mango puree"
          ],
          [
           "manicottus"
          ],
          [
           "manwich sloppy joe mix"
          ],
          [
           "manzanilla olife"
          ],
          [
           "maple bacon"
          ],
          [
           "maple extract"
          ],
          [
           "maple sugar"
          ],
          [
           "maple syrup"
          ],
          [
           "mapleing"
          ],
          [
           "maraschino cherry"
          ],
          [
           "maraschino cherry juice"
          ],
          [
           "margarine"
          ],
          [
           "margarita mix"
          ],
          [
           "marinade"
          ],
          [
           "marinara sauce"
          ],
          [
           "marinated artichoke"
          ],
          [
           "marinated artichoke heart"
          ],
          [
           "marjoram"
          ],
          [
           "marjoram leaf"
          ],
          [
           "marmalade"
          ],
          [
           "marmite"
          ],
          [
           "mars bar"
          ],
          [
           "marsala"
          ],
          [
           "marsala wine"
          ],
          [
           "marshmallow"
          ],
          [
           "marshmallow cream"
          ],
          [
           "marshmallow creme"
          ],
          [
           "marzipan"
          ],
          [
           "masa harina"
          ],
          [
           "masa harina flmy"
          ],
          [
           "masala"
          ],
          [
           "mascarpone"
          ],
          [
           "mascarpone cheese"
          ],
          [
           "mashed banana"
          ],
          [
           "mashed potato"
          ],
          [
           "mashed sweet potato"
          ],
          [
           "matzo"
          ],
          [
           "matzo meal"
          ],
          [
           "maui onion"
          ],
          [
           "mayonnaise"
          ],
          [
           "mccormick grill seasoning"
          ],
          [
           "mcintosh apple"
          ],
          [
           "meat"
          ],
          [
           "meat stock"
          ],
          [
           "meat tenderizer"
          ],
          [
           "meatball"
          ],
          [
           "meatless sauce"
          ],
          [
           "meatless spaghetti sauce"
          ],
          [
           "meatloaf"
          ],
          [
           "medium egg noodle"
          ],
          [
           "medium firm tofu"
          ],
          [
           "medium grain rice"
          ],
          [
           "medium noodle"
          ],
          [
           "medium pasta shell"
          ],
          [
           "medium shrimp"
          ],
          [
           "medium-dry sherry"
          ],
          [
           "melba toast"
          ],
          [
           "melon"
          ],
          [
           "melon ball"
          ],
          [
           "melon liqueur"
          ],
          [
           "merlot"
          ],
          [
           "mesclun"
          ],
          [
           "mesquite wood chip"
          ],
          [
           "mexican blend cheese"
          ],
          [
           "mexican cheese"
          ],
          [
           "mexican cheese blend"
          ],
          [
           "mexican chili powder"
          ],
          [
           "mexican chocolate"
          ],
          [
           "mexican crema"
          ],
          [
           "mexican oregano"
          ],
          [
           "mexican seasoning"
          ],
          [
           "mexicorn"
          ],
          [
           "mexicorn whole kernel corn"
          ],
          [
           "meyer lemon"
          ],
          [
           "microwave popcorn"
          ],
          [
           "midori melon liqueur"
          ],
          [
           "mild cheese"
          ],
          [
           "mild chili pepper"
          ],
          [
           "mild chili powder"
          ],
          [
           "mild curry paste"
          ],
          [
           "mild curry powder"
          ],
          [
           "mild enchilada sauce"
          ],
          [
           "mild green chili"
          ],
          [
           "mild green chily"
          ],
          [
           "mild paprika"
          ],
          [
           "mild salsa"
          ],
          [
           "milk"
          ],
          [
           "milk chocolate"
          ],
          [
           "milk chocolate chip"
          ],
          [
           "milk chocolate frosting"
          ],
          [
           "milk chocolate kiss"
          ],
          [
           "milk chocolate piece"
          ],
          [
           "milky way bar"
          ],
          [
           "millet"
          ],
          [
           "millet flmy"
          ],
          [
           "minced beef"
          ],
          [
           "minced clam"
          ],
          [
           "minced garlic clove"
          ],
          [
           "minced ginger"
          ],
          [
           "mincemeat"
          ],
          [
           "mineral water"
          ],
          [
           "minestrone soup"
          ],
          [
           "mint"
          ],
          [
           "mint chocolate chip"
          ],
          [
           "mint extract"
          ],
          [
           "mint jelly"
          ],
          [
           "mint leaf"
          ],
          [
           "mint sauce"
          ],
          [
           "mint sprig"
          ],
          [
           "minute brown rice"
          ],
          [
           "minute rice"
          ],
          [
           "minute steak"
          ],
          [
           "minute tapioca"
          ],
          [
           "minute white rice"
          ],
          [
           "miracle whip"
          ],
          [
           "miracle whip light"
          ],
          [
           "mirin"
          ],
          [
           "miso"
          ],
          [
           "mixed baby green"
          ],
          [
           "mixed berry"
          ],
          [
           "mixed candied fruit"
          ],
          [
           "mixed dried fruit"
          ],
          [
           "mixed fresh herb"
          ],
          [
           "mixed fruit"
          ],
          [
           "mixed green"
          ],
          [
           "mixed herb"
          ],
          [
           "mixed italian herb"
          ],
          [
           "mixed mushroom"
          ],
          [
           "mixed nut"
          ],
          [
           "mixed peel"
          ],
          [
           "mixed peppercorn"
          ],
          [
           "mixed salad green"
          ],
          [
           "mixed spice"
          ],
          [
           "mixed sprout"
          ],
          [
           "mixed vegetable"
          ],
          [
           "mizithra cheese"
          ],
          [
           "mochiko sweet rice flmy"
          ],
          [
           "molass"
          ],
          [
           "mole"
          ],
          [
           "monkfish"
          ],
          [
           "monterey jack cheese"
          ],
          [
           "monterey jack pepper cheese"
          ],
          [
           "montrealsteak seasoning"
          ],
          [
           "morel"
          ],
          [
           "mortadella"
          ],
          [
           "morton lite salt"
          ],
          [
           "morton tender quick salt"
          ],
          [
           "mostaccioli pastum"
          ],
          [
           "mountain dew soda"
          ],
          [
           "mozzarella"
          ],
          [
           "msg"
          ],
          [
           "muenster cheese"
          ],
          [
           "muesli"
          ],
          [
           "multi-grain bread"
          ],
          [
           "multigrain bread"
          ],
          [
           "mung bean"
          ],
          [
           "mung bean sprout"
          ],
          [
           "mung dal"
          ],
          [
           "muscovado sugar"
          ],
          [
           "mushroom"
          ],
          [
           "mushroom cap"
          ],
          [
           "mushroom gravy"
          ],
          [
           "mushroom gravy mix"
          ],
          [
           "mushroom piece"
          ],
          [
           "mushroom soup"
          ],
          [
           "mushroom stem"
          ],
          [
           "mushroom stems and piece"
          ],
          [
           "mussel"
          ],
          [
           "mustard"
          ],
          [
           "mustard green"
          ],
          [
           "mustard oil"
          ],
          [
           "mustard powder"
          ],
          [
           "mustard seed"
          ],
          [
           "mutton"
          ],
          [
           "naan bread"
          ],
          [
           "nacho cheese dorito"
          ],
          [
           "nacho cheese soup"
          ],
          [
           "nacho chip"
          ],
          [
           "nam pla"
          ],
          [
           "napa cabbage"
          ],
          [
           "natural almond"
          ],
          [
           "natural applesauce"
          ],
          [
           "natural bran"
          ],
          [
           "natural yoghurt"
          ],
          [
           "navel orange"
          ],
          [
           "navy bean"
          ],
          [
           "nectarine"
          ],
          [
           "nestl butterscotch morsel"
          ],
          [
           "nestl chocolate morsel"
          ],
          [
           "neufchatel cheese"
          ],
          [
           "new potato"
          ],
          [
           "new york strip steak"
          ],
          [
           "nicoise olife"
          ],
          [
           "nicoise olive"
          ],
          [
           "nigella seed"
          ],
          [
           "no yolks egg noodle substitute"
          ],
          [
           "no-added-salt tomato paste"
          ],
          [
           "no-boil lasagna noodle"
          ],
          [
           "non-dairy coffee creamer"
          ],
          [
           "non-dairy powdered coffee creamer"
          ],
          [
           "non-dairy whipped topping"
          ],
          [
           "non-hydrogenated margarine"
          ],
          [
           "nonstick spray coating"
          ],
          [
           "noodle"
          ],
          [
           "norus"
          ],
          [
           "nut"
          ],
          [
           "nutella"
          ],
          [
           "nutmeat"
          ],
          [
           "nutmeg"
          ],
          [
           "o'brien frozen potato"
          ],
          [
           "o'brien potato"
          ],
          [
           "oat"
          ],
          [
           "oat bran"
          ],
          [
           "oat flmy"
          ],
          [
           "oatmeal"
          ],
          [
           "of fresh mint"
          ],
          [
           "oil"
          ],
          [
           "oil-cured black olife"
          ],
          [
           "oil-cured black olive"
          ],
          [
           "oil-cured olife"
          ],
          [
           "okra"
          ],
          [
           "okra pod"
          ],
          [
           "old bay seasoning"
          ],
          [
           "old english cheese"
          ],
          [
           "old fashioned oat"
          ],
          [
           "old-fashioned oatmeal"
          ],
          [
           "oleo"
          ],
          [
           "olife"
          ],
          [
           "olive"
          ],
          [
           "olive juice"
          ],
          [
           "olive oil"
          ],
          [
           "onion"
          ],
          [
           "onion and mushroom soup mix"
          ],
          [
           "onion flake"
          ],
          [
           "onion hamburger bun"
          ],
          [
           "onion juice"
          ],
          [
           "onion powder"
          ],
          [
           "onion ring"
          ],
          [
           "onion roll"
          ],
          [
           "onion salt"
          ],
          [
           "onion seed"
          ],
          [
           "onion soup"
          ],
          [
           "onion soup mix"
          ],
          [
           "orange"
          ],
          [
           "orange bell pepper"
          ],
          [
           "orange blossom honey"
          ],
          [
           "orange blossom water"
          ],
          [
           "orange curacao"
          ],
          [
           "orange drink mix"
          ],
          [
           "orange extract"
          ],
          [
           "orange flower water"
          ],
          [
           "orange food coloring"
          ],
          [
           "orange gelatin"
          ],
          [
           "orange jell-o"
          ],
          [
           "orange juice"
          ],
          [
           "orange juice concentrate"
          ],
          [
           "orange liqueur"
          ],
          [
           "orange marmalade"
          ],
          [
           "orange peel"
          ],
          [
           "orange pekoe tea bag"
          ],
          [
           "orange pepper"
          ],
          [
           "orange rind"
          ],
          [
           "orange rind twist"
          ],
          [
           "orange roughy"
          ],
          [
           "orange roughy fillet"
          ],
          [
           "orange section"
          ],
          [
           "orange sherbet"
          ],
          [
           "orange slice"
          ],
          [
           "orange slouse"
          ],
          [
           "orange soda"
          ],
          [
           "orange wedge"
          ],
          [
           "orange yogurt"
          ],
          [
           "orange zest"
          ],
          [
           "orange, juice and rind of"
          ],
          [
           "orange, juice and zest of"
          ],
          [
           "orange, juice of"
          ],
          [
           "orange, rind of"
          ],
          [
           "orange, zest of"
          ],
          [
           "oranges, juice and zest of"
          ],
          [
           "oranges, juice of"
          ],
          [
           "oranges, zest of"
          ],
          [
           "orecchiette"
          ],
          [
           "oregano"
          ],
          [
           "oregano flake"
          ],
          [
           "oregano leaf"
          ],
          [
           "oregano sprig"
          ],
          [
           "oreo cookie crumb"
          ],
          [
           "oreo cookie pie crust"
          ],
          [
           "oreo cookies"
          ],
          [
           "oriental instant ramen noodle"
          ],
          [
           "oriental sesame oil"
          ],
          [
           "orzo pastum"
          ],
          [
           "ouzo"
          ],
          [
           "oven cooking bag"
          ],
          [
           "oven-roasted deli chicken"
          ],
          [
           "oxtail"
          ],
          [
           "oyster"
          ],
          [
           "oyster cracker"
          ],
          [
           "oyster mushroom"
          ],
          [
           "oyster sauce"
          ],
          [
           "pace picante sauce"
          ],
          [
           "packaged coleslaw mix"
          ],
          [
           "pak chous"
          ],
          [
           "palm oil"
          ],
          [
           "palm sugar"
          ],
          [
           "pan dripping"
          ],
          [
           "pancake syrup"
          ],
          [
           "pancettum"
          ],
          [
           "panir"
          ],
          [
           "panko breadcrumb"
          ],
          [
           "papaya"
          ],
          [
           "papaya nectar"
          ],
          [
           "paper"
          ],
          [
           "paper baking cup"
          ],
          [
           "paper cup"
          ],
          [
           "pappardelle pastum"
          ],
          [
           "paprika"
          ],
          [
           "paraffin wax"
          ],
          [
           "parboiled rice"
          ],
          [
           "parchment paper"
          ],
          [
           "parma ham"
          ],
          [
           "parmesan cheese"
          ],
          [
           "parmesan-romano cheese mix"
          ],
          [
           "parmigiano"
          ],
          [
           "parmigiano-reggiano cheese"
          ],
          [
           "parsley"
          ],
          [
           "parsley flake"
          ],
          [
           "parsley root"
          ],
          [
           "parsley sprig"
          ],
          [
           "parsley stem"
          ],
          [
           "parsnip"
          ],
          [
           "part-skim ricotta cheese"
          ],
          [
           "passatum"
          ],
          [
           "passion fruit"
          ],
          [
           "passion fruit juice"
          ],
          [
           "passion fruit pulp"
          ],
          [
           "pasta noodle"
          ],
          [
           "pasta sauce"
          ],
          [
           "pasta shell"
          ],
          [
           "pasteurized liquid egg-white"
          ],
          [
           "pastrami"
          ],
          [
           "pastry crust"
          ],
          [
           "pastry dough"
          ],
          [
           "pastry flmy"
          ],
          [
           "pastry for a double-crust pie"
          ],
          [
           "pastry for double-crust pie"
          ],
          [
           "pastry for single-crust pie"
          ],
          [
           "pastry shell"
          ],
          [
           "pastum"
          ],
          [
           "pattypan squash"
          ],
          [
           "pea"
          ],
          [
           "pea pod"
          ],
          [
           "peach"
          ],
          [
           "peach brandy"
          ],
          [
           "peach halves in syrup"
          ],
          [
           "peach jam"
          ],
          [
           "peach jell-o"
          ],
          [
           "peach juice"
          ],
          [
           "peach liqueur"
          ],
          [
           "peach nectar"
          ],
          [
           "peach pie filling"
          ],
          [
           "peach preserve"
          ],
          [
           "peach schnapp"
          ],
          [
           "peach slice"
          ],
          [
           "peach slices in heavy syrup"
          ],
          [
           "peach yogurt"
          ],
          [
           "peaches in juice"
          ],
          [
           "peaches in light syrup"
          ],
          [
           "peanut"
          ],
          [
           "peanut butter"
          ],
          [
           "peanut butter and milk chocolate chip"
          ],
          [
           "peanut butter chip"
          ],
          [
           "peanut butter cookie dough"
          ],
          [
           "peanut butter cup"
          ],
          [
           "peanut butter morsel"
          ],
          [
           "peanut oil"
          ],
          [
           "peanut sauce"
          ],
          [
           "pear"
          ],
          [
           "pear half"
          ],
          [
           "pear halves in natural juice"
          ],
          [
           "pear juice"
          ],
          [
           "pear nectar"
          ],
          [
           "pearl barley"
          ],
          [
           "pearl tapioca"
          ],
          [
           "peas and carrot"
          ],
          [
           "pecan"
          ],
          [
           "pecan half"
          ],
          [
           "pecan nut"
          ],
          [
           "pecan piece"
          ],
          [
           "pecorino cheese"
          ],
          [
           "pecorino romano cheese"
          ],
          [
           "pectin"
          ],
          [
           "penne"
          ],
          [
           "penne pastum"
          ],
          [
           "penne rigate"
          ],
          [
           "pepita"
          ],
          [
           "pepper"
          ],
          [
           "pepper bacon"
          ],
          [
           "pepper jelly"
          ],
          [
           "pepper sauce"
          ],
          [
           "peppercorn"
          ],
          [
           "peppermint candy"
          ],
          [
           "peppermint extract"
          ],
          [
           "peppermint patty"
          ],
          [
           "peppermint schnapp"
          ],
          [
           "peppermint stick candy"
          ],
          [
           "peppermint tea bag"
          ],
          [
           "pepperoncini pepper"
          ],
          [
           "pepperoni"
          ],
          [
           "pepperoni slice"
          ],
          [
           "pepperoni slouse"
          ],
          [
           "pepsi"
          ],
          [
           "perch fillet"
          ],
          [
           "peri-perus"
          ],
          [
           "pernod"
          ],
          [
           "persimmon"
          ],
          [
           "persimmon pulp"
          ],
          [
           "pesto sauce"
          ],
          [
           "pesto sauce mix"
          ],
          [
           "pheasant"
          ],
          [
           "phyllo dough"
          ],
          [
           "phyllo pastry"
          ],
          [
           "phyllo pastry sheet"
          ],
          [
           "picante sauce"
          ],
          [
           "pickapeppa sauce"
          ],
          [
           "pickle"
          ],
          [
           "pickling cucumber"
          ],
          [
           "pickling onion"
          ],
          [
           "pickling salt"
          ],
          [
           "pickling spice"
          ],
          [
           "pico de gallo"
          ],
          [
           "pie apple"
          ],
          [
           "pie crust"
          ],
          [
           "pie crust mix"
          ],
          [
           "pie dough"
          ],
          [
           "pie filling"
          ],
          [
           "pie pastry"
          ],
          [
           "pie shell"
          ],
          [
           "piece"
          ],
          [
           "pierogi"
          ],
          [
           "pierogy"
          ],
          [
           "pig's foot"
          ],
          [
           "pigeon pea"
          ],
          [
           "pimento"
          ],
          [
           "pimento pepper"
          ],
          [
           "pimento stuffed olife"
          ],
          [
           "pimento stuffed olive"
          ],
          [
           "pimento-stuffed green olife"
          ],
          [
           "pimiento"
          ],
          [
           "pina colada nonalcoholic drink mix"
          ],
          [
           "pine nut"
          ],
          [
           "pineapple"
          ],
          [
           "pineapple chunk"
          ],
          [
           "pineapple chunks in juice"
          ],
          [
           "pineapple in juice"
          ],
          [
           "pineapple juice"
          ],
          [
           "pineapple preserve"
          ],
          [
           "pineapple ring"
          ],
          [
           "pineapple sherbet"
          ],
          [
           "pineapple slice"
          ],
          [
           "pineapple slices in juice"
          ],
          [
           "pineapple slouse"
          ],
          [
           "pineapple tidbit"
          ],
          [
           "pink bean"
          ],
          [
           "pink grapefruit"
          ],
          [
           "pink grapefruit juice"
          ],
          [
           "pink lemonade"
          ],
          [
           "pink peppercorn"
          ],
          [
           "pink salmon"
          ],
          [
           "pinot noir wine"
          ],
          [
           "pinto bean"
          ],
          [
           "piquillo pepper"
          ],
          [
           "pistachio"
          ],
          [
           "pistachio nut"
          ],
          [
           "pistachio pudding mix"
          ],
          [
           "pita bread"
          ],
          [
           "pita bread round"
          ],
          [
           "pita chip"
          ],
          [
           "pita pocket"
          ],
          [
           "pita pocket bread"
          ],
          [
           "pitted black olife"
          ],
          [
           "pitted date"
          ],
          [
           "pitted olife"
          ],
          [
           "pitted prune"
          ],
          [
           "pizza cheese"
          ],
          [
           "pizza crust"
          ],
          [
           "pizza dough"
          ],
          [
           "pizza sauce"
          ],
          [
           "pizza seasoning"
          ],
          [
           "pizza topping"
          ],
          [
           "plain breadcrumb"
          ],
          [
           "plain croissant"
          ],
          [
           "plain dorito"
          ],
          [
           "plain flmy"
          ],
          [
           "plain gelatin"
          ],
          [
           "plain soymilk"
          ],
          [
           "plain sweet biscuit"
          ],
          [
           "plain white flmy"
          ],
          [
           "plain yogurt"
          ],
          [
           "plantain"
          ],
          [
           "plastic wrap"
          ],
          [
           "plum"
          ],
          [
           "plum jam"
          ],
          [
           "plum sauce"
          ],
          [
           "plum tomato"
          ],
          [
           "poblano pepper"
          ],
          [
           "polentum"
          ],
          [
           "pollock fillet"
          ],
          [
           "polska kielbasa"
          ],
          [
           "pomegranate"
          ],
          [
           "pomegranate juice"
          ],
          [
           "pomegranate molass"
          ],
          [
           "pomegranate seed"
          ],
          [
           "pomegranate syrup"
          ],
          [
           "ponzu sauce"
          ],
          [
           "popcorn"
          ],
          [
           "popped corn"
          ],
          [
           "popped popcorn"
          ],
          [
           "poppy seed"
          ],
          [
           "porcini mushroom"
          ],
          [
           "pork"
          ],
          [
           "pork & bean"
          ],
          [
           "pork and bean"
          ],
          [
           "pork and beans in tomato sauce"
          ],
          [
           "pork baby back rib"
          ],
          [
           "pork back rib"
          ],
          [
           "pork belly"
          ],
          [
           "pork butt"
          ],
          [
           "pork chop"
          ],
          [
           "pork cutlet"
          ],
          [
           "pork fat"
          ],
          [
           "pork fillet"
          ],
          [
           "pork leg"
          ],
          [
           "pork loin"
          ],
          [
           "pork loin chop"
          ],
          [
           "pork loin roast"
          ],
          [
           "pork mince"
          ],
          [
           "pork rib"
          ],
          [
           "pork rib rack"
          ],
          [
           "pork rind"
          ],
          [
           "pork roast"
          ],
          [
           "pork shoulder"
          ],
          [
           "pork sirloin roast"
          ],
          [
           "pork sparerib"
          ],
          [
           "pork steak"
          ],
          [
           "pork stuffing mix"
          ],
          [
           "pork tenderloin"
          ],
          [
           "porridge oat"
          ],
          [
           "port wine"
          ],
          [
           "portabella mushroom"
          ],
          [
           "portabella mushroom cap"
          ],
          [
           "porterhouse steak"
          ],
          [
           "pot barley"
          ],
          [
           "pot roast"
          ],
          [
           "potato"
          ],
          [
           "potato chip"
          ],
          [
           "potato flake"
          ],
          [
           "potato flmy"
          ],
          [
           "potato starch"
          ],
          [
           "potato water"
          ],
          [
           "poultry seasoning"
          ],
          [
           "poundcake"
          ],
          [
           "powdered chocolate milk mix"
          ],
          [
           "powdered clove"
          ],
          [
           "powdered cocoa mix"
          ],
          [
           "powdered coffee creamer"
          ],
          [
           "powdered cumin"
          ],
          [
           "powdered drink mix"
          ],
          [
           "powdered fruit pectin"
          ],
          [
           "powdered ginger"
          ],
          [
           "powdered instant coffee"
          ],
          [
           "powdered milk"
          ],
          [
           "powdered saffron"
          ],
          [
           "powdered soy protein concentrate"
          ],
          [
           "powdered sugar"
          ],
          [
           "powdered sugar icing"
          ],
          [
           "prawn"
          ],
          [
           "premade puff pastry"
          ],
          [
           "preserve"
          ],
          [
           "preserved gingerroot"
          ],
          [
           "preserved lemon"
          ],
          [
           "pretzel"
          ],
          [
           "pretzel nugget"
          ],
          [
           "pretzel stick"
          ],
          [
           "pretzel twist"
          ],
          [
           "prime rib roast"
          ],
          [
           "process american cheese"
          ],
          [
           "processed cheese"
          ],
          [
           "processed swiss cheese"
          ],
          [
           "prosciutto"
          ],
          [
           "prosciutto di parma"
          ],
          [
           "prosciutto ham"
          ],
          [
           "protein powder"
          ],
          [
           "provolone cheese"
          ],
          [
           "prune"
          ],
          [
           "prune baby food"
          ],
          [
           "prune juice"
          ],
          [
           "prune puree"
          ],
          [
           "pudding"
          ],
          [
           "puff pastry"
          ],
          [
           "puff pastry sheet"
          ],
          [
           "puffed rice cereal"
          ],
          [
           "puffed wheat cereal"
          ],
          [
           "pumpernickel bread"
          ],
          [
           "pumpkin"
          ],
          [
           "pumpkin pie filling"
          ],
          [
           "pumpkin pie spice"
          ],
          [
           "pumpkin puree"
          ],
          [
           "pumpkin seed"
          ],
          [
           "pumpkin spice"
          ],
          [
           "pure maple syrup"
          ],
          [
           "pure vanilla extract"
          ],
          [
           "puree"
          ],
          [
           "purple cabbage"
          ],
          [
           "purple onion"
          ],
          [
           "purple plum"
          ],
          [
           "quail"
          ],
          [
           "quark"
          ],
          [
           "queso blanco"
          ],
          [
           "queso fresco"
          ],
          [
           "quick oat"
          ],
          [
           "quick oatmeal"
          ],
          [
           "quince"
          ],
          [
           "quinoa"
          ],
          [
           "quinoa flmy"
          ],
          [
           "rabbit"
          ],
          [
           "rack of lamb"
          ],
          [
           "racks of baby-back pork rib"
          ],
          [
           "racks of lamb"
          ],
          [
           "radiatore"
          ],
          [
           "radicchio"
          ],
          [
           "radish"
          ],
          [
           "rag pasta sauce"
          ],
          [
           "raisin"
          ],
          [
           "raisin bran cereal"
          ],
          [
           "raisin bread"
          ],
          [
           "ramen noodle"
          ],
          [
           "ranch dip"
          ],
          [
           "ranch dip mix"
          ],
          [
           "ranch dips mix"
          ],
          [
           "raspberry"
          ],
          [
           "raspberry gelatin"
          ],
          [
           "raspberry gelatin powder"
          ],
          [
           "raspberry jam"
          ],
          [
           "raspberry jell-o gelatin"
          ],
          [
           "raspberry jelly"
          ],
          [
           "raspberry liqueur"
          ],
          [
           "raspberry pie filling"
          ],
          [
           "raspberry preserve"
          ],
          [
           "raspberry sherbet"
          ],
          [
           "raspberry syrup"
          ],
          [
           "raspberry vinegar"
          ],
          [
           "raspberry vodka"
          ],
          [
           "raspberry yogurt"
          ],
          [
           "ravioli"
          ],
          [
           "raw beet"
          ],
          [
           "raw carrot"
          ],
          [
           "raw cashew"
          ],
          [
           "raw cashew nut"
          ],
          [
           "raw cauliflower"
          ],
          [
           "raw cranberry"
          ],
          [
           "raw honey"
          ],
          [
           "raw peanut"
          ],
          [
           "raw potato"
          ],
          [
           "raw rice"
          ],
          [
           "raw shrimp"
          ],
          [
           "raw sugar"
          ],
          [
           "raw zucchini"
          ],
          [
           "real butter"
          ],
          [
           "real maple syrup"
          ],
          [
           "real vanilla"
          ],
          [
           "real vanilla extract"
          ],
          [
           "realemon juice"
          ],
          [
           "recaito"
          ],
          [
           "red apple"
          ],
          [
           "red bean"
          ],
          [
           "red beet"
          ],
          [
           "red bell pepper"
          ],
          [
           "red bliss potato"
          ],
          [
           "red burgundy wine"
          ],
          [
           "red cabbage"
          ],
          [
           "red capsicum"
          ],
          [
           "red cayenne pepper"
          ],
          [
           "red cherry"
          ],
          [
           "red chili paste"
          ],
          [
           "red chili pepper"
          ],
          [
           "red chili pepper flake"
          ],
          [
           "red chili powder"
          ],
          [
           "red chily"
          ],
          [
           "red cinnamon candy"
          ],
          [
           "red currant jelly"
          ],
          [
           "red curry paste"
          ],
          [
           "red delicious apple"
          ],
          [
           "red enchilada sauce"
          ],
          [
           "red food coloring"
          ],
          [
           "red grape"
          ],
          [
           "red grapefruit"
          ],
          [
           "red hot pepper"
          ],
          [
           "red hot sauce"
          ],
          [
           "red lentil"
          ],
          [
           "red maraschino cherry"
          ],
          [
           "red miso"
          ],
          [
           "red onion"
          ],
          [
           "red onion ring"
          ],
          [
           "red paprika"
          ],
          [
           "red pasta sauce"
          ],
          [
           "red pepper"
          ],
          [
           "red pepper flake"
          ],
          [
           "red pepper jelly"
          ],
          [
           "red pepper paste"
          ],
          [
           "red pepper powder"
          ],
          [
           "red pepper sauce"
          ],
          [
           "red plum"
          ],
          [
           "red potato"
          ],
          [
           "red radish"
          ],
          [
           "red raspberry"
          ],
          [
           "red raspberry preserve"
          ],
          [
           "red salmon"
          ],
          [
           "red seedless grape"
          ],
          [
           "red snapper"
          ],
          [
           "red snapper fillet"
          ],
          [
           "red sugar crystal"
          ],
          [
           "red sweet bell pepper"
          ],
          [
           "red sweet pepper"
          ],
          [
           "red swiss chard"
          ],
          [
           "red table wine"
          ],
          [
           "red tomato"
          ],
          [
           "red wine"
          ],
          [
           "red wine vinegar"
          ],
          [
           "red-hot candy"
          ],
          [
           "refried bean"
          ],
          [
           "refried black bean"
          ],
          [
           "refrigerated biscuit"
          ],
          [
           "refrigerated breadstick dough"
          ],
          [
           "refrigerated buttermilk biscuit"
          ],
          [
           "refrigerated buttermilk flaky biscuit"
          ],
          [
           "refrigerated cheese tortellini"
          ],
          [
           "refrigerated chocolate chip cookie dough"
          ],
          [
           "refrigerated crescent dinner roll"
          ],
          [
           "refrigerated crescent roll"
          ],
          [
           "refrigerated pie crust"
          ],
          [
           "refrigerated pizza crust"
          ],
          [
           "refrigerated sugar cookie dough"
          ],
          [
           "regular grind coffee"
          ],
          [
           "relish"
          ],
          [
           "reynolds wrap foil"
          ],
          [
           "rhubarb"
          ],
          [
           "rib"
          ],
          [
           "rib eye"
          ],
          [
           "rib eye steak"
          ],
          [
           "rib roast"
          ],
          [
           "rib-eye steak"
          ],
          [
           "rice"
          ],
          [
           "rice bubble"
          ],
          [
           "rice cake"
          ],
          [
           "rice chex"
          ],
          [
           "rice cracker"
          ],
          [
           "rice flmy"
          ],
          [
           "rice krispy"
          ],
          [
           "rice milk"
          ],
          [
           "rice noodle"
          ],
          [
           "rice paper"
          ],
          [
           "rice paper sheet"
          ],
          [
           "rice pilaf"
          ],
          [
           "rice stick"
          ],
          [
           "rice vermicelli"
          ],
          [
           "rice vinegar"
          ],
          [
           "rice wine"
          ],
          [
           "rice wine vinegar"
          ],
          [
           "ricotta cheese"
          ],
          [
           "ricottum"
          ],
          [
           "riesling wine"
          ],
          [
           "rigatoni pastum"
          ],
          [
           "rindless bacon"
          ],
          [
           "risotto rice"
          ],
          [
           "ritz cracker"
          ],
          [
           "ritz cracker crumb"
          ],
          [
           "ro-tel tomato"
          ],
          [
           "roast"
          ],
          [
           "roast beef"
          ],
          [
           "roast pork"
          ],
          [
           "roasted almond"
          ],
          [
           "roasted cashew"
          ],
          [
           "roasted cashew nut"
          ],
          [
           "roasted chicken breast"
          ],
          [
           "roasted deli chicken"
          ],
          [
           "roasted garlic"
          ],
          [
           "roasted garlic clove"
          ],
          [
           "roasted peanut"
          ],
          [
           "roasted pepper"
          ],
          [
           "roasted pistachio"
          ],
          [
           "roasted red pepper"
          ],
          [
           "roasted sesame seed"
          ],
          [
           "roasted soybean"
          ],
          [
           "roasted sunflower seed"
          ],
          [
           "roasted sweet pepper"
          ],
          [
           "roasted sweet red pepper"
          ],
          [
           "roasted unsalted peanut"
          ],
          [
           "roasting chicken"
          ],
          [
           "rock cornish game hen"
          ],
          [
           "rock salt"
          ],
          [
           "rocket"
          ],
          [
           "roll"
          ],
          [
           "rolled oat"
          ],
          [
           "rolo chocolate"
          ],
          [
           "roma tomato"
          ],
          [
           "romaine leaf"
          ],
          [
           "romano cheese"
          ],
          [
           "rome apple"
          ],
          [
           "root beer"
          ],
          [
           "roquefort cheese"
          ],
          [
           "rose petal"
          ],
          [
           "rose water"
          ],
          [
           "rose wine"
          ],
          [
           "rose's lime juice"
          ],
          [
           "rosemary"
          ],
          [
           "rosemary sprig"
          ],
          [
           "rotel"
          ],
          [
           "rotel diced tomato"
          ],
          [
           "rotel tomato"
          ],
          [
           "rotel tomatoes & chily"
          ],
          [
           "rotelle pastum"
          ],
          [
           "rotini noodle"
          ],
          [
           "rotini pastum"
          ],
          [
           "rotisserie-cooked chicken"
          ],
          [
           "round loaf italian bread"
          ],
          [
           "round roast"
          ],
          [
           "round sourdough loaf"
          ],
          [
           "round steak"
          ],
          [
           "roux"
          ],
          [
           "rubbed sage"
          ],
          [
           "ruby port"
          ],
          [
           "ruby red grapefruit juice"
          ],
          [
           "rum"
          ],
          [
           "rum extract"
          ],
          [
           "ruming"
          ],
          [
           "rump roast"
          ],
          [
           "rump steak"
          ],
          [
           "russet baking potato"
          ],
          [
           "russet potato"
          ],
          [
           "rutabaga"
          ],
          [
           "rye bread"
          ],
          [
           "rye cocktail bread"
          ],
          [
           "rye flmy"
          ],
          [
           "rye whiskey"
          ],
          [
           "s chocolate syrup"
          ],
          [
           "safflower oil"
          ],
          [
           "saffron"
          ],
          [
           "saffron strand"
          ],
          [
           "saffron thread"
          ],
          [
           "sage"
          ],
          [
           "sage leaf"
          ],
          [
           "sage sprig"
          ],
          [
           "sake"
          ],
          [
           "salad green"
          ],
          [
           "salad leaf"
          ],
          [
           "salad macaroni"
          ],
          [
           "salad oil"
          ],
          [
           "salami"
          ],
          [
           "salmon"
          ],
          [
           "salmon fillet"
          ],
          [
           "salmon steak"
          ],
          [
           "salsa"
          ],
          [
           "salsa con queso"
          ],
          [
           "salsa verde"
          ],
          [
           "salt"
          ],
          [
           "salt & fresh ground pepper"
          ],
          [
           "salt & ground black pepper"
          ],
          [
           "salt & pepper"
          ],
          [
           "salt and black pepper"
          ],
          [
           "salt and fresh pepper"
          ],
          [
           "salt and pepper"
          ],
          [
           "salt cod fish"
          ],
          [
           "salt pork"
          ],
          [
           "salt substitute"
          ],
          [
           "salt water"
          ],
          [
           "salted butter"
          ],
          [
           "salted cashew"
          ],
          [
           "salted macadamia nut"
          ],
          [
           "salted mixed nut"
          ],
          [
           "salted peanut"
          ],
          [
           "saltine"
          ],
          [
           "saltine cracker"
          ],
          [
           "saltine crumb"
          ],
          [
           "sambal oelek"
          ],
          [
           "sambal oelek chili paste"
          ],
          [
           "san marzano tomato"
          ],
          [
           "sandwich bread"
          ],
          [
           "sandwich bun"
          ],
          [
           "sandwich cookies"
          ],
          [
           "sandwich wrap"
          ],
          [
           "sardine"
          ],
          [
           "satay sauce"
          ],
          [
           "sauerkraut"
          ],
          [
           "sausage"
          ],
          [
           "sauvignon blanc wine"
          ],
          [
           "savory"
          ],
          [
           "savory herb"
          ],
          [
           "savoy cabbage"
          ],
          [
           "sazon"
          ],
          [
           "scallion"
          ],
          [
           "scallop"
          ],
          [
           "scalloped potatoes mix"
          ],
          [
           "scotch bonnet pepper"
          ],
          [
           "scotch whisky"
          ],
          [
           "sea bas"
          ],
          [
           "sea bass fillet"
          ],
          [
           "sea salt"
          ],
          [
           "sea scallop"
          ],
          [
           "seafood"
          ],
          [
           "seafood cocktail sauce"
          ],
          [
           "seafood sauce"
          ],
          [
           "seafood seasoning"
          ],
          [
           "season salt"
          ],
          [
           "season-all salt"
          ],
          [
           "seasoned bread crumb"
          ],
          [
           "seasoned crouton"
          ],
          [
           "seasoned dry bread crumb"
          ],
          [
           "seasoned flmy"
          ],
          [
           "seasoned pepper"
          ],
          [
           "seasoned rice vinegar"
          ],
          [
           "seasoned rice wine vinegar"
          ],
          [
           "seasoned stuffing mix"
          ],
          [
           "seasoning"
          ],
          [
           "seasoning mix"
          ],
          [
           "seasoning salt"
          ],
          [
           "seed"
          ],
          [
           "seedless cucumber"
          ],
          [
           "seedless european cucumber"
          ],
          [
           "seedless grape"
          ],
          [
           "seedless orange"
          ],
          [
           "seedless raisin"
          ],
          [
           "seedless raspberry jam"
          ],
          [
           "seedless raspberry preserve"
          ],
          [
           "seedless watermelon"
          ],
          [
           "seitan"
          ],
          [
           "self raising flmy"
          ],
          [
           "self rising flmy"
          ],
          [
           "self-raising flmy"
          ],
          [
           "self-rising cornmeal"
          ],
          [
           "self-rising cornmeal mix"
          ],
          [
           "self-rising flmy"
          ],
          [
           "seltzer water"
          ],
          [
           "semolina"
          ],
          [
           "semolina flmy"
          ],
          [
           "serrano chili"
          ],
          [
           "serrano chili pepper"
          ],
          [
           "serrano chily"
          ],
          [
           "serrano ham"
          ],
          [
           "serrano pepper"
          ],
          [
           "sesame"
          ],
          [
           "sesame oil"
          ],
          [
           "sesame paste"
          ],
          [
           "sesame seed"
          ],
          [
           "sesame seed oil"
          ],
          [
           "shake-n-bake"
          ],
          [
           "shallot"
          ],
          [
           "shaoxing wine"
          ],
          [
           "sharp american cheese"
          ],
          [
           "shell macaroni"
          ],
          [
           "shell pastum"
          ],
          [
           "shelled pistachio"
          ],
          [
           "sherbet"
          ],
          [
           "sherry wine"
          ],
          [
           "sherry wine vinegar"
          ],
          [
           "shiitake mushroom"
          ],
          [
           "shiitake mushroom cap"
          ],
          [
           "shoe peg corn"
          ],
          [
           "shoestring potato"
          ],
          [
           "short rib of beef"
          ],
          [
           "short-grain brown rice"
          ],
          [
           "short-grain rice"
          ],
          [
           "short-grain white rice"
          ],
          [
           "shortbread cookies"
          ],
          [
           "shortbread pie crust"
          ],
          [
           "shortcrust pastry"
          ],
          [
           "shortcut bacon"
          ],
          [
           "shortening"
          ],
          [
           "shoulder lamb chop"
          ],
          [
           "shoyu"
          ],
          [
           "shredded coconut"
          ],
          [
           "shredded hash brown"
          ],
          [
           "shredded hash brown potato"
          ],
          [
           "shredded wheat cereal"
          ],
          [
           "shrimp"
          ],
          [
           "shrimp paste"
          ],
          [
           "shrimp stock"
          ],
          [
           "sifted flmy"
          ],
          [
           "silken tofu"
          ],
          [
           "simple syrup"
          ],
          [
           "single cream"
          ],
          [
           "sirloin"
          ],
          [
           "sirloin beef"
          ],
          [
           "sirloin steak"
          ],
          [
           "sirloin tip roast"
          ],
          [
           "sirloin tip steak"
          ],
          [
           "skewer"
          ],
          [
           "skim evaporated milk"
          ],
          [
           "skim milk"
          ],
          [
           "skim milk powder"
          ],
          [
           "skim milk ricotta cheese"
          ],
          [
           "skirt steak"
          ],
          [
           "skor english toffee bit"
          ],
          [
           "sliced almond"
          ],
          [
           "sliced apple"
          ],
          [
           "sliced mushroom"
          ],
          [
           "sliced olife"
          ],
          [
           "sliced peaches in juice"
          ],
          [
           "sliced water chestnut"
          ],
          [
           "sloppy joe sandwich sauce"
          ],
          [
           "small caper"
          ],
          [
           "small curd cottage cheese"
          ],
          [
           "small elbow macaroni"
          ],
          [
           "small macaroni noodle"
          ],
          [
           "small marshmallow"
          ],
          [
           "small mushroom"
          ],
          [
           "small onion"
          ],
          [
           "small potato"
          ],
          [
           "small pretzel"
          ],
          [
           "small red potato"
          ],
          [
           "small shell pastum"
          ],
          [
           "small shrimp"
          ],
          [
           "small white bean"
          ],
          [
           "small-curd cottage cheese"
          ],
          [
           "smoked almond"
          ],
          [
           "smoked bacon"
          ],
          [
           "smoked chicken"
          ],
          [
           "smoked chicken breast"
          ],
          [
           "smoked gouda cheese"
          ],
          [
           "smoked ham"
          ],
          [
           "smoked ham hock"
          ],
          [
           "smoked kielbasa"
          ],
          [
           "smoked oyster"
          ],
          [
           "smoked paprika"
          ],
          [
           "smoked salmon"
          ],
          [
           "smoked turkey"
          ],
          [
           "smoked turkey breast"
          ],
          [
           "smooth cashew butter"
          ],
          [
           "smooth peanut butter"
          ],
          [
           "snap pea"
          ],
          [
           "snow pea"
          ],
          [
           "snow pea pod"
          ],
          [
           "snow pea sprout"
          ],
          [
           "soba noodle"
          ],
          [
           "sockeye salmon"
          ],
          [
           "soda cracker"
          ],
          [
           "soda water"
          ],
          [
           "sofrito sauce"
          ],
          [
           "soft bread cube"
          ],
          [
           "soft breadcrumb"
          ],
          [
           "soft brown sugar"
          ],
          [
           "soft fresh goat cheese"
          ],
          [
           "soft margarine"
          ],
          [
           "soft silken tofu"
          ],
          [
           "soft tofu"
          ],
          [
           "sole"
          ],
          [
           "sole fillet"
          ],
          [
           "solid pack pumpkin"
          ],
          [
           "solid shortening"
          ],
          [
           "solid white tuna"
          ],
          [
           "solid white tuna packed in water"
          ],
          [
           "solid-pack pumpkin"
          ],
          [
           "sorghum flmy"
          ],
          [
           "sorrel"
          ],
          [
           "soup"
          ],
          [
           "soup bone"
          ],
          [
           "soup mix"
          ],
          [
           "soup stock"
          ],
          [
           "sour apple liqueur"
          ],
          [
           "sour cherry"
          ],
          [
           "sour cream"
          ],
          [
           "sour milk"
          ],
          [
           "sour mix"
          ],
          [
           "sourdough baguette"
          ],
          [
           "sourdough bread"
          ],
          [
           "sourdough starter"
          ],
          [
           "southern comfort"
          ],
          [
           "southwest seasoning"
          ],
          [
           "soy cheese"
          ],
          [
           "soy crumble"
          ],
          [
           "soy flmy"
          ],
          [
           "soy margarine"
          ],
          [
           "soy sauce"
          ],
          [
           "soy yogurt"
          ],
          [
           "soya milk"
          ],
          [
           "soya oil"
          ],
          [
           "soya sauce"
          ],
          [
           "soybean"
          ],
          [
           "soymilk"
          ],
          [
           "spaetzle noodle"
          ],
          [
           "spaghetti noodle"
          ],
          [
           "spaghetti sauce"
          ],
          [
           "spaghetti sauce mix"
          ],
          [
           "spaghetti squash"
          ],
          [
           "spaghettini"
          ],
          [
           "spaghettus"
          ],
          [
           "spam"
          ],
          [
           "spanish chorizo"
          ],
          [
           "spanish olife"
          ],
          [
           "spanish onion"
          ],
          [
           "spanish peanut"
          ],
          [
           "spanish rice"
          ],
          [
           "spanish rice mix"
          ],
          [
           "sparerib"
          ],
          [
           "sparkling water"
          ],
          [
           "sparkling white wine"
          ],
          [
           "sparkling wine"
          ],
          [
           "spearmint"
          ],
          [
           "spelt flmy"
          ],
          [
           "spice"
          ],
          [
           "spice essence"
          ],
          [
           "spice mix"
          ],
          [
           "spicy brown mustard"
          ],
          [
           "spicy hot"
          ],
          [
           "spicy mustard"
          ],
          [
           "spicy vegetable juice"
          ],
          [
           "spike seasoning"
          ],
          [
           "spinach"
          ],
          [
           "spinach fettuccine"
          ],
          [
           "spinach leaf"
          ],
          [
           "spinach linguine"
          ],
          [
           "spinach noodle"
          ],
          [
           "spinach souffle"
          ],
          [
           "spiral shaped pastum"
          ],
          [
           "split pea"
          ],
          [
           "split red lentil"
          ],
          [
           "sponge cake"
          ],
          [
           "spring green"
          ],
          [
           "spring roll wrapper"
          ],
          [
           "sprite"
          ],
          [
           "squash"
          ],
          [
           "squid"
          ],
          [
           "squid ring"
          ],
          [
           "sriracha sauce"
          ],
          [
           "stale bread"
          ],
          [
           "standing rib roast"
          ],
          [
           "star anise"
          ],
          [
           "star anise pod"
          ],
          [
           "star fruit"
          ],
          [
           "steak"
          ],
          [
           "steak fillet"
          ],
          [
           "steak sauce"
          ],
          [
           "steak seasoning"
          ],
          [
           "steak spice"
          ],
          [
           "steak-um"
          ],
          [
           "steamed rice"
          ],
          [
           "steel cut oat"
          ],
          [
           "stevia powder"
          ],
          [
           "stevium"
          ],
          [
           "stew beef chunk"
          ],
          [
           "stew meat"
          ],
          [
           "stewed tomato"
          ],
          [
           "stewing beef"
          ],
          [
           "stewing chicken"
          ],
          [
           "stewing lamb"
          ],
          [
           "stick"
          ],
          [
           "sticky rice"
          ],
          [
           "stilton cheese"
          ],
          [
           "stir fry vegetable"
          ],
          [
           "stir-fry sauce"
          ],
          [
           "stock"
          ],
          [
           "stone ground dijon mustard"
          ],
          [
           "stone ground mustard"
          ],
          [
           "stone-ground yellow cornmeal"
          ],
          [
           "stout beer"
          ],
          [
           "stove top stuffing mix"
          ],
          [
           "straw mushroom"
          ],
          [
           "strawberry"
          ],
          [
           "strawberry extract"
          ],
          [
           "strawberry gelatin"
          ],
          [
           "strawberry glaze"
          ],
          [
           "strawberry ice cream"
          ],
          [
           "strawberry ice cream topping"
          ],
          [
           "strawberry jam"
          ],
          [
           "strawberry jell-o gelatin dessert"
          ],
          [
           "strawberry jelly"
          ],
          [
           "strawberry liqueur"
          ],
          [
           "strawberry pie filling"
          ],
          [
           "strawberry preserve"
          ],
          [
           "strawberry puree"
          ],
          [
           "strawberry slice"
          ],
          [
           "strawberry syrup"
          ],
          [
           "strawberry yogurt"
          ],
          [
           "streaky bacon"
          ],
          [
           "string"
          ],
          [
           "string bean"
          ],
          [
           "strip steak"
          ],
          [
           "strong black coffee"
          ],
          [
           "strong coffee"
          ],
          [
           "stuffed green olife"
          ],
          [
           "stuffed green olive"
          ],
          [
           "stuffed olife"
          ],
          [
           "stuffing"
          ],
          [
           "sucanat"
          ],
          [
           "suet"
          ],
          [
           "sugar"
          ],
          [
           "sugar cookie dough"
          ],
          [
           "sugar cookie mix"
          ],
          [
           "sugar crystal"
          ],
          [
           "sugar cube"
          ],
          [
           "sugar ice cream cone"
          ],
          [
           "sugar pumpkin"
          ],
          [
           "sugar snap pea"
          ],
          [
           "sugar syrup"
          ],
          [
           "sultana"
          ],
          [
           "sultana raisin"
          ],
          [
           "sumac"
          ],
          [
           "sumaq"
          ],
          [
           "summer savory"
          ],
          [
           "summer squash"
          ],
          [
           "sun-dried tomato"
          ],
          [
           "sun-dried tomato packed in oil"
          ],
          [
           "sun-dried tomato paste"
          ],
          [
           "sun-dried tomato pesto"
          ],
          [
           "sun-dried tomatoes packed in oil"
          ],
          [
           "sunflower oil"
          ],
          [
           "sunflower seed"
          ],
          [
           "superfine sugar"
          ],
          [
           "sure-jell"
          ],
          [
           "sushi rice"
          ],
          [
           "swede"
          ],
          [
           "sweet and sour sauce"
          ],
          [
           "sweet apple"
          ],
          [
           "sweet baking chocolate"
          ],
          [
           "sweet basil"
          ],
          [
           "sweet bell pepper"
          ],
          [
           "sweet butter"
          ],
          [
           "sweet cherry"
          ],
          [
           "sweet chocolate"
          ],
          [
           "sweet corn"
          ],
          [
           "sweet cream"
          ],
          [
           "sweet creamy butter"
          ],
          [
           "sweet gherkin"
          ],
          [
           "sweet green pepper"
          ],
          [
           "sweet hungarian paprika"
          ],
          [
           "sweet marsala wine"
          ],
          [
           "sweet milk"
          ],
          [
           "sweet onion"
          ],
          [
           "sweet paprika"
          ],
          [
           "sweet pea"
          ],
          [
           "sweet pepper"
          ],
          [
           "sweet potato"
          ],
          [
           "sweet red pepper"
          ],
          [
           "sweet red wine"
          ],
          [
           "sweet relish"
          ],
          [
           "sweet rice flmy"
          ],
          [
           "sweet sherry"
          ],
          [
           "sweet smoked paprika"
          ],
          [
           "sweet tart crust"
          ],
          [
           "sweet unsalted butter"
          ],
          [
           "sweet vermouth"
          ],
          [
           "sweet white onion"
          ],
          [
           "sweet white wine"
          ],
          [
           "sweet whole kernel corn"
          ],
          [
           "sweet wine"
          ],
          [
           "sweet yellow onion"
          ],
          [
           "sweet-and-sour mix"
          ],
          [
           "sweetcorn"
          ],
          [
           "sweetened coconut"
          ],
          [
           "sweetened condensed milk"
          ],
          [
           "sweetened flaked coconut"
          ],
          [
           "sweetened lime juice"
          ],
          [
           "sweetened whipped cream"
          ],
          [
           "swiss brown mushroom"
          ],
          [
           "swiss chard"
          ],
          [
           "swiss chard leaf"
          ],
          [
           "swiss cheese"
          ],
          [
           "swordfish steak"
          ],
          [
           "syrup"
          ],
          [
           "szechuan peppercorn"
          ],
          [
           "szechwan pepper"
          ],
          [
           "tabasco jalapeno sauce"
          ],
          [
           "tabasco sauce"
          ],
          [
           "tabascochipotle pepper sauce"
          ],
          [
           "table cream"
          ],
          [
           "table salt"
          ],
          [
           "taco cheese"
          ],
          [
           "taco chip"
          ],
          [
           "taco sauce"
          ],
          [
           "taco seasoning"
          ],
          [
           "taco shell"
          ],
          [
           "tagliatelle pasta noodle"
          ],
          [
           "tahini"
          ],
          [
           "tahini paste"
          ],
          [
           "tamale"
          ],
          [
           "tamarind juice"
          ],
          [
           "tamarind paste"
          ],
          [
           "tamarind pulp"
          ],
          [
           "tamarus"
          ],
          [
           "tandoori paste"
          ],
          [
           "tang orange crystal"
          ],
          [
           "tangerine"
          ],
          [
           "tangerine juice"
          ],
          [
           "tangerine peel"
          ],
          [
           "tap water"
          ],
          [
           "tapenade"
          ],
          [
           "tapioca"
          ],
          [
           "tapioca flmy"
          ],
          [
           "tapioca starch"
          ],
          [
           "taro"
          ],
          [
           "tarragon"
          ],
          [
           "tarragon leaf"
          ],
          [
           "tarragon vinegar"
          ],
          [
           "tart apple"
          ],
          [
           "tart cherry"
          ],
          [
           "tart cooking apple"
          ],
          [
           "tart green apple"
          ],
          [
           "tart red cherry"
          ],
          [
           "tart shell"
          ],
          [
           "tartar sauce"
          ],
          [
           "tasso"
          ],
          [
           "tasty cheese"
          ],
          [
           "tater tot"
          ],
          [
           "tawny port"
          ],
          [
           "tea"
          ],
          [
           "tea bag"
          ],
          [
           "tea leaf"
          ],
          [
           "teff flmy"
          ],
          [
           "tempeh"
          ],
          [
           "tequila"
          ],
          [
           "teriyaki marinade"
          ],
          [
           "teriyaki sauce"
          ],
          [
           "texas toast thick bread"
          ],
          [
           "textured vegetable protein"
          ],
          [
           "thai basil"
          ],
          [
           "thai fish sauce"
          ],
          [
           "thai pepper"
          ],
          [
           "thai red chili pepper"
          ],
          [
           "thai red curry paste"
          ],
          [
           "thick & chunky salsa"
          ],
          [
           "thick bread"
          ],
          [
           "thick slab bacon"
          ],
          [
           "thickened cream"
          ],
          [
           "thin egg noodle"
          ],
          [
           "thin pizza crust"
          ],
          [
           "thin spaghettus"
          ],
          [
           "thyme"
          ],
          [
           "thyme leaf"
          ],
          [
           "tia marium"
          ],
          [
           "tiger shrimp"
          ],
          [
           "tilapia fillet"
          ],
          [
           "tiny new potato"
          ],
          [
           "tiny pea"
          ],
          [
           "toast"
          ],
          [
           "toasted almond"
          ],
          [
           "toasted breadcrumb"
          ],
          [
           "toasted hazelnut"
          ],
          [
           "toasted rice cereal"
          ],
          [
           "toasted sesame oil"
          ],
          [
           "toasted sesame seed"
          ],
          [
           "toasted sliced almond"
          ],
          [
           "toasted wheat germ"
          ],
          [
           "toblerone chocolate bar"
          ],
          [
           "toffee piece"
          ],
          [
           "tofu"
          ],
          [
           "tomatillo"
          ],
          [
           "tomatillo salsa"
          ],
          [
           "tomato"
          ],
          [
           "tomato and basil pasta sauce"
          ],
          [
           "tomato juice"
          ],
          [
           "tomato ketchup"
          ],
          [
           "tomato paste"
          ],
          [
           "tomato puree"
          ],
          [
           "tomato sauce"
          ],
          [
           "tomato soup"
          ],
          [
           "tomatoes and green chily"
          ],
          [
           "tomatoes in puree"
          ],
          [
           "tomatoes seasoned"
          ],
          [
           "tonic water"
          ],
          [
           "tony chachere's seasoning"
          ],
          [
           "toor dal"
          ],
          [
           "toothpick"
          ],
          [
           "top ramen noodle"
          ],
          [
           "top round beef"
          ],
          [
           "top round roast"
          ],
          [
           "top round steak"
          ],
          [
           "top sirloin steak"
          ],
          [
           "tortellini"
          ],
          [
           "tortilla"
          ],
          [
           "tostada"
          ],
          [
           "tri-color spiral pastum"
          ],
          [
           "tri-colored pastum"
          ],
          [
           "tri-tip roast"
          ],
          [
           "tri-tip steak"
          ],
          [
           "triple sec"
          ],
          [
           "trout"
          ],
          [
           "trout fillet"
          ],
          [
           "truffle oil"
          ],
          [
           "tuna"
          ],
          [
           "tuna fillet"
          ],
          [
           "tuna fish"
          ],
          [
           "tuna in brine"
          ],
          [
           "tuna in vegetable oil"
          ],
          [
           "tuna in water"
          ],
          [
           "tuna packed in oil"
          ],
          [
           "tuna steak"
          ],
          [
           "turbinado sugar"
          ],
          [
           "turkey"
          ],
          [
           "turkey bacon"
          ],
          [
           "turkey breast"
          ],
          [
           "turkey breast cutlet"
          ],
          [
           "turkey breast tenderloin"
          ],
          [
           "turkey broth"
          ],
          [
           "turkey carcas"
          ],
          [
           "turkey cutlet"
          ],
          [
           "turkey drumstick"
          ],
          [
           "turkey giblet"
          ],
          [
           "turkey gravy"
          ],
          [
           "turkey gravy mix"
          ],
          [
           "turkey ham"
          ],
          [
           "turkey kielbasa"
          ],
          [
           "turkey leg"
          ],
          [
           "turkey meat"
          ],
          [
           "turkey pepperoni"
          ],
          [
           "turkey tenderloin"
          ],
          [
           "turkey thigh"
          ],
          [
           "turkey wing"
          ],
          [
           "turkish bread"
          ],
          [
           "turmeric"
          ],
          [
           "turmeric powder"
          ],
          [
           "turnip"
          ],
          [
           "turnip green"
          ],
          [
           "tzatziki"
          ],
          [
           "udon noodle"
          ],
          [
           "unbaked deep dish pie pastry"
          ],
          [
           "unbaked pastry shell"
          ],
          [
           "unbaked pie crust"
          ],
          [
           "unbaked pie shell"
          ],
          [
           "unblanched whole almond"
          ],
          [
           "unbleached all-purpose flmy"
          ],
          [
           "unbleached cane sugar"
          ],
          [
           "unbleached flmy"
          ],
          [
           "unbleached white flmy"
          ],
          [
           "uncle bens wild rice"
          ],
          [
           "uncooked rice"
          ],
          [
           "unflavored gelatin"
          ],
          [
           "unpopped popcorn"
          ],
          [
           "unrefined sugar"
          ],
          [
           "unsalted almond"
          ],
          [
           "unsalted butter"
          ],
          [
           "unsalted cashew"
          ],
          [
           "unsalted chicken stock"
          ],
          [
           "unsalted dry roasted peanut"
          ],
          [
           "unsalted margarine"
          ],
          [
           "unsalted nut"
          ],
          [
           "unsalted peanut"
          ],
          [
           "unsalted pumpkin seed"
          ],
          [
           "unsalted sunflower seed"
          ],
          [
           "unseasoned breadcrumb"
          ],
          [
           "unsifted all-purpose flmy"
          ],
          [
           "unsifted flmy"
          ],
          [
           "unsulphured molass"
          ],
          [
           "unsweetened apple juice"
          ],
          [
           "unsweetened applesauce"
          ],
          [
           "unsweetened baking chocolate"
          ],
          [
           "unsweetened baking cocoa"
          ],
          [
           "unsweetened blueberry"
          ],
          [
           "unsweetened chocolate"
          ],
          [
           "unsweetened chocolate square"
          ],
          [
           "unsweetened cocoa"
          ],
          [
           "unsweetened cocoa powder"
          ],
          [
           "unsweetened coconut"
          ],
          [
           "unsweetened coconut milk"
          ],
          [
           "unsweetened crushed canned pineapple"
          ],
          [
           "unsweetened dried shredded coconut"
          ],
          [
           "unsweetened dutch cocoa"
          ],
          [
           "unsweetened flaked coconut"
          ],
          [
           "unsweetened frozen blueberry"
          ],
          [
           "unsweetened instant tea"
          ],
          [
           "unsweetened orange juice"
          ],
          [
           "unsweetened pineapple chunk"
          ],
          [
           "unsweetened pineapple juice"
          ],
          [
           "unsweetened pineapple tidbit"
          ],
          [
           "unsweetened plain yogurt"
          ],
          [
           "unsweetened powdered drink mix"
          ],
          [
           "unsweetened raspberry"
          ],
          [
           "unsweetened soymilk"
          ],
          [
           "urad dal"
          ],
          [
           "vanilla"
          ],
          [
           "vanilla baking chip"
          ],
          [
           "vanilla bean"
          ],
          [
           "vanilla bean paste"
          ],
          [
           "vanilla candy coating"
          ],
          [
           "vanilla caramel"
          ],
          [
           "vanilla chip"
          ],
          [
           "vanilla essence"
          ],
          [
           "vanilla extract"
          ],
          [
           "vanilla frosting"
          ],
          [
           "vanilla frozen yogurt"
          ],
          [
           "vanilla ice cream"
          ],
          [
           "vanilla instant pudding and pie filling mix"
          ],
          [
           "vanilla instant pudding mix"
          ],
          [
           "vanilla pod"
          ],
          [
           "vanilla powder"
          ],
          [
           "vanilla protein powder"
          ],
          [
           "vanilla pudding"
          ],
          [
           "vanilla pudding mix"
          ],
          [
           "vanilla soymilk"
          ],
          [
           "vanilla sugar"
          ],
          [
           "vanilla syrup"
          ],
          [
           "vanilla vodka"
          ],
          [
           "vanilla wafer"
          ],
          [
           "vanilla wafer cookies"
          ],
          [
           "vanilla wafer crumb"
          ],
          [
           "vanilla whey protein powder"
          ],
          [
           "vanilla yogurt"
          ],
          [
           "vanillaing"
          ],
          [
           "veal"
          ],
          [
           "veal chop"
          ],
          [
           "veal cutlet"
          ],
          [
           "veal scallop"
          ],
          [
           "veal scallopini"
          ],
          [
           "veal shank"
          ],
          [
           "veal shoulder"
          ],
          [
           "veal stock"
          ],
          [
           "veg-all"
          ],
          [
           "vegan butter"
          ],
          [
           "vegan chocolate chip"
          ],
          [
           "vegan margarine"
          ],
          [
           "vegan parmesan cheese"
          ],
          [
           "vegan sour cream"
          ],
          [
           "vegan sugar"
          ],
          [
           "vegemite"
          ],
          [
           "vegetable"
          ],
          [
           "vegetable bouillon"
          ],
          [
           "vegetable bouillon cube"
          ],
          [
           "vegetable bouillon granule"
          ],
          [
           "vegetable broth"
          ],
          [
           "vegetable juice"
          ],
          [
           "vegetable juice cocktail"
          ],
          [
           "vegetable oil"
          ],
          [
           "vegetable seasoning"
          ],
          [
           "vegetable shortening"
          ],
          [
           "vegetable soup"
          ],
          [
           "vegetable soup mix"
          ],
          [
           "vegetable stock"
          ],
          [
           "vegetable stock cube"
          ],
          [
           "vegetable stock powder"
          ],
          [
           "vegetarian bacon"
          ],
          [
           "vegetarian baked bean"
          ],
          [
           "vegetarian ground beef"
          ],
          [
           "vegetarian refried bean"
          ],
          [
           "vegetarian worcestershire sauce"
          ],
          [
           "veggie burger"
          ],
          [
           "veggie crumble"
          ],
          [
           "velveeta cheese"
          ],
          [
           "velveeta cheese product"
          ],
          [
           "velveeta mexican cheese"
          ],
          [
           "venison"
          ],
          [
           "venison roast"
          ],
          [
           "venison steak"
          ],
          [
           "vermicelli"
          ],
          [
           "vermicelli rice noodle"
          ],
          [
           "vermouth"
          ],
          [
           "vidalia onion"
          ],
          [
           "vinaigrette"
          ],
          [
           "vinegar"
          ],
          [
           "vital wheat gluten"
          ],
          [
           "vodka"
          ],
          [
           "waffle"
          ],
          [
           "wagon wheel macaroni"
          ],
          [
           "wakame seaweed"
          ],
          [
           "walla walla onion"
          ],
          [
           "walnut"
          ],
          [
           "walnut half"
          ],
          [
           "walnut oil"
          ],
          [
           "walnut piece"
          ],
          [
           "warm water"
          ],
          [
           "wasabi"
          ],
          [
           "wasabi paste"
          ],
          [
           "wasabi pea"
          ],
          [
           "wasabi powder"
          ],
          [
           "water"
          ],
          [
           "water chestnut"
          ],
          [
           "water-packed artichoke heart"
          ],
          [
           "watercres"
          ],
          [
           "watercress leaf"
          ],
          [
           "watermelon"
          ],
          [
           "watermelon ball"
          ],
          [
           "wax bean"
          ],
          [
           "wax paper"
          ],
          [
           "wesson oil"
          ],
          [
           "wheat"
          ],
          [
           "wheat berry"
          ],
          [
           "wheat bran"
          ],
          [
           "wheat chex"
          ],
          [
           "wheat flake"
          ],
          [
           "wheat flakes cereal"
          ],
          [
           "wheat flmy"
          ],
          [
           "wheat germ"
          ],
          [
           "wheat gluten"
          ],
          [
           "wheat hamburger bun"
          ],
          [
           "whey"
          ],
          [
           "whey protein"
          ],
          [
           "whipped butter"
          ],
          [
           "whipped cream"
          ],
          [
           "whipped dessert topping mix"
          ],
          [
           "whipped topping"
          ],
          [
           "whipping cream"
          ],
          [
           "whiskey"
          ],
          [
           "white almond bark"
          ],
          [
           "white asparagu"
          ],
          [
           "white baking chocolate"
          ],
          [
           "white balsamic vinegar"
          ],
          [
           "white bean"
          ],
          [
           "white bread"
          ],
          [
           "white bread flmy"
          ],
          [
           "white breadcrumb"
          ],
          [
           "white button mushroom"
          ],
          [
           "white cabbage"
          ],
          [
           "white candy coating"
          ],
          [
           "white cheese"
          ],
          [
           "white chocolate"
          ],
          [
           "white chocolate baking bar"
          ],
          [
           "white chocolate baking square"
          ],
          [
           "white chocolate chip"
          ],
          [
           "white chocolate curl"
          ],
          [
           "white chocolate liqueur"
          ],
          [
           "white corn"
          ],
          [
           "white corn kernel"
          ],
          [
           "white corn syrup"
          ],
          [
           "white cornmeal"
          ],
          [
           "white crab meat"
          ],
          [
           "white cranberry juice"
          ],
          [
           "white creme de cacao"
          ],
          [
           "white creme de menthe"
          ],
          [
           "white distilled vinegar"
          ],
          [
           "white fish fillet"
          ],
          [
           "white flmy"
          ],
          [
           "white frosting"
          ],
          [
           "white grape juice"
          ],
          [
           "white hominy"
          ],
          [
           "white horseradish"
          ],
          [
           "white karo"
          ],
          [
           "white meat chicken"
          ],
          [
           "white miso"
          ],
          [
           "white mushroom"
          ],
          [
           "white onion"
          ],
          [
           "white pearl onion"
          ],
          [
           "white pepper"
          ],
          [
           "white pepper powder"
          ],
          [
           "white peppercorn"
          ],
          [
           "white potato"
          ],
          [
           "white raisin"
          ],
          [
           "white rice"
          ],
          [
           "white sauce"
          ],
          [
           "white sesame seed"
          ],
          [
           "white shoepeg corn"
          ],
          [
           "white sugar"
          ],
          [
           "white syrup"
          ],
          [
           "white tequila"
          ],
          [
           "white truffle oil"
          ],
          [
           "white vinegar"
          ],
          [
           "white whole wheat flmy"
          ],
          [
           "white wine"
          ],
          [
           "white wine vinegar"
          ],
          [
           "white wine worcestershire sauce"
          ],
          [
           "white zinfandel wine"
          ],
          [
           "whole allspice"
          ],
          [
           "whole almond"
          ],
          [
           "whole bay leaf"
          ],
          [
           "whole berry cranberry sauce"
          ],
          [
           "whole black peppercorn"
          ],
          [
           "whole canned tomato"
          ],
          [
           "whole cardamom pod"
          ],
          [
           "whole chicken"
          ],
          [
           "whole chicken breast"
          ],
          [
           "whole clove"
          ],
          [
           "whole coriander seed"
          ],
          [
           "whole corn"
          ],
          [
           "whole cumin seed"
          ],
          [
           "whole grain bread"
          ],
          [
           "whole grain bun"
          ],
          [
           "whole grain dijon mustard"
          ],
          [
           "whole grain mustard"
          ],
          [
           "whole grain wheat flmy"
          ],
          [
           "whole green chily"
          ],
          [
           "whole kernel corn"
          ],
          [
           "whole milk"
          ],
          [
           "whole milk ricotta cheese"
          ],
          [
           "whole mushroom"
          ],
          [
           "whole nutmeg"
          ],
          [
           "whole oat"
          ],
          [
           "whole pecan"
          ],
          [
           "whole tomato"
          ],
          [
           "whole turkey"
          ],
          [
           "whole wheat bread"
          ],
          [
           "whole wheat bread crumb"
          ],
          [
           "whole wheat bread flmy"
          ],
          [
           "whole wheat breadcrumb"
          ],
          [
           "whole wheat couscou"
          ],
          [
           "whole wheat cracker"
          ],
          [
           "whole wheat egg noodle"
          ],
          [
           "whole wheat elbow macaroni"
          ],
          [
           "whole wheat english muffin"
          ],
          [
           "whole wheat flmy"
          ],
          [
           "whole wheat hamburger bun"
          ],
          [
           "whole wheat lasagna noodle"
          ],
          [
           "whole wheat linguine"
          ],
          [
           "whole wheat pastry flmy"
          ],
          [
           "whole wheat pastum"
          ],
          [
           "whole wheat penne"
          ],
          [
           "whole wheat pita bread"
          ],
          [
           "whole wheat rotini"
          ],
          [
           "whole wheat spaghettus"
          ],
          [
           "wholemeal self-rising flmy"
          ],
          [
           "wide egg noodle"
          ],
          [
           "wide rice noodle"
          ],
          [
           "wild blueberry"
          ],
          [
           "wild mushroom"
          ],
          [
           "wild rice"
          ],
          [
           "wild rice mix"
          ],
          [
           "wine"
          ],
          [
           "wine vinegar"
          ],
          [
           "winter squash"
          ],
          [
           "wondra flmy"
          ],
          [
           "wonton skin"
          ],
          [
           "wonton wrapper"
          ],
          [
           "wood chip"
          ],
          [
           "wooden popsicle stick"
          ],
          [
           "wooden skewer"
          ],
          [
           "wooden stick"
          ],
          [
           "worcestershire sauce"
          ],
          [
           "worchestershire sauce"
          ],
          [
           "x-rated fusion liqueur"
          ],
          [
           "xanthan gum"
          ],
          [
           "yam"
          ],
          [
           "yeast"
          ],
          [
           "yellow bean"
          ],
          [
           "yellow bell pepper"
          ],
          [
           "yellow capsicum"
          ],
          [
           "yellow cheese"
          ],
          [
           "yellow cherry tomato"
          ],
          [
           "yellow cornmeal"
          ],
          [
           "yellow curry paste"
          ],
          [
           "yellow food coloring"
          ],
          [
           "yellow hominy"
          ],
          [
           "yellow mustard"
          ],
          [
           "yellow mustard seed"
          ],
          [
           "yellow onion"
          ],
          [
           "yellow pepper"
          ],
          [
           "yellow potato"
          ],
          [
           "yellow rice"
          ],
          [
           "yellow split pea"
          ],
          [
           "yellow squash"
          ],
          [
           "yellow sweet onion"
          ],
          [
           "yellow sweet pepper"
          ],
          [
           "yellow tomato"
          ],
          [
           "yellow wax bean"
          ],
          [
           "yellow zucchini"
          ],
          [
           "yoghurt"
          ],
          [
           "yogurt"
          ],
          [
           "yogurt cheese"
          ],
          [
           "yucca root"
          ],
          [
           "yukon gold potato"
          ],
          [
           "za'atar spice mix"
          ],
          [
           "zinfandel"
          ],
          [
           "ziploc bag"
          ],
          [
           "ziti pastum"
          ],
          [
           "zucchini"
          ]
         ],
         "hovertemplate": "x=%{x}<br>y=%{y}<br>name=%{customdata[0]}<extra></extra>",
         "legendgroup": "",
         "marker": {
          "color": "#636efa",
          "symbol": "circle"
         },
         "mode": "markers",
         "name": "",
         "showlegend": false,
         "type": "scattergl",
         "x": [
          8.520132370744223,
          10.866503161841353,
          5.044400754930827,
          15.519834265396284,
          78.60576974128585,
          1.9437945596577815,
          0.7789045085277394,
          0.4525568228070728,
          99.89251666563221,
          20.29827788987374,
          130.03414250616854,
          12.268330129228247,
          112.63800588546235,
          61.80967037222551,
          9.942007722530189,
          6.71333479104675,
          74.28545868623368,
          10.984337759615237,
          5.403587990948008,
          5.6983051959446165,
          10.004190204621217,
          32.07395680266958,
          25.94169320943836,
          35.39242160612449,
          49.529010252200415,
          125.3066635194438,
          2.6118867900739455,
          54.24110941403213,
          142.0516279399546,
          14642.740018910334,
          61.15944500006224,
          1254.4203604970292,
          40.0268484231939,
          1008.6990042465762,
          3.6694976363931375,
          13.816845081577728,
          26.64060584449998,
          19.9620471843485,
          1486.90855442352,
          61.031939886634454,
          16.155945830885656,
          59.070905304244754,
          46.500454760135895,
          11.904537299163803,
          79.04963745551835,
          2.4071125029352354,
          58.282999272180625,
          13.252568090124633,
          15.172626890395852,
          80.87189925870884,
          9.379754012316797,
          8.126105536974498,
          5.243418624069179,
          102.7550076993512,
          37.67339763274061,
          5.540835740024282,
          9.943888292849524,
          387.7948797793589,
          26.015343959318436,
          17.475422858357394,
          52.58538886339122,
          9.42892674926439,
          13.694421650180345,
          18.906948566506372,
          68.4417350230972,
          146.62952980090287,
          86.52056184754451,
          14.483776442684162,
          13.574179890974246,
          38.99432417758229,
          276.53085284729076,
          11.146339448754638,
          14.119839726910884,
          32.01963984101457,
          114.11545626301165,
          7.327509196537656,
          16.100783816686718,
          31.47409205461065,
          2638.269707624994,
          9.328654116476574,
          106.60925135171699,
          277.4749161665687,
          694.6057020638026,
          45.04495836363682,
          432.3839989792365,
          32.40798045659085,
          118.9010009616,
          61.417972677761206,
          1.27443866826254,
          2.5592298480862485,
          1105.279853667345,
          82.2515379753548,
          13.220013661851528,
          4.345568178371495,
          4.161117736756704,
          25.109325389603306,
          129.16408887088835,
          43.91428600108571,
          182.63580838871766,
          236.535863262541,
          59.053306392429825,
          89.36071233902125,
          10.666889307857922,
          409.90354430553697,
          1250.281326969286,
          158.22756979462127,
          39.09853729195531,
          5.165314809434312,
          51.076252152130635,
          260.62726955605655,
          7.8955498705542215,
          562.9359367451096,
          228.6554611362046,
          9.46244830783281,
          30.957193269392377,
          259.16926918179564,
          23.754944203986682,
          265.4225598789886,
          12.125542315775302,
          29.26221207340876,
          21.588050132400504,
          8.173815466725975,
          7.341255165501476,
          6.206716968551369,
          6.29306911784062,
          9.781345522901775,
          39.60317268489355,
          1283.5549846689298,
          12.571289117262427,
          29.132758837714892,
          19.608901634663017,
          13.060372842793063,
          33.77973510047054,
          509.15863317757396,
          37.36910631495085,
          67.11499665910073,
          9.31558826088508,
          25.310681312075022,
          9.437255374267936,
          12.80542983048644,
          13.628540700274227,
          11.996591263805328,
          75.65072054300948,
          48.7959936025574,
          50.009970393695916,
          11.817373765742479,
          86.19400928009979,
          476.83464447944897,
          230.30876950405246,
          1.4476036886022356,
          9.868721276865058,
          13.730301767463898,
          3888.433441523816,
          180.36861318174385,
          99.30805616918396,
          50.75073749397387,
          85.77581727709857,
          35.04918853945873,
          149.2789994199134,
          13.715893548753863,
          117.8832148012776,
          8.779668382446404,
          20.770468833864967,
          5.173781444452854,
          8.603417541257446,
          77.97565713112287,
          110.9633517851996,
          12.404370966658306,
          354.4439392136096,
          119.39051815295376,
          572.7359988161401,
          18358.283120417815,
          15482.216182741195,
          34.86500404930419,
          1895.884494049922,
          129.4602961323624,
          57.2392700986439,
          2937.210663458116,
          6.799412159539919,
          3.700363616237683,
          26.825450420205666,
          8.030675403059945,
          15.50618675514438,
          44.03124768844096,
          5.947626609468033,
          14.551651264105628,
          25.25221776605925,
          625.2109077366994,
          9.457115982965952,
          5.223360004240329,
          8.186758425660909,
          231.67924710508447,
          23.157289927762143,
          40.39139541169624,
          1802.4881188681893,
          492.8998191593873,
          77.3504621898469,
          27.522009838530373,
          289.17755748370524,
          11.38923188762503,
          3755.1794020925904,
          8.145911193929996,
          84.70076767863043,
          13.601732316823647,
          154.8384836540038,
          7.979335117991914,
          14.411993830695542,
          273.82833918594963,
          13.750015659826333,
          11.890366099415676,
          11.599992433121573,
          375.1429033639874,
          2.829130586129672,
          49.0954474614238,
          21.580153434210445,
          139.66151201468037,
          394.81151022653785,
          159.4696967624306,
          38.238243150228186,
          120.59140779264138,
          1678.3221848450435,
          82.66591728177993,
          87.58065636791979,
          11.950025372153084,
          99.35786284772578,
          7.2957149300452295,
          23.243710336782776,
          27.974729041801435,
          9.057812667338647,
          21.967474863655315,
          44.64282562093892,
          92.18258530931557,
          16.434891830909546,
          44.110288122559446,
          11.921826763672414,
          13.719157769192293,
          110.31773432345723,
          76.84471930625347,
          16.749477079332205,
          64.85970229541394,
          9.159564966959222,
          51.50663334208126,
          23.825071906435134,
          55.8854567116764,
          224.3525550026443,
          597.2869413579923,
          15.209824777431423,
          13.561600093915652,
          24.68020188895122,
          79.61668011233552,
          57.7115474375754,
          9.259753571501495,
          5.861393387624457,
          36.70948123108942,
          62.1892820575092,
          31.473308494155926,
          737.7091190971497,
          256.52164121466853,
          12.716818915988467,
          15.716334529141053,
          45.8010782170542,
          36.62892141547278,
          1350.992536893837,
          14.149623605493227,
          13.881315150400779,
          114.53138507809311,
          9.382924202116302,
          181.8623439977151,
          16.223413160918298,
          3.712368723304388,
          92.94897668509036,
          18.57746528951148,
          129.1940897917415,
          281.6128735542705,
          245.92093986135575,
          9.390756005303942,
          5.194946395751216,
          266.7840753712442,
          41.97746431229385,
          10.81157725581049,
          1239.4347215166365,
          7.282224783190663,
          4.807656774075002,
          19.963284330341633,
          19.90695733450673,
          5.386514018711783,
          6.902386498220784,
          31.864532335836717,
          6.831807303526663,
          1.3316440875174274,
          20.505838089040427,
          78.03482807201783,
          929.8932667550102,
          8170.776570126928,
          318.61254684282005,
          39.892715651959826,
          20.71294713748586,
          15.130933175086348,
          8.567922951169892,
          11.006061261439806,
          13.18896981867628,
          37.614187203687514,
          192.6174719693905,
          133.57716321518217,
          10.968613100042312,
          12.934070601698414,
          35.58959237374283,
          10.610416653697476,
          164.94636590427396,
          16.633237121581587,
          11.527106160170504,
          9.446999562843544,
          573.262972768253,
          23.087361512122907,
          5.711893296399852,
          14.103904165032654,
          899.593976088061,
          6.725184934719,
          44.2482657114895,
          7.24349854115607,
          6.387410934861018,
          12.64455487985662,
          17.751278357924743,
          6.433083867340585,
          12.450765795661189,
          21.32747902409672,
          10.283450037473058,
          66.49305616569374,
          1515.539940773246,
          122.39653850755997,
          14.607444620442774,
          2.679245577686209,
          3.3480592053710603,
          37.558122412133116,
          25.187735899659252,
          7.266899830857916,
          39.46041784075763,
          18.558722373281235,
          5.6062315756232675,
          11.343497790472252,
          15.426164498755291,
          9.895716265360965,
          28.067881652249643,
          75.93613069961518,
          39.44180215046315,
          242.1009138182447,
          5.771207645332439,
          27.3720758594638,
          200.83388393691646,
          47.93581935404087,
          45.251367898801284,
          412.5283516100378,
          10.391970319536782,
          63.47579655073318,
          26.79191710424927,
          1158.6455693381492,
          12.774435067754812,
          63.79279562097075,
          14.168359043022866,
          801.4819195928104,
          5.942891502414722,
          10.648685789245626,
          2113.4768692645166,
          10.44251655486211,
          180.17510304234037,
          13.758358138340743,
          8.326138167899188,
          142.9894637650988,
          13.353486808115534,
          18.50768873520286,
          5.702260685127109,
          18.528842189562006,
          15.736572085235151,
          29.097798773705506,
          875.3045481451793,
          16.400724679814697,
          18.88172157893625,
          655.5686984886495,
          22.117952451047174,
          19.14468245460582,
          5.761623974049366,
          31.224330758157997,
          13.914089468073962,
          18.676632740135116,
          128.41016216626318,
          133.1108302404254,
          6.11053130213257,
          27.500740984589473,
          11.068280836212793,
          18.606832541827803,
          73.05381368639307,
          84.68901760920855,
          54.377563568557505,
          22.921087422117346,
          96.3277294790616,
          391.71215548179794,
          73.7654525879226,
          17.70954083850016,
          13921.704450143296,
          9.675438032565365,
          81.74428462383412,
          31.92597415017437,
          226.2373790054006,
          8.022505664721619,
          98.14879693633196,
          19.422650948775328,
          23.252129998988334,
          4.1204381805517425,
          31.876456426616564,
          7.828634658588863,
          54.20964464102294,
          94.15030565155014,
          15.546153815188692,
          73.02362896917307,
          88.5671231591495,
          4.976738349385016,
          35858.40191812918,
          90.54575261755446,
          9.185693761759753,
          60.8988928545516,
          26.3292222039145,
          2.025504688430862,
          4.724211102699353,
          112.24443450154823,
          65.48295655977422,
          19.213025675261527,
          33.84396735232753,
          41.77311157535101,
          3916.598095948328,
          26.390032001806325,
          25.127216075362988,
          8.708522757438912,
          25.700372990078982,
          462.55473671563567,
          301.0892275117738,
          10.230687457113168,
          24.61929851936728,
          11.839539722411788,
          5.598288655499011,
          31.722211796703917,
          480.54335285956483,
          1162.3770407668528,
          10.63971824321403,
          6.6108344130516,
          33.69405267027999,
          16.27720183452213,
          6.7809351021412665,
          2.8899117907699745,
          371.28954155454056,
          31.589980970772054,
          20.512952450368182,
          6.3316332711560595,
          556.1520770174503,
          1581.5006662371225,
          8.655229264868371,
          11.413844130985817,
          6.990429307356502,
          10.127355776310576,
          18.335942740368424,
          22.00095157731182,
          6.784466524328815,
          1.5167369623948899,
          114.08304750122622,
          66.56939095328048,
          33.346581573479604,
          86.9529558491124,
          31.900168498030183,
          6.420048614696591,
          8.90122341434076,
          24.30789139593004,
          25.808545136959765,
          5.05426068904888,
          22.713879305129154,
          226.17283519627378,
          31.435819262636784,
          23.41906310137268,
          12.197862468672344,
          67.03853399920555,
          12.181714265569418,
          29.30504378031629,
          83.6095293065567,
          80.53522448576264,
          20.486289608065515,
          8.34954352576909,
          58.69034816664004,
          11.98294436003237,
          43.600847222299286,
          19.813354539286085,
          23.25840114465015,
          13.715452004588851,
          20.07783540983923,
          20.889464983426727,
          5.604589294671328,
          27.23236037565945,
          40.33411361798246,
          26.172133633442932,
          30.9565548801853,
          2.717568707523536,
          11.181673476038952,
          7.977455322836414,
          22.164005438122484,
          17.809411072282252,
          17.02746564954037,
          478.3048557446288,
          89.96182858511123,
          33.578602632135485,
          22.529007895794106,
          10.34458130381488,
          282.6083333114423,
          42.16774451297686,
          60.38180405503354,
          14.493389100946562,
          6.517953910633118,
          24.106175242118137,
          33.81140616146198,
          358.60061619818856,
          17.434819533697244,
          25.508842901556594,
          2744.300311552071,
          75.9232769469468,
          2.5043064555501227,
          22.363575939008992,
          854.055521596712,
          7.3868377059011285,
          15.01269924351535,
          151.385620051934,
          22.510453949335613,
          97.05758392386755,
          49.556700081335364,
          12.617699808826016,
          52.95432757583891,
          519.9298916673968,
          37.06869699782258,
          7.014723085319539,
          304.5502222900474,
          144.83919134628138,
          37.0155742210054,
          41.32066720397207,
          15.229375762182249,
          12.28597242160468,
          18.785027284836563,
          8817.150810756211,
          14.193138680217224,
          9.763281412708192,
          4.580902038244475,
          299.90264034591127,
          11.386356107141195,
          69.29450960858425,
          18.897019801371147,
          8.106626932869982,
          526.2567092180316,
          12.043996117995807,
          102.51449507180413,
          12.105454831513304,
          441.064932158537,
          629.371442941129,
          214.897900373266,
          9.937083685824764,
          31.998322875356227,
          8.490689274739523,
          1143.8723865984425,
          3826.954256132953,
          29.523539626222302,
          61.20604104594591,
          8.628940970602672,
          22.831500260850625,
          6404.421899122241,
          67.5847919453177,
          18.209986954525487,
          88.7246738061021,
          1611.2978655425381,
          33.56369701898694,
          461.5468901350713,
          755.1874949010924,
          19.95421221654574,
          34.4986269014675,
          7.665649896270635,
          23.251674930923667,
          62.99620752582107,
          11.246030030881217,
          68.01872840857493,
          32.18614699490294,
          6.477176046667723,
          42.97719183376671,
          11.548453354696736,
          38.36239726664,
          37.239443363532445,
          19.45352875922532,
          13.920783982927107,
          10.407977201469878,
          39.751084090674375,
          13.98217035173325,
          20.167264820262233,
          8858.727006928902,
          44.52140966200257,
          1563.2820620664932,
          19.66173164766163,
          50.000426942559635,
          18.161528365051787,
          16.962762401396734,
          12.770981945666495,
          5.763116006029933,
          60.125896568585844,
          91.5338547376501,
          20.648317040489125,
          10.334973526573009,
          24.813686927175535,
          4.42740880022891,
          12.16016151250273,
          30.751562682419095,
          12.256489340830777,
          135.19797937273896,
          10.450373528815739,
          12.419043023964065,
          11.729863612870679,
          12.65372343867392,
          24.265047996262386,
          5.506563248271846,
          11.454706556265126,
          240.5776662046866,
          23.697991865648678,
          775.0669537302402,
          28.60979459249866,
          12.953544744425013,
          9.488029843854923,
          20.44447114325348,
          12.002820261723453,
          16.884211244456267,
          9.673062727404712,
          1347.5931692455206,
          10.924109606889367,
          80.84320702002339,
          185.5973718448989,
          539.3216591296394,
          215.8387550423972,
          78.3746988369591,
          5066.925398572928,
          103.31500129234905,
          1376.2348384166705,
          48.48956226165072,
          6778.466797401416,
          3.2397408352540498,
          60.81504112291802,
          18.712874930072875,
          132.52419529779323,
          14.260899943581524,
          25.938244585478532,
          10.14733063775709,
          19.140502173426157,
          12.115272337607752,
          6.326162691448066,
          11.887082928696143,
          145.25929853831886,
          14.358752224330056,
          12.311740775429268,
          73.552324954357,
          9.063114979880307,
          5.436251553875011,
          55.67839382030402,
          355.2174436639405,
          19.071627401883752,
          32.966027282169804,
          7.483898502001216,
          30.415086705673136,
          10.123109935926756,
          2531.415933529489,
          85.96620933280967,
          39.215860120833426,
          6.360193182354607,
          19.105994889691864,
          43.340816709290664,
          112.74210334743255,
          53.75493811797311,
          806.5348285941874,
          39.27455664687508,
          282.0565234510602,
          6.870489837005699,
          776.5144464103498,
          31.222532936970282,
          1324.203060012793,
          187.7894084640645,
          125.03770189982099,
          11.02655707782195,
          141.3679167060307,
          64.58935169506117,
          147.37284957575181,
          218.6382163418604,
          52.56947854782849,
          4254.874538004915,
          797.1510388108129,
          11.849580753065196,
          98.59197481172308,
          121.62216218630655,
          52.26957511506418,
          5.644758865199549,
          13.001706912077152,
          104.60786661179442,
          5.616767587483505,
          5.087065018442038,
          21.21332977728941,
          27.333657932109926,
          10.885124311755794,
          10.952139061879555,
          17.276970191491383,
          18.33900302838656,
          9.542771583449285,
          69.08003006904589,
          6.718216210155995,
          1039.072198964623,
          632.1099209498082,
          3.3970482270369953,
          127.47435338408633,
          22.600397292856584,
          13.484331248557007,
          1.4385540908877659,
          103.99893754427059,
          6.849932972945284,
          4367.061015329222,
          5.699532920778188,
          94.71227646068392,
          11.049312168285688,
          11.47186056200974,
          13.234759441515507,
          12.144563496434259,
          39.133353422329016,
          47.34405058061055,
          8.561338454983597,
          4.838043749281898,
          20.388913766604112,
          9.885294682588555,
          13.127502180963159,
          7.450706695199926,
          18.39793740169895,
          19.46612697028953,
          13.103854032227341,
          28.03450998569326,
          12.259902006355931,
          11.058475763835503,
          66.8370279713059,
          8.408913938619591,
          18.82274189604908,
          140.90811152552538,
          85.03050133107406,
          4.39246066152581,
          11.86535737806442,
          24.860836481398447,
          45.024783700265765,
          3.178417012075228,
          26.388459101693112,
          11.585956726240584,
          204.66991239885553,
          29.96237772494091,
          13.968553263950284,
          29.31372530752064,
          5.383943363456565,
          4.240421289998632,
          14.355387207091235,
          31.06722532427807,
          9.576004371816246,
          113.83556098530174,
          758.2223025184616,
          96.26286187916702,
          17.988858967116713,
          203.22047229026876,
          43.155202276747424,
          6.947983134237697,
          11.527001319860155,
          9.537452768236983,
          9.342571788773542,
          29.435850174981542,
          123.03172586721122,
          105.105209716881,
          71.3728682706531,
          17.153611873190254,
          44.89518413353675,
          35.32921343811674,
          1517.7368282676916,
          1865.907815972434,
          277.5218529541825,
          10686.318277492077,
          11.626182929686207,
          54.33979794227734,
          14.498461595347743,
          7.191412843897554,
          3.2506055553233804,
          21.39566644037557,
          5.183086233758361,
          731.5838895680471,
          135.71155946433007,
          2.142661175523299,
          10.490879423605582,
          37.90266784787254,
          21.95434928979548,
          15.179075878488055,
          17.40777130111403,
          8.321815100409612,
          1.0420169075525865,
          154.29429480851113,
          16.60624973723495,
          134.78709956312372,
          11.104696215697539,
          48.026074792447815,
          42.93499812936803,
          13.126966898008384,
          1442.2898107039646,
          16.10906773586697,
          73.51746402206426,
          88.12011426712195,
          91.44894557120706,
          388.2991341329863,
          50.019760113302866,
          45.13784666542848,
          44.42333719874738,
          11.161571341491697,
          4.327259218128317,
          5.478852687286049,
          1674.9340841868764,
          3.7012742145272046,
          942.8300366076904,
          1139.9974768833692,
          75.49257246240273,
          3.7515366386496547,
          108.58312850277991,
          65.48006273161003,
          39.366664032887435,
          775.5004262582776,
          9.144338108233622,
          110.86603860382671,
          17.359713765574735,
          2.507735681718922,
          6.185405969709674,
          21.14711712645989,
          80.49873691727073,
          143.04975159748963,
          181.19063526367907,
          14.673888353460075,
          17.032917564206482,
          11.318062806804734,
          57.16994582965601,
          2.1036372426667818,
          105.85856090876993,
          27.393406667806964,
          27.784069259092302,
          28.161888372420275,
          7.203603911039091,
          14.632374263545994,
          78.07834095916132,
          153.4408226256237,
          1048.0228297475476,
          9.370378035238808,
          27.0043984687202,
          124.34951897329023,
          75.29657789723431,
          4.9513286908376495,
          27.97653290603071,
          31.331865223893566,
          11.416623451129496,
          13.876529840125684,
          4.6033467733728495,
          70.60761869851483,
          182.85192825090775,
          12.93192275493906,
          214.50956170562023,
          23.86747158982164,
          17.627822792252715,
          64.38397298959413,
          104.06252221960663,
          13.852201823964355,
          182.59303587447945,
          6.71871231525083,
          2087.3825582463637,
          27.84645083253334,
          10.82190613263095,
          34.706684238409295,
          18.56234232706054,
          7.69224631074718,
          299.4131282305187,
          9.554494384784128,
          48.00871351152413,
          43.05951103668658,
          11.447501704237713,
          12.499696520544,
          240.72734948553594,
          1114.9543742081594,
          337.39925662381984,
          6.727762396624064,
          23.159085997432776,
          47.05972096604563,
          34.83812080722331,
          17.08668772969856,
          10.64303491275587,
          604.6148197365092,
          16.631977309449173,
          16.19959307319647,
          24.028543451839234,
          6.485511641518935,
          92.09220465240712,
          41.70360074350178,
          60.998825999263005,
          12.085129598384011,
          7.044476756838574,
          90.27990528258758,
          12.684270303045206,
          40.038575679795265,
          45.66927389200394,
          18.96940508032216,
          1067.153349085045,
          10.98537302425821,
          4.8622303212238185,
          124.20393906877017,
          65.13883140379895,
          23.76621764882715,
          225.7533065635058,
          23.809654125553095,
          177.35317963166656,
          44.84620473359697,
          7.538243952618311,
          14.491274024852757,
          13.905207235132982,
          166.93594614223065,
          960.1583242077121,
          19.499906145224255,
          75.92057865695988,
          2200.636340355192,
          21.824506561572118,
          473.0893496875405,
          11.268046663968484,
          18.953454026113267,
          40.04746574708217,
          2.813304971756633,
          620.8165775567186,
          184.62211304257093,
          195.9019320542716,
          6.82282335271976,
          203.84126318108508,
          15.033636925636905,
          27.37313844883333,
          1255.817421331027,
          10.000967905176585,
          31.06813084340696,
          95.95265856954664,
          9.419772231536449,
          425.55135009633983,
          114.22815655285048,
          33.176642452871285,
          6.171937692501922,
          335.993408154193,
          6.8088406497459095,
          74.29481819438378,
          15.456570742382379,
          260.95539660038924,
          50.56277489644043,
          424.38734190716497,
          269.03835519561835,
          86.88091039503064,
          24.4095472300259,
          341.7942668808551,
          17.776996662427585,
          57.03884168491262,
          1312.8158517089184,
          4469.55973804543,
          18.704923260343755,
          913.5407106589411,
          31.547511169584652,
          12.090355208747193,
          18.552883727823524,
          67.28402527571117,
          401.9310749944713,
          55.19991875455473,
          9.050004697250994,
          7.4774557579751155,
          414.35022408698876,
          401.56017222427533,
          3.4831086926327837,
          106.24376047777338,
          15.594244157052993,
          160.29896813273706,
          153.8943524594341,
          83.33449901433843,
          423.38488540775097,
          59.31231314704519,
          21.68454952230868,
          69.38367242175832,
          1.7522256851579154,
          4.426947230517727,
          14.978256104990109,
          26.538741888420233,
          163.7888520871539,
          1336.6644242859634,
          5952.243504977577,
          5.049743427243396,
          17.426112539605203,
          241.51638267574018,
          10.707466838566697,
          878.9469605553352,
          33.64756329211943,
          1193.207288117362,
          12.245028116462171,
          49.18300972996125,
          21.880981943808948,
          803.3576294026242,
          12.999199666319013,
          25.834177348987097,
          26.57062686071129,
          1.2408248129019392,
          12.92277759895955,
          12.362457332128105,
          6.529909289134608,
          317.147892713142,
          19.771742113106882,
          514.8981206646206,
          8.698494260662896,
          2.7754791923781563,
          16.9889445000266,
          2.8579285507400782,
          17.73420894123028,
          167.3329878429685,
          54.39472541846518,
          199.02340091080472,
          34.198997250809484,
          112.58278311173265,
          38.848729790721904,
          238.3123707845959,
          31.827607873790793,
          6.818054105720277,
          63.591887700794224,
          18.157980704010356,
          44.636256295033746,
          26.565608316580196,
          29.082163152080657,
          203.87235220056056,
          148.61701759245648,
          838.7791432589983,
          90.31042126991204,
          14.323673244580721,
          1648.0993213348677,
          748.2251611567348,
          36.24483784086022,
          79.96771059753074,
          18.617741252236964,
          207.05918944249632,
          14.89843921419235,
          85.62567895688996,
          42.14393499895838,
          1496.1526834484202,
          2555.074898560105,
          238.93501166009403,
          558.0418078082779,
          0.7827707928720445,
          6.709235092895318,
          8.134256996730336,
          12.121662060708672,
          217.38566332171123,
          17.947585107417666,
          81.03404929950378,
          138.63527333988358,
          84.43677432060981,
          1819.6780733284045,
          6.75431055301713,
          36.989713131141045,
          75.60101109278774,
          30.950616917036047,
          9.308399180741846,
          5.453199038699959,
          10.037063018827004,
          10.71629480405886,
          90.2089721506912,
          1043.2062175402805,
          215.56719031156845,
          4.982575199388635,
          107.07490843502889,
          23.5472926004563,
          4.594803278389066,
          146.85196838449247,
          2.259172244000865,
          14.331745647681805,
          131.02982186227112,
          6.951182107015705,
          79.89369483363328,
          7.947408954936073,
          15.160385033324715,
          178.04775404519052,
          12.517345367227344,
          13.750791538237214,
          16.069117481508343,
          543.1137457875161,
          24.22927487514692,
          29.72428069785333,
          17.796008651868494,
          23.252756053554677,
          23.28756983890448,
          109.76344705900794,
          14.773794431908065,
          7.392810794428113,
          141.28666349266928,
          38.35583979251241,
          38.12550624249238,
          5.294646864861873,
          39.46306219668955,
          4.886057417555766,
          136.28414185345875,
          8.900309895518697,
          21.82281247106109,
          23.171953873212733,
          323.9964437866553,
          276.2737492086897,
          116.49164191102595,
          14.624788401764116,
          3000.3718969564616,
          8.688555857949442,
          4.425755167067018,
          1.742630347624133,
          1.9448615070927422,
          13.170191781360357,
          2834.7963425386533,
          8.592584845123534,
          388.1586996286286,
          21.645407990924404,
          90.21506861789807,
          18.751612113492794,
          461.58553533024997,
          33.8393468947196,
          10.10368218554857,
          13.967202148227543,
          106.49154480658888,
          44.68977103287887,
          12.391931689409802,
          113.09639951068797,
          41.51957025600123,
          61.11147944379079,
          15.86880751589356,
          4.25741165406346,
          23.009346960647907,
          1199.0745400055976,
          44.26577339498133,
          541.6875781672687,
          21.78829020160923,
          2256.565289422512,
          169.27487948323213,
          40.820311325300985,
          16.13287301809709,
          29.31258496456168,
          72.87219367692427,
          8.49281621281186,
          37.31518556211953,
          39.85725884436913,
          190.23248441267825,
          28.19085134920144,
          20.740260068987943,
          2.6743685774854504,
          198.33024275620747,
          8.255874253054488,
          39.43978673117456,
          124.01837835789641,
          40.353728556448566,
          20.07303507372112,
          6.962451452727898,
          93.51707598572719,
          76.67614406911342,
          92.4886622469539,
          18.73665048974449,
          34.20604316497613,
          826.2645739362212,
          112.49033957252946,
          21.396184208558285,
          251.58865780007355,
          195.98107876212904,
          20.84400159621917,
          85.14174601551615,
          102.59092069196394,
          37.22493415184787,
          22.127081670291325,
          33.718014381834536,
          30.70199409484902,
          95.54833054183622,
          4.676928471356181,
          12.039076445290421,
          13.774984551329341,
          24.109483208505043,
          48.405048631193,
          226.29990172912693,
          10.563056879036692,
          6.758946718687595,
          7.90916173178979,
          13.197056138478835,
          20.821368603421895,
          11.214455581332706,
          122.96759954318689,
          16.370300082933905,
          8.024691188379219,
          14.843492614017766,
          364.50386778165,
          17.78276680007884,
          112.27894902345821,
          22.968031507282266,
          33.876316204424484,
          64.67032157187319,
          59.6931639674202,
          111.19231103693727,
          344.9331697655523,
          9.84897914520576,
          3092.0773968122057,
          220.6733633943786,
          841.5402461671101,
          333.82755924004306,
          15.920703042157678,
          6.198482120599704,
          6.848925115868718,
          24.90742160754054,
          60.649983220537926,
          14.449078034657497,
          43.76050072045132,
          16.863317603095954,
          21.72810715028329,
          26.95522549795484,
          31.888777561767377,
          98.61521862468999,
          38.49630510899051,
          28.87753345762693,
          115.09232717902857,
          8.942161659869937,
          705.33461583355,
          54.1589690540521,
          36.91317438043454,
          321.67494666758427,
          39.78077335668637,
          31.645645115557652,
          13.041812663902421,
          13.309991923531092,
          17.593923458773627,
          11.213646467775678,
          65.82937970180735,
          9.253095092818002,
          5.23951838500807,
          23.732030734620608,
          116.71597932727433,
          295.67204937617197,
          33.750949244971075,
          42.687634983913085,
          2331.594605742012,
          243.00153112570396,
          8.737035729395343,
          12.045571030380435,
          23.395874860821937,
          18.68645232856952,
          8.853751134764284,
          37.007235912879786,
          64.23125031360323,
          34.78666695837806,
          21.93504031710854,
          788.5166330305321,
          54.11056971553807,
          6.440268538278089,
          83.9282876279312,
          13.813199137327226,
          14.846335043142204,
          11.810398209000498,
          15.771285418965055,
          72.33598000888357,
          7.748655699793554,
          12.836273726500744,
          15.981053841405409,
          105.16512488291055,
          173.5976773172608,
          2012.5593155442994,
          7.136378905699385,
          9.473736980120556,
          158.40160299531314,
          63.628644682652,
          9.524088824464542,
          12.303112923096256,
          17.02163170422937,
          55.094612016347256,
          23.02287665547349,
          37.49042444232033,
          28.822164126636494,
          588.4287612424558,
          78.4934637776866,
          33.94561057395879,
          10.595848163315555,
          662.005626638761,
          16.045720487432845,
          7.554735393347156,
          6.497135142905358,
          72.35769533443148,
          13.549985408575195,
          11.171534930306633,
          1768.5728925282156,
          10.68025841143653,
          21.215870040077274,
          18.363393103320824,
          20.11106288156467,
          12.77350190668385,
          17.693597886850895,
          7.789981721634455,
          9.006118809573023,
          20.667824876670476,
          93.31929084130181,
          25.758691973674292,
          18.826458918518295,
          26.494994081396186,
          6.267219433296614,
          15.555435495776337,
          63.70994957668991,
          36789.338316595415,
          117.53392127639303,
          13.560415203210916,
          446.10965006266616,
          66.13878216772612,
          473.6643989890342,
          18.59135188838699,
          2903.3978525856814,
          2165.0697448300725,
          96.6874863150055,
          834.8478991822506,
          731.9279973309482,
          45.71664436798461,
          32.7515503209347,
          124.6889362967634,
          11.719920153065281,
          19.560396715885794,
          163.12184702019232,
          152.98864452063165,
          31.15520263288524,
          16.99417030080226,
          19.072775827001475,
          10.816264595057337,
          38.60422131966637,
          11.7139214433021,
          9.148500709517696,
          52.21677786983128,
          42.014956455203496,
          12.206647339849939,
          14.776500754479336,
          36.98061108168239,
          1787.6672938605398,
          103.26499805362594,
          17.411317138420003,
          11.669094273083639,
          10.888120774121678,
          88.07004007614339,
          21.52306446710256,
          31.9342740746375,
          79.80248769617076,
          19.052934542212572,
          37.20356676479517,
          38.22166500801083,
          74.83921409288097,
          165.97600988737508,
          15.445115613699874,
          371.9744527460466,
          10.424116598032349,
          65.26471629566488,
          8.180932668245777,
          1359.4985289493443,
          209.95706942114757,
          165.7625768038842,
          171.94790646162406,
          25.466350252549965,
          10.105796515487429,
          19.283682565362582,
          8.179249250192633,
          38.74406316482449,
          11.885788570995079,
          18.088686296863457,
          13.610248433585795,
          18.899508631790674,
          25.992662289940245,
          6.415585608111751,
          122.82961857139773,
          12.403602593770684,
          237.36753109270555,
          25.404094486595575,
          11.060870371899632,
          20.11083769695685,
          42.86779534280643,
          9.22532044325088,
          13.133071741806553,
          11.398839640299053,
          34.58461097720422,
          25.5471655261595,
          35.32402902815352,
          15.351924108674392,
          26.49877556890121,
          339.2091428765809,
          23.02255311637086,
          80.1604098294328,
          233.35791522707657,
          547.3378795514935,
          13.952646788889107,
          69.0444489694469,
          110.2277560261214,
          649.7767918704394,
          17.292655631590613,
          10.891043613578574,
          253.7919071800281,
          18.873726439751607,
          8.257985112130408,
          623.9045851284052,
          66.68517754037934,
          21.377354471990408,
          184.13793035042377,
          173.00838131694246,
          12.225407337275225,
          5.796502479480755,
          24002.933843244,
          16.482452431089065,
          64.90466248185041,
          20.82057013408837,
          28.130845186819542,
          30.156566345462373,
          107.90170613230276,
          102.3196553928563,
          7.20267936740538,
          19.895133600127764,
          22.584985356682356,
          10.301933263683837,
          56.41251229155139,
          28.11224927892231,
          13.148530221911283,
          110.33815456366997,
          21.816730551466037,
          623.3643535926508,
          11.798387362522675,
          13.218691484162322,
          31.4316114123189,
          14.110813976091439,
          21.19308518764637,
          9.161750668961595,
          33.88533026535188,
          16.204360474059026,
          34.749180765042574,
          18.616561077343896,
          51.61427280989484,
          6.735982897552123,
          6.225145387221706,
          28.312640695687314,
          20.822756560096895,
          104.44009904819485,
          13.787274326334495,
          215.41045873038146,
          2096.0308256783387,
          669.8550766945376,
          36.75976539270642,
          52.01382166335041,
          100.21106407541383,
          70.38588150178666,
          561.8706087087623,
          450.29143766875245,
          165.28690017380234,
          104.96307814022285,
          39.67199777995309,
          14.737440231177944,
          55.45652416189545,
          23.530466923420995,
          12.050664660953332,
          50.374248139765704,
          727.1926183209916,
          2198.6234772527223,
          220.23719978518025,
          70.85594954617864,
          431.75577142918985,
          18.966670988038295,
          343.0280324347693,
          109.2463259417532,
          128.07625018317418,
          124.94292114750809,
          40.870653470381114,
          48.328130375785065,
          351.44062291094997,
          32.2532222403597,
          16.71782601177704,
          807.2990792031474,
          6.966257281213975,
          18.305416153851844,
          50.599192601349706,
          14.13877114774798,
          18.09398763076652,
          33.76980381775959,
          235.93798172232988,
          85.27019279284158,
          501.1797361389908,
          196.416153606741,
          2042.134431512126,
          298.7166466079645,
          28.03300592460028,
          353.01337774937207,
          25.108429579505042,
          3788.7599927521255,
          1911.4316768934204,
          54.21441236212407,
          145.6615570781979,
          19.294236458792128,
          217.0476371878673,
          77.04676239479907,
          109.47369074447037,
          17.112307226350403,
          15.372352004574427,
          48.27926645824247,
          2707.43496245838,
          308.9076904832967,
          64.25071805107014,
          32.96163562223171,
          1010.5689911807693,
          11.34053693369003,
          18.936245216615177,
          18.9221317860358,
          28.683597346772263,
          74.74871843972892,
          246.6439746524257,
          1463.0594985316843,
          16.83958605123627,
          48.58039255711838,
          40.63110011560726,
          34.359430228413935,
          324.8365642931365,
          520.4544285262194,
          240.52007258898786,
          5082.882109493018,
          320.17885567243667,
          37.58839250713709,
          57.162263882115695,
          149.56958008449425,
          14.678805804588029,
          35.32776929940422,
          128.06124325384584,
          23.4700387969032,
          9.713524261372356,
          39.46848440616342,
          11.030812086973379,
          223.7123716523765,
          68.48536075143464,
          12.852496788321556,
          913.3216161836633,
          100.5974080536786,
          326.53478230043936,
          116.59021689314326,
          16.16702837463355,
          11.535540207668484,
          15.624771682188308,
          8.574693270784238,
          45.48317342288226,
          68.73653533975869,
          36.973880432849526,
          16.336669704384764,
          690.6293207687022,
          120.20330623246616,
          455.3260383727897,
          249.63427181729125,
          23.265195214454483,
          1121.8836188237012,
          125.69327896257155,
          147.0376282089099,
          104.65891782811477,
          397.6937182887921,
          50.39483137840751,
          20.25951332299897,
          32.538116443539096,
          3.57284376349674,
          20.232509940416413,
          9.865872290299327,
          5.539671240401654,
          29.881312090293036,
          8.229149984805682,
          75.37474535641259,
          36.01740897454773,
          50.60497638431256,
          8.306805654598113,
          20.18679837912715,
          65.03536882056754,
          8.230559863437541,
          20.97501338831686,
          123.51563752785523,
          51.24806935546359,
          139.777012183616,
          26.90481704592569,
          16.637809884784915,
          64.38371698811393,
          7.068974631566973,
          27.066786090337587,
          23.121829746558,
          33.46043907943889,
          3.4996876854215158,
          22.678919189417584,
          9.40541061255171,
          194.02312943301683,
          9.227819809257959,
          735.749470555576,
          1.291441858405021,
          5.95543676820602,
          12.008526537089702,
          592.7949884758779,
          188.44443287428527,
          11.628959990637178,
          29.410022895214396,
          5.619658752306907,
          16.635573361134114,
          24.38342467613602,
          7.4153455311639505,
          56.878583553285125,
          13.699855204360562,
          7.162914526931395,
          18.432508976638925,
          10.765932276968657,
          4.361924192710827,
          12.71616875428224,
          10.59690444076194,
          19.645652662628894,
          16.68589888936433,
          5.348761095816291,
          103.34499712357217,
          184.92304339671983,
          144.29155152707753,
          185.6381749343805,
          10.633394697268212,
          14.462525854372105,
          44.60158586427199,
          11.223023151756776,
          42.5368763758269,
          21.893302472172934,
          2.4614715352895797,
          27.80531736594514,
          240.8059400591281,
          8.75758436024679,
          24.795161181634793,
          26.94287699069025,
          153.5814573833562,
          989.5606021468014,
          7.13348759564469,
          16.002743994185064,
          22.183335579920833,
          66.47041339745763,
          7.344190291753881,
          26.75199550744109,
          3.3036722916999937,
          8.782396696317607,
          6.582882530673148,
          113.40922384912965,
          10.25606914743524,
          107.85504801219942,
          8.964720154250827,
          26.769714434042882,
          19.78256754483285,
          7.854577579925572,
          6.754997762569972,
          11.668094690632218,
          481.7776705787193,
          99.60194005689398,
          7.3776316673160105,
          16.459941589472404,
          19.07953977871099,
          8.716013718525373,
          8.131631179588446,
          45.01593080686603,
          11.449188522237428,
          11.865823138897543,
          12.111066514772284,
          50.212035096670526,
          3.8995389242044656,
          122.01874831797863,
          12.381153057042075,
          14.184260483193786,
          121.43553581256175,
          3.2196547800307087,
          3.050967499598476,
          127.24923396116363,
          15.810231483921704,
          54.16980478206439,
          9.199063509270683,
          5.7117979182284495,
          12.540671570738871,
          10.901870853631088,
          19.753328726528768,
          25.40497173338621,
          37.36601583851831,
          74.3783335886609,
          11.944608226981243,
          46.45343641416194,
          9.921153677716461,
          24.3512875608411,
          36.189245790374734,
          75.93990992009371,
          4.968402441548545,
          35.712372001193,
          21.188914666601633,
          2.8421275055857347,
          483.30304486060044,
          56.0631022719953,
          353.1221612327493,
          11.559266093373095,
          9792.929357209165,
          10.500498042762864,
          23.604172677115688,
          15.159585098622566,
          14.326025793513463,
          10.851260641061932,
          18983.653717046924,
          38.62708712174172,
          5.287326405881393,
          93.09865921670225,
          18.40468088029904,
          4.8480928700009915,
          12.543788797903131,
          92.13299523790319,
          43.48581564948958,
          5926.544695985226,
          1320.9285952584305,
          9.88857900429919,
          6.209683284919528,
          7.3960012098060455,
          81.36053095411762,
          14.456668943573183,
          11.0565975671017,
          29.576201548242157,
          7.715255057633365,
          8.757273027320927,
          19.186210733999744,
          184.80224447305562,
          35.7518524513705,
          5.243317334834653,
          17.397162403855432,
          2241.7456435756717,
          59.6980658736858,
          1.4820365765419707,
          14.581560759074703,
          86.16452913523433,
          129.83823805074854,
          9.979894852775736,
          51.74630814613973,
          693.5570570717165,
          30.290078700950275,
          9.21759745725,
          28.98803921359848,
          21.26887356896038,
          45.896321622689314,
          47.50894282564058,
          43.7000837288256,
          12.482708848538872,
          5.366549589872034,
          6.01856448687797,
          54.972935091453316,
          313.7543086857335,
          9.355378255185334,
          7.1785786538293195,
          31.405053204862266,
          5.864241281220213,
          87.82771102664802,
          8.736599665598794,
          96.09614631852101,
          11.442653881873296,
          8.503998369869237,
          562.2456674395204,
          12.99968257096244,
          183.24366594486264,
          3.5116840778145324,
          8.28949660741266,
          169.20966797664164,
          104.28412245321016,
          171.89670545084164,
          526.9994953679535,
          8.972528143112696,
          94.47335529347073,
          63.630736816483,
          15.469940166777175,
          15.58499957893703,
          7.5283514102265015,
          29.56724113953492,
          93.71385612960077,
          22.326008265745248,
          113.64546226057038,
          29.66652993215726,
          609.6063826613116,
          12.646042345773004,
          104.32495954285199,
          86.56707582775,
          12.575649558478709,
          4120.5299239101105,
          51.855833317514346,
          31.27885847555647,
          14.482913739316457,
          14.21755743976544,
          288.54501742794633,
          32.61102518695418,
          37.65198768544323,
          43.819636637721956,
          9.83749213629516,
          69.33480664184951,
          2.9145077441201943,
          43.44401143687171,
          11.81300600326749,
          227.67328251956974,
          11.42959280944568,
          7.913364959469075,
          20.179519280860127,
          17.89153312742036,
          7.439932867660016,
          226.12849347220734,
          48.090479707530136,
          79.51081586894438,
          11.5724026050112,
          949.1485782131433,
          2504.2457604118763,
          347.57878131002275,
          64.42383193098728,
          30.491544929961524,
          43.130036152431664,
          188.54424132376803,
          264.80350146969323,
          29.843817134269827,
          1078.9418704164668,
          10.726886457330268,
          7.320971847660348,
          38.42092230039871,
          37.51949267367029,
          141.134449654635,
          19.13918206280014,
          35.928957674426044,
          72.66978427384595,
          6.333482672847317,
          303.36282000649794,
          5.378659636856382,
          172.8053668859977,
          3612.849377237377,
          8.474646255992857,
          4.358056958073442,
          36.79895961936516,
          8.714289894253033,
          44.706632493029566,
          45.768639277804844,
          7.2224902133237805,
          9.629909314093972,
          4.877605442569787,
          13.635880965349429,
          87.66530918636619,
          24.32214647448791,
          24.62602539408062,
          18.83967933293865,
          8.002655204669706,
          12.27175807314861,
          20.786987279707745,
          5.520164740651866,
          133.8645092165737,
          791.9514965204924,
          199.8865110986192,
          9.062536379683346,
          20.500042592003247,
          8.974270502296456,
          3877.911696004815,
          6.909254428601423,
          2301.4526323813798,
          20.658231934134847,
          9.931950507462926,
          512.7705887193883,
          236.7521812099206,
          16.481087052425714,
          228.9167846204525,
          15.81449504484142,
          332.6349734237542,
          4770.406805211573,
          1738.8038064066816,
          27.12568338406604,
          1170.2178818150344,
          3596.685725512329,
          7.563783935636081,
          52.368670715578716,
          15.33033279745337,
          205.93643725314087,
          2351.8018570170675,
          20.665815432504463,
          19.195562470933446,
          186.44754126862864,
          107.02674655225997,
          99.29893589679428,
          14.266479971918756,
          41.94497866038837,
          7.4227743433363464,
          316.3552283971159,
          15.376313243927024,
          2164.5421211408393,
          67.21917422784817,
          51.57025753661166,
          38.048721332376836,
          671.4811270076713,
          565.3075545298877,
          26.51209328098446,
          622.192361547628,
          24.59201377372688,
          118.8852044784741,
          151.19381002456166,
          134.51074156377283,
          21.044170729881053,
          131.78349399219698,
          567.2543979361564,
          95.6273557293526,
          434.2299864917053,
          88.50256949273675,
          40.27623116329896,
          54.14398319168128,
          8.528099469475054,
          20.473420102264242,
          101.4315421245557,
          294.25602038028194,
          124.50926265366125,
          36.28006802502037,
          8.50145116531059,
          3.966367083635429,
          2.7578444134582405,
          66.79955886173965,
          34.264132196328305,
          7.576313039049401,
          20.515737074525703,
          87.91271434679739,
          13.962788641779285,
          25.023117723425564,
          38.15526098757552,
          13.474537997049783,
          12.079595158780174,
          1633.4356409914176,
          626.7324168575558,
          34.213957233435686,
          75.57189957948529,
          42.55341463784997,
          31.068043279173963,
          990.7222405333949,
          60.57274885032406,
          73.80646615272947,
          20.916071472910755,
          44.15340501415913,
          9.569742396481441,
          312.0428435524061,
          455.1242924305205,
          32.41944745293265,
          12.763034465455513,
          10.969292221911685,
          6.548555747749087,
          17.092005057492276,
          28.68082111991068,
          655.0046485470519,
          61.682895313206046,
          66.45034223469298,
          69.61897540032555,
          79.79438447903837,
          9.177710029607407,
          50.497445631452926,
          68.15907904984229,
          47.15506748133137,
          8.90034890493343,
          4.23387945453724,
          219.70415561488954,
          8.132264780784185,
          6.962789123487158,
          4.101583014327801,
          17.021750746803985,
          67.83389089108955,
          12.384231849707191,
          81.74275705205,
          25.11996931567678,
          7.542622527258873,
          30.68789113313391,
          2607.0330431364723,
          485.901842681855,
          13.531789841092952,
          7.196527280521689,
          127.17872354873262,
          55.90394774587075,
          13.64628536210528,
          29.74396203637286,
          10.854733163100605,
          15.93266326559126,
          7.216655876291839,
          131.63474157204692,
          8.23786390177176,
          11.18065738069939,
          5.8439772087744135,
          7.787638223019665,
          5.597495921116406,
          10.339985369894194,
          10.423212245335934,
          84.58253954758727,
          322.8829244392392,
          13.403965483743386,
          10.572281082141815,
          7.429853023949148,
          60.76647291286001,
          11.02326593872511,
          4313.41038629107,
          5.357673752778958,
          19.335627852710495,
          13.794628474857962,
          91.31756779639825,
          12.432918172454707,
          13.898239926770854,
          10.826234420414824,
          5.52398935037216,
          24.615861476694402,
          13.257923390319473,
          595.7515554551721,
          17.047875997970415,
          8.437547191089067,
          33.0583732609208,
          6.082050277797913,
          7.91653125849913,
          28.18242457546612,
          10.61625148854975,
          13.302548700779816,
          28.95901646972583,
          14.758717789803741,
          56.95590417792766,
          25.414665724899926,
          12.171518375867505,
          3.491640960268212,
          6.701154660881625,
          51.660803543533305,
          171.6915700977109,
          69.42486568850073,
          16.703483361302492,
          8.440050185371152,
          34.422716275853176,
          11.027672420208164,
          16.215878182883714,
          51.9435982433218,
          133.61556785488128,
          121.5031226440386,
          7.872829112084384,
          778.7408146205639,
          24.704235706453016,
          25.984534773590145,
          101.23650847437439,
          35.496102349491665,
          11.458031775806308,
          16.142259006788112,
          1177.328936723511,
          8.391359192998152,
          1119.8802398700043,
          4.565651988655973,
          34.63928640987384,
          86.90649434130854,
          181.410211434824,
          71.23749342598362,
          2.9421068623977846,
          0.3883891774454495,
          212.93258960905249,
          167.4836811929722,
          66.19741375104499,
          812.4747555439907,
          82.08405029305938,
          11.748612372109095,
          100.09983149274522,
          14.485692875139538,
          34.512837185789806,
          11.635877493273028,
          41.15595369994691,
          37.55188022411755,
          2.649152668651337,
          36.7442966360616,
          78.52192325751989,
          7.671077499327721,
          167.74831094929925,
          13.355450032603356,
          254.31505499563332,
          33.54510710856246,
          203.4488941392302,
          71.41316822680777,
          20.647403256063967,
          33.758955222887025,
          19.518864649928734,
          14.560442962473187,
          81.08477174110578,
          30.07030556323388,
          39.11861756266207,
          33.09619494956916,
          77.51072183444053,
          11.241700914410243,
          47.169406495716466,
          120.31949185858718,
          24.394090011222165,
          11.141988014978827,
          39.355445746708895,
          4.8269530833589736,
          103.6932351326281,
          29.424773950330778,
          151.84496774865667,
          6.387999994473192,
          3.9877455044205066,
          236.72327771451125,
          14.888168433233897,
          25.795202968604208,
          6.471654315987745,
          75.2801303669232,
          32.99546475743592,
          25.453117476618825,
          203.5342383023985,
          93.16876936070601,
          15.27679614717793,
          69.42227994699833,
          57.806213316975274,
          220.67325276198056,
          8.962141698222009,
          83.82557923811652,
          16.986993492876188,
          312.88698440390425,
          1189.1732647395052,
          74.99161300832169,
          37.741428078078,
          76.74576670284968,
          34.55804582991208,
          7.889071777277243,
          938.206775704193,
          29.044462885065585,
          29.557762367768234,
          28.680196029436637,
          1223.4882234358035,
          7.62341781731636,
          140.36256473742364,
          12.303253525724408,
          40.445558568743955,
          10.146979693517949,
          36.668674296895304,
          92.87347008571619,
          10.893833203162107,
          3.633112630988935,
          44.693150678558375,
          3.675047057482466,
          24.55365466480372,
          7.47432768262889,
          44.727581744726436,
          6.809730736576237,
          11.018452669583809,
          82.27080839602144,
          57.71113279951517,
          57.64453397856267,
          10.829530393924898,
          69.58807170146852,
          100.2236376552536,
          34.68098777669713,
          21.192852795575043,
          9.04834163296946,
          61.93589388633285,
          156.26696861729357,
          89.6396887004167,
          184.66070540816494,
          337.8131106045686,
          186.87312509717793,
          11.79725260833762,
          19.40484961781968,
          31.245600755550125,
          8.636554706148477,
          51.14531062703007,
          2362.390549433635,
          29.355174462071403,
          13.849118256173897,
          71.99016179748303,
          11.861682789830754,
          1370.0764037192878,
          196.9704081122756,
          22.137115562547972,
          11.501427658018132,
          28.717291832420262,
          66.77062329655865,
          46.723453959118174,
          74.21923966868077,
          19.59206691877196,
          4.956609033052705,
          1850.4204638307438,
          43.60933590884969,
          33.522347857134775,
          16.73731237899353,
          25.187721064585226,
          24.009554916912414,
          136.63758913279705,
          56.31995966031095,
          11.663193660360962,
          10.753716613559424,
          29.739590854331993,
          8.649134803705657,
          59.639709156987244,
          43.35221807968427,
          9.534350815529491,
          22.151805269320977,
          7.635551364368479,
          190.9526723678159,
          8.277286012383078,
          119.436434308958,
          8.471877311053674,
          9.160584238856913,
          10.073695605077466,
          20.12529646812696,
          404.2319141109605,
          341.1794079622245,
          12.51213186216701,
          9.333401592583662,
          6.020115802205177,
          5.3968330188617655,
          23.834041969799088,
          29.8004451391243,
          76.04951021294404,
          5.889116713945461,
          67.77836782531536,
          73.68499597592951,
          8.772672529212418,
          2077.5716589416606,
          13.624371174665352,
          28.241478301990167,
          38.38004633954753,
          13.493077073982588,
          19.438547315944856,
          140.54203058441365,
          50.82068574427045,
          40.733761449605105,
          24.326549116574228,
          89.27192016952924,
          13.603236139913747,
          12.643876532098613,
          8.269525036924456,
          7.076332587842566,
          46.875492521444244,
          26.581127383624434,
          942.2705815453127,
          10.691610795309838,
          96.78631514375991,
          1860.6970351671375,
          8.057163507405763,
          4.276248071802154,
          34.568797864625274,
          354.5950864093496,
          27.353991313004983,
          13.118847974753063,
          40.76714470624154,
          8098.582376059349,
          14.2876333197029,
          507.5955287490102,
          302.89146643592204,
          73.92706417969052,
          12.748326718277655,
          8.679482026812469,
          482.6330978120569,
          65.94338482404557,
          129.27063779296088,
          4.355490071558448,
          22.63525502223875,
          7.733006647363762,
          8.848625469418462,
          1.6768155223901713,
          354.7851223046861,
          61.86869120062873,
          1178.1326457501789,
          26.797869104145445,
          138.04106633429345,
          1069.9452998186391,
          311.160059913865,
          558.3344496208796,
          72.29841607870216,
          13.79528161482936,
          11.906007654567318,
          1.0036249343177515,
          7.1115619734605,
          183.45680508118556,
          22.69942165698151,
          33.086666877547074,
          207.82455972934002,
          102.16265216957652,
          154.16441089300005,
          328.5403106414187,
          2341.9968634488196,
          24.884594485065275,
          6.947739131304403,
          24.789461584550885,
          3.7571541863883913,
          2037.6963745685487,
          80.25470279551065,
          9.092201738162679,
          24.05894066395765,
          124.21426264099763,
          647.4476437123437,
          500.8656103148736,
          30.073532201199082,
          7.923550362852116,
          60.93935052623366,
          5.0519562021634945,
          86.98092738013925,
          10.703424608672094,
          8.525375199440992,
          22.50958264545076,
          25.305198700601064,
          5.77481294146941,
          280.9517551479867,
          16.46920190778523,
          4.706422847817721,
          13.254996444410828,
          15.815853915889488,
          43.71022028886271,
          6.604293329130363,
          84.42456972011108,
          667.6259732681982,
          13.645093140492678,
          20.97815695357066,
          1548.230174844239,
          74.46091804791405,
          95.87869357289017,
          1.4601179424410329,
          15.25888009664902,
          46.44431918163517,
          208.4212757296665,
          337.95285049523284,
          48.20281941280248,
          368.24427929039007,
          49.830334272563114,
          4.975286138971601,
          19.972526798165227,
          128.98602526414697,
          22.146342887237402,
          14.515354872710159,
          11.01204831407748,
          406.08963004338716,
          20.85918213076418,
          19.855686513904974,
          9.947207100477916,
          31.145851426421068,
          9.718296313276472,
          114.04068375734374,
          11.787086275155339,
          25.48934325684481,
          354.01975270783083,
          32.14917909524028,
          4.52458515043347,
          7.856513413472885,
          18.58166375955962,
          909.8240096017089,
          8.724919965071438,
          41.05157809989958,
          23.528502557559626,
          21.42649674857334,
          5.741499268577258,
          27.422185522074855,
          7.49811196042812,
          65.59150682370996,
          59.20626421110257,
          461.9606938459871,
          123.34397329171274,
          255.0331796537392,
          158.36435277335244,
          22.92323664295563,
          73.37042822381305,
          9.369268416182392,
          10.772116563576644,
          181.0019248438866,
          9.332042416725297,
          8.149794229197006,
          22.368577031733857,
          6.993997334826637,
          330.2781389139538,
          6.423548156113845,
          340.1374497504552,
          20.921378008613086,
          24.71854099809191,
          34.54384131469281,
          63.622903006754605,
          3.6435011097951397,
          3.89188708230436,
          164.45276297349582,
          59.839650740460925,
          39.3139723624966,
          8.050927013398374,
          22.6948978366804,
          7.786072505313171,
          28.037884140646238,
          72.04131023680769,
          15.59268552202515,
          45.14209636479904,
          251.71658360078877,
          23.57846657720525,
          45.146282520809685,
          12.246618275970215,
          6.04038164624822,
          7.436325408552415,
          421.23274536860526,
          96.91776579545329,
          11.188253794734372,
          10.453162884671533,
          21.08160759443391,
          3.9979071308498204,
          10.712976656943232,
          75.58199834144236,
          5.11855003037201,
          6.375651017643336,
          5.4773398454549165,
          134.2150041470344,
          18.72873366307742,
          1200.3971720239938,
          75.24367641518977,
          367.8425261706696,
          33.830885058379586,
          3636.2486486018124,
          8.46318149845771,
          31.994799925773663,
          237.1928273042766,
          29.402686311368967,
          148.41891138451282,
          390.15884780214424,
          14.940937066742995,
          34.245976152198004,
          15.411739990764033,
          5.191562301096006,
          32.90955088246993,
          113.13819361543622,
          378.8676818296269,
          112.46936289197401,
          106.00334836605609,
          16.736125594367472,
          45.4776507863098,
          12.811975565898617,
          11.636525218077475,
          34.95645502388195,
          117.52157732508667,
          302.3955086259362,
          434.3121068947634,
          92.11054458966987,
          15.146585660310043,
          105.70616517167348,
          5.857168390218006,
          4334.930111422212,
          12.461613353229184,
          35.84205480527371,
          104.13534248830923,
          11.996154131175615,
          22.82946386935463,
          98.4273121795318,
          10.465731163402411,
          16.513812558664153,
          8.661655737291138,
          86.67612119570366,
          7.325623422046218,
          22.277160586591624,
          37.460771937048705,
          53.190161453327924,
          402.99283643311753,
          9.01661096602792,
          12.608176968263479,
          11.602350792802667,
          2.8860158830848537,
          1.1544711292474208,
          38.99990356265124,
          17.916810204132698,
          3.5037106864533474,
          149.8179901381055,
          26.23295781560503,
          23.59214953658912,
          15.163137936113095,
          16.9449226732597,
          7.39646320895322,
          43.90217329979569,
          9.793947810820661,
          39.00050832534805,
          7.106274494027503,
          6.14844122869352,
          19.84762301438347,
          4.189963172177382,
          10.9797369289187,
          7.079576664471602,
          30.94302008686505,
          20.57817242730256,
          46.27587756950908,
          11.040437640727754,
          11.755318532522226,
          75.77986681323507,
          19.90648184964498,
          42.483178655038785,
          21088.86427378801,
          81.29640590471621,
          364.3820895803544,
          7.561535924402013,
          19.138647352737266,
          8.24670897472444,
          11.336135386750897,
          47.52761501436356,
          16.22810375468389,
          49.779689364533574,
          75.86458443165373,
          514.9189839839256,
          99.31433977820436,
          73.9001333243223,
          7.123954729700965,
          2.1655943504747746,
          236.31358279859404,
          23.74883921138566,
          35.14718039135382,
          6.746502372378005,
          229.70796483003738,
          7.409615825785623,
          92.21210258338274,
          6.150254193632366,
          94.66186739719156,
          15.66805958815656,
          26.35079793367787,
          12.75003793338246,
          192.28586030212796,
          19.976885072724393,
          140.04625358471776,
          28.544276586859453,
          38.40159031043946,
          31.76124652344914,
          21.152394860878314,
          39.415139134092726,
          19.957940966958404,
          25.72733669035375,
          70.59076166156554,
          86.82375686496113,
          69.2088404325981,
          98.6445346372121,
          72.92061764712805,
          19.184873250179,
          5.605671191824412,
          161.06992186225906,
          129.45534473684978,
          21.129879737833743,
          133.61862558823907,
          8.476425407989636,
          19.40763670816577,
          1405.2027938539072,
          5.148408359129207,
          6.974977461816907,
          1443.1575901088179,
          236.1473423501328,
          61.65106368036316,
          7.544981997678698,
          10.601295223805723,
          8.222971515243788,
          1.8667596989623854,
          28.706085153361357,
          9.186232887819916,
          3065.0891260448725,
          77.20961507954156,
          86.9871238609775,
          12.296886449270431,
          9.142714885197034,
          14.781520687378254,
          15.991491694756014,
          24.232294712378526,
          9.099244040377348,
          7.518039685578755,
          3165.8293142321977,
          40.36701032281199,
          8.221837181229148,
          6.687259621508806,
          53.52492322880383,
          64.22269219894577,
          9.542613656189252,
          118.70522442716558,
          102.4358674995468,
          1633.4851548259487,
          25.567157757968946,
          17.14801159345901,
          383.81039528804723,
          387.62984085316634,
          23.41727379749973,
          10.221463624086704,
          6.258625992959844,
          8.357175221119483,
          6.841874152213391,
          12.693825329077837,
          104.12026834958834,
          10.653487557145311,
          12.165567114304713,
          130.36339636989462,
          37.250093471346965,
          67.67707172396746,
          133.8123386500302,
          52.69084840788934,
          15.576682241129008,
          12.2924172570552,
          86.43702324150877,
          288.22758754948455,
          29.064614238246843,
          11.292644369738715,
          9.13545104366897,
          17.442692112948762,
          5.192631437001109,
          22.577008515774065,
          36.38467407988897,
          18.76458368446661,
          16.65083836253615,
          18.613718076126723,
          9.889147483375,
          10.598128199853198,
          281.07468946289384,
          22.812053341628776,
          2343.422898646625,
          66.7107963511512,
          17.15755035475861,
          5218.110874291069,
          13.854741863646487,
          10.25901765306841,
          1539.7563178909404,
          247.37819775212466,
          79.14905280998516,
          967.4912205848075,
          572.0776872221693,
          6959.0650181918845,
          9.13084051581281,
          10.74416060743519,
          11.052171900130082,
          113.54754633312378,
          10.092896864452007,
          312.7099616839695,
          6.737891594596734,
          473.1014682964644,
          76.29889234599457,
          86.47729405786107,
          239.5579570739482,
          166.63615016766266,
          9.306109052633708,
          19686.830603723298,
          28053.072915982637,
          8.213966147110186,
          85.36400379005636,
          7.634094957442082,
          15.88893142552649,
          1807.9272327826607,
          13.05150182770054,
          14.542782294453307,
          222.93004970043418,
          14.874063629312927,
          12.060052630372978,
          331.0093442428708,
          630.9523239968086,
          103.97089334391191,
          6.184814121527488,
          29.8210836106134,
          1.4784586308344436,
          3.3576038327264977,
          154.92167075379484,
          17.20235712712447,
          15.355706097657718,
          21.288194558996626,
          19.81594915471057,
          2318.639828432386,
          97.384589670558,
          79.08186937995947,
          286.1796343193073,
          302.4185265935461,
          4.323634207431408,
          5.73004715791911,
          669.2560707053419,
          4.591724753092898,
          8.525618045500854,
          28.549612738038267,
          21.58586607997351,
          5.413001167192218,
          15.077982571973202,
          39.09384196601528,
          1.2354058125353624,
          8.34062433910373,
          8.711642493082712,
          1039.4629133594908,
          10.0524569713589,
          30.70875046628534,
          81.0279867056559,
          48.83911388521291,
          170.4364872764599,
          10.058971572798649,
          28.630480372331906,
          30.73542658857506,
          26.357426288968465,
          2781.9488060840667,
          10.385685615784068,
          167.72307780802424,
          10.412746624485742,
          20.305879974051805,
          6.43774862651291,
          130.94126156787013,
          16.24086038224003,
          29.247119808680075,
          351.1954586474087,
          25.513705911185063,
          9.393265137859634,
          7.212722633657564,
          18.51141022769747,
          105.41396662632255,
          17.230857165371262,
          17.933991907398294,
          303.6754825841257,
          21.05088658027638,
          8.163542446402378,
          4.360525734460601,
          7.856233641206162,
          48.70275068070644,
          22.10877762367264,
          10.736078724274233,
          162.20238783609904,
          29.04811592936013,
          328.6285806987359,
          94.23565678093077,
          2.2297785789821205,
          7.424124452451836,
          7.1868002909305115,
          5.146446018290683,
          15.07060644907685,
          5275.699848808128,
          11.245584316713646,
          8.863923574699289,
          17.00040228622645,
          4.644186335219535,
          8774.810953891383,
          10.895786974357634,
          23.195368036181442,
          272.536726023757,
          4828.456826199293,
          411.509671147931,
          9.567751404683076,
          113.07780919452598,
          4.525492518490953,
          322.1652847488164,
          148.4681888945504,
          23.329038554748507,
          11.285842956867297,
          1.3451819349259917,
          11.714631982930745,
          15.20400755124209,
          228.59170275089787,
          73.64869730685959,
          6.117130669071385,
          14.223846804593201,
          15.194510829621985,
          42.171226745475415,
          42.7084120058711,
          29.241165671313524,
          80.78621368925837,
          19.947153958474285,
          57.11496306819754,
          634.3350418024125,
          14.688057047564953,
          379.40079802103526,
          27.009799400793202,
          602.936882499597,
          12.153377983841649,
          13.681368411914738,
          14.369377428062132,
          5.522985598254854,
          24.3429383384797,
          2.930960060351164,
          9.630729096210743,
          17.97112354874703,
          37.575935180729985,
          11.556952725384138,
          36.65150169269813,
          6.457102537155812,
          10.536192583550832,
          6.229425286485867,
          11.424706769808573,
          451.9631417312886,
          1343.3085228772761,
          13.229589648777683,
          149.05978278277547,
          1.762026314743581,
          34.88018647208362,
          17.6651526135796,
          755.4817695376743,
          12.574986283694464,
          425.5883681252035,
          7.7919620094627176,
          18.415633270647575,
          5.90327957875226,
          3.7847795288712507,
          228.5238931596957,
          15.843397666630091,
          15.55351057293952,
          4515.646937284033,
          387.249992916243,
          19.670654232356746,
          126.41573084277617,
          43.589796894698736,
          102.59094959837425,
          11.44126703116006,
          195.49523592626426,
          413.31911988514287,
          37.206368332743075,
          20.703363017172375,
          17597.615140753114,
          9.491757731385777,
          4.355995523093584,
          26.352853723205293,
          285.6643288277236,
          40.52315033300586,
          123.54967830712417,
          9.426659182383982,
          3.889311006141826,
          3.615171330530351,
          2.467946505047829,
          56.302634897738955,
          267.3550674737158,
          25.27893925710287,
          8.853119126203456,
          9.746513656456742,
          7.530100443664632,
          8.643537856177593,
          13.671328807055254,
          17.751019172720046,
          26.11659956090933,
          231.99815287195273,
          5.3065945249472755,
          28.806208499561475,
          95.19871516778917,
          60.343675624339994,
          37.63651509717595,
          132.96952113826458,
          10.994386086266653,
          870.5610432810587,
          24.30787798550286,
          7.710351879357285,
          42.86275262492632,
          51.57789523895151,
          28.305162733544726,
          8.891514805756149,
          510.52429197542057,
          9.526108365568364,
          13.488180778036797,
          58.88002501368617,
          43.214639401368046,
          350.64092173508556,
          16.140608611959667,
          11.485044553911798,
          9.922091563546882,
          5.69667130463737,
          19.04226076832086,
          36.25949345199792,
          17.84123615171093,
          39.8970131982492,
          97.79946952571137,
          32.3230692744711,
          279.9132039706366,
          4.085961422381567,
          858.65405651481,
          260.7336710790109,
          271.94569134203135,
          62.719261743931696,
          7.654439275913157,
          385.66876342008686,
          20.068210696411043,
          44.91409838068169,
          2.292561088325701,
          43.24456108083098,
          6.539982837001285,
          5.09905476039831,
          117.71754261552165,
          9.280810385942146,
          14.523307434077218,
          6.095828275269865,
          0.42931050841088897,
          12.658600458426589,
          47.596507143961404,
          7.127881171775016,
          409.73380496327565,
          9.900475742672825,
          152.54393443486637,
          68.85051616201604,
          8.105479872725375,
          224.02810117403334,
          28.48351953009334,
          6.3548541135108225,
          13.028053977168927,
          7.1932786008750975,
          120.35744101189543,
          138.4330997043677,
          65.27911247588743,
          20.651243797813745,
          10.15046094249862,
          126.75680859233961,
          132.69167595881504,
          204.41683993840007,
          16.92227774973304,
          10.296825269240951,
          246.6201728051918,
          22.08402964755962,
          12.934675096526696,
          821.2086122736595,
          7.922841141502271,
          22.256192239845785,
          10.507611108601935,
          12.713372017383719,
          1721.8789250425386,
          57.61048872798725,
          5.149303206512961,
          96.68539179023065,
          15.710499603711288,
          32.98244922698671,
          786.5502081358622,
          114.99191387611084,
          123.19608734807417,
          7.10625199759759,
          12.803855697070063,
          17.206999945614314,
          40.89885570208869,
          32.855946238328414,
          48.20788664172653,
          6.37887752162601,
          10.581955960354954,
          45.3738471946775,
          34.26017640739525,
          93.15455006412851,
          561.1499833571103,
          7.765339388112464,
          264.27399256131685,
          18.870821297145458,
          121.23918935503548,
          11.079606925418647,
          16.19120588486074,
          14.822574123692098,
          9.144932062547722,
          68.68152286497558,
          832.4907680695295,
          29.43073922798896,
          11.757956622121716,
          28.6603275904262,
          7.823201258741812,
          180.02770974285204,
          227.08342454870515,
          119.97895189064833,
          13.390181919357968,
          125.63229252965293,
          6.665446963766341,
          13.170964676444202,
          108.4384157383099,
          143.43867453164842,
          10.851714204385475,
          65.57847644862399,
          41.392303082705425,
          3.0285356130112113,
          530.3075946568991,
          12.889741597117522,
          87.2918568246076,
          293.4345600690373,
          61.57138856451014,
          9.046015904372046,
          6.193803942175635,
          28.233186762161395,
          5607.282920396729,
          114.630670494267,
          42.721574880106175,
          27.609806292114055,
          160.43108634752846,
          14.132198240173894,
          525.7885146488406,
          18.02349580387326,
          7.418587776925094,
          12.382999519337906,
          7.335540861363578,
          21.29190871548959,
          9.857549672186405,
          5.933034580682209,
          15.128089951526137,
          96.96265806909203,
          8.426540131987945,
          271.51035668314626,
          26.53612624462582,
          4.32646481340043,
          3872.475883442729,
          4.475277890018895,
          163.101676461159,
          5.956571235355931,
          20.39801283413132,
          7.975704338816452,
          38.5406951320636,
          81.01122138259021,
          1.7074780214362455,
          28.760369180220476,
          8.990987883077928,
          14.359976015196466,
          35.7451942571499,
          44.841372016855956,
          1.8209924170393634,
          269.93537062335963,
          7.711332996487163,
          13.54540096169572,
          19.03135471661966,
          347.88048384971324,
          136.17213914644486,
          13.505852229694025,
          11.587808556735498,
          13.345437179087924,
          15.043336984373305,
          126.6320627330701,
          52.27369378824843,
          10.792672818575287,
          5.345315015362332,
          37.751893461824864,
          801.6139074092022,
          41.3999851697928,
          537.4726482812658,
          509.95301962471734,
          132.02537076956384,
          17.354805300555995,
          238.79390080502517,
          776.1325465880897,
          11.871617933941488,
          21.297794355168012,
          103.44655631948154,
          10.198302057754786,
          9.716412535526336,
          21.627703351056056,
          9.828992972218307,
          60.88513200774259,
          484.9878474971629,
          54.44556030309927,
          9.514579827955155,
          240.1118436218355,
          9.963429731444503,
          37.093073799664666,
          8.001500584195167,
          11.005426949167473,
          19.599107157526937,
          7.487674012193815,
          44.728072323458086,
          262.44603303195834,
          7.3495050315787624,
          3543.5078287616525,
          49.70149968856721,
          20.687648994250402,
          104.01418678970234,
          7.3020120352302555,
          6.050036832582554,
          9.49514021637893,
          228.36357533779173,
          2.698275778947143,
          17.24530166217479,
          178.71484674366835,
          18.5569018104331,
          13.191035420561402,
          7.473376860246836,
          6.773646274311923,
          101.76793421447223,
          1.9851280553005655,
          5.015345089610068,
          83.92056446377141,
          0.7766458010366587,
          9.40218821608059,
          18.198401579082148,
          8.820100547993013,
          40.154220618969056,
          56.29541105310341,
          5.100104705741643,
          10.827697298649502,
          14.508867460469999,
          16.39078150637788,
          22.937442020189206,
          57.56804317785043,
          37.37548838620344,
          252.29848164169906,
          104.96022245062683,
          17.69370683506598,
          65.440628166552,
          61.055927175067126,
          19.642050653536995,
          22.43988422167541,
          9.60400627688831,
          5.440079381714095,
          85.02731429875142,
          67.65997798213672,
          19.348462870289506,
          3089.7512268272585,
          8.622190367850383,
          11.794527505023439,
          228.50869404586618,
          183.60291819349362,
          50.628889136427105,
          4.015674290994142,
          21.67018178782274,
          179.78029827298877,
          107.5791192301879,
          229.5201125198447,
          173.1634470539759,
          30.89044307206549,
          36.38455009516722,
          81.87327519961416,
          44.23353083881622,
          38.10759343890336,
          282.2343767173012,
          30.08266229875574,
          9.427770423575565,
          7.480633966395171,
          14.045386636431953,
          198.10166278586783,
          10.620086811698377,
          8.243366038546428,
          3096.140692537777,
          14.21532847160756,
          8.951562575467161,
          7.257263281224822,
          1602.7653586496376,
          1437.980020761758,
          4.8240128676269585,
          14.870104922421794,
          15.3496014958255,
          56.72167213754944,
          10.590620382955281,
          858.1863357359332,
          33.79119471634051,
          9.093719152495161,
          10.951925256604717,
          33.20654270301158,
          65.12070496321122,
          35.169107837725086,
          68.98783172030716,
          8.45539457234116,
          58.07976918004175,
          16.80081370332232,
          9.842609089656213,
          8.659108290029634,
          16.72499888674469,
          885.1799439922879,
          1823.070202050009,
          13.964880849959506,
          247.78598049745514,
          8.656791377124716,
          91.76882308701002,
          16.835597750727036,
          76.20537805867646,
          15.706135602062167,
          14.179568727622703,
          22.73785722305099,
          237.43452752620823,
          12.732082339910903,
          106.61911330865608,
          3.0285364729469655,
          26.146746148265976,
          4.781912033877995,
          30.11515058449696,
          10.160468957627128,
          356.23562320436645,
          17.313892924140497,
          9.246557763620228,
          75.97223072585466,
          5.0098793523036305,
          10.177714241370087,
          966.3455984812288,
          8.653154491948397,
          2.677992535841721,
          37.59604130760163,
          5.205484850005831,
          251.21029201280334,
          189.9900072840296,
          49.415790336077414,
          85.41185857184881,
          12.736669499093052,
          9.302165766508084,
          9.138392626499202,
          7.159023101397334,
          22.14821253615636,
          665.4571124418749,
          144.0420810412674,
          312.5029734590019,
          888.9110083966976,
          9.442941891515064,
          15.269717124789357,
          126.44970279909573,
          16.8154826777481,
          25.31687733831728,
          201.3455199213847,
          33.492921527638295,
          30.09728544926774,
          37.44902742994471,
          65.30668527606667,
          12.354929374683357,
          18.720058296003597,
          40.329770687761744,
          9.664708373829653,
          8.65925213886362,
          6.830052893274132,
          74.12050123032846,
          19.704706230933766,
          114.1564061371034,
          13.201723216014152,
          10.90417261913221,
          485.742877281955,
          16.343632893482486,
          5.051077671773209,
          25.254026567408687,
          6.8253557616536,
          18.844235091852415,
          14.923748448347938,
          194.8438284716669,
          6.849461820283323,
          17.909560760238282,
          35.224783519406024,
          121.49424941244062,
          1432.966001643191,
          10.75898257934408,
          492.5139630203019,
          12.824553437455727,
          367.55681833325775,
          5.586111328207368,
          17.78114018372871,
          43.44321977212733,
          2.781068218753845,
          86.28044227171534,
          10.278927781691342,
          2.254694901078954,
          879.4396499910071,
          77.31197821712968,
          69.00212209739935,
          4.608263946998527,
          112.71628470732931,
          66.42337140619946,
          18.54071318207829,
          11.761180351522118,
          169.99044785366647,
          53.14112207253577,
          5.383221818011146,
          11.475354510656251,
          7.096737948681073,
          286.3842704495912,
          12.361337861762303,
          148.70775531092588,
          21.0280087745755,
          4.872640454893078,
          767.0891341871071,
          109.06348416422468,
          24.950841277238535,
          45.20931503962629,
          23.299491114545496,
          10.654288957425258,
          566.8205051509354,
          97.55688049185939,
          75.61555338392114,
          9.004936561087796,
          112.97624053792742,
          2.7911799655004255,
          19.562112311661977,
          63.44456320460164,
          226.34380546447215,
          26.54039243295337,
          180.7342628698165,
          545.7966033618468,
          84.02313724860498,
          9.409568284084791,
          104.31886157514046,
          108.00904907300729,
          16.077860840083435,
          8.724385339269386,
          369.5816013044958,
          84.83767469339642,
          259.38805739476993,
          565.506622422128,
          66.58596706198469,
          1175.9111866733626,
          6.426257985896437,
          56.53986005947642,
          50635.56202385057,
          178.0554663073086,
          1191.6282043588662,
          1008.5316826221037,
          401.29352787584645,
          10.61966479478865,
          7297.393274727389,
          14.939662206959632,
          62.783461622065566,
          22.434983803041987,
          29.129258283295627,
          139.87108760324548,
          44.716047495367235,
          7.706761284883341,
          9.670606149789284,
          121.0139852901988,
          46.79232482303175,
          176.49899842259717,
          30.515135504750123,
          66.66083137083537,
          5.572059393756075,
          12.70034675452217,
          40.18780086629216,
          66.02200726719238,
          4.031140597918933,
          5.0238943169130765,
          7.503436559858862,
          6.198033002433205,
          286.0731987178237,
          3037.7142903894187,
          5.976279248600723,
          80.21091542135703,
          6.755656804036354,
          61.47296866912903,
          29.007815181227738,
          8316.331649336096,
          133.44248493524765,
          9.031797749123639,
          67.33086709312377,
          15.440843777246807,
          16.870366394159003,
          20.92662956050373,
          1098.2668054988421,
          151.4147392896173,
          24.634855855871965,
          32.408609463327245,
          5.098524523063862,
          35.77601200546118,
          82.18190549709809,
          25.51740901470137,
          236.28345345545767,
          69.45525392151761,
          132.78564612681546,
          48.43409504101287,
          41.33688432027705,
          58.23584850504381,
          7.618000568749673,
          106.25194340803814,
          291.6780736085806,
          472.54611901357583,
          1207.4148799310194,
          8.852414665960705,
          54.76349520752396,
          5.774164346330918,
          45.78600677686604,
          11.434507521794211,
          81.01838425041893,
          65.90993859264361,
          26.79568938550932,
          16.384347598020227,
          25.916454013924493,
          309.0444390916532,
          145.48648133588736,
          277.8271960354933,
          35.497318111760194,
          11.596325931116603,
          313.17348342564463,
          12.627339984940331,
          67.43420833178361,
          25.34619162734081,
          61.958382691741505,
          15.280196831291107,
          71.85194795233365,
          11.063578197890568,
          122.57622455326076,
          12.123659784003577,
          1309.4401421357231,
          8.278985719658145,
          1022.8938770657069,
          42.37476561347525,
          6.197563566145039,
          2084.849674613938,
          14.427026936514507,
          13.259556910850195,
          24.775455399102785,
          54.71880995011699,
          5.2127828561400795,
          1.6421487069144676,
          536.5177935177132,
          148.21621535921085,
          159.0666454750931,
          33.90102773989658,
          6.779234316588552,
          2.4448507831254167,
          35.0192225645557,
          8.692049789550516,
          58.44566434396059,
          10.482436480758937,
          13.549001447960196,
          6.511866322311167,
          50.430358929436345,
          7.6274131417958815,
          2964.9119256990966,
          18.959593881009614,
          20.806151875605636,
          335.1227085749114,
          19.300333597354282,
          12.273292017136809,
          12.994771272434333,
          1061.1855050292231,
          24.277121543758177,
          14.742518025975153,
          110.6583516943054,
          54.59983304681086,
          10.559702066084787,
          38.35382602716223,
          56.95264456091719,
          10.43390182308257,
          200.19519207932055,
          25.51849763793269,
          23.453906771609805,
          61.64600623090129,
          6.279356759391702,
          1215.9137907106176,
          42.311241567931546,
          4.458335288694271,
          51.70130093485702,
          22.354127062768658,
          725.532067981261,
          70.40077765779613,
          1308.461408017485,
          139.92044795462172,
          3.765466797455242,
          186.56162241852834,
          8.965135170564785,
          16.773906032265515,
          149.08861054833298,
          16.074550672553144,
          9.994344826652764,
          7.545580707049568,
          35.23727282784376,
          29.16057923003615,
          30.109717886022906,
          10.898472842369559,
          143.723714779269,
          118.66498856211103,
          74.9396284951855,
          27.776006989486927,
          8.014603528464745,
          5.609653553769294,
          94.78871832241782,
          10.050992754257368,
          5.002041587585729,
          71.14921222562187,
          117.07582684216449,
          51.415663204245945,
          21.368864401582865,
          7.291345418928022,
          232.65874804511236,
          166.2179934974379,
          30.500557044396725,
          13.847135548326657,
          13.510560871076937,
          158.1432757047147,
          18.417543578715893,
          244.7976763926731,
          15.589755298407448,
          6.966997000082678,
          38.695504178529106,
          8.32566600627844,
          37.840424687191664,
          16.586923155676697,
          24.359976547194226,
          17.810273786416776,
          322.54135346307254,
          59.068441492137765,
          56.3593411640833,
          33.631112021257024,
          14.9960132333956,
          36.4401983905039,
          15.34590891698846,
          57.938638831061716,
          69.9161790341184,
          26.70920828018714,
          29.351469964177916,
          22.607721401260598,
          54.67555075768086,
          25.065298276062578,
          10.061377074329004,
          18.097139586388565,
          9.702813588376571,
          16.217293885350763,
          11.63176480716281,
          0.37556042522082517,
          19.496622710202004,
          7946.624987841237,
          144.00625004331224,
          0.6168836581290045,
          10.830926676097839,
          155.08524215121685,
          144.00541488515867,
          19.120064215058882,
          13.541378297233035,
          8.39170464447365,
          15.725536938545797,
          67.99802745570047,
          19.570711242044617,
          5093.105181857312,
          22.69027754762341,
          5.7808205934336545,
          6.532299132657125,
          159.21728636495732,
          20.263987528160104,
          358.72631513441746,
          8.46087384757861,
          81.3821956585873,
          518.0142980252737,
          14.231395109597264,
          73.68072216264562,
          23.87046734146877,
          701.2202900528979,
          41.84311954023027,
          9.01252505428756,
          31.243250442817214,
          143.06610668496054,
          18.06829386215655,
          5.63831474004043,
          5.78905426013345,
          42.36283123203251,
          25.469074867265164,
          1.031631587263302,
          6.056358782733563,
          8.071121940303513,
          67.64342914887082,
          50.534252347183134,
          9.15555037886354,
          36.92835839602278,
          125.3024303428693,
          11.750831649358078,
          35.717500798074795,
          10.744168858493195,
          8.812503513059383,
          748.2664803492153,
          27.65807814989073,
          190.67802420404402,
          9.013977447676032,
          7.489610004610429,
          5.090889307899926,
          49.29114120212261,
          80.1937266287767,
          14.249107986404494,
          6.454861823720532,
          20.95275656022387,
          23.45623551311042,
          20.571844843558715,
          91.5906809573118,
          29.313682468812882,
          8.737397319064772,
          41.612123018535485,
          65.93933663527908,
          6.282593147489405,
          100.03678242346575,
          4.848091446747506,
          6.057174680683638,
          153.55476792400083,
          21.91689210893561,
          161.97222929631474,
          41.23414346916729,
          7.319576481762429,
          8.953261152998431,
          60.435794316221354,
          52.888475537004076,
          15.306020144288121,
          33.81849065102384,
          11.123477609935023,
          100.9400014698806,
          639.6599034484435,
          166.94698422832735,
          16.518274023119787,
          11.772668137397389,
          9.43274893071894,
          5.596273553836973,
          43.34229027355828,
          26.553723112636238,
          18.30012814254446,
          124.89086400143798,
          10.132508110729813,
          31.332450726203163,
          17.1596053821854,
          30.37484501588472,
          51.93316979764198,
          17.65378842280724,
          764.695838338879,
          10.9098748045887,
          58.90451140271423,
          10.026433709377661,
          7.611855509165278,
          5.398872558247123,
          120.99036079120778,
          57.20698051298965,
          20.12035072400367,
          1.5865285509173344,
          4.690090581228743,
          63.239571703306524,
          3.7528425758942623,
          4.090710673222752,
          14.68277185505383,
          24.708831700204616,
          29.777459272920588,
          13.789681035245628,
          49.44162474731988,
          14.58317042333231,
          44.05657017330624,
          121.29906820990462,
          22.668173724792375,
          30.650064266388245,
          36.70210129259311,
          48.02664063846219,
          31.798732058073558,
          21.98756038438786,
          29608.733001412722,
          3.1036659820960226,
          26.990671681352236,
          11.496879404582755,
          6.712464064586853,
          2.7464603141846227,
          8.549666983329269,
          126.46814917776953,
          7.106930583151917,
          156.31216793353101,
          22.588074927408158,
          22.94627532150693,
          15.709255468492616,
          24.942615213383323,
          171.57418701789427,
          507.4097553458149,
          129.23103908135366,
          13.297540904589377,
          25.160663102648744,
          101.6825694735184,
          175.96752467221643,
          336.54423146896715,
          106.03291414765577,
          4.201662736944068,
          10.103551595157235,
          22.970419017972482,
          31.36304461297962,
          20.321573016616288,
          13.476117960100284,
          79.0952946898578,
          22.653529473259482,
          81.65994779690458,
          30.143163564510143,
          6.2947288006350135,
          113.48271875611654,
          13.545147866143118,
          8.167698961501555,
          28.04183385466364,
          90.5381654222075,
          70.17612612004321,
          6.987076885917106,
          12.223154746571117,
          827.0661411862096,
          262.0328229638577,
          33.507552321186076,
          88.96338012797281,
          1255.7707627192756,
          545.9703756059527,
          4.171483041199514,
          31.91094631361925,
          26.607813231833447,
          12.9339249332191,
          12.7215837745734,
          7.627385327410465,
          37.200337884052146,
          12.310492923088047,
          26.18396142949981,
          13.410383450268421,
          14.536804403427558,
          11.323992177815486,
          10.09404306560005,
          3.282969470117146,
          29.270403733498537,
          106.87507949495166,
          788.0274789389355,
          289.75816318270336,
          2.4880703797037094,
          75.40927206937086,
          12.005891338489446,
          114.85490258637122,
          9.555633882391534,
          1289.6665177765667,
          29.14137226167354,
          103.87316074384401,
          20.001683250598305,
          14.004021754472861,
          22.23720643052408,
          1283.8213978321896,
          16.724336514295732,
          35.1122893925229,
          170.78987653057882,
          8.752923978949964,
          8.769426383961477,
          96.33730586367129,
          309.1628484397083,
          68.81716792380091,
          23.581494318896176,
          263.76772994789746,
          17.06527058835576,
          7.5411281874026574,
          16.435473583386546,
          65.6144141385984,
          26.608442720341607,
          126.09131453021821,
          7.532986524539132,
          4.697482635159804,
          25.357759124327938,
          11.438376544017464,
          10.25579845846786,
          25.21475690065725,
          9.700838187365449,
          124.19193588249364,
          95.74445641473815,
          58.08354835115703,
          8.818299183652359,
          275.39096342971203,
          32.267523887485375,
          77.83982752603853,
          357.96310132697226,
          21.831880230987103,
          23.076070331643027,
          17.492837192936808,
          11.891461853359212,
          19.747767511811738,
          30.89189823958923,
          9.65877166691995,
          133.37622634260455,
          30.544171409919798,
          9.809117143824396,
          29.90037120034683,
          73.90756823820776,
          18.91513269716202,
          5.361895792887949,
          39.63010006110332,
          167.37898204545203,
          15.566149327980716,
          191.32537681566393,
          30.114960007042246,
          46.137612584665085,
          41.61256878454806,
          32.33191888569965,
          9.955355317861212,
          29.86459449386041,
          43.76089021075305,
          33.36952001425368,
          13.889953428728862,
          17.14844364832096,
          33.463758744163,
          11.463666310727978,
          8.763185948524217,
          91.0273133284403,
          2083.78010362702,
          171.24760445507818,
          8.149306035964202,
          16.083780064891357,
          227.07941578415173,
          43.627813691080675,
          14.912785984538301,
          78.69175435151232,
          115.99375756635416,
          15.20944622892299,
          21.600730403852193,
          4.411413451090064,
          153.1540948953855,
          183.51416804501832,
          53.22192046733699,
          70.8673712621329,
          10.568167557303324,
          148.31739267974203,
          104.68933674528235,
          125.53700528573737,
          17.334280507213762,
          7150.289842112162,
          22.788240324960324,
          491.214143178861,
          102.06094681312915,
          2909.546776746721,
          475.2329188911279,
          3095.2611882508168,
          387.28392975690923,
          159.20734509136668,
          14.717102846232741,
          19.346777059942024,
          0.6081876447292593,
          16.98034048270745,
          5.17062618497278,
          47.44897449452437,
          8.939826464104307,
          18.035993655223425,
          11.433130186316507,
          40.025494659636074,
          62.77240471487557,
          39.67790570349675,
          2172.518805768498,
          12.399954274105774,
          23.838056469518317,
          4.52828696657353,
          8.773862315131588,
          5.554179971868816,
          61.755313285555,
          32.22478173554363,
          26.672563910753926,
          17.646988514385114,
          339.156046224492,
          6.1518699370012175,
          17.577888054314336,
          6.946905333505416,
          22.24393048947021,
          132.92045968225074,
          14.301910956553108,
          69.94262668734737,
          79.38559481274538,
          139.55044990967434,
          75.22250440087234,
          123.94296403501275,
          16.196380279284668,
          24.344632617828427,
          38.879311111004206,
          24.825699657572542,
          25.45519816995556,
          14.88239198208563,
          6.0231449270011295,
          17.442268488325396,
          6.17975476422021,
          13.611831379096802,
          26.608215851628476,
          9.089812632969487,
          21.463351500161025,
          20.675113537324595,
          7.169482642787615,
          8.956650669251209,
          12.38694345801422,
          9.086415486118105,
          1158.0373681448689,
          250.0230460256948,
          217.57087734121606,
          15.664870065679933,
          18.32991426220395,
          25.76655953726028,
          31.605460301562182,
          41.54414620344234,
          56.05882374890157,
          336.29571648651057,
          10.454477732350647,
          373.295968367401,
          45.2637022575051,
          403.5914185660031,
          133.42232573191413,
          6.501555434383995,
          123.35933072785895,
          173.78387312871482,
          6.893857932533215,
          3.6801200040322564,
          4.3539018081536085,
          4293.955897007172,
          35.21557949592034,
          14.749056087023314,
          37.60202302177995,
          21.12778435237313,
          7.893946264066651,
          47.8739145108323,
          5.622704860843701,
          14.568329346184072,
          62.46386132645841,
          56.07126671125294,
          100.89948379384519,
          40.21375436786512,
          53.04623515168398,
          641.5645399326834,
          74.56121953395618,
          55.74282126149651,
          6.58797261291161,
          395.48057560784525,
          251.79558433748952,
          394.2851524729773,
          753.8092552443236,
          101.66336380477239,
          113.68520885069205,
          24.125597430591373,
          42.462722766414224,
          14.129305706776135,
          30.89058561122995,
          6.786880114858976,
          4.590267781492257,
          18.16133540413153,
          20.012115016256708,
          53.7623066628997,
          5.536463730772951,
          7.0371616513916715,
          8.861322285486505,
          7.868727844914332,
          9.690970436562608,
          19.022108375118396,
          12520.847696679599,
          21.414012924895406,
          145.30860804291066,
          14.46747276305535,
          1.9156600555713543,
          14.275538448510488,
          60.677510999958244,
          301.9889888863196,
          7667.483525971129,
          42.01849153984095,
          17.240147424554866,
          340.7747477027491,
          18.670689431387462,
          187.62896074973207,
          10.676853052641645,
          23.796095449680376,
          11.12308922918466,
          5.533032922671883,
          84.262550223854,
          31.7480983810066,
          102.34964923721918,
          5.622932679760475,
          5.5871195864469065,
          115.13317619641258,
          14.950536185245122,
          27.468554063157423,
          6.498079826002085,
          241.52975362829312,
          67.6920236635234,
          44.36520482564319,
          12.33964344818522,
          43.27815040293314,
          9.97917096532576,
          16.247583199960697,
          19.659734900751467,
          12.34717919537229,
          11.24700613867068,
          12.066884499541866,
          18.964032566639816,
          19.939351345091545,
          52.297114000145804,
          8.22648935280261,
          6.381212319939622,
          11.0549393094591,
          18.341582723830722,
          189.56958861559332,
          11.712080537312731,
          81.86391595239719,
          32.556253776897464,
          932.6790341601578,
          123.24367250688861,
          9.430957365207226,
          9151.215332692564,
          10.66423377053155,
          377.30768341741515,
          9.483697289741043,
          24.2192318177898,
          725.1125875159537,
          30.877210144759378,
          19.235650130643897,
          8.607459854791925,
          17.02429713588124,
          16.990527563664028,
          12.8338326701071,
          11.989670502408035,
          17.45399945847865,
          20.605919713241356,
          415.62708818213537,
          23.055328771100832,
          13.170077414803592,
          35.581164824348555,
          7.218847892620215,
          16.63836232785397,
          100.67978419788531,
          8.093158530048255,
          48.3579874925128,
          277.4861698099026,
          19.229197571248093,
          2344.4263706675115,
          56.81619511881203,
          173.28085097158984,
          10.514443830228947,
          12.310862525852764,
          8.634384165506926,
          15.811343585361637,
          4749.10396160724,
          108.17807116325748,
          67.53508214463459,
          126.4323442406165,
          1148.3609868160868,
          16.885178467466886,
          24.350879997389864,
          5.93848895964039,
          42.28124945127842,
          19176.98710635755,
          298.8383637092573,
          40.29891931202335,
          99.28447072005977,
          25.379943104643015,
          55.938670044903574,
          2.630877468450516,
          23.739506091747085,
          8.352625195644169,
          27.46714786919832,
          13.137509586652307,
          25.029474460417585,
          164.11298158853032,
          19.15116728960612,
          7.325675677789774,
          7.084872974880882,
          158.10263525921553,
          390.3568102314501,
          15.514834312185627,
          13.796476346592772,
          7.126569525189952,
          6.195776838907887,
          10.652547676845037,
          580.3279476547713,
          11.880118872717157,
          253.7323990416717,
          1742.8532907892152,
          113.45008112540611,
          3.8259141685657383,
          10.164112889277765,
          18.72273098433799,
          63.78525890847906,
          186.383003005973,
          640.7024946253047,
          117.85304715274496,
          33.26099231655671,
          79.93208966688094,
          18.490984515703982,
          8.06925955409579,
          19.27772626605815,
          226.5870167391932,
          12.645399785912922,
          30.396531379429092,
          467.1155780515632,
          5.1044145336045625,
          1.6209884119819826,
          49.92656199120107,
          7.935981659453893,
          75.0951422648806,
          42.14920713513309,
          12.40325489686033,
          0.8958835866803387,
          2.3844807133434767,
          1.2154604767065307,
          26.08880478739164,
          147.07925474790562,
          458.1371890850258,
          8.303251756068857,
          10.80271614335503,
          22.84165184838556,
          11.977575346530921,
          26.285360528084745,
          8.77561973419701,
          10.972686790983285,
          171.55035627870416,
          726.7564475234999,
          96.20171068991412,
          1846.2338806270288,
          5.48185156421,
          25.196915604885202,
          135.43634998202327,
          25.535937684113225,
          333.6529759318551,
          21.15704406585013,
          15.826618803596048,
          54.42966435295916,
          2573.9404468080807,
          5.966291271950131,
          3.454095919283202,
          9.317848952223505,
          1283.046652094236,
          68.24426859821729,
          1731.6317906622605,
          781.9286694407028,
          9.794106943075459,
          7.081943309509812,
          47.64327643025037,
          88.44596899058989,
          10.140584983435087,
          135.43974069054897,
          78.77601555294224,
          68.08972207799764,
          5.174088865028724,
          252.1583079980958,
          69.40687426373228,
          257.12145185341,
          15.49107521399843,
          17.347966205332188,
          39.86109598815564,
          39.45873206947918,
          19.584583288584817,
          15.065260329000013,
          97.93307334537104,
          11.128571589133475,
          55.29437701433734,
          458.50128533496724,
          1012.7255937544405,
          27.36051564468695,
          49.63727039738845,
          10.60567418689206,
          18.766316545852803,
          25.672351738197765,
          354.3681573841427,
          14.339300633772256,
          228.68833850320843,
          45.70479254339669,
          11.59432317470123,
          18.886022759712407,
          16.78388652086082,
          5.8606862242214595,
          7.751912536378897,
          10.417696629931717,
          11.160089397133053,
          2660.3978681417593,
          31.820960019437692,
          17.355373506819078,
          10.085737551713182,
          269.69153866817754,
          48.245625943188934,
          33.093867090575266,
          46.00802877850061,
          6.941507191688834,
          54.425134489020614,
          21.298145389609935,
          225.03921966058937,
          9.454032509843042,
          20.438236608790877,
          46.93331174732186,
          217.21884552861613,
          11.323935360554307,
          106.34670075641586,
          189.43581750096212,
          39.17837892532042,
          22.171883360682067,
          24.762346700123675,
          124.94842516584225,
          6.291454104233375,
          10.217028215032782,
          56.52469186364317,
          6.5684068935458235,
          4922.298670935756,
          4.925860197870946,
          0.34268781897647577,
          210.35313277446357,
          145.63232305398304,
          3095.2651936908765,
          8.715137592754214,
          443.22348368485467,
          10.679094485643741,
          10.114769174977065,
          10.827673910227233,
          738.3693452204677,
          8.084497981162325,
          92.93379172272347,
          12.349766428986054,
          376.1986477978043,
          30.334664445165235,
          1458.7845333899083,
          244.3108982141003,
          19.715803880479005,
          13.581152226982605,
          55.42577274567745,
          426.07079511734236,
          31.762484015656824,
          48.06022703445689,
          18.41629907031583,
          17.797647954848262,
          16.776029213747627,
          100.44404055112153,
          498.1772942514879,
          5.813003160080239,
          6.084560558723223,
          275.45150634429206,
          28.08577518198607,
          3.157632737484365,
          20.906715076470977,
          131.1407902007334,
          3211.5347757916843
         ],
         "xaxis": "x",
         "y": [
          -5.888900114656894,
          -7.546210888367207,
          -1.4355857644820198,
          -5.186498853908883,
          43.09999842253182,
          -0.7072492888922473,
          -0.0007400372690296578,
          -0.06470854464785265,
          35.32223606158952,
          4.897931912941962,
          36.37149539063819,
          -9.233026950490583,
          73.89161765861277,
          48.24804248715508,
          6.269712478544705,
          -0.10740209265281782,
          -10.069892411544956,
          -0.33359294921742844,
          4.109215424182337,
          3.2097051290086296,
          2.3877685659384653,
          18.22321422035715,
          17.850352030324053,
          13.261979500299772,
          38.487288480463626,
          94.0726382872276,
          1.7387342082317774,
          39.70757588926891,
          -88.68630599399744,
          -5548.920281832359,
          -27.848810025878304,
          -287.138418940827,
          15.42635472189797,
          -250.09546525975867,
          -2.5780896409638685,
          -9.244581234599549,
          -9.056536483257213,
          -12.582259036924823,
          -911.3981742720432,
          -27.772535365000696,
          -8.886671935308845,
          -26.849677563646086,
          -20.509969495184375,
          -3.6167865515601236,
          -48.276659592368055,
          0.058702889522652034,
          -38.38621993349656,
          11.522694571848138,
          3.9609196298146583,
          37.09670482606716,
          4.129147199637125,
          -3.8435875003285056,
          -2.722925970877675,
          -51.0204509845256,
          -21.570874399111396,
          -2.0218932545939756,
          2.886048909013879,
          101.8610570037883,
          -19.608170041168382,
          16.637183632041854,
          36.309257999142424,
          6.445122400801746,
          8.514697428291178,
          18.809120800383006,
          59.33052558742327,
          148.2659636247102,
          73.78708960884649,
          -9.13492249180506,
          -9.146857255498341,
          -23.3536763131241,
          212.8600289782472,
          3.50587106126893,
          -5.846395778104964,
          -18.855489773896863,
          -8.688175074210966,
          -5.360586283669463,
          0.9603957614530659,
          23.187693838282133,
          -921.4488564384133,
          -1.4136784196043606,
          -40.03927717998835,
          3.577499489189098,
          269.7975770204361,
          0.5794906226561893,
          12.550027960702053,
          -4.155824848829088,
          -72.48053437211739,
          -35.063523511060744,
          -0.697043566220816,
          2.6281483174611604,
          -667.4040268986711,
          -18.35203458987061,
          -3.7808776232207353,
          -2.74174498452812,
          -2.0182891491549517,
          -9.261232552949693,
          1.138641934556199,
          0.18043265790043808,
          11.461262377994165,
          178.07792313125393,
          -0.17703829270356955,
          63.37380698431721,
          7.534388803562526,
          308.5103316057764,
          -516.5849237291267,
          135.86605987752583,
          36.861748389937304,
          4.093850406975552,
          19.461979947674365,
          106.0790142787662,
          3.5536654643316576,
          356.5365403045244,
          116.52929000808506,
          4.390134532007619,
          20.60174176038859,
          -170.6435651807209,
          -16.72931235973015,
          -158.08984383141654,
          7.5771224221471805,
          -19.304051328086803,
          0.8322445956820903,
          -3.8176311818627995,
          -3.368582341964672,
          1.5741756524166977,
          2.668798299887442,
          6.799258559063805,
          40.08425403851497,
          1000.4998946697897,
          7.717097088072824,
          29.10799083294701,
          11.531877718402612,
          11.410171782632853,
          31.12461033181588,
          304.2710465158673,
          27.249104726747234,
          57.00237731568212,
          7.4947034379222055,
          20.88396838824379,
          5.693395800072997,
          7.21350073856253,
          9.474051370759176,
          7.978498916185348,
          56.13699340971666,
          41.00217389988065,
          36.231559435735335,
          11.971709706998485,
          54.897179356340246,
          359.2724728322962,
          177.9748213951585,
          0.03192442015688019,
          5.382445427364016,
          3.30259881224432,
          1696.780304081098,
          78.83158622403577,
          26.632598733320474,
          24.325113482199946,
          21.086521249786536,
          8.330048420297748,
          105.52414543893097,
          9.180049496473606,
          79.7389001982593,
          1.4608231546069241,
          -9.911691429454741,
          5.3376802034059985,
          -5.403944160257138,
          -41.45726990078708,
          -70.66732221670871,
          -6.550344409407252,
          -227.6209035149246,
          -33.03741147534338,
          242.7474399151451,
          -9906.923781068876,
          -9053.21853389819,
          32.1504767164284,
          1580.7070612967227,
          69.01003169608907,
          40.198018229867806,
          -1819.1045243692122,
          -2.7834896904325155,
          -2.9729206942248094,
          -19.490577303257393,
          4.285856652281315,
          -10.015098862278899,
          28.10604102146624,
          3.609181330867377,
          -10.191108598034681,
          -16.360542079657,
          378.70683713405754,
          3.923692121298997,
          3.2541076984833883,
          1.437305550947122,
          189.42883652913727,
          -5.971497739402557,
          -10.072135914143598,
          1306.509616693896,
          410.2089884189407,
          59.49662017713415,
          23.403283307498732,
          176.2439735750502,
          -7.2227580953393415,
          2886.5355435442793,
          4.536680014987626,
          48.54893297352535,
          6.511648284644431,
          132.4956881546396,
          6.024969245154355,
          -6.491949825046113,
          186.45980354330422,
          8.04706494625755,
          6.455325414679852,
          4.392789393544814,
          228.0993491086697,
          2.378851598095147,
          36.81752761049242,
          16.86437976506407,
          82.84675593721656,
          262.89162922106203,
          97.38785838854876,
          22.233591988229005,
          83.02379860130056,
          1130.2414222577036,
          50.960948912841374,
          63.04043990181758,
          7.602058624523278,
          58.88311674119373,
          2.1875849152053535,
          16.8446990322884,
          9.373623038192344,
          -2.1958679249451225,
          15.767493108831205,
          37.13938376105631,
          53.697904387328315,
          11.434074068602584,
          28.121416398874196,
          7.460339524091505,
          7.664083522673291,
          76.18295625165055,
          53.42894325557042,
          16.292683943787395,
          48.79371550865802,
          7.372372065780473,
          36.95728869322778,
          21.363422637325716,
          33.48568691920062,
          161.06322960137842,
          408.2275181971569,
          12.679914419907808,
          10.942015454862455,
          15.677623459945742,
          48.83205136648831,
          28.96887854731135,
          5.145308611486633,
          4.882798835714627,
          19.72604850386408,
          48.429896409606165,
          29.05859300459243,
          257.98624933599996,
          110.56005218869724,
          3.5459505841726364,
          12.48381683330964,
          23.269322150479148,
          23.7475653714033,
          1038.4202452094667,
          10.74220745913508,
          11.174947096902748,
          -64.13717541266804,
          1.6392785230820788,
          -90.94713921549214,
          -7.010156631766377,
          -2.2572227818471675,
          0.2665870977708363,
          3.075458862658875,
          -13.47209933308539,
          -77.27681140979725,
          -58.99511388294989,
          0.48233334768044916,
          -0.7257366069016954,
          -157.68187446098509,
          -27.01231941575903,
          -6.125518183609461,
          1185.6064973319567,
          6.904091146290895,
          4.704234093759619,
          16.81574215887896,
          10.144244479120813,
          1.2562822104491955,
          -2.989710552893379,
          -14.876472981654704,
          0.5090582856880942,
          -0.9113227838101795,
          3.4396568402645644,
          47.7353102438565,
          821.650066410422,
          4041.0004381194026,
          202.86012492302115,
          18.516918907343623,
          -5.748524458440513,
          -1.470453109767598,
          -3.041878058487542,
          -5.535211491994251,
          6.457048723869762,
          -25.09686680748893,
          162.54946475423793,
          -63.663153262187556,
          -4.253958775863112,
          8.724830313013468,
          -4.970733889496365,
          8.465933786842417,
          -35.58738196729854,
          7.101861398914161,
          -1.5185762902978797,
          6.510835674959703,
          257.3144486725309,
          -10.703277757304098,
          -1.6919866009615865,
          -7.226388066431265,
          -526.5985993640207,
          -3.7529595737400245,
          -30.225844198014855,
          -4.674224221002859,
          -3.1152151846697267,
          13.3312026702703,
          17.106246467584082,
          4.553197225025027,
          4.242760409067557,
          8.964834124629173,
          4.492003386886968,
          37.01931294453641,
          -315.8543911568087,
          104.17595125522587,
          6.706821503242995,
          -0.9930428254604481,
          0.6530002404812222,
          -0.43630790825871407,
          20.666464356101105,
          6.444831798373505,
          23.35801329633542,
          -0.9044227909237103,
          1.2636337473401387,
          7.989023519633633,
          11.25360827461614,
          8.154250230932577,
          17.17655123850133,
          44.70350981606768,
          24.97180841645864,
          -21.645856761196672,
          1.1358487056632665,
          12.993302235274339,
          151.14203948442204,
          44.11955174153649,
          -28.33114656874877,
          -62.73080278452108,
          -6.26379788117159,
          44.2455826067721,
          -7.666298711387573,
          64.30978724392962,
          0.5181961591439243,
          2.0608085971086854,
          2.5501669812870182,
          -130.4223153776709,
          4.041600809412329,
          3.0811960627178574,
          544.0480795765928,
          5.753008305209668,
          -75.10243382856412,
          -8.344883146551833,
          -1.6807053876203257,
          40.33322292328031,
          -2.4054623866574234,
          12.537976896950834,
          8.459536267068984,
          -7.826676749049711,
          14.80531998356408,
          9.060204679517167,
          501.02148145254614,
          6.233135414651319,
          9.59729001465892,
          456.0386363786514,
          21.109121437950396,
          12.484976618541776,
          3.9639240771847106,
          12.946975683750182,
          10.667690755793496,
          8.803252418978122,
          55.583598052112265,
          88.1673098514521,
          4.361526177212796,
          21.927850631099307,
          3.861115618928299,
          14.351055205340197,
          41.59554403596277,
          82.93257001059796,
          24.183212215161138,
          16.545274816468385,
          83.07026596419149,
          314.24261690630226,
          -31.724787608636408,
          -7.107352748323676,
          -4162.542528151491,
          1.5251740361812944,
          -45.84239675742623,
          11.18604877713897,
          117.85782018368297,
          7.450928773525767,
          -53.28223758575634,
          3.712684659715614,
          10.214893163902165,
          -0.47882818982128067,
          21.291662136329673,
          3.38159152463122,
          42.398824101653695,
          75.93823487121439,
          13.890990889284867,
          43.33140498102301,
          50.19085292641001,
          2.819999845087796,
          -5547.809593949887,
          82.9658231350239,
          2.2990286551908916,
          9.81802642648559,
          -15.836537804354824,
          -1.3227458821557427,
          -2.3763689296599866,
          -72.94941651446253,
          -17.2061842317728,
          -5.6886372645047105,
          4.5223050166602174,
          -24.10870764362353,
          -2018.2721431969449,
          -3.899357245082762,
          2.8702729577444113,
          -2.0887148423775814,
          24.000809749138657,
          289.20922982181725,
          -201.7315803727227,
          -7.439321054434024,
          -16.142240790356894,
          -7.437386635224818,
          -3.690753479582136,
          4.697076578976071,
          341.91215376570847,
          654.3476260338682,
          7.858616739691808,
          3.926079994317531,
          14.411073799010335,
          4.508443815679465,
          -1.9227817463594554,
          -1.6574276008335178,
          226.81549365905096,
          19.787069535110987,
          -12.171744888641049,
          -3.7321012523045236,
          -331.70793585882086,
          -871.0055897027388,
          -5.544624490524519,
          7.989499702089941,
          4.252186567930803,
          3.664140557979122,
          0.7267574528342623,
          7.78813334765229,
          6.77255115742271,
          -0.5659895137991104,
          30.16393196116744,
          -42.585001019841066,
          -21.925920511176717,
          -32.1835671826395,
          -20.11049315103524,
          2.4374341437679172,
          -5.487585376829841,
          -16.383054075232664,
          -17.929758684080312,
          2.407417159733991,
          -13.290915062303064,
          -144.44864561607588,
          -18.889709184557486,
          -14.88533338739521,
          -9.318635306508398,
          -47.331005827293616,
          -2.019333820087126,
          28.50463713411681,
          76.92288615294335,
          76.43139146745963,
          10.544098775095458,
          5.239270850781426,
          30.98036260731479,
          4.959181771924011,
          9.980412352690587,
          7.1247621186309145,
          -8.713917132671906,
          10.233796861619052,
          7.018119980816355,
          10.40326144932846,
          1.6593692309005519,
          -7.742153170498789,
          21.6234948623373,
          11.725867524683279,
          -14.860637519153828,
          -0.3735859962803348,
          -5.641806315823522,
          0.8211505038699833,
          0.9729704702408268,
          17.89191135171568,
          16.59991639943111,
          -293.8872807850553,
          -52.5582944110775,
          8.144388271522564,
          -11.549878636787014,
          9.780664150690692,
          216.79925001512058,
          31.198819076097386,
          27.19816805101409,
          8.601433794701633,
          2.0387718338766305,
          20.21906065809466,
          37.200811142132316,
          407.20842078659086,
          2.0896696773134558,
          15.040460894091447,
          -37.596483069073834,
          1.902640376085385,
          1.1110976331754723,
          19.106944977050787,
          727.0220771285094,
          8.774773151421506,
          12.264208144128437,
          -93.80138023089211,
          -14.54568789434688,
          -61.603165916391106,
          -31.23053945178564,
          -8.66336323149233,
          -35.595778545284325,
          162.47126241880397,
          -6.081969499630133,
          -0.10935733889217189,
          -58.23304222176097,
          60.42313904503217,
          -9.354762332303933,
          8.910452103042337,
          10.077226724414455,
          -8.559703657348361,
          -10.67733868205037,
          4971.154624934799,
          -8.568007072377489,
          3.5128789000380616,
          2.2856401677809366,
          95.25528928755244,
          1.1344097758447222,
          34.56533012500765,
          9.139565852213003,
          3.511440205523448,
          -217.74608663944605,
          5.750733895846194,
          28.929131090158073,
          2.354945087983939,
          179.02408827983123,
          348.1677410383547,
          136.00982125377314,
          4.274909423689717,
          17.26169523273099,
          7.446291810832636,
          586.8435796108424,
          1884.887872293599,
          17.672961897537256,
          32.74777628202814,
          4.965003404461213,
          14.77999193359545,
          4136.175660353431,
          38.58398103445373,
          14.185270895623946,
          53.6499272835093,
          1246.7251002530456,
          20.381454114694712,
          213.16312035329614,
          295.5335869305439,
          13.506876256747203,
          17.564387687951854,
          3.485465049932452,
          13.207906886648377,
          32.22168038857149,
          4.4195435030712575,
          -37.42536936951842,
          17.540815615939174,
          -3.87706988227891,
          -20.954670578169925,
          -3.0419671322732,
          3.6189960626650786,
          28.284331379782245,
          11.023055235669819,
          8.106675396730354,
          8.297828558430764,
          22.615072695277128,
          4.891840575261516,
          14.650123905688123,
          2494.009784250741,
          -17.575266295252256,
          552.933056473801,
          1.98249905032422,
          39.86103544193131,
          8.042233246604766,
          9.984724801837423,
          5.010442986787748,
          3.442798054827721,
          17.87315898303609,
          82.41763780972813,
          7.972209260174387,
          11.25609380089362,
          16.69286825270308,
          -2.388544479507348,
          -1.463362869444226,
          12.473913109998797,
          1.3740764106009342,
          -54.42231166021527,
          -3.7252210023765926,
          -4.860375849526642,
          -3.527306969191566,
          -6.502606311775025,
          -12.783468566823055,
          -3.5739758490921165,
          12.195497607250447,
          -159.54604175727707,
          -2.2469011051615784,
          682.7557569629396,
          10.248984208706304,
          8.444103097148597,
          8.582038208129447,
          9.839084328480014,
          -4.8020069374709795,
          -8.520645802122758,
          8.942699885202963,
          748.6228800805952,
          4.828227338561319,
          39.0450524455103,
          102.75559668924156,
          289.6940639289912,
          105.62728191249747,
          36.386378652547094,
          3175.2438009336206,
          62.93828834377728,
          782.6812452078456,
          35.76516520361205,
          4350.662121603015,
          1.1879924805944881,
          31.5416872183922,
          7.393688552437304,
          84.6860441823527,
          6.148318625629525,
          16.9023049977764,
          2.1914062895900877,
          9.045346822340745,
          7.327330400110995,
          4.196350035758307,
          3.874740886713068,
          92.64276621741666,
          10.126179392790975,
          5.144508273647477,
          44.71851089493697,
          5.046038853163589,
          3.0519097840308778,
          26.177213698090423,
          198.8713697311304,
          11.779707782958132,
          9.04025664054457,
          2.9849300697677696,
          18.621018157392072,
          3.7188750427826243,
          1729.4933685976946,
          63.205234478484954,
          30.94907677833233,
          1.959589570322045,
          8.098564389199105,
          13.236218896210696,
          59.22440800864662,
          26.18343224421114,
          613.0893785710383,
          31.975023312876854,
          116.3858045005499,
          1.0932680793000316,
          723.9369626132692,
          10.215872214555743,
          941.7135419657925,
          143.81115877087717,
          110.53893840064534,
          4.777164487903064,
          125.23496036372583,
          42.180451791729816,
          103.54565444986962,
          151.38875511040214,
          37.38496355572977,
          2973.2037257432817,
          503.4580739860242,
          9.233262884099647,
          68.76193538890566,
          81.46018199111958,
          30.3971366926163,
          2.6070661551469883,
          10.833282523138482,
          55.9881387739527,
          2.3671831897576276,
          3.29436520853297,
          13.4852914928822,
          14.539960879925335,
          10.12620171915183,
          5.484558949223208,
          6.505340714144621,
          -1.9083417827712092,
          8.743154763797492,
          58.26706719807938,
          0.881082107498007,
          361.3287626304274,
          -389.864491208661,
          -2.3362723537022747,
          -84.25509575397992,
          -13.430913861508946,
          -8.235334601016621,
          -1.4128522039245144,
          -73.87303166119003,
          -4.398458197254346,
          -2881.478020000615,
          -3.9746372655125293,
          -61.91856474224549,
          -7.648879851634655,
          -9.296959385147149,
          -8.189057121883318,
          -8.539539165236462,
          -25.54800887830804,
          -26.208682148034853,
          -5.413888295588432,
          -2.7668471952179754,
          -12.037397548700977,
          -6.669240073353532,
          -9.472514453407126,
          -5.260212865304422,
          -10.618704653982704,
          -13.482238393335571,
          -9.54344088214851,
          -16.405888559595105,
          -8.036313405157056,
          -7.254146191092832,
          -43.61424679907451,
          -6.086232227676193,
          -11.418546739698591,
          -86.99407010196424,
          -54.142946743173994,
          -2.8077476088369893,
          -8.703879199957232,
          -17.026722119117196,
          -28.625672943886247,
          -1.697720250429175,
          -15.530373095698081,
          -8.026748441953773,
          -135.01146865228063,
          -19.602634123317824,
          -8.940362031197536,
          -20.336244316984704,
          -4.504631715624993,
          -2.1064675186314843,
          -9.954975784795383,
          -20.07929898199638,
          -6.723240701716467,
          29.458341400771285,
          653.9276886004942,
          50.51596597653714,
          12.433943312132604,
          145.79394396326285,
          33.01230502460438,
          5.16331166721064,
          7.526652952122951,
          -0.7438753113927943,
          6.693685343658689,
          -15.38868440770028,
          -34.673276476236154,
          77.66283074997372,
          34.47618287754815,
          18.266203151122372,
          41.394679608172176,
          9.50194606632872,
          661.794150062329,
          1476.4345749624576,
          210.85460032462498,
          -5178.05985890016,
          -7.111423679050429,
          -36.462867183099725,
          3.0530598615807096,
          -5.951814492544242,
          -1.2480028438174884,
          -10.608221756025706,
          -2.8530679040935834,
          134.61626727844637,
          -80.21335540752025,
          -1.482454540957941,
          -6.81272188363313,
          -23.41744896903855,
          -15.646930020838688,
          -0.993290717168651,
          -10.473797572579265,
          -4.339272061630984,
          -0.2572874160730895,
          101.93581012055019,
          10.157635991311865,
          84.75512129679565,
          9.549806727254705,
          13.778152558624235,
          18.679402882746512,
          -3.688857496240382,
          -356.1709824080397,
          -6.571382648161019,
          -28.252744322337747,
          48.04608372217592,
          54.89639908830655,
          278.3902939584945,
          36.88039205084041,
          -28.133856717790213,
          -1.30244978988492,
          1.0237306179271448,
          4.5330049858037285,
          -3.008326685260984,
          -1072.2136372764364,
          -2.4053801132374177,
          -551.6711499018952,
          -635.6084599214126,
          41.03677896266579,
          2.20739958977214,
          -53.140643174856706,
          -26.926786280135346,
          -22.166952422364552,
          354.8538333722199,
          -0.31904137659274284,
          -7.115058404946665,
          -10.11450461937957,
          -1.47394071401486,
          0.8101776740129225,
          -13.631901176256427,
          40.1181750228163,
          76.7464903514637,
          -102.16207213744148,
          -2.904325372455914,
          -8.552058595874243,
          -8.544373642772243,
          -36.73812874502368,
          -1.488713820279924,
          8.117154783219428,
          -11.294953428956086,
          -1.0784973983716872,
          16.35701258945716,
          0.4916514278532223,
          7.232202394080469,
          24.014746475868357,
          64.58705553111758,
          52.40933563788701,
          2.55367022665159,
          11.054197303975293,
          53.02409972472866,
          57.692555628596494,
          -3.176744643952634,
          -20.19844205813283,
          -21.91811288745202,
          -8.00572417057135,
          5.876569917969381,
          0.9085967910141268,
          37.129629392462824,
          80.1362739934998,
          7.0237938924983085,
          107.47869154288763,
          7.115544317407857,
          4.484469001555047,
          39.80378131966145,
          -56.990605339983475,
          5.129883791514098,
          107.18295475012656,
          4.046766568454733,
          -1274.5679752792869,
          12.037799090179638,
          5.627690155670036,
          25.099211613919344,
          16.02061951556021,
          4.337775240557433,
          95.21275566701235,
          4.327599183971379,
          33.178227637023156,
          21.143884458987223,
          1.3665683690414878,
          3.519034635095824,
          175.84914647259504,
          571.5939658118634,
          212.52505467692777,
          3.3894775865885043,
          22.97161036438236,
          23.706236109493368,
          15.31003799347666,
          10.949608217891214,
          7.5667278144879475,
          146.62491323158326,
          15.005056253060165,
          14.755183747787997,
          15.702610296473988,
          3.129770953782683,
          43.09302465049167,
          20.316925546253447,
          33.749727504184065,
          -7.547121382554704,
          5.906519089027775,
          71.75116660878219,
          11.252864722699856,
          23.005909949992034,
          -19.39716486434534,
          10.469272402406304,
          590.9791291100413,
          4.285284740085351,
          1.0071434176837257,
          73.86803030993079,
          47.901714072352206,
          -8.742891695917791,
          95.00559138996572,
          9.712953223062968,
          100.48633672872882,
          19.87517877862213,
          -5.010370097714227,
          -9.107715770752892,
          -9.547041955973159,
          -49.55749867840743,
          136.08138764062807,
          14.003919911775043,
          33.12462803293159,
          383.48429990590023,
          8.239623523266816,
          -286.8935589709576,
          -5.326924327461227,
          -12.302339697115164,
          -23.75803561055505,
          -2.118222689346535,
          429.1250944754514,
          116.7362255638678,
          118.39447686838466,
          4.96330237803356,
          151.1354010570546,
          13.967597508032743,
          19.90781187436791,
          580.9941709378375,
          0.7417160279663199,
          -9.279033168354077,
          69.39660602037755,
          5.13931800212997,
          -79.20024698065053,
          1.246244495825788,
          -7.325326180887972,
          -0.7583081720854846,
          184.3172798771832,
          5.18282233800295,
          0.504838791179256,
          7.185813277334788,
          8.831726469837124,
          17.710745158032992,
          -211.0101779691179,
          64.2036561564508,
          30.608175272968825,
          22.255914233377325,
          73.28933454533444,
          13.164239899203194,
          32.686507270953484,
          -312.7137198470146,
          577.2604840794638,
          14.197500727292491,
          107.10161668581348,
          23.105738873739362,
          4.3006996020136565,
          2.554154076952522,
          57.690841208880485,
          331.98816527602287,
          21.137571665652725,
          5.1107988264844915,
          3.130122680254813,
          153.30500844702144,
          250.37158330626806,
          -1.301936488123646,
          50.7977594915751,
          -0.016481889540242385,
          52.40327796716854,
          19.68423318309163,
          -17.290953772843093,
          -202.30168512193322,
          -6.355328117622247,
          -5.720120136075317,
          1.6230324816793678,
          -0.15454432067975643,
          -2.293560270737233,
          7.194341369531248,
          7.773434756569334,
          127.84197701720718,
          72.9840809685617,
          -1287.618240609313,
          2.4983286134362497,
          6.058126209060429,
          120.03080122816269,
          4.642596626198131,
          421.3705985653733,
          -12.284517001892397,
          619.0236629908202,
          7.428151833250973,
          20.48641414269271,
          9.110608631664322,
          -468.258701991757,
          6.862124651869414,
          -12.698832856897097,
          4.468707114995359,
          -0.9492734675682506,
          5.69441588415222,
          -7.7153018409296426,
          4.827267627557671,
          7.999301430182911,
          8.837021240907482,
          -178.91512314574618,
          5.636905585315748,
          -1.8218444899183082,
          -10.23508567810287,
          -1.2713185783618532,
          -9.181682856789214,
          44.9300624465147,
          29.27112631484026,
          133.16642111657686,
          -1.1640267991462114,
          7.143740016752451,
          1.2716036649956108,
          -127.42323753494645,
          10.967537311305692,
          6.143199062043331,
          -36.077608064767006,
          -7.739927790476548,
          -25.46378770682352,
          -2.2383126807509908,
          10.449295859998166,
          114.00518796083203,
          -47.33636155590938,
          -397.64788771985377,
          -41.56077307284158,
          -4.75947328866101,
          1316.2694865822589,
          653.790309119794,
          35.671181207435865,
          67.04563103954474,
          17.589466319176186,
          -95.37677594440876,
          13.23102906535955,
          26.444002076487017,
          13.556239950933707,
          1058.0358682969033,
          1956.2969331990337,
          163.96621949723317,
          380.7232901903973,
          -0.3324308408768096,
          -3.8856253827531884,
          -4.294987957689092,
          1.1642175197936744,
          -37.30215128374446,
          2.0429811366687503,
          45.99300536123137,
          77.0730750580727,
          65.98681116032644,
          1082.1963571260376,
          -4.0706884393407,
          -23.94703010808404,
          44.633987034500045,
          13.992217796673554,
          -2.323167576631188,
          -1.3527451821561591,
          6.948627593067406,
          6.150749056309641,
          47.962908205897726,
          -281.6414243929509,
          -123.3507176644314,
          -2.241644661776598,
          -70.57161234361041,
          -14.526697559162645,
          -2.7714983337792716,
          -61.886014160336224,
          -1.3139927401007647,
          -6.342801596914405,
          -37.687739424949086,
          -1.9291322765963135,
          -17.49049517060585,
          2.0385925190134415,
          -3.4687756494931197,
          132.89415880830686,
          3.9027991987051314,
          -3.8480324400178554,
          2.2998035657544635,
          -267.2233699402793,
          -8.201497768741417,
          -4.449727716986812,
          -12.062530232642075,
          -14.006190526533114,
          -11.03851906208638,
          -26.908226698893635,
          3.798424216196146,
          1.685159463658036,
          27.753189668575608,
          24.476385439407597,
          22.670115059777647,
          2.6182587531465886,
          -13.497394233136704,
          3.0644410341625874,
          -48.57223829816475,
          4.083728145721597,
          22.80980569294908,
          13.685203184282663,
          209.13956010348957,
          138.25830855197742,
          45.675851896883465,
          6.130526791139721,
          2649.073445119786,
          8.200102873042391,
          4.4109673351748135,
          0.18008440677130436,
          -0.74954639007706,
          -7.269488463704314,
          1655.25165930269,
          3.1736878108415185,
          198.86685447767022,
          10.361959269354447,
          29.567388630998025,
          6.738925995100208,
          173.27609946375026,
          9.79948926824128,
          -5.196422997239577,
          4.070796600627845,
          32.48404009821591,
          49.00703385748046,
          9.940138642592089,
          13.065908979091228,
          -4.700072628163984,
          -30.58616165500658,
          9.40696525265803,
          0.16101901900369134,
          -15.290373299285246,
          841.9842941820417,
          -14.13056955800248,
          -33.23514241123668,
          0.28146881490022596,
          1646.1313522021005,
          104.50797198096362,
          32.88651226160201,
          13.886584598655647,
          5.9279543654389,
          67.22381393599466,
          3.4586025870884196,
          29.737431490036638,
          -17.147397418604257,
          56.522664491555325,
          24.75277916685641,
          10.124964532679533,
          0.2426566712314724,
          -76.28392981146635,
          2.620196076895756,
          31.913999255275538,
          105.19702549285066,
          30.651548661395147,
          8.159219109760775,
          6.413778612566173,
          60.81402625066959,
          20.753505468972072,
          70.52407402642767,
          -4.591919130550871,
          22.403807348070316,
          -204.52274713868889,
          3.361526918445765,
          -9.852412739368223,
          113.39464448220443,
          83.78118131375531,
          11.027252762366349,
          -14.057279499509846,
          -43.924611028947304,
          28.145664843530177,
          10.88879970491522,
          6.738548819379749,
          25.999792430341564,
          52.80484508899093,
          -1.5121607499340053,
          5.585457401205924,
          9.354208326013817,
          15.01566452750679,
          32.01933964326735,
          147.8299341779298,
          0.07919985621423553,
          -3.10371171757609,
          -3.141364321121136,
          8.503778516219306,
          10.952843050551424,
          2.5185374230694486,
          117.76677221172442,
          11.24955560335025,
          6.620198765059621,
          -1.2133304683730284,
          247.33078207521925,
          17.05678907160695,
          71.49379052768559,
          -12.281627416317685,
          18.19202146775264,
          20.745878044436758,
          44.932468093007664,
          34.823247888600555,
          87.7585457249027,
          -2.964184126020331,
          2494.2848589370433,
          153.26581221242634,
          474.5124432888504,
          147.11229289478624,
          -4.776928686133036,
          -1.5522193753661497,
          -3.143206834685078,
          -16.917683897401762,
          50.852080439701886,
          0.6899879209793637,
          35.30017599836717,
          3.4546759245729994,
          18.050024216184028,
          19.515462250322642,
          23.53367948180193,
          61.626284093479164,
          33.52366476490184,
          17.01813110982779,
          101.671391351571,
          3.7431429781481507,
          457.7647989478066,
          24.338884236935357,
          18.3241830036705,
          170.58447279737712,
          22.031513694742902,
          22.661075529396765,
          -5.6898336538615775,
          9.602301024675304,
          -6.571050115482159,
          9.713430209543032,
          60.96733685239884,
          6.499950645413157,
          4.718759696473788,
          15.666345634121383,
          -40.12075258257146,
          157.5640761752077,
          16.2229116083823,
          -7.565087039260042,
          1506.5463915431037,
          135.74394853682176,
          3.790522705585738,
          10.024519372849541,
          24.420034943556175,
          10.62822770991012,
          6.18954729052792,
          10.19893822431444,
          45.64661435944847,
          -0.08448847538450162,
          4.826728858735551,
          194.00811175783872,
          -18.90696692765428,
          2.9462686545489194,
          76.96369142819538,
          -1.6792902610929985,
          8.008838370393741,
          4.715869275045978,
          16.8954357270514,
          64.81451388953045,
          7.89169126692974,
          5.967728215674657,
          7.484398850468886,
          -21.940151899429903,
          -49.78890803220395,
          582.468009842937,
          0.47038274758714127,
          2.3808647913894045,
          77.0275744288758,
          51.69071990635772,
          6.040973161949238,
          5.293410522777194,
          7.378564685616182,
          46.36089527626868,
          -6.941091187861035,
          35.872859469723664,
          25.52912887803623,
          460.54126321196367,
          15.509149957719732,
          1.6342508383420546,
          4.155721463898732,
          373.3237625839075,
          -7.183436650815404,
          5.5712340994108365,
          3.0528924091834635,
          42.979539729655485,
          10.730124986586308,
          7.09483685036814,
          1236.3657262744637,
          7.412297445775432,
          10.221087065368952,
          11.437933942466506,
          9.339102443803421,
          -8.619583359069484,
          6.24707045465277,
          6.495892462795744,
          4.568794451002382,
          -11.62534071791484,
          -59.47543085434399,
          -13.917673064673883,
          15.068868224761575,
          12.274766706035829,
          0.06849444762992671,
          0.890019649659502,
          55.15836498689884,
          -11019.64567305278,
          -13.349855171760886,
          -6.558171338039956,
          222.80133310376556,
          29.419994396736637,
          -107.83171957369086,
          2.7464723664347073,
          -965.5301733170753,
          -692.3899757220962,
          -63.31785220623045,
          676.778102871961,
          256.9931212622633,
          25.24384466895969,
          12.454349964366811,
          107.17388107255584,
          9.70034293517918,
          -10.810197522775589,
          127.15054403467396,
          9.271295339601673,
          14.779438692500145,
          2.2639839569224143,
          9.506326677818462,
          5.711637829398771,
          -26.84268772547631,
          -6.829942715845221,
          9.423142822572432,
          51.72165400498139,
          -25.302818085449143,
          -7.013784107891014,
          -8.318690138159699,
          -25.82758191885789,
          -357.76470054957525,
          33.970634017852646,
          -9.416286403847003,
          5.637519920872453,
          -4.136913787631241,
          78.12045758927538,
          -7.2815316553896166,
          -7.150998213909385,
          -0.055133972917379724,
          -5.149058275036247,
          5.3830254234704125,
          39.27134273344798,
          64.37983254739396,
          152.24686106352237,
          13.16698258650952,
          265.00165417652636,
          5.410139502477269,
          41.87284800019902,
          5.527870808863201,
          1099.8964480718523,
          133.37930828415253,
          107.3038210135165,
          134.50785613940346,
          -8.466892242622166,
          3.308641195218975,
          14.920551014068879,
          4.948542758570098,
          -8.11066207378807,
          -1.9216625483226544,
          11.510055538145654,
          6.724299765323053,
          7.149026909724475,
          17.67275025431297,
          3.8409089869615727,
          25.847838714603952,
          1.3278923740516568,
          47.95487219199568,
          11.714451979725778,
          3.334028217708738,
          -9.012255762781027,
          22.21886688845665,
          -3.722443974082727,
          -4.9386317505973,
          2.9071282889390693,
          27.95402482882075,
          25.914585517135357,
          -14.174661555641524,
          -9.727475162830663,
          0.4966143981567513,
          268.5811040816598,
          18.607666722587673,
          40.59130389600797,
          107.0858145366014,
          328.57976108558563,
          10.179512412604156,
          44.92440225132074,
          67.02294726328323,
          -384.54861362237574,
          13.909111867227855,
          3.6360321234464843,
          208.33261239628538,
          14.967396106496023,
          7.953314034280003,
          533.4038087916313,
          49.90706069523111,
          -8.843590835264148,
          -74.00626092752162,
          -97.05049776729912,
          8.156731393691837,
          2.6370442362135837,
          -7161.547023345975,
          8.999673585611637,
          33.283478299392826,
          9.14243262401808,
          28.26135773036184,
          13.72996753195466,
          46.44804773116758,
          -54.237998194535784,
          4.613588931522611,
          13.144646637732919,
          -12.14633897805277,
          2.8637104230519146,
          23.964986778658904,
          12.431057687622324,
          -0.9971541102200547,
          83.81554692700541,
          10.083824248845142,
          119.4993906444426,
          -0.8223570771707084,
          4.696262471093595,
          9.427753547721855,
          7.946753129271602,
          15.579876156764204,
          11.570751323054434,
          11.541930882203497,
          4.713646782925455,
          14.368644367672257,
          8.92811643343368,
          37.4654192029517,
          -3.9062789703272607,
          -3.7269783523864284,
          -19.17077478134406,
          7.021903822613446,
          24.7969454707251,
          -4.105539108646434,
          113.52217797441938,
          1742.1088832486275,
          619.9577481117605,
          35.16960601834054,
          31.15494405768489,
          57.97033749654388,
          -32.874428046104704,
          -300.3819203417212,
          141.70906523063962,
          69.09105608554736,
          48.19902091624531,
          15.078920454911401,
          8.455168481568705,
          17.563815056840834,
          -7.266366850565158,
          8.642114806917586,
          36.622992016977555,
          286.0202905599657,
          1768.509600723304,
          169.6653255918998,
          55.192829106183844,
          228.37816841450734,
          0.6274014428456844,
          271.32686316684095,
          71.80037274373092,
          52.66450346870505,
          45.60264980207974,
          13.219199276840598,
          30.666262422482145,
          -174.06573507063257,
          5.842619211074331,
          8.851503181888999,
          423.84792707676394,
          4.539449736970696,
          11.078046450288653,
          27.77336776145377,
          1.8558582448110097,
          10.047282733048817,
          -1.3023464597402619,
          200.91931979488365,
          -44.95944021601046,
          312.756194985673,
          132.07638882223722,
          1321.9049599354264,
          203.7526855394901,
          19.854301815505767,
          228.86685851676253,
          15.68774691176936,
          2310.7813263897187,
          1058.1375006870676,
          14.833538250163482,
          96.05670460327546,
          9.821366990376578,
          185.24134209256067,
          51.37077676729618,
          77.59313191810932,
          13.696889481759776,
          12.214043897625398,
          23.126363832267426,
          1161.4675761449423,
          -57.55761869975914,
          -5.337074087886606,
          22.269197441868606,
          642.6048064358698,
          8.797697537110775,
          14.85987088482136,
          4.084105243775468,
          1.7747939250496678,
          57.77305137181407,
          143.78661689104052,
          779.620869364358,
          16.387152598850804,
          -2.8967867648448107,
          23.91801152212072,
          12.832175471290709,
          8.859840873203932,
          486.6484480043103,
          156.02701401378945,
          3146.325573929518,
          230.6882096053747,
          20.535532945896584,
          41.71567809722866,
          -67.42934659076764,
          -4.853407188420857,
          19.466981365163235,
          34.32139479028122,
          4.166125529100923,
          8.192592695495751,
          10.818309138783848,
          -7.282199899930751,
          -108.44562433931875,
          -38.652250452036284,
          0.6612661307478633,
          714.4479531948413,
          71.9714856948933,
          203.07169010620393,
          71.4993103271298,
          9.223571916591926,
          9.452650121872669,
          7.128187315431629,
          4.144071457226488,
          33.88593442779067,
          40.256027957684815,
          26.841125106785174,
          9.71782842905134,
          459.5249231851722,
          94.07493738265578,
          -214.6443657205505,
          140.73936589631194,
          15.268181454420127,
          816.4733271604978,
          97.69049533138302,
          115.08844547051388,
          87.19446474438443,
          293.0792685347376,
          13.753362989781872,
          14.945843609704689,
          6.941150041888084,
          2.8044545314426403,
          9.500776092785795,
          9.860250150305044,
          5.136707504748705,
          22.463228574172895,
          -4.214070103677244,
          -46.35253487219461,
          -3.1286825806185212,
          35.28858992098374,
          3.4005599656855168,
          13.784339383501202,
          35.10054186323953,
          -5.338370158108698,
          -12.525231307866042,
          -77.22876663708047,
          9.646497906109468,
          46.7599068702206,
          11.195796554515718,
          5.1636041898855245,
          30.521634098692484,
          0.9751142989168395,
          4.603502164004549,
          10.327646186960758,
          11.796942318675693,
          4.570157100604079,
          22.518352093943534,
          -3.858236612898684,
          45.19120748441983,
          5.409423940878131,
          314.4893975006027,
          -0.4360516093449747,
          0.796947248433347,
          6.3202486241358535,
          358.2838946577195,
          93.27405000479817,
          1.8052283326298102,
          -18.439417567657507,
          1.0301662607754796,
          8.195722919025128,
          5.9691782913543205,
          4.249411760908081,
          37.15705939029533,
          9.92591939108559,
          -2.9746596581746467,
          -1.8947571401823367,
          -2.1032582064431655,
          -2.1544520705450942,
          12.814880971024577,
          6.031361208313529,
          8.144542383910043,
          11.151664378323671,
          -3.0562216795706734,
          73.00504983079664,
          123.79887281258343,
          41.79375619601567,
          51.641454038094324,
          6.53726504254367,
          -3.721607280852414,
          -13.040326864126351,
          -6.950352914770007,
          26.35408707804478,
          -3.44912733017891,
          -0.9733788125667618,
          -17.027227580724837,
          128.70943201289438,
          -5.90087924630388,
          21.32691973010238,
          -3.404433888152246,
          -16.59247494296054,
          610.5613472984228,
          3.973775666623777,
          -8.17870434980618,
          12.669149153577436,
          24.781558444793344,
          3.6075035679276977,
          -7.388393124060067,
          0.002450146079953688,
          -1.3401373580336144,
          -4.607603808032555,
          -2.2516191265014736,
          -6.67083364112835,
          -61.081397514857386,
          -4.356265591573484,
          5.858573367998267,
          12.231813193647255,
          -1.7824953587985786,
          -4.405756372488256,
          -6.653474807324868,
          242.39095755377005,
          -52.50349429905188,
          4.329911801535807,
          11.089309632901289,
          10.02265074977096,
          -4.779309490584042,
          -4.243198759163132,
          23.978427497608422,
          7.3810525761034,
          -7.127867920450923,
          -7.554486170966946,
          29.15409767536275,
          -1.4211244780979184,
          -72.83386854693478,
          -0.024050998644682315,
          8.287234546806117,
          70.7318210828726,
          -2.256716389817534,
          -1.9358884174465547,
          -76.67980311767364,
          6.158412887801451,
          -32.457111360581045,
          -5.345396352547423,
          -3.6608445205288884,
          -5.685504480731032,
          -3.6875432023207644,
          -10.971565448484151,
          5.2633212138367576,
          11.827591286322198,
          22.631226963849105,
          1.9335057645803588,
          -25.246666587954948,
          -6.359533146710449,
          5.25334320514253,
          -5.641930918702,
          71.80728150243522,
          2.66583741268761,
          2.966188923298628,
          13.565340621299155,
          -1.8466990240988823,
          333.5765772496237,
          29.51450685213948,
          319.28143942545825,
          0.7902591839190061,
          6124.861175795978,
          4.348910407464078,
          13.985363799292344,
          9.578330387115109,
          10.13112553743867,
          6.416241301781869,
          12819.528012008244,
          25.30250269128682,
          4.416439710057853,
          45.8441608844946,
          14.177092864771682,
          2.6391162593334565,
          8.894127020759559,
          44.347811185391734,
          24.782761040103644,
          2482.3203329864614,
          613.9303239245071,
          6.340181916325318,
          3.6571421763602374,
          3.134685211566041,
          -25.092517572606376,
          -5.183601374269243,
          7.714823847748358,
          28.656256624496212,
          -4.4777009286299565,
          4.451835266010764,
          -11.290087349990293,
          79.56254126039046,
          19.25972290488299,
          5.172810920455367,
          4.270123226401849,
          308.52653423539874,
          -10.850570043604835,
          -0.4367079133997157,
          5.850066473778389,
          40.647980120364814,
          23.718770197347048,
          -3.8765341322201285,
          22.771895896416364,
          443.30489036431186,
          -6.161962706156253,
          0.17496558269050635,
          -10.45434213758293,
          -10.840582937683713,
          -27.633334097138054,
          -24.751988396247736,
          -9.178457691314229,
          0.9219596108659999,
          -0.46079938715577373,
          -1.053674636770703,
          49.57429851389313,
          216.6926573347219,
          10.075482124119754,
          0.23003114780885944,
          -13.099028391164044,
          5.0966378875129195,
          -37.56853254443193,
          -5.327675400398316,
          -20.98793817789431,
          -6.712495608621659,
          5.469231966970694,
          -95.13689603462595,
          -4.932789057442615,
          -107.73545430431605,
          1.149234034076409,
          -3.8300690015120145,
          95.94904536095378,
          27.971382326811522,
          -111.79777357777738,
          -339.5304253941999,
          -6.660523178742298,
          -63.136390318670756,
          -40.023730869427816,
          -9.227202820062947,
          -8.641519336900332,
          -5.1135956542838965,
          -19.08754163313426,
          55.88727532797926,
          5.804940329404218,
          -48.29971540755334,
          -0.7472831001605779,
          -102.75096305217617,
          -7.264806328341881,
          -65.61976291799034,
          38.1860063938531,
          6.6882595562750256,
          -2146.2854519190946,
          1.612322473577339,
          3.777691398187736,
          -0.1127986950107633,
          8.897642294052174,
          256.83037762614674,
          -19.224310201928265,
          7.409017645453849,
          3.9748217223541933,
          -2.6349413930763044,
          6.059663995896185,
          2.0682948012364633,
          14.660715367316064,
          6.43299770771103,
          217.3050046398062,
          9.758690920005257,
          8.384186269867815,
          18.34188784311967,
          14.591201214480602,
          7.733826690369054,
          80.89516242781868,
          40.17710423192056,
          14.527905228706853,
          2.9763409516502777,
          664.5241230589427,
          1943.6022189608486,
          211.03568760110505,
          54.375967578076654,
          10.714558304372677,
          17.944088223002645,
          115.22938053291898,
          166.58188260458084,
          22.981698783793497,
          610.3877305484189,
          5.561606974440946,
          -4.73671921545087,
          26.03894130219847,
          37.676519156882215,
          -74.78548820502922,
          -12.686348930626153,
          3.3130878781289885,
          75.23755200561723,
          2.953400981147316,
          282.5160139169241,
          6.706760625584018,
          97.52479304614893,
          2395.7975594579916,
          5.298755537309058,
          4.405726171966155,
          15.094667861375157,
          4.046790700695537,
          7.937392391445685,
          36.142810010325604,
          -0.07664752100024841,
          -0.7879221285101226,
          -0.9218297587088333,
          -7.995941313574813,
          10.285921884205402,
          19.04522949810391,
          -5.002175583117134,
          11.11449696988867,
          2.7711755458439957,
          9.704021289032147,
          14.803461467068669,
          4.533601286676364,
          20.38655189197246,
          26.573050144726473,
          -77.67336791846732,
          1.3475178943660147,
          -1.106745351100742,
          7.5277138184402475,
          2033.8992692517345,
          5.774703109666922,
          1151.1092391730706,
          13.274891250619216,
          7.786975112765842,
          -70.7960947855969,
          131.04927769895286,
          4.473837006754995,
          132.90339913066958,
          12.315245038046653,
          174.2666430471683,
          -1831.901078234947,
          -551.469730273313,
          -11.195034217668853,
          866.7654726083704,
          2842.7892000003253,
          3.5698696585179195,
          32.143736419690015,
          11.15324055380064,
          -112.2276941302252,
          -78.46409770993613,
          -0.890991792324835,
          -13.09281503763116,
          110.59738997664951,
          53.91695176670597,
          -4.767197839776958,
          7.802229017392494,
          21.084738837910656,
          -1.681910852802851,
          84.68441801436263,
          -6.247636057490337,
          -674.8291866456234,
          46.857551472345754,
          32.98150763562324,
          -22.505204708501985,
          339.43460534885986,
          244.09688256993277,
          16.05958484091535,
          309.10938518483346,
          13.37055749922066,
          73.40410664893474,
          62.494369664525095,
          89.51017390067958,
          14.428235520004261,
          71.83855505966852,
          389.93536940435416,
          68.60871337650147,
          324.93958157085353,
          46.227356478168446,
          25.23881628179911,
          -27.516678948417656,
          6.271659345578085,
          12.450131200012953,
          29.76543960954277,
          68.09731078254802,
          102.85551494564257,
          -17.83208715614189,
          -2.814614053799732,
          -0.9802031934151666,
          0.10080966976060644,
          17.533369837138284,
          -22.28976964665556,
          -4.012989601075219,
          13.077105491551212,
          65.47699370752784,
          4.166394968198921,
          8.76697333926896,
          15.854476850011967,
          1.0768900640019228,
          -0.3189216987647152,
          109.15054227924438,
          -8.448924351129776,
          25.288697386395754,
          53.4455141562504,
          20.650943184969595,
          22.436915854679288,
          271.51422891338086,
          50.83752926984069,
          61.83779501521682,
          5.107655517868922,
          17.083828928820232,
          5.158602761509296,
          181.97629811698533,
          295.4250341749389,
          19.617296836835497,
          7.979111549702132,
          6.852266582754818,
          1.7484783417017356,
          11.25178274311569,
          22.297586246576362,
          389.0501019468253,
          36.818127198049986,
          37.29105617024651,
          68.06706041066305,
          18.43495781542389,
          -0.3554013007420643,
          11.213710021382182,
          56.14829878140727,
          21.66999459890126,
          -0.8606407541383977,
          1.8328847361777034,
          -78.40840671601836,
          -5.406503160770181,
          3.566411032414156,
          -2.9485082114085577,
          13.914635839274515,
          31.60532679406652,
          12.073297403054227,
          40.650907208076916,
          15.659142161120961,
          5.284080527548691,
          26.097533065365152,
          191.66365722458409,
          -52.027052286996366,
          14.727223318329385,
          -1.7842807058005266,
          74.70510095059132,
          15.101163313196523,
          1.1121583272231215,
          7.013081567314367,
          5.974538499483065,
          6.56858106542463,
          3.4123261300694647,
          107.4819320145346,
          1.8414519843757142,
          6.8424179011729445,
          4.135217540301446,
          5.36888617652479,
          4.496098274202425,
          6.808028369866531,
          3.657137029712377,
          70.45497739111262,
          263.81879283749106,
          11.380359554008333,
          -0.2799525949372837,
          2.231808072854266,
          46.72324364001509,
          -2.7460490946933263,
          501.3784263210188,
          -2.7358243840534264,
          9.396729228848242,
          -9.094058137964709,
          52.21200752932066,
          -2.5352104102482476,
          4.28946259121057,
          -1.7538062352807682,
          -0.9494917167000416,
          1.187661363913558,
          4.595128119595239,
          267.76908645538845,
          9.237150216319382,
          4.031088935225722,
          19.38674850585666,
          -3.487021062482548,
          8.113425529284626,
          18.00286756809053,
          8.962449212272377,
          7.164711665481666,
          21.759135376718767,
          13.45946830830173,
          45.9291302883511,
          20.0439398504109,
          -7.528754825410414,
          -2.5060930425498307,
          -3.513153760506544,
          -35.084074651975016,
          42.12606942257675,
          46.569679381849944,
          -9.664174011237002,
          -4.991107591106556,
          19.834343133868792,
          7.731239628046429,
          10.365836479693291,
          36.51838016787936,
          98.2343671748419,
          100.53806316433709,
          1.6667636831000021,
          444.29804626111024,
          15.964246952180265,
          15.56194572723296,
          77.62337927369069,
          22.47441702554367,
          3.333668855351311,
          15.00999316813614,
          674.295548840249,
          3.9591568100165575,
          -143.23965525331673,
          -2.523722953007839,
          36.436093834461026,
          49.70107399727775,
          -66.03684489731185,
          -42.84836020387676,
          -1.5887531627823641,
          -0.41712543401997537,
          -75.55114269244655,
          -36.85823569009378,
          -41.95972419753452,
          -501.5724006103985,
          33.21842467435971,
          5.055595844387917,
          54.36571720342626,
          -8.812515122879445,
          19.608113182914,
          4.414369792229859,
          32.672834948383866,
          -24.04407016986126,
          -1.2350376475257054,
          12.407874488844442,
          48.91727788379165,
          -5.29689939769051,
          -104.48575758459953,
          -7.557687394108357,
          -159.95286766986436,
          -20.451741808699936,
          -116.97438564436314,
          -44.426405206132635,
          15.929317650022089,
          -12.640521546351346,
          -11.011709705635358,
          -9.126996487993681,
          -54.55102761205111,
          -15.539281857833604,
          -20.789624947540155,
          -21.923582191503897,
          12.429198201123153,
          -2.848624751091031,
          27.159108417962898,
          14.069188924556325,
          -10.965811993481427,
          -7.00239191953114,
          -24.143447228424595,
          2.427268110696322,
          1.4493430533682465,
          -18.674203644294344,
          94.80767371974724,
          -4.782533667416034,
          -2.0776242544225796,
          -151.736630064439,
          -8.938292361086742,
          -17.65746266729335,
          -3.432434946347799,
          -49.19319890683411,
          -12.698153828926605,
          20.81631784034391,
          124.94689422337113,
          34.22809702836608,
          7.905755811930604,
          32.62961402400091,
          37.40716744136067,
          183.39288621712424,
          -4.738983420478899,
          76.58607141509312,
          14.578894605137847,
          116.11504210974736,
          806.8405377061255,
          50.73116893501433,
          30.88116502020408,
          68.3479414248987,
          3.14807574232232,
          0.8454179653000812,
          671.3790760060342,
          13.224474193337477,
          11.576072616317285,
          9.91547292301841,
          843.1099788025986,
          -0.37279581693903324,
          -83.63029778106375,
          7.7783204375508275,
          31.71175710317087,
          2.0490413999544645,
          6.521420806945817,
          57.34150122191137,
          3.874294504677828,
          -2.532103462291586,
          -0.6775271470985277,
          -1.8466717188130752,
          -12.472863999516132,
          -5.232435734120901,
          -23.973673688957447,
          -4.039645354380092,
          7.380098463955469,
          56.949715850414066,
          -18.098147267455353,
          21.681849453960435,
          -3.0122162992207517,
          35.418578036538555,
          64.0380528981045,
          25.054390712258122,
          -8.301170324279267,
          4.140250310853027,
          40.81798312409532,
          -88.53238606968021,
          67.68199741259713,
          198.2137496368912,
          345.76425607019144,
          179.82118017407674,
          11.686592580379374,
          -11.925678556903243,
          -20.84558737227855,
          2.5393180807208426,
          23.02736727469752,
          1131.5157873382643,
          22.67595686548011,
          5.266788550758489,
          -29.37509918248927,
          -6.766680748812983,
          1237.0078171401287,
          143.4349604759557,
          17.571507627288238,
          7.344075750441878,
          -11.892633144366156,
          26.244842982198566,
          -7.748600987874193,
          -8.178178223641707,
          8.92578490833291,
          -1.9889129274425505,
          1284.066428060393,
          49.78516659676644,
          18.634834946340376,
          -3.717362377653705,
          -16.006860210710997,
          16.93720346887269,
          101.51630957401153,
          36.222696079429234,
          6.926900446450135,
          11.901400590926603,
          21.186172235678775,
          8.199695879376307,
          64.2802804365176,
          34.138800869226785,
          7.798274919136421,
          17.66111191481797,
          7.561053406894831,
          -26.980953709756687,
          6.168953599537812,
          -45.27119453984649,
          0.16863121048813198,
          -4.963382654056268,
          1.3286496037213515,
          12.392840165851403,
          308.2670567855372,
          168.62630537256294,
          11.786879491677142,
          2.0799896447938986,
          2.234443188548843,
          5.701940702319214,
          1.557256981819352,
          -6.5977060802619265,
          35.63734046049481,
          5.084764763378352,
          26.017148720653136,
          42.87849912873579,
          6.907744125329038,
          1227.6378808246563,
          11.140767469399213,
          14.804025245972511,
          25.31600450966847,
          5.73324560106986,
          12.449921005174241,
          111.90972321203051,
          26.469299212033505,
          24.565813918836483,
          15.310855172269164,
          49.845261545563396,
          5.8307825803922535,
          12.09888841972123,
          5.971433828228615,
          5.621930676603549,
          31.128652895690916,
          24.593454849649717,
          556.4374957509074,
          4.263347896595494,
          90.0943831431748,
          837.2411602948495,
          4.947782663628504,
          -1.3716131794405828,
          -16.6129650169771,
          -215.2254333573958,
          -7.853179220431197,
          -6.698776090228227,
          -14.182907197329525,
          2135.3447843652916,
          1.6987001326012803,
          -28.0295190174837,
          184.72741093386952,
          37.334601443658244,
          -8.127889745251222,
          -4.637618119830921,
          -48.7117055417858,
          23.342601273746286,
          36.81523353787448,
          -2.2110082734468683,
          19.684969722756357,
          0.9267046053683673,
          -1.757949717477249,
          -0.08781519691257778,
          193.10250429726548,
          -35.11579882176328,
          40.22932335918868,
          1.3366320739669248,
          67.76100496965192,
          566.0399868954704,
          -54.026228698762004,
          36.194242512599324,
          38.85987643976123,
          -3.2727241957781956,
          -4.219591854570358,
          -0.2953604977583791,
          -3.4970397472489414,
          121.93352363698769,
          -14.347944837721183,
          -1.3530739113117656,
          108.38179072834049,
          -29.430325916087593,
          -19.01788272556457,
          290.6791084332849,
          1735.7350359780246,
          -10.480159386734316,
          -5.006939202322145,
          12.084490116408114,
          2.248834065491747,
          -865.0234494202175,
          -14.560603058666244,
          3.359496641417252,
          12.924828608913487,
          85.23606349728716,
          -352.34034099156844,
          39.418473182047485,
          -17.38708107395485,
          -4.136217386191059,
          -13.524102761543938,
          2.2332114206245532,
          -31.645798159226864,
          -4.575677402086163,
          3.276666942295947,
          -12.446155876572325,
          -2.535534578069006,
          3.722501606203805,
          88.46993108875951,
          8.793309399244126,
          -3.1995143812527456,
          1.917697954123533,
          -7.596124462533932,
          -25.021940364751828,
          -3.578285088621645,
          59.98418394647692,
          440.98257164408346,
          -4.7623355118410515,
          -9.495257328612503,
          931.118365380832,
          13.890344451352153,
          13.849421439970968,
          -0.7255148646673137,
          0.6076979395222192,
          12.842221449562494,
          142.06687950887175,
          72.41743154020209,
          38.472035850707805,
          284.97193247911684,
          21.186614459353265,
          1.3476588893361885,
          6.64963748870976,
          108.29659921055395,
          1.4863837175356764,
          -1.9916199111593753,
          -6.252538590260517,
          323.8041324989981,
          -9.801292935397942,
          6.5301620999941905,
          -0.14104398769051704,
          -3.07727081141559,
          -3.3803966781229526,
          20.156146891918546,
          6.686837580537685,
          -9.517141672208334,
          207.03683409440046,
          17.973752159071076,
          -3.2563210025312204,
          -2.480058464347923,
          16.939762448603577,
          122.24775179312545,
          6.754711607966495,
          16.202686927612728,
          9.769366705373981,
          11.830892362444478,
          -4.119940751202096,
          24.553913981911155,
          5.1895473187971985,
          39.24523133472188,
          48.712932913466005,
          269.15641254217616,
          86.02915128899737,
          159.44361969774002,
          113.43655223783229,
          0.8709100319417425,
          35.960863305122274,
          6.54749912036787,
          0.17868488709179164,
          72.711329983249,
          5.567594935009761,
          -0.3426005955254733,
          -15.395698410240705,
          -1.80097533085513,
          -150.8268119414967,
          1.467811715833933,
          134.1892964706253,
          5.629383317668446,
          10.011190568777224,
          7.140001602751746,
          18.710122159110878,
          1.8252880674359158,
          -2.1142132235755065,
          -47.58367238915135,
          30.857882227303953,
          24.651744076420346,
          6.039092435927738,
          10.846119568363601,
          5.419200953969184,
          20.35695861753059,
          32.990050461139134,
          -9.836969699393409,
          24.524685524787262,
          -14.175001070323304,
          1.5324518955184492,
          10.612099925851561,
          -5.333301617056361,
          2.5182483286616133,
          6.701786215777448,
          105.9496391917038,
          59.23333413645755,
          -2.6188882729466383,
          1.9022009870434289,
          8.862065559274589,
          -0.8848389263737237,
          -5.248728059650575,
          38.48295550830757,
          2.884716485758464,
          4.892082250057584,
          1.5339988967816693,
          -81.26200487943824,
          -7.37780106541743,
          -309.71475321146096,
          -42.69049852192396,
          -223.57449774299477,
          -18.401944069277306,
          -1157.0949614506847,
          3.6234532161203106,
          25.017149537367303,
          135.2285302562804,
          27.8120975662067,
          127.7947892239894,
          233.43228642653844,
          9.170917379489955,
          -7.646714141454533,
          8.932402004697567,
          -2.919132421069018,
          10.387483980808025,
          59.890507371986,
          -234.36398156127922,
          -72.98351587413003,
          -65.89979169906549,
          -10.952640340694508,
          7.832739149815495,
          2.3071979648350665,
          7.74932492274926,
          -2.3916913305607124,
          -11.076016462552094,
          -206.07134804001203,
          81.64997860197116,
          -46.6503534828399,
          -4.2109904364035105,
          -6.112177370719934,
          4.862566367297754,
          2152.776351669503,
          7.075585027986384,
          -1.8442347360115976,
          53.60853312131528,
          6.039372839314655,
          14.989208586722043,
          72.48538369557642,
          6.213109617427901,
          8.855835175911125,
          2.593985189451106,
          39.703639964568,
          4.0572188160098595,
          12.955334149235687,
          10.845520111625303,
          34.303457403726476,
          284.9377862162824,
          6.658715885212834,
          5.841960129695356,
          -3.1111853733667223,
          -0.1565154210531801,
          -0.16613210631514733,
          25.556194995167637,
          14.584227120459186,
          3.0381759083835633,
          90.78455939222025,
          18.120607918726908,
          21.93102330283612,
          11.28046473989244,
          -6.052901389675533,
          3.061466032797538,
          36.81502400728845,
          6.39190338933135,
          27.152904553348872,
          2.978838590374005,
          -0.13704424566740056,
          -8.671594758519166,
          0.3665258934638835,
          2.440170640014886,
          5.369454550037919,
          17.696874801572026,
          17.944751739163504,
          26.598550340362642,
          8.384399709598739,
          3.4416626827533907,
          45.47987987429442,
          11.656227674555511,
          32.32262108548394,
          -5397.771821585664,
          -50.204060556994726,
          -235.62155541928945,
          -4.558062230607527,
          -13.755059128409048,
          -5.577482326112272,
          -7.770833360921315,
          19.652658435113786,
          -3.784059776215378,
          32.874327097521416,
          37.369618389665824,
          326.9918514714107,
          66.03933695412145,
          -29.022208776735464,
          -1.0102379273427822,
          2.9576006309699707,
          140.75691594948816,
          -14.296004705834319,
          -21.40353962342357,
          1.242980808489139,
          109.15418787601311,
          5.139522948189118,
          -16.994714816894767,
          6.657974830689047,
          54.711298252224545,
          8.794850689489907,
          -1.0694224439378548,
          3.6999904449390155,
          71.79331134869749,
          11.199734998938027,
          67.96545947947851,
          23.791291188780853,
          29.315781633164757,
          -16.83775356034908,
          -13.037242473215692,
          -12.63934266467802,
          11.175895150386248,
          -10.249280313468587,
          51.06806390482025,
          41.965309641131675,
          43.44041187471578,
          64.64830089236753,
          -23.739050373096024,
          -11.23267668069852,
          2.305958156215373,
          110.40751763213605,
          -18.43952074831986,
          14.895234172955504,
          61.64210555419321,
          6.515908398676969,
          -8.620703347042745,
          -425.44433249748624,
          3.8893880944204713,
          6.4328614576044965,
          645.7316780943704,
          119.99404185404404,
          51.87989656783518,
          3.245020474759963,
          13.734523351654126,
          2.990360611385532,
          1.3312930707666866,
          19.432718282084103,
          -3.9659678100202806,
          1792.9064555645732,
          15.881795716914397,
          16.743716261413493,
          -6.587554388790592,
          2.0663752399486284,
          4.513245755647387,
          11.132288656445034,
          16.9538054946602,
          3.549959087403368,
          -1.2512650763047386,
          1851.205912687007,
          30.696735429583306,
          3.989804357587694,
          2.6563837126258503,
          35.536153356553406,
          36.98632525708737,
          5.1568942705493335,
          55.0381748799409,
          92.64917934605946,
          651.8968248237956,
          19.80133868089948,
          9.843265265424858,
          142.1207590297625,
          197.99298861597936,
          10.770412476026339,
          12.401524486414651,
          5.27050727548237,
          4.4535442044885905,
          6.841921009298262,
          8.044046439404639,
          63.97475800658844,
          -5.116173704112415,
          -7.178054947512329,
          -81.39946747932225,
          16.372844619159395,
          20.713203616173708,
          119.5587594974221,
          -11.788997883016592,
          -9.058765481780863,
          -8.614776884830055,
          8.749966529440691,
          188.0859879143736,
          23.0682412890191,
          11.76226170538819,
          10.384102963146065,
          3.0613768826551,
          3.98874641136267,
          17.238615253887097,
          13.62980390931276,
          -7.165979630568403,
          -9.745098713280223,
          -12.278404168902739,
          1.614830986280874,
          7.81068596856636,
          144.31865726696782,
          11.894041912636352,
          -1487.0250965525354,
          -46.442671401657975,
          -9.827331978674753,
          -1825.0730601884275,
          3.8238643707807456,
          3.3966425170595214,
          -867.2320451176818,
          -149.6548468652131,
          -45.70805811746022,
          -545.160845079177,
          374.45073809602474,
          424.76760490982997,
          8.715464389726735,
          11.530832737450833,
          12.518126388593142,
          85.94963713580104,
          7.265001392310163,
          132.87723695264998,
          1.5297330842056296,
          -274.5545212189482,
          -38.358543504054225,
          -50.54153071766736,
          195.67898595938942,
          146.40697445587801,
          5.985877498391671,
          13187.998276862058,
          13498.398805047927,
          6.499104193889596,
          25.86439431960649,
          4.71532059895543,
          3.8697030337800404,
          738.0173391448403,
          4.352560489869061,
          8.834559633866169,
          81.21188618680017,
          9.95920635976108,
          7.637494720617219,
          154.25070221960465,
          27.83371835397967,
          94.12379941766464,
          -2.393791556579206,
          -7.383894718071647,
          -0.07794652305693854,
          -2.3581586858694044,
          -96.85579625689951,
          -5.008148439975141,
          -7.0620520321094755,
          -8.654487177979206,
          -8.80150897308005,
          -307.5266310774989,
          6.6707290253052856,
          -35.9558011528601,
          -2.1347324470570235,
          -93.09416047386671,
          0.21080547485771656,
          5.359468698681314,
          -248.91553404838135,
          -1.361266584724145,
          5.05480604010182,
          11.98002890503616,
          6.132052886893541,
          -2.370848475854018,
          -2.0805027651099435,
          -5.47490296137231,
          -0.0400063151417948,
          0.8431484496907822,
          -4.712484321205112,
          -301.64115647663544,
          -1.9704235457751005,
          3.0657705840308713,
          11.728949391159581,
          -23.634815454163352,
          -33.933599119589736,
          -0.1278409227548802,
          7.671350766202099,
          -6.795155322790804,
          27.582395152800746,
          2024.3343794914665,
          10.787213304867269,
          129.74412690622756,
          10.27505749444302,
          -13.449542578348796,
          -4.587853847302855,
          -81.5030774120869,
          5.427693337038773,
          21.128319770842634,
          305.772454511274,
          11.514957254980738,
          4.6891822352423205,
          6.529222321473911,
          16.998080599213118,
          28.52906673298066,
          6.2066070504026785,
          14.918786398882704,
          197.84840749914244,
          17.29886569852085,
          4.672809581209169,
          3.0739747089600566,
          7.17704852830245,
          40.93673055714903,
          3.7703510998458745,
          -0.8178932703277131,
          134.79950510644503,
          14.206040537779328,
          69.67007068257841,
          11.674662257396912,
          -1.0256024114536706,
          -0.18102691104223353,
          -4.103873912617919,
          -2.75899478867141,
          15.226324498336588,
          2413.0409928030094,
          -7.992052259297695,
          7.008055999337993,
          -1.9235207382515953,
          3.349792054559437,
          4526.7883112141,
          5.858526203947565,
          18.501494571307823,
          194.03944129264949,
          2678.9856520695503,
          170.62943765747306,
          5.39161783699572,
          54.61576562696419,
          5.386764305629253,
          232.3043566837244,
          52.11276756262975,
          21.82715295177191,
          -3.434046958616088,
          -0.646880515294078,
          -4.899430021888283,
          8.687548828846753,
          160.29554378998492,
          48.863134403131724,
          -1.9616226699947295,
          7.439712388913244,
          -3.342624875453677,
          -3.820940569561131,
          -24.78076238413298,
          -7.336758465190149,
          -16.44653265298953,
          -9.616416020525811,
          -22.32678078141731,
          506.50008261407226,
          8.829583757941457,
          241.5509675668621,
          17.120422370269843,
          -248.38332484055118,
          -7.093300767386692,
          -7.754936957929645,
          -0.21838785338683836,
          -1.937390454394044,
          -12.007756015983379,
          -1.5043195607111182,
          -2.647064255375361,
          -10.868690545174761,
          0.48365928451302603,
          -5.583099138168539,
          -14.1544283707181,
          -2.7616757162562964,
          -6.4334717052939006,
          -3.2962784395996048,
          -6.23279247443353,
          -25.902097503475726,
          -524.6104779026939,
          -8.906152235530831,
          -102.82913629930636,
          -1.531974660820706,
          -23.449241549164682,
          -11.310495462130485,
          385.4579895319472,
          9.95675650294021,
          -103.40909003249428,
          -1.9494764165046947,
          -7.805010978420284,
          -0.7527606305387599,
          -1.4354159485745739,
          204.83624633485272,
          -6.815157446595936,
          7.654724041415455,
          -2326.7949651111776,
          -149.53290284850516,
          -7.560034892106922,
          -51.818937724410155,
          34.47469059601178,
          73.56773923838726,
          -4.7342299683648355,
          166.393184123052,
          340.35660153834385,
          28.915828685716257,
          7.832971303187963,
          6495.01959752178,
          5.229123480301245,
          2.6228412188434564,
          13.671339653102459,
          175.7696954527843,
          -24.509652644218495,
          -76.89951414907325,
          -6.082438273957358,
          -2.221660420366349,
          -2.432750812803366,
          0.3755621893497846,
          59.06321763557253,
          172.0633951567725,
          14.770246863552993,
          6.682849593317511,
          7.5387504689664375,
          0.5460065381887583,
          4.424983767129825,
          10.435636118386382,
          -11.62656824971247,
          -17.85858595736829,
          180.27098375878649,
          4.54104179511968,
          9.464306500207314,
          7.907076322308721,
          11.797428543927143,
          8.3727741728213,
          94.27271419611593,
          5.067724142925434,
          486.2627457609812,
          11.769774204701916,
          5.807273293525437,
          27.092099366484646,
          17.933023240068547,
          20.484699367679323,
          -5.357896651741069,
          -162.25419680880273,
          -3.6456261702695207,
          -2.141983544695263,
          -38.3423685222638,
          -16.599843390645024,
          -127.2314498063614,
          -9.745169706863253,
          7.645166662205162,
          5.7831207513437475,
          3.123245093023289,
          13.019420607476645,
          16.629352032459817,
          8.184697951705704,
          31.954549575385343,
          81.19728362369999,
          20.885527733365716,
          127.22531376214368,
          -0.681433516663732,
          623.3259016953233,
          2.871468857177044,
          64.12160787888982,
          28.836868427195846,
          -0.4190150476591386,
          -0.5662141805110598,
          0.44431391219119853,
          -0.3511690414061873,
          -1.2494291754753808,
          -5.314461749640889,
          -2.534960392245809,
          0.7826662879437183,
          23.959799858035733,
          12.08100523546076,
          5.469677608342071,
          -0.033193993360017764,
          -0.28196629170806575,
          8.255980440010354,
          7.480241670042305,
          4.783584297580814,
          353.25059202341583,
          8.851386074906056,
          -15.753846106588927,
          -7.432684542292462,
          -5.723876110038087,
          208.90915699923178,
          29.439498300918284,
          7.275287430898434,
          13.703395735654173,
          3.9861904098479752,
          119.06402324944578,
          -60.529054667533536,
          50.61946052562434,
          4.547218246966431,
          5.835064183927306,
          121.21361478753846,
          120.23626887252196,
          116.79995629486142,
          9.886502150340798,
          -0.2163184391261743,
          77.18346583550134,
          -3.3891517038571575,
          10.842673635727325,
          -126.9631236473053,
          -2.2370504614929474,
          -0.9893770263300126,
          -5.221456714661674,
          -3.6476198954034516,
          269.4769793092942,
          12.796834245954944,
          -0.07114932843932346,
          -36.288171443602515,
          3.986578818740212,
          27.35170808774561,
          691.1717585344272,
          78.46069820535205,
          50.41653954405254,
          2.2746736483965275,
          7.686856480173043,
          8.69823062516148,
          6.2778294384386015,
          17.898055997865953,
          19.770056124398376,
          2.616500998900346,
          6.197415078622548,
          -10.361968129349854,
          -14.15161882384683,
          -37.25093848911001,
          -112.74740895113212,
          4.501957521728815,
          149.43656630648107,
          7.858450607057512,
          72.2544056335509,
          8.751882706463173,
          9.149411478064787,
          8.211663128086137,
          4.4315367981654274,
          42.08332637148686,
          400.52736516783426,
          7.124411359527081,
          4.55170435193606,
          21.09938001069215,
          3.966580437642346,
          116.75938026088207,
          119.19332062937879,
          73.89101503357453,
          8.427591980613835,
          78.39326104248939,
          4.276649967802199,
          0.8416489308520387,
          75.98733981858867,
          107.42056762584308,
          6.354754949354278,
          38.17933104870445,
          24.72714295922451,
          0.673605891687761,
          344.0880349997487,
          -5.573148680444923,
          26.210686785839368,
          227.783361714041,
          58.27132067987275,
          7.897795302793793,
          7.3931364827162644,
          15.832259635995324,
          2896.2846111169383,
          29.221698004284985,
          3.9383105611540725,
          -8.096094019609255,
          -56.86053638143888,
          -2.846304658499247,
          206.2879872175416,
          -11.120283582844605,
          -4.086239074087261,
          -2.3839777795757855,
          -4.065045476721558,
          -9.551589843231529,
          4.822723441540492,
          -3.651319148235384,
          -3.144398606545082,
          5.110804488601517,
          -5.573446471126261,
          -85.54797591073884,
          16.169199506620558,
          -1.9224063725068006,
          -2409.1344529584408,
          -2.6234555601907337,
          114.70402247541266,
          1.5461555424957554,
          -11.975500612050517,
          -0.4219098617000586,
          38.28021836015661,
          -26.91049812073741,
          0.17257492909734445,
          -7.247017417354456,
          -2.6985108248781455,
          8.975832668104504,
          9.163478139043635,
          12.522374180380144,
          0.4638774761172265,
          185.48102487827504,
          6.639474753294929,
          7.607479331881547,
          -11.382083235431637,
          225.0565716101394,
          -19.253687631771008,
          -9.040223433163996,
          -6.3644863965302365,
          -11.077082803090017,
          -7.772781253062073,
          8.88832228614147,
          1.8158196163285139,
          -4.337205613113673,
          -3.7558588206314902,
          12.196137768532573,
          -250.13752796091592,
          -24.906791659717882,
          -320.76737276725254,
          -244.1626992090563,
          29.463578613038234,
          -10.336849083234572,
          -63.46475419107613,
          -454.92564988226854,
          1.2208358120536766,
          11.62499735638283,
          66.61285455730086,
          -2.7333009074543164,
          3.2550751575255403,
          -10.011559815851923,
          4.63072982983041,
          49.672382536978525,
          -269.963712246482,
          -33.530639319491165,
          -3.074217629008854,
          180.3248328871147,
          -5.495197837101356,
          19.472308385472836,
          4.172636710085004,
          7.698936922150384,
          15.262590911869072,
          5.690427954452912,
          39.72515232633817,
          176.03712170924294,
          3.9863452382127345,
          -1537.6841780353877,
          -35.81887184963118,
          -9.671695616034091,
          42.02890541302786,
          5.6679492029891385,
          3.78503380129909,
          4.144867250922531,
          -126.19087421619409,
          -0.4976538854387552,
          -7.939111300526116,
          -97.28962941484617,
          -8.409667389740868,
          -6.210908285971385,
          -4.192597342085182,
          -4.197269545048013,
          -50.5653804649168,
          -0.5829286954035574,
          -2.7915777205480166,
          40.16940577744555,
          -0.17316034247167966,
          -6.109248166622887,
          14.207826485757856,
          2.3976235926128124,
          -4.210854741839072,
          28.28190493845013,
          3.225087503032533,
          5.742225081849349,
          -7.017304026732875,
          0.3908657449279046,
          -3.2290138534366597,
          20.223216182953145,
          23.363382963591015,
          156.28673831236745,
          -33.88441641676346,
          -6.299432275525484,
          -17.59625544272529,
          -11.610871063812041,
          -11.725143653427747,
          -12.636716746175455,
          -3.580754277720123,
          3.256275607784321,
          16.335801565151968,
          61.84301640889276,
          9.883165337478118,
          2471.4712184514274,
          6.3881293721871675,
          6.8687155270174864,
          106.07312295979274,
          157.17041239769006,
          27.3059117843768,
          -2.2668972430117225,
          15.715437754342746,
          146.16756642383945,
          95.63759393896669,
          110.93689258545731,
          120.67936639750886,
          -15.137284558573944,
          4.888701392529826,
          50.15617761960426,
          -2.7534652946614764,
          28.932938655062628,
          -134.07314663545202,
          9.920832436803165,
          3.224584119350968,
          6.433481114546296,
          8.902165006655778,
          188.24749020624176,
          -6.722165093452623,
          5.508096311068164,
          2335.733184679494,
          9.800521281345631,
          3.5070441198597595,
          6.386624509118348,
          1216.3839671664628,
          1161.2114090848845,
          1.1712876498213487,
          10.601920503387383,
          8.876705227446516,
          32.299102044464476,
          -4.305142877448791,
          533.5674394889564,
          17.034556959335195,
          -4.001545085142875,
          -5.27670468986513,
          9.618865649990688,
          20.209560757567097,
          25.145242855697422,
          54.06686772682146,
          -5.003139854091556,
          38.73146732571632,
          12.637623547857443,
          10.013082249805272,
          3.5516539213437115,
          15.481835206866037,
          684.9301465068914,
          1445.8875207952508,
          -5.909649787546774,
          228.7562803872735,
          8.306458577295944,
          10.807978758517136,
          1.9961977768945478,
          14.295868629388327,
          2.8956639341413597,
          9.505000377906013,
          -17.08191319222088,
          12.835422482834892,
          6.165483093291555,
          -16.51885043947468,
          3.9423059951914183,
          -17.738227221537127,
          -1.9681305514426126,
          18.33065963483643,
          2.102222785890093,
          -188.31743443694492,
          8.774785562387475,
          4.753156734032031,
          56.93248436954855,
          2.723032126310008,
          7.1086117359553045,
          540.426434683746,
          -4.544682302578025,
          0.7950360481841852,
          -12.31595069980817,
          1.5517743053423476,
          -92.06540710874944,
          -117.5505364599205,
          -15.717102586366797,
          59.86653657961803,
          9.311341357621483,
          7.385802043758114,
          7.38341163924088,
          4.703870175379554,
          17.12420121977174,
          389.8025505515316,
          78.57393038538932,
          192.71106473875727,
          239.91821754769964,
          1.4523136618276704,
          8.615298212041013,
          114.16013417487883,
          10.225076375833211,
          18.299209662415894,
          29.57563587462466,
          2.8730066676981956,
          24.302811534517215,
          27.221315913580483,
          49.3839997211621,
          6.885708026515253,
          2.422799046116415,
          23.290381531241202,
          9.462686847383974,
          7.413009971491012,
          5.155429004984646,
          41.864432230685615,
          10.288781187710535,
          37.47128227467767,
          11.04138326463463,
          4.7219609286170945,
          386.89167388380093,
          8.60332205668261,
          0.6219552025939025,
          3.8247667177792737,
          6.1532425607618615,
          16.679101450692528,
          4.892204399451189,
          126.46325418330184,
          4.328894372055315,
          7.407590150401162,
          28.58380122168923,
          81.32201588056581,
          -814.8039148574693,
          -7.6208403701415826,
          437.1004459339808,
          10.039389333726753,
          213.9912522864386,
          -2.5069964344252917,
          9.0275304435199,
          15.42734011248156,
          0.2735364845071625,
          -27.970047990934038,
          2.695507994966281,
          1.2523526347739915,
          616.1706985548179,
          71.61942816002103,
          58.44017637572623,
          3.348249281182022,
          97.69342375646232,
          56.2670962200491,
          15.83686333336005,
          8.975503898577239,
          132.260645011938,
          38.4577948738454,
          6.01791811002251,
          9.276558471211683,
          4.509860735766604,
          153.60720891278388,
          7.1732881343664925,
          64.27942406052695,
          5.4392804832535875,
          -0.36341270207114346,
          -272.0515455970962,
          -66.74129242283263,
          -15.908654541014275,
          31.36943553215852,
          19.665328968571185,
          5.6183090452284254,
          279.36988769886335,
          48.18053381283229,
          30.038177210656137,
          6.108954342543,
          -20.773022414535788,
          0.22464460863447172,
          -12.566002053324258,
          7.708654805879493,
          125.58600972054693,
          15.474760669862736,
          135.29620411927283,
          245.82437865848283,
          51.19609841102384,
          4.942248505743865,
          42.021029594502224,
          73.15868117500288,
          13.80451318592001,
          6.629221699890077,
          48.957479308823565,
          66.57296646892428,
          88.95721291615364,
          377.54578953053715,
          45.24006177896295,
          836.7441396847288,
          5.203887933749355,
          47.578987907773296,
          611.334734439604,
          167.90654664230394,
          1054.233637850348,
          679.7042745986296,
          310.04847678270113,
          8.146608559556567,
          4994.711508145647,
          7.097936017496474,
          32.46603771200256,
          13.653894954321801,
          8.702707651011133,
          -32.17536312275896,
          8.31591217643041,
          -4.6056819037402565,
          -1.932454416318014,
          -44.86289692887474,
          3.179483668133377,
          12.701753822797462,
          3.0373828240445255,
          55.960346615331,
          4.3019496355538775,
          10.522575384439161,
          10.014634456443877,
          42.011995082701226,
          -3.055365943452133,
          4.9160837320721145,
          7.559503844491451,
          3.2475544061384554,
          115.1624751585999,
          1898.061024207986,
          4.3590236739100305,
          36.58082675340393,
          3.338217506116411,
          43.62009585168073,
          23.75981023342738,
          4180.640717502267,
          77.77197141666817,
          3.870255359078309,
          45.18501907602969,
          1.551092869990114,
          16.818036391420925,
          16.91709189799719,
          804.8499966860885,
          96.01067537204821,
          16.283659040685777,
          15.831141176721955,
          3.0456987460668747,
          10.771949901027813,
          38.24524444944283,
          13.017777873757133,
          77.16006716451132,
          21.318355653037006,
          44.84400364238584,
          19.54115100985959,
          16.06266892519339,
          34.997555159002,
          5.900409952178849,
          31.440228366892672,
          173.88320138436475,
          360.95081823463994,
          592.0944243954328,
          1.7546406513995105,
          42.95555494913496,
          5.184441873551279,
          9.64195685638216,
          7.280634660134069,
          -21.00806158359405,
          -34.120846932237136,
          -11.400779836116948,
          7.977021021427557,
          24.135923529295898,
          -145.29400155586478,
          -60.27147695914515,
          -122.25266431982878,
          -5.1296920154619485,
          -3.1735822874177075,
          -153.6230194630497,
          -3.57536929932029,
          -19.37654079493489,
          -1.9825649448173248,
          46.66816109305467,
          11.643418970684081,
          49.689506448463376,
          8.77024477032217,
          93.2382227229378,
          1.867639213038697,
          839.9905196895922,
          5.573555625097139,
          322.0357674874696,
          22.903123849808026,
          1.9245207500908985,
          1181.6169985186157,
          7.380295696969807,
          1.7059057706028655,
          14.600385991713386,
          38.28801057829185,
          -1.978088849050962,
          -0.5397934790638266,
          232.97544055734053,
          131.49313413980448,
          115.25758983649462,
          24.063563907828552,
          1.923065856388745,
          1.9891232406933006,
          24.51284825171437,
          6.530255289989607,
          7.429736479398807,
          -0.409216486285771,
          -7.6911438242416414,
          -3.2396763171665497,
          1.6006692088739163,
          3.963580550700928,
          -1691.5418004923479,
          13.087359544438074,
          12.80982064435233,
          -182.69499503568053,
          1.9492893681350445,
          4.159169589993681,
          -3.529635853947197,
          683.4572840067932,
          14.597125325205075,
          7.106765339802086,
          -65.03671396716689,
          6.384888811856075,
          1.3744346808627999,
          15.687840279365215,
          35.181477472223484,
          7.065574221689843,
          128.80008760654476,
          16.819334996573723,
          15.401260500159838,
          44.45443621733426,
          4.95688533301893,
          -279.0426194283743,
          -13.156828612831237,
          2.918353741497716,
          47.67060683448337,
          -14.757739380395666,
          -137.59384185321022,
          -40.665626821567805,
          722.3822550223143,
          103.75639753958852,
          -2.602701773633431,
          110.27979912427288,
          4.044490603775079,
          14.327518590449403,
          1.535947610980707,
          8.104083642226389,
          6.245108454987357,
          -3.7134910498649902,
          19.051352218371484,
          11.520604746219416,
          18.085418292181767,
          -3.725539752254474,
          94.56082192744802,
          96.38491857811476,
          43.10687373653418,
          34.144564949365886,
          0.9892586227830257,
          3.1866420808394125,
          49.11872491194903,
          7.825921023913764,
          2.3214728593116547,
          24.39308670175709,
          60.92329922185594,
          41.59668310846598,
          12.350992968289876,
          3.619547616444969,
          172.11827918805892,
          43.12030661273495,
          21.89195148086849,
          11.107383957476776,
          4.545362573450148,
          -18.860736681020594,
          15.455288608708225,
          202.30685419555607,
          12.44639427425579,
          9.164991236290508,
          36.63437734129753,
          2.8510621072231785,
          -0.4819786567072329,
          -3.6240630107469487,
          15.07881795858268,
          0.4534993145080797,
          61.7919952125889,
          -5.308561925457246,
          40.97648466240043,
          -19.89850782720472,
          -1.878867566067661,
          10.84369796154245,
          6.60907103049677,
          19.034388577216795,
          -39.49062864779889,
          -15.683016945943164,
          22.63333127648098,
          13.728328752911635,
          -28.6969993714418,
          -10.177078412025779,
          3.1491391860083646,
          10.254988912832374,
          7.841290701938771,
          12.219636187618951,
          5.569917498731645,
          0.01988607087494419,
          -10.958321066492866,
          1081.0831637672914,
          -101.32818226345313,
          -0.27442146633642395,
          7.6431656290174494,
          70.04413037701505,
          -58.44714902017936,
          -3.011915298966126,
          12.599238404039871,
          8.529934498394255,
          13.487762014140852,
          -29.91213495506425,
          -3.4283531919221084,
          3124.698893452786,
          -0.4099846032848996,
          -2.007799446077492,
          -0.5358316670488206,
          78.12792929709907,
          10.012288095786996,
          -120.43406150419587,
          3.6256269948672775,
          55.83665556410512,
          315.162856796293,
          9.124391244823338,
          53.68777597362233,
          22.463571400759314,
          517.595546619666,
          17.05196276950578,
          11.372092440273923,
          29.210456118289844,
          102.74363594803305,
          -6.478287940694928,
          4.86888199767653,
          4.985852058049812,
          19.17485272256869,
          -6.388847689209145,
          -0.5745690225033944,
          -2.011246428456773,
          3.490768526311922,
          -30.448725116138487,
          21.579821284397163,
          -0.5013438716667442,
          35.92366914592754,
          51.29525951914647,
          9.626583552921403,
          17.770156817663572,
          9.467487768938692,
          7.164198231838155,
          447.3422207551926,
          22.11748803190519,
          141.1152669431383,
          6.337000728460175,
          4.342092990236761,
          3.171426419153029,
          38.592851331043356,
          63.3229851544607,
          14.86790147510109,
          -4.13650552186639,
          11.13763814306115,
          8.345790406603081,
          0.5958571892220897,
          31.603544558853695,
          22.943367073939296,
          6.046141011767434,
          30.06708333381419,
          5.13425248742522,
          3.714295345874723,
          42.292576071290036,
          0.12532294248903333,
          1.154451099904879,
          106.73119973721879,
          12.803753154496196,
          81.16422980966314,
          29.789801912779634,
          3.3562427030559485,
          5.063567908921679,
          34.011780527006245,
          -17.374814475152895,
          -9.580902441958177,
          -13.106802723863948,
          8.385893051387605,
          72.55925427257525,
          526.6241428772465,
          124.66928962631019,
          5.651456917573971,
          10.253670548359837,
          -1.1313786747582544,
          0.9330437426608493,
          11.509746950565628,
          20.01819777398714,
          15.317390838233514,
          84.42828064491151,
          4.996111472025584,
          16.100157704210186,
          -6.46525083504407,
          -1.161873532032883,
          11.524488654211286,
          10.142032707389792,
          -327.7507603173158,
          -6.035201163363449,
          -27.104663716835454,
          -7.112253207509095,
          -4.8429975067852356,
          -3.670247633256928,
          -68.12625615508848,
          -27.296968475597982,
          -9.39083886898674,
          -0.8414399256657741,
          -3.403094518534083,
          -29.48711789018789,
          -1.1363408357436606,
          -1.857826052973649,
          -7.268993026029371,
          -16.27098372776981,
          19.706672829430293,
          6.285691562781329,
          34.35095162069625,
          10.188499665716504,
          -12.241867283723582,
          -65.28968065992318,
          19.660174186193203,
          19.46173729003697,
          16.27697115035846,
          13.341746555275483,
          -13.640758112847719,
          -1.550788017229032,
          -8751.919437649576,
          -3.0414373493393887,
          -16.74120567042049,
          -6.555871585122611,
          -3.7544604964684662,
          -2.425636346918945,
          6.380179367593026,
          87.43566715216559,
          -0.3456407286227627,
          -30.72634199404325,
          -4.8604649434158285,
          19.942063915892287,
          12.127516556457218,
          13.662195017272483,
          119.38716660346783,
          404.60303681510317,
          86.99409805635712,
          13.312280142449229,
          24.36251302979939,
          95.473718143036,
          58.89331720684091,
          -11.00970800885609,
          -39.05473728406936,
          -2.1365239487333483,
          2.54015937924466,
          14.502245633205256,
          17.252666472387116,
          -2.7642822193686616,
          -8.038948114845176,
          48.29079487319316,
          16.92755145565044,
          -20.108977843645174,
          -7.570297871600765,
          -3.1937378938978815,
          63.891612171989685,
          -6.939059112040196,
          0.7892269540144443,
          16.318233397795755,
          68.50051152204865,
          41.853764309007204,
          1.9501209262519095,
          -7.374472083431178,
          405.78209500800375,
          187.1552444559717,
          19.294867016602694,
          68.10847450496348,
          340.257339245321,
          379.28915328750344,
          -2.514323726811236,
          19.546467798048887,
          -15.653846008191314,
          4.584235231664165,
          11.933235279689848,
          -4.833187435287856,
          -17.051043968038375,
          6.1053050080727385,
          13.26920956121277,
          3.814552291295793,
          4.253085499899189,
          -3.1057026924129607,
          -0.6184897152155324,
          -0.7116724882954053,
          10.439818356298877,
          -57.69217915615966,
          -466.9005740451849,
          -163.6651222299266,
          -0.2486400147609536,
          -45.24824390989998,
          6.476366194593404,
          104.67130904477177,
          7.932957031887334,
          256.91237085461006,
          26.00193879392818,
          -55.62801272432916,
          9.557663168630267,
          8.558217393708102,
          16.079610383320514,
          710.8175630396927,
          12.865633603323902,
          2.6236284932436957,
          33.66955551617757,
          6.259159232685971,
          6.57228427641972,
          81.2627565689187,
          268.3899843266001,
          61.24696667879736,
          23.297693597757704,
          195.0052352388779,
          18.096451520413673,
          6.117444668308584,
          7.179250978946657,
          43.046562826074606,
          14.348001054788613,
          109.08133165490419,
          5.741254983432065,
          -4.038129507020737,
          -0.5808308203212444,
          0.265414123251947,
          -0.9119815420031475,
          -6.90522254237653,
          9.418671281219778,
          10.82660685428157,
          -42.64197944364473,
          -18.675963617607213,
          2.0909606252538344,
          139.28308323696,
          17.744392146041694,
          41.96868029838381,
          -96.35453719956868,
          -9.412462991264709,
          -5.946354281735742,
          3.2152105639201487,
          -6.748926561698972,
          -4.56148942617462,
          2.38343366105731,
          5.071806828235083,
          17.474038152832566,
          12.454123303837052,
          3.6545425027870775,
          -12.25954106686181,
          -17.87176467987589,
          -4.096011669078121,
          -3.3891147729986764,
          41.4933171625412,
          62.568418338374435,
          14.550502624557323,
          146.03972727992945,
          -5.37176160516514,
          33.01501565227172,
          28.06122931191508,
          20.942303101709456,
          5.533924762623361,
          15.89109396509395,
          29.934429395704928,
          24.21011981870521,
          -3.2250070113526617,
          9.19572793709095,
          5.706588146317065,
          7.325578876758902,
          10.547662291611967,
          59.81889760489254,
          1301.5745370284951,
          106.25878389982817,
          -4.246571817750276,
          13.012819131566879,
          122.83741153906452,
          30.6517967491793,
          6.681487910017444,
          3.6806687000310467,
          5.540392389374915,
          5.193799565560273,
          -4.1618600979579305,
          -2.6680433312193497,
          114.03774453264649,
          103.91393690769974,
          4.620027548507992,
          -34.31056007340976,
          -7.010071956118811,
          -99.26323360860603,
          67.76615765853929,
          99.78714081711833,
          13.049804020210448,
          5421.626183870655,
          16.511731605068064,
          332.1402926926363,
          58.07958433546364,
          2260.6699608154117,
          349.57752904456936,
          2188.2492256937467,
          240.8222334631588,
          132.45526166862527,
          12.094240320923006,
          15.438807781903822,
          -0.10552195657173404,
          12.233384700120968,
          3.3939731369107213,
          25.122685404104647,
          1.6074031442612444,
          13.469935227797174,
          8.277189464770315,
          24.87827923777754,
          51.87305911480431,
          35.52819479161596,
          1652.1187926350387,
          10.964718297871368,
          20.193865532795655,
          4.492240697455318,
          7.177045645511657,
          3.283516106498299,
          -12.269156039647514,
          11.846038068402502,
          9.265277170701713,
          11.727989997459904,
          179.437895200441,
          4.8673714947697295,
          7.416123844133778,
          5.114457292500035,
          16.87249940004528,
          90.78146226519661,
          13.383249209791837,
          59.036970829386824,
          -37.45210963813103,
          76.29155597273648,
          47.36692598741567,
          76.66222040518386,
          9.318058875073405,
          20.03854704351547,
          17.235472692674364,
          18.93431719708659,
          11.885030914265448,
          9.866810350858415,
          3.291113400546072,
          7.872565702355948,
          1.4862699910918968,
          6.943609267871375,
          24.057165632459554,
          5.731018511624723,
          13.541629939751248,
          16.69233248990832,
          3.744020614337808,
          6.6544456814603885,
          9.386121224355437,
          10.94346559987866,
          758.500902599514,
          134.6945388625392,
          137.57846700049046,
          7.72597988407057,
          18.259137363841543,
          21.08650192816151,
          -16.713849360149247,
          -19.279392703748908,
          -19.284151887526914,
          -158.56848853125635,
          -4.286190281381437,
          -181.68086695597123,
          -13.41383495868275,
          -164.38858660290646,
          -57.713855165441,
          3.6878405218028147,
          77.61686158955708,
          -57.52731906384976,
          -0.7244681668628108,
          -1.1429768964340965,
          1.644249904483164,
          -1091.6055315125338,
          17.20486113649959,
          12.198147997632521,
          0.5627134624034547,
          -0.35046820736520956,
          0.5076536187107608,
          4.586340293883886,
          2.261420875955194,
          -2.1868033475292736,
          23.12156898507306,
          -29.08381314310728,
          -58.9549307602511,
          -12.640648888759872,
          -4.913261519150069,
          -427.802802693775,
          -48.029363903101384,
          -34.080107158606005,
          -4.404259063349691,
          -238.66685722029476,
          -150.75371172265227,
          -235.21371309325156,
          -446.32525183150995,
          -44.3789538071174,
          55.489502277013436,
          -11.086077079466133,
          -13.900877887407155,
          -8.411902090940364,
          -11.328183800154045,
          -3.991778299702237,
          -3.006120259352444,
          -4.728625792671584,
          8.59315071938235,
          3.985715200354005,
          3.236063020203756,
          3.65511794313632,
          -4.024035980792542,
          -4.527445470238538,
          -0.7217060406110453,
          7.580042257381179,
          -7633.15597832459,
          -13.859420736497071,
          -63.17636006230991,
          -8.405021860536971,
          -0.6553434464552709,
          -7.748675452346396,
          -41.57593999034605,
          -177.42422548922124,
          -4552.996537098263,
          -24.427903842353246,
          -10.418340998279184,
          -206.15833499692775,
          -10.85660349865656,
          -117.07793038377675,
          -4.346831707172112,
          -15.138846983174014,
          -6.671388439705395,
          -3.8205283188352066,
          -50.35123602791536,
          -19.403901712092225,
          -63.89340331258464,
          -3.832501196177793,
          -3.523018516065231,
          -75.81815416844147,
          -10.73821651792943,
          -16.550573437207273,
          -4.557979120460308,
          -150.21666603272774,
          -42.65646751314116,
          18.031633702709843,
          9.207030221876236,
          12.109107458355316,
          2.722472049559133,
          3.88434257326707,
          15.350463015219173,
          6.490361767984027,
          7.116585594274193,
          6.06688876149,
          -7.551286061945864,
          -12.214469511338656,
          -17.01760491876493,
          6.718878035068484,
          5.16443948017966,
          1.9197428627449324,
          3.4849995139168968,
          105.08270409408728,
          10.395272302430723,
          70.37093619269172,
          26.794246859645142,
          836.1194242833897,
          102.64598005456831,
          6.912275985574216,
          363.4547817959452,
          9.300383988117142,
          -200.94074986933506,
          8.210175403409618,
          16.79606388359976,
          665.0572317312248,
          27.870754974322516,
          14.989214128567992,
          4.627604281763828,
          15.93359510323876,
          15.568441414218773,
          12.404004255065942,
          9.4700549865493,
          14.496131457941955,
          18.554963209637172,
          131.0718885416298,
          10.589213897609874,
          6.525666152860904,
          20.369532285233177,
          4.767179444072729,
          6.47945174924482,
          63.560887270394325,
          3.3357301780959085,
          29.40560161024675,
          119.6513403205637,
          19.801336657903054,
          567.234799331762,
          2.97336091260458,
          48.308348792036824,
          -3.3706417477135764,
          7.228457064735918,
          5.586367228406713,
          2.2751809148860507,
          -2218.0232225325444,
          -7.319692723715018,
          19.660168021087884,
          -13.167713941707,
          -286.2771228733069,
          9.045115580244824,
          18.97151738083559,
          1.256589470204203,
          18.948838533904755,
          3654.193973396937,
          178.99895689490452,
          39.14545171718679,
          62.04463468638972,
          15.156874127842848,
          7.637147048100853,
          0.23949761812668505,
          13.309885474748253,
          -3.530313420477637,
          -7.9960702816866505,
          4.339904856151339,
          14.448951722658704,
          -96.3351329671646,
          -1.6695682573628627,
          -1.9425483482160577,
          -3.159106479204717,
          -70.94314307531681,
          -183.13492788096875,
          -1.5694188416345112,
          11.134698432940796,
          -2.791739795060616,
          -3.3231228117212823,
          -3.070653768465448,
          -344.99830883153004,
          -7.886683822823453,
          -150.9103362163619,
          -308.685107498194,
          -5.031401100474524,
          -2.6306302639375567,
          0.8382923588795773,
          -12.430130738842324,
          50.77473143162161,
          195.84963556818892,
          29.125742679389653,
          -14.87697166566861,
          10.652334458504365,
          51.666056818291175,
          10.543409869480382,
          -4.671050602363485,
          6.314276384547193,
          -148.40778783206417,
          -8.520301994439489,
          -21.136560331863638,
          -306.08929478403,
          -3.4393667556527863,
          -1.0359976848571235,
          33.19648539741514,
          4.624964584820194,
          -42.70028889677475,
          -15.242318254260287,
          1.8375147640521616,
          -0.45619193268334524,
          -1.8474028046103221,
          -0.948424820747268,
          2.6995624340742252,
          84.92399735871078,
          -174.14010798210072,
          -4.697130941943839,
          0.8507921645727522,
          24.97285734588936,
          6.1431685107423535,
          -15.113677781788486,
          5.48739825487764,
          8.100397424311833,
          119.71624530931388,
          429.0791655264628,
          47.809198706468194,
          547.3195587645355,
          1.4521139658032474,
          11.676176415661457,
          69.31221649628911,
          -9.673189080672197,
          187.12686898026257,
          3.863243835022533,
          4.709437421045152,
          22.834099502684445,
          -1254.1234890719568,
          -4.055652997024362,
          0.19701235764725913,
          4.834325165181288,
          382.30045023630754,
          -36.602249979238756,
          1106.9931672631164,
          534.2927750924357,
          4.588461005268835,
          1.8362671702914866,
          8.911570580238624,
          -16.458307161503463,
          8.590700091835517,
          -15.310429679351712,
          46.14187040343795,
          65.58646110221554,
          -0.40186959981849624,
          158.87673347527206,
          40.411708116185174,
          59.12569276137853,
          9.566157827219016,
          6.5001418605738746,
          19.057357026511692,
          13.28765026440602,
          16.096380928969676,
          9.56889313099559,
          63.684272748925224,
          -5.354218040392022,
          13.683907264336552,
          194.1226753930966,
          -251.4519235426461,
          0.7242418544596851,
          31.758786886686316,
          -2.161191535329404,
          -8.37064641854456,
          -10.541142637290017,
          283.10722087076334,
          8.734013802052447,
          76.76693998891444,
          25.788806492939553,
          -1.6122069087400097,
          11.678306829898068,
          15.573264041046999,
          1.905892495107947,
          8.322641406014917,
          9.240335143073214,
          5.703324749586497,
          -1368.339332867046,
          27.475670680843038,
          13.445154088296054,
          8.794441045561097,
          -158.7119165354452,
          42.12697320763064,
          32.78810191774079,
          45.54422401344589,
          7.116179213002894,
          56.64871494487616,
          -9.57607140470975,
          79.29782545915177,
          4.082035492148606,
          -12.390489216916611,
          29.800096903233683,
          123.02733883798933,
          7.115753998263599,
          57.43362985430055,
          120.0213566158566,
          18.835794271221545,
          2.4713079098992417,
          7.84227220727617,
          57.933770728952325,
          3.1470122965134175,
          -5.932740191783644,
          37.94049782972412,
          -3.9892035913091086,
          2518.11964083651,
          2.8168884141397594,
          -0.23239610915492817,
          -110.5197779572906,
          4.538473935497134,
          -646.7822647373252,
          6.426133369160574,
          423.88081859873836,
          9.749874537499029,
          -1.0713212150535145,
          9.493832850775265,
          -204.90211079806198,
          6.887195359331068,
          -33.323358986127886,
          13.394578979187017,
          168.80119509197084,
          18.10465797726055,
          909.0666853206295,
          231.32810266042992,
          13.254845378864061,
          9.78056042758929,
          44.407090757362994,
          263.35899910024455,
          16.82808055190718,
          38.79964754826485,
          17.19056171185027,
          7.659124694164831,
          12.104651530971106,
          21.88449794416641,
          35.3353802385004,
          0.034589271988301064,
          5.800277885379647,
          145.48940524797194,
          21.452137753506065,
          1.1729957273975553,
          0.5096404511989963,
          100.36589674363304,
          1629.6565379950691
         ],
         "yaxis": "y"
        }
       ],
       "layout": {
        "legend": {
         "tracegroupgap": 0
        },
        "margin": {
         "t": 60
        },
        "template": {
         "data": {
          "bar": [
           {
            "error_x": {
             "color": "#2a3f5f"
            },
            "error_y": {
             "color": "#2a3f5f"
            },
            "marker": {
             "line": {
              "color": "#E5ECF6",
              "width": 0.5
             }
            },
            "type": "bar"
           }
          ],
          "barpolar": [
           {
            "marker": {
             "line": {
              "color": "#E5ECF6",
              "width": 0.5
             }
            },
            "type": "barpolar"
           }
          ],
          "carpet": [
           {
            "aaxis": {
             "endlinecolor": "#2a3f5f",
             "gridcolor": "white",
             "linecolor": "white",
             "minorgridcolor": "white",
             "startlinecolor": "#2a3f5f"
            },
            "baxis": {
             "endlinecolor": "#2a3f5f",
             "gridcolor": "white",
             "linecolor": "white",
             "minorgridcolor": "white",
             "startlinecolor": "#2a3f5f"
            },
            "type": "carpet"
           }
          ],
          "choropleth": [
           {
            "colorbar": {
             "outlinewidth": 0,
             "ticks": ""
            },
            "type": "choropleth"
           }
          ],
          "contour": [
           {
            "colorbar": {
             "outlinewidth": 0,
             "ticks": ""
            },
            "colorscale": [
             [
              0,
              "#0d0887"
             ],
             [
              0.1111111111111111,
              "#46039f"
             ],
             [
              0.2222222222222222,
              "#7201a8"
             ],
             [
              0.3333333333333333,
              "#9c179e"
             ],
             [
              0.4444444444444444,
              "#bd3786"
             ],
             [
              0.5555555555555556,
              "#d8576b"
             ],
             [
              0.6666666666666666,
              "#ed7953"
             ],
             [
              0.7777777777777778,
              "#fb9f3a"
             ],
             [
              0.8888888888888888,
              "#fdca26"
             ],
             [
              1,
              "#f0f921"
             ]
            ],
            "type": "contour"
           }
          ],
          "contourcarpet": [
           {
            "colorbar": {
             "outlinewidth": 0,
             "ticks": ""
            },
            "type": "contourcarpet"
           }
          ],
          "heatmap": [
           {
            "colorbar": {
             "outlinewidth": 0,
             "ticks": ""
            },
            "colorscale": [
             [
              0,
              "#0d0887"
             ],
             [
              0.1111111111111111,
              "#46039f"
             ],
             [
              0.2222222222222222,
              "#7201a8"
             ],
             [
              0.3333333333333333,
              "#9c179e"
             ],
             [
              0.4444444444444444,
              "#bd3786"
             ],
             [
              0.5555555555555556,
              "#d8576b"
             ],
             [
              0.6666666666666666,
              "#ed7953"
             ],
             [
              0.7777777777777778,
              "#fb9f3a"
             ],
             [
              0.8888888888888888,
              "#fdca26"
             ],
             [
              1,
              "#f0f921"
             ]
            ],
            "type": "heatmap"
           }
          ],
          "heatmapgl": [
           {
            "colorbar": {
             "outlinewidth": 0,
             "ticks": ""
            },
            "colorscale": [
             [
              0,
              "#0d0887"
             ],
             [
              0.1111111111111111,
              "#46039f"
             ],
             [
              0.2222222222222222,
              "#7201a8"
             ],
             [
              0.3333333333333333,
              "#9c179e"
             ],
             [
              0.4444444444444444,
              "#bd3786"
             ],
             [
              0.5555555555555556,
              "#d8576b"
             ],
             [
              0.6666666666666666,
              "#ed7953"
             ],
             [
              0.7777777777777778,
              "#fb9f3a"
             ],
             [
              0.8888888888888888,
              "#fdca26"
             ],
             [
              1,
              "#f0f921"
             ]
            ],
            "type": "heatmapgl"
           }
          ],
          "histogram": [
           {
            "marker": {
             "colorbar": {
              "outlinewidth": 0,
              "ticks": ""
             }
            },
            "type": "histogram"
           }
          ],
          "histogram2d": [
           {
            "colorbar": {
             "outlinewidth": 0,
             "ticks": ""
            },
            "colorscale": [
             [
              0,
              "#0d0887"
             ],
             [
              0.1111111111111111,
              "#46039f"
             ],
             [
              0.2222222222222222,
              "#7201a8"
             ],
             [
              0.3333333333333333,
              "#9c179e"
             ],
             [
              0.4444444444444444,
              "#bd3786"
             ],
             [
              0.5555555555555556,
              "#d8576b"
             ],
             [
              0.6666666666666666,
              "#ed7953"
             ],
             [
              0.7777777777777778,
              "#fb9f3a"
             ],
             [
              0.8888888888888888,
              "#fdca26"
             ],
             [
              1,
              "#f0f921"
             ]
            ],
            "type": "histogram2d"
           }
          ],
          "histogram2dcontour": [
           {
            "colorbar": {
             "outlinewidth": 0,
             "ticks": ""
            },
            "colorscale": [
             [
              0,
              "#0d0887"
             ],
             [
              0.1111111111111111,
              "#46039f"
             ],
             [
              0.2222222222222222,
              "#7201a8"
             ],
             [
              0.3333333333333333,
              "#9c179e"
             ],
             [
              0.4444444444444444,
              "#bd3786"
             ],
             [
              0.5555555555555556,
              "#d8576b"
             ],
             [
              0.6666666666666666,
              "#ed7953"
             ],
             [
              0.7777777777777778,
              "#fb9f3a"
             ],
             [
              0.8888888888888888,
              "#fdca26"
             ],
             [
              1,
              "#f0f921"
             ]
            ],
            "type": "histogram2dcontour"
           }
          ],
          "mesh3d": [
           {
            "colorbar": {
             "outlinewidth": 0,
             "ticks": ""
            },
            "type": "mesh3d"
           }
          ],
          "parcoords": [
           {
            "line": {
             "colorbar": {
              "outlinewidth": 0,
              "ticks": ""
             }
            },
            "type": "parcoords"
           }
          ],
          "pie": [
           {
            "automargin": true,
            "type": "pie"
           }
          ],
          "scatter": [
           {
            "marker": {
             "colorbar": {
              "outlinewidth": 0,
              "ticks": ""
             }
            },
            "type": "scatter"
           }
          ],
          "scatter3d": [
           {
            "line": {
             "colorbar": {
              "outlinewidth": 0,
              "ticks": ""
             }
            },
            "marker": {
             "colorbar": {
              "outlinewidth": 0,
              "ticks": ""
             }
            },
            "type": "scatter3d"
           }
          ],
          "scattercarpet": [
           {
            "marker": {
             "colorbar": {
              "outlinewidth": 0,
              "ticks": ""
             }
            },
            "type": "scattercarpet"
           }
          ],
          "scattergeo": [
           {
            "marker": {
             "colorbar": {
              "outlinewidth": 0,
              "ticks": ""
             }
            },
            "type": "scattergeo"
           }
          ],
          "scattergl": [
           {
            "marker": {
             "colorbar": {
              "outlinewidth": 0,
              "ticks": ""
             }
            },
            "type": "scattergl"
           }
          ],
          "scattermapbox": [
           {
            "marker": {
             "colorbar": {
              "outlinewidth": 0,
              "ticks": ""
             }
            },
            "type": "scattermapbox"
           }
          ],
          "scatterpolar": [
           {
            "marker": {
             "colorbar": {
              "outlinewidth": 0,
              "ticks": ""
             }
            },
            "type": "scatterpolar"
           }
          ],
          "scatterpolargl": [
           {
            "marker": {
             "colorbar": {
              "outlinewidth": 0,
              "ticks": ""
             }
            },
            "type": "scatterpolargl"
           }
          ],
          "scatterternary": [
           {
            "marker": {
             "colorbar": {
              "outlinewidth": 0,
              "ticks": ""
             }
            },
            "type": "scatterternary"
           }
          ],
          "surface": [
           {
            "colorbar": {
             "outlinewidth": 0,
             "ticks": ""
            },
            "colorscale": [
             [
              0,
              "#0d0887"
             ],
             [
              0.1111111111111111,
              "#46039f"
             ],
             [
              0.2222222222222222,
              "#7201a8"
             ],
             [
              0.3333333333333333,
              "#9c179e"
             ],
             [
              0.4444444444444444,
              "#bd3786"
             ],
             [
              0.5555555555555556,
              "#d8576b"
             ],
             [
              0.6666666666666666,
              "#ed7953"
             ],
             [
              0.7777777777777778,
              "#fb9f3a"
             ],
             [
              0.8888888888888888,
              "#fdca26"
             ],
             [
              1,
              "#f0f921"
             ]
            ],
            "type": "surface"
           }
          ],
          "table": [
           {
            "cells": {
             "fill": {
              "color": "#EBF0F8"
             },
             "line": {
              "color": "white"
             }
            },
            "header": {
             "fill": {
              "color": "#C8D4E3"
             },
             "line": {
              "color": "white"
             }
            },
            "type": "table"
           }
          ]
         },
         "layout": {
          "annotationdefaults": {
           "arrowcolor": "#2a3f5f",
           "arrowhead": 0,
           "arrowwidth": 1
          },
          "coloraxis": {
           "colorbar": {
            "outlinewidth": 0,
            "ticks": ""
           }
          },
          "colorscale": {
           "diverging": [
            [
             0,
             "#8e0152"
            ],
            [
             0.1,
             "#c51b7d"
            ],
            [
             0.2,
             "#de77ae"
            ],
            [
             0.3,
             "#f1b6da"
            ],
            [
             0.4,
             "#fde0ef"
            ],
            [
             0.5,
             "#f7f7f7"
            ],
            [
             0.6,
             "#e6f5d0"
            ],
            [
             0.7,
             "#b8e186"
            ],
            [
             0.8,
             "#7fbc41"
            ],
            [
             0.9,
             "#4d9221"
            ],
            [
             1,
             "#276419"
            ]
           ],
           "sequential": [
            [
             0,
             "#0d0887"
            ],
            [
             0.1111111111111111,
             "#46039f"
            ],
            [
             0.2222222222222222,
             "#7201a8"
            ],
            [
             0.3333333333333333,
             "#9c179e"
            ],
            [
             0.4444444444444444,
             "#bd3786"
            ],
            [
             0.5555555555555556,
             "#d8576b"
            ],
            [
             0.6666666666666666,
             "#ed7953"
            ],
            [
             0.7777777777777778,
             "#fb9f3a"
            ],
            [
             0.8888888888888888,
             "#fdca26"
            ],
            [
             1,
             "#f0f921"
            ]
           ],
           "sequentialminus": [
            [
             0,
             "#0d0887"
            ],
            [
             0.1111111111111111,
             "#46039f"
            ],
            [
             0.2222222222222222,
             "#7201a8"
            ],
            [
             0.3333333333333333,
             "#9c179e"
            ],
            [
             0.4444444444444444,
             "#bd3786"
            ],
            [
             0.5555555555555556,
             "#d8576b"
            ],
            [
             0.6666666666666666,
             "#ed7953"
            ],
            [
             0.7777777777777778,
             "#fb9f3a"
            ],
            [
             0.8888888888888888,
             "#fdca26"
            ],
            [
             1,
             "#f0f921"
            ]
           ]
          },
          "colorway": [
           "#636efa",
           "#EF553B",
           "#00cc96",
           "#ab63fa",
           "#FFA15A",
           "#19d3f3",
           "#FF6692",
           "#B6E880",
           "#FF97FF",
           "#FECB52"
          ],
          "font": {
           "color": "#2a3f5f"
          },
          "geo": {
           "bgcolor": "white",
           "lakecolor": "white",
           "landcolor": "#E5ECF6",
           "showlakes": true,
           "showland": true,
           "subunitcolor": "white"
          },
          "hoverlabel": {
           "align": "left"
          },
          "hovermode": "closest",
          "mapbox": {
           "style": "light"
          },
          "paper_bgcolor": "white",
          "plot_bgcolor": "#E5ECF6",
          "polar": {
           "angularaxis": {
            "gridcolor": "white",
            "linecolor": "white",
            "ticks": ""
           },
           "bgcolor": "#E5ECF6",
           "radialaxis": {
            "gridcolor": "white",
            "linecolor": "white",
            "ticks": ""
           }
          },
          "scene": {
           "xaxis": {
            "backgroundcolor": "#E5ECF6",
            "gridcolor": "white",
            "gridwidth": 2,
            "linecolor": "white",
            "showbackground": true,
            "ticks": "",
            "zerolinecolor": "white"
           },
           "yaxis": {
            "backgroundcolor": "#E5ECF6",
            "gridcolor": "white",
            "gridwidth": 2,
            "linecolor": "white",
            "showbackground": true,
            "ticks": "",
            "zerolinecolor": "white"
           },
           "zaxis": {
            "backgroundcolor": "#E5ECF6",
            "gridcolor": "white",
            "gridwidth": 2,
            "linecolor": "white",
            "showbackground": true,
            "ticks": "",
            "zerolinecolor": "white"
           }
          },
          "shapedefaults": {
           "line": {
            "color": "#2a3f5f"
           }
          },
          "ternary": {
           "aaxis": {
            "gridcolor": "white",
            "linecolor": "white",
            "ticks": ""
           },
           "baxis": {
            "gridcolor": "white",
            "linecolor": "white",
            "ticks": ""
           },
           "bgcolor": "#E5ECF6",
           "caxis": {
            "gridcolor": "white",
            "linecolor": "white",
            "ticks": ""
           }
          },
          "title": {
           "x": 0.05
          },
          "xaxis": {
           "automargin": true,
           "gridcolor": "white",
           "linecolor": "white",
           "ticks": "",
           "title": {
            "standoff": 15
           },
           "zerolinecolor": "white",
           "zerolinewidth": 2
          },
          "yaxis": {
           "automargin": true,
           "gridcolor": "white",
           "linecolor": "white",
           "ticks": "",
           "title": {
            "standoff": 15
           },
           "zerolinecolor": "white",
           "zerolinewidth": 2
          }
         }
        },
        "xaxis": {
         "anchor": "y",
         "domain": [
          0,
          1
         ],
         "title": {
          "text": "x"
         }
        },
        "yaxis": {
         "anchor": "x",
         "domain": [
          0,
          1
         ],
         "title": {
          "text": "y"
         }
        }
       }
      },
      "text/html": [
       "<div>                            <div id=\"8fc46881-924c-4299-8de1-514bddc30b11\" class=\"plotly-graph-div\" style=\"height:525px; width:100%;\"></div>            <script type=\"text/javascript\">                require([\"plotly\"], function(Plotly) {                    window.PLOTLYENV=window.PLOTLYENV || {};                                    if (document.getElementById(\"8fc46881-924c-4299-8de1-514bddc30b11\")) {                    Plotly.newPlot(                        \"8fc46881-924c-4299-8de1-514bddc30b11\",                        [{\"customdata\": [[\"'s chocolate chip\"], [\"'s syrup\"], [\"7-up\"], [\"7-up soda\"], [\"a.1. sauce\"], [\"absolut citron vodka\"], [\"absolut mandarin vodka\"], [\"absolut vodka\"], [\"accent seasoning\"], [\"acini di pepe pastum\"], [\"acorn squash\"], [\"active starter\"], [\"adobo sauce\"], [\"adobo seasoning\"], [\"adzuki bean\"], [\"agave\"], [\"agave nectar\"], [\"agave syrup\"], [\"ahi tuna steak\"], [\"aioli\"], [\"ajwain\"], [\"albacore tuna\"], [\"albacore tuna in water\"], [\"ale\"], [\"alfalfa sprout\"], [\"alfredo sauce\"], [\"alfredo sauce mix\"], [\"all purpose greek seasoning\"], [\"all-bran cereal\"], [\"all-purpose flmy\"], [\"all-purpose white flmy\"], [\"allspice\"], [\"allspice berry\"], [\"almond\"], [\"almond bark\"], [\"almond brickle chip\"], [\"almond butter\"], [\"almond essence\"], [\"almond extract\"], [\"almond flmy\"], [\"almond liqueur\"], [\"almond meal\"], [\"almond milk\"], [\"almond oil\"], [\"almond paste\"], [\"almond syrup\"], [\"almonding\"], [\"alphabet pastum\"], [\"alum\"], [\"aluminum foil\"], [\"amaranth\"], [\"amaranth flmy\"], [\"amaretti cookies\"], [\"amaretto\"], [\"amaretto liqueur\"], [\"amarula cream liqueur\"], [\"amber beer\"], [\"american cheese\"], [\"amish starter\"], [\"anaheim chili\"], [\"anaheim chily\"], [\"ancho chili\"], [\"ancho chily\"], [\"anchovies packed in oil\"], [\"anchovy\"], [\"anchovy fillet\"], [\"anchovy paste\"], [\"andes mints candy\"], [\"angel flake coconut\"], [\"angel food cake\"], [\"angel hair pastum\"], [\"angostura bitter\"], [\"anise\"], [\"anise extract\"], [\"anise seed\"], [\"aniseing\"], [\"anjou pear\"], [\"annatto\"], [\"apple\"], [\"apple brandy\"], [\"apple butter\"], [\"apple cider\"], [\"apple cider vinegar\"], [\"apple jelly\"], [\"apple juice\"], [\"apple juice concentrate\"], [\"apple pie filling\"], [\"apple pie spice\"], [\"apple schnapp\"], [\"apple-smoked bacon\"], [\"applesauce\"], [\"apricot\"], [\"apricot brandy\"], [\"apricot fruit spread\"], [\"apricot gelatin\"], [\"apricot half\"], [\"apricot jam\"], [\"apricot nectar\"], [\"apricot preserve\"], [\"arborio rice\"], [\"arrowroot\"], [\"artichoke\"], [\"artichoke bottom\"], [\"artichoke heart\"], [\"artificial sweetener\"], [\"arugula\"], [\"arugula leaf\"], [\"asadero cheese\"], [\"asafoetida powder\"], [\"asiago cheese\"], [\"asian pear\"], [\"asparagu\"], [\"asparagus spear\"], [\"asparagus tip\"], [\"assorted fresh vegetable\"], [\"ature chocolate chip\"], [\"ature m&m baking bit\"], [\"ature marshmallow\"], [\"ature party rye round\"], [\"ature peanut butter cup\"], [\"ature phyllo cup\"], [\"ature pretzel\"], [\"ature pretzel twist\"], [\"au gratin potato\"], [\"au gratin potato mix\"], [\"au jus mix\"], [\"aubergine\"], [\"avocado\"], [\"baby artichoke\"], [\"baby arugula\"], [\"baby back rib\"], [\"baby beet\"], [\"baby bok choy\"], [\"baby carrot\"], [\"baby clam\"], [\"baby corn\"], [\"baby eggplant\"], [\"baby green\"], [\"baby green pea\"], [\"baby lima bean\"], [\"baby onion\"], [\"baby pea\"], [\"baby portabella mushroom\"], [\"baby potato\"], [\"baby red potato\"], [\"baby rocket\"], [\"baby shrimp\"], [\"baby spinach\"], [\"baby spinach leaf\"], [\"bacardi limon\"], [\"back bacon\"], [\"backfin crab meat\"], [\"bacon\"], [\"bacon bit\"], [\"bacon dripping\"], [\"bacon fat\"], [\"bacon grease\"], [\"bagel\"], [\"baguette\"], [\"baharat\"], [\"baked bean\"], [\"baked beans in tomato sauce\"], [\"baked pie crust\"], [\"baked tofu\"], [\"baker's chocolate\"], [\"baking apple\"], [\"baking chocolate\"], [\"baking chocolate square\"], [\"baking cocoa\"], [\"baking mix\"], [\"baking potato\"], [\"baking powder\"], [\"baking soda\"], [\"balsamic vinaigrette\"], [\"balsamic vinegar\"], [\"bamboo shoot\"], [\"bamboo skewer\"], [\"banana\"], [\"banana chip\"], [\"banana cream instant pudding\"], [\"banana extract\"], [\"banana leaf\"], [\"banana liqueur\"], [\"banana pepper\"], [\"banana pepper ring\"], [\"bananaing\"], [\"bar\"], [\"barbecue sauce\"], [\"barbecue seasoning\"], [\"barbecued chicken\"], [\"barbecued pork\"], [\"barley\"], [\"barley flmy\"], [\"bartlett pear\"], [\"basil\"], [\"basil leaf\"], [\"basil pesto\"], [\"basil sprig\"], [\"basmati rice\"], [\"batter\"], [\"bay leaf\"], [\"bay leaf powder\"], [\"bay scallop\"], [\"bay shrimp\"], [\"bean\"], [\"bean dip\"], [\"bean flmy\"], [\"bean sprout\"], [\"bean thread noodle\"], [\"beau monde seasoning\"], [\"bechamel sauce\"], [\"beef\"], [\"beef and onion soup mix\"], [\"beef base\"], [\"beef bone\"], [\"beef bouillon\"], [\"beef bouillon cube\"], [\"beef bouillon granule\"], [\"beef bouillon powder\"], [\"beef brisket\"], [\"beef broth\"], [\"beef chuck\"], [\"beef chuck roast\"], [\"beef chuck steak\"], [\"beef consomme\"], [\"beef consomme soup\"], [\"beef cube\"], [\"beef cube steak\"], [\"beef dripping\"], [\"beef eye round\"], [\"beef flank steak\"], [\"beef gravy\"], [\"beef hot dog\"], [\"beef mince\"], [\"beef ramen noodle\"], [\"beef rib\"], [\"beef roast\"], [\"beef round steak\"], [\"beef shank\"], [\"beef short rib\"], [\"beef shoulder\"], [\"beef sirloin\"], [\"beef sirloin steak\"], [\"beef steak\"], [\"beef stew meat\"], [\"beef stock\"], [\"beef stock cube\"], [\"beef stock powder\"], [\"beef t-bone steak\"], [\"beef tenderloin\"], [\"beef tenderloin steak\"], [\"beef tip\"], [\"beef top loin steak\"], [\"beef top round steak\"], [\"beef top sirloin steak\"], [\"beefsteak tomato\"], [\"beer\"], [\"beet\"], [\"beet juice\"], [\"beet leaf\"], [\"beetroot\"], [\"belgian endive\"], [\"bell pepper\"], [\"berbere\"], [\"bermuda onion\"], [\"berry\"], [\"besan\"], [\"bicarbonate of soda\"], [\"bing cherry\"], [\"biscottus\"], [\"biscuit\"], [\"biscuit dough\"], [\"biscuit mix\"], [\"bisquick\"], [\"bisquick baking mix\"], [\"bisquick heart smart mix\"], [\"bitter\"], [\"bittersweet chocolate\"], [\"bittersweet chocolate chip\"], [\"bittersweet chocolate square\"], [\"black bean\"], [\"black bean garlic sauce\"], [\"black bean paste\"], [\"black bean sauce\"], [\"black cardamom pod\"], [\"black caviar\"], [\"black cherry\"], [\"black coffee\"], [\"black currant\"], [\"black decorating gel\"], [\"black forest ham\"], [\"black mustard seed\"], [\"black olife\"], [\"black pepper\"], [\"black peppercorn\"], [\"black sesame seed\"], [\"black tea\"], [\"black tea bag\"], [\"black tea leaf\"], [\"black treacle\"], [\"black vinegar\"], [\"black walnut\"], [\"black-eyed pea\"], [\"blackberry\"], [\"blackberry jam\"], [\"blackening seasoning\"], [\"blackstrap molass\"], [\"blade steak\"], [\"blanched almond\"], [\"blood orange\"], [\"blood orange juice\"], [\"bloody mary mix\"], [\"blue cheese\"], [\"blue cornmeal\"], [\"blue curacao\"], [\"blue food coloring\"], [\"blueberry\"], [\"blueberry muffin mix\"], [\"blueberry pie filling\"], [\"blueberry preserve\"], [\"blueberry yogurt\"], [\"boboli pizza crust\"], [\"bocconcini\"], [\"boil-in-the-bag rice\"], [\"boiled ham\"], [\"boiled potato\"], [\"boiling onion\"], [\"boiling potato\"], [\"boiling water\"], [\"bok choy\"], [\"bologna\"], [\"bone-in ham\"], [\"bonito flake\"], [\"bosc pear\"], [\"bottled clam juice\"], [\"bottled garlic\"], [\"bottled hot pepper sauce\"], [\"bottled lemon juice\"], [\"bottled water\"], [\"bottom round beef roast\"], [\"bottom round roast\"], [\"bottom round steak\"], [\"bouillon\"], [\"bouillon cube\"], [\"bouquet garni\"], [\"bourbon\"], [\"bourbon whiskey\"], [\"boursin cheese\"], [\"bow tie pastum\"], [\"braggs liquid amino\"], [\"bran flake\"], [\"brandy\"], [\"brandy extract\"], [\"bratwurst\"], [\"brazil nut\"], [\"bread\"], [\"bread crumb\"], [\"bread cube\"], [\"bread dough\"], [\"bread flmy\"], [\"bread round\"], [\"bread stuffing mix\"], [\"breadcrumb\"], [\"breadstick\"], [\"brewed coffee\"], [\"brewed espresso\"], [\"brewed tea\"], [\"brie cheese\"], [\"brie round\"], [\"brine\"], [\"brine-cured black olife\"], [\"brioche bread\"], [\"broad bean\"], [\"broad egg noodle\"], [\"broccoli\"], [\"broccoli cheese soup\"], [\"broccoli coleslaw mix\"], [\"broccoli floret\"], [\"broccoli rabe\"], [\"broccoli slaw mix\"], [\"broccoli spear\"], [\"broccoli stem\"], [\"broccolini\"], [\"broiler chicken\"], [\"broiler-fryer chicken\"], [\"broth\"], [\"brown ale\"], [\"brown basmati rice\"], [\"brown bread\"], [\"brown button mushroom\"], [\"brown gravy mix\"], [\"brown lentil\"], [\"brown mustard\"], [\"brown mustard seed\"], [\"brown onion\"], [\"brown rice\"], [\"brown rice flmy\"], [\"brown rice syrup\"], [\"brown sugar\"], [\"brown sugar twin\"], [\"brownie mix\"], [\"browning sauce\"], [\"brussels sprout\"], [\"bucatini pastum\"], [\"buckwheat flmy\"], [\"buckwheat groat\"], [\"buffalo wing sauce\"], [\"bugles snack\"], [\"bulb of garlic\"], [\"bulbs of garlic\"], [\"bulgar wheat\"], [\"bulgur\"], [\"bulgur wheat\"], [\"bun\"], [\"burgundy wine\"], [\"butt\"], [\"butter\"], [\"butter bean\"], [\"butter bud\"], [\"butter cracker\"], [\"butter extract\"], [\"butter pecan ice cream\"], [\"butter pound cake\"], [\"butter shortening\"], [\"butter spread\"], [\"butter substitute\"], [\"buttered bread crumb\"], [\"buttering\"], [\"buttermilk\"], [\"buttermilk baking mix\"], [\"buttermilk biscuit\"], [\"buttermilk biscuit mix\"], [\"butternut pumpkin\"], [\"butternut squash\"], [\"butterscotch chip\"], [\"butterscotch pudding\"], [\"butterscotch pudding mix\"], [\"butterscotch schnapp\"], [\"butterscotch sundae sauce\"], [\"buttery cracker\"], [\"button mushroom\"], [\"cabbage\"], [\"cabbage and carrot coleslaw mix\"], [\"cabbage kimchi\"], [\"cabbage leaf\"], [\"cabernet sauvignon wine\"], [\"cacao\"], [\"cachaca\"], [\"cajun seasoning\"], [\"cajun spice\"], [\"cake\"], [\"cake crumb\"], [\"cake flmy\"], [\"cake mix\"], [\"cake-and-pastry flmy\"], [\"calamarus\"], [\"california avocado\"], [\"california-blend frozen vegetable\"], [\"calvado\"], [\"camembert cheese\"], [\"campanelle pastum\"], [\"camparus\"], [\"canadian bacon\"], [\"candied cherry\"], [\"candied fruit\"], [\"candied ginger\"], [\"candied orange peel\"], [\"candied pecan\"], [\"candied peel\"], [\"candied pineapple\"], [\"candied red cherry\"], [\"candied walnut\"], [\"candy\"], [\"candy bar\"], [\"candy cane\"], [\"candy corn\"], [\"candy covered plain chocolate candy\"], [\"candy sprinkle\"], [\"cane syrup\"], [\"canned artichoke heart\"], [\"canned black bean\"], [\"canned chick-pea\"], [\"canned chicken\"], [\"canned clam\"], [\"canned corn\"], [\"canned corn kernel\"], [\"canned corn niblet\"], [\"canned crabmeat\"], [\"canned crushed pineapple\"], [\"canned green bean\"], [\"canned jalapeno pepper\"], [\"canned jalapeno slice\"], [\"canned mandarin orange\"], [\"canned milk\"], [\"canned mushroom\"], [\"canned mushroom slice\"], [\"canned peach\"], [\"canned peach half\"], [\"canned pear\"], [\"canned pineapple\"], [\"canned pineapple chunk\"], [\"canned pinto bean\"], [\"canned plum tomato\"], [\"canned pumpkin\"], [\"canned pumpkin puree\"], [\"canned salmon\"], [\"canned solid-pack pumpkin\"], [\"canned stewed tomato\"], [\"canned tomato\"], [\"canned tomato sauce\"], [\"canned tuna\"], [\"canned unsweetened coconut milk\"], [\"canned whole kernel corn\"], [\"canned whole tomato\"], [\"cannellini\"], [\"cannellini bean\"], [\"cannelloni tube\"], [\"canning salt\"], [\"canola oil\"], [\"cantaloupe\"], [\"cantaloupe ball\"], [\"capellini\"], [\"caper\"], [\"capicola\"], [\"capsicum\"], [\"caramel\"], [\"caramel candy\"], [\"caramel ice cream topping\"], [\"caramel sauce\"], [\"caramel syrup\"], [\"caramel topping\"], [\"caraway seed\"], [\"carbonated lemon-lime beverage\"], [\"carbonated water\"], [\"cardamom\"], [\"cardamom pod\"], [\"cardamom powder\"], [\"cardamom seed\"], [\"caribbean jerk seasoning\"], [\"carob chip\"], [\"carob powder\"], [\"carrot\"], [\"carrot baby food\"], [\"carrot juice\"], [\"carrot stick\"], [\"cashew\"], [\"cashew half\"], [\"cashew nut\"], [\"cashew piece\"], [\"casing\"], [\"caster sugar\"], [\"catfish\"], [\"catfish fillet\"], [\"catfish nugget\"], [\"catsup\"], [\"cauliflower\"], [\"cauliflower floret\"], [\"cauliflower head\"], [\"cavatappi pastum\"], [\"cavatelli\"], [\"cayenne\"], [\"cayenne pepper\"], [\"cayenne pepper sauce\"], [\"cayenne powder\"], [\"cedar plank\"], [\"celeriac\"], [\"celery\"], [\"celery & leaf\"], [\"celery heart\"], [\"celery leaf\"], [\"celery rib\"], [\"celery root\"], [\"celery salt\"], [\"celery seed\"], [\"cellophane noodle\"], [\"center cut pork chop\"], [\"center cut pork loin roast\"], [\"center-cut bacon\"], [\"center-cut pork chop\"], [\"center-cut pork loin chop\"], [\"cereal\"], [\"chabli\"], [\"chai tea teabag\"], [\"challah\"], [\"chambord raspberry liquor\"], [\"champagne\"], [\"champagne vinegar\"], [\"channa dal\"], [\"chanterelle mushroom\"], [\"chard leaf\"], [\"chardonnay wine\"], [\"chat masala\"], [\"chayote\"], [\"cheddar\"], [\"cheerios\"], [\"cheese\"], [\"cheese cracker\"], [\"cheese ravioli\"], [\"cheese sauce\"], [\"cheese slice\"], [\"cheese slouse\"], [\"cheese soup\"], [\"cheese spread\"], [\"cheese tortellini\"], [\"cheese whiz\"], [\"cheese-filled egg tortellini\"], [\"cheese-filled tortellini\"], [\"cheesecake instant pudding and pie filling mix\"], [\"cheesecloth\"], [\"cheez whiz\"], [\"cheez-it cracker\"], [\"cherry\"], [\"cherry brandy\"], [\"cherry gelatin\"], [\"cherry jam\"], [\"cherry jell-o\"], [\"cherry juice\"], [\"cherry liqueur\"], [\"cherry pepper\"], [\"cherry pie filling\"], [\"cherry preserve\"], [\"cherry tomato\"], [\"chervil\"], [\"chestnut\"], [\"chestnut mushroom\"], [\"chevre cheese\"], [\"chex cereal\"], [\"chia seed\"], [\"chianti wine\"], [\"chicken\"], [\"chicken and rice soup\"], [\"chicken base\"], [\"chicken bouillon\"], [\"chicken bouillon cube\"], [\"chicken bouillon granule\"], [\"chicken bouillon powder\"], [\"chicken breast\"], [\"chicken breast fillet\"], [\"chicken breast half\"], [\"chicken breast tender\"], [\"chicken broth\"], [\"chicken coating mix\"], [\"chicken cutlet\"], [\"chicken drummette\"], [\"chicken drumstick\"], [\"chicken fat\"], [\"chicken fillet\"], [\"chicken gizzard\"], [\"chicken gravy\"], [\"chicken gravy mix\"], [\"chicken gumbo soup\"], [\"chicken instant bouillon\"], [\"chicken leg\"], [\"chicken leg quarter\"], [\"chicken legs-thigh\"], [\"chicken meat\"], [\"chicken noodle soup\"], [\"chicken noodle soup mix\"], [\"chicken part\"], [\"chicken piece\"], [\"chicken quarter\"], [\"chicken ramen noodle\"], [\"chicken soup\"], [\"chicken soup base\"], [\"chicken soup powder\"], [\"chicken stock\"], [\"chicken stock cube\"], [\"chicken stock powder\"], [\"chicken stove top stuffing mix\"], [\"chicken strip\"], [\"chicken stuffing mix\"], [\"chicken tender\"], [\"chicken tenderloin\"], [\"chicken thigh\"], [\"chicken thigh fillet\"], [\"chicken wing\"], [\"chicken wing sauce\"], [\"chickpea\"], [\"chickpea flmy\"], [\"chile\"], [\"chili\"], [\"chili bean\"], [\"chili bean sauce\"], [\"chili flake\"], [\"chili oil\"], [\"chili paste\"], [\"chili pepper\"], [\"chili pepper flake\"], [\"chili powder\"], [\"chili sauce\"], [\"chili without bean\"], [\"chili-garlic sauce\"], [\"chily\"], [\"chinese cabbage\"], [\"chinese duck sauce\"], [\"chinese egg noodle\"], [\"chinese five spice powder\"], [\"chinese hot mustard\"], [\"chinese mustard\"], [\"chinese noodle\"], [\"chinese rice wine\"], [\"chinese vegetable\"], [\"chinese white rice vinegar\"], [\"chinese wine\"], [\"chip\"], [\"chipotle hot sauce\"], [\"chipotle pepper\"], [\"chipped beef\"], [\"chive\"], [\"chocolate\"], [\"chocolate almond bark\"], [\"chocolate baking square\"], [\"chocolate bar\"], [\"chocolate bit\"], [\"chocolate cake\"], [\"chocolate candy\"], [\"chocolate candy coating\"], [\"chocolate chip\"], [\"chocolate chip cookies\"], [\"chocolate chunk\"], [\"chocolate cookie crumb\"], [\"chocolate cookie pie crust\"], [\"chocolate cookies\"], [\"chocolate crumb crust\"], [\"chocolate curl\"], [\"chocolate frosting\"], [\"chocolate fudge frosting\"], [\"chocolate fudge instant pudding mix\"], [\"chocolate fudge topping\"], [\"chocolate graham cracker\"], [\"chocolate graham cracker crumb\"], [\"chocolate graham wafer pie crust\"], [\"chocolate hazelnut spread\"], [\"chocolate ice cream\"], [\"chocolate icing\"], [\"chocolate instant pudding\"], [\"chocolate instant pudding and pie filling mix\"], [\"chocolate kis\"], [\"chocolate kiss\"], [\"chocolate liqueur\"], [\"chocolate milk\"], [\"chocolate morsel\"], [\"chocolate piece\"], [\"chocolate protein powder\"], [\"chocolate pudding\"], [\"chocolate pudding mix\"], [\"chocolate shaving\"], [\"chocolate soymilk\"], [\"chocolate sprinkle\"], [\"chocolate square\"], [\"chocolate syrup\"], [\"chocolate wafer\"], [\"chocolate wafer cookies\"], [\"chocolate wafer crumb\"], [\"chocolate wafer pie crust\"], [\"chocolate whipped cream\"], [\"chocolate-covered coffee bean\"], [\"chocolate-covered english toffee bar\"], [\"chocolate-covered raisin\"], [\"chopped pimiento\"], [\"chopped tomato\"], [\"chow mein noodle\"], [\"chuck\"], [\"chuck roast\"], [\"chuck steak\"], [\"chunk chicken\"], [\"chunk light tuna\"], [\"chunk pineapple\"], [\"chunk tuna\"], [\"chunky applesauce\"], [\"chunky peanut butter\"], [\"chunky salsa\"], [\"chutney\"], [\"ciabatta roll\"], [\"ciabattum\"], [\"cider\"], [\"cider vinegar\"], [\"cilantro\"], [\"cilantro leaf\"], [\"cinnamon\"], [\"cinnamon applesauce\"], [\"cinnamon baking chip\"], [\"cinnamon bark\"], [\"cinnamon graham cracker\"], [\"cinnamon oil\"], [\"cinnamon raisin bread\"], [\"cinnamon schnapp\"], [\"cinnamon stick\"], [\"cinnamon sugar\"], [\"cinnamon syrup\"], [\"cinnamon-raisin bread\"], [\"cinnamon-sugar mixture\"], [\"cinnamon-swirl bread\"], [\"citric acid\"], [\"citron\"], [\"citrus peel\"], [\"citrus-infused vodka\"], [\"clam\"], [\"clam broth\"], [\"clam juice\"], [\"clamato juice\"], [\"clarified butter\"], [\"clear honey\"], [\"clementine\"], [\"clove\"], [\"club cracker\"], [\"club soda\"], [\"coarse black pepper\"], [\"coarse grain mustard\"], [\"coarse salt\"], [\"coarse sea salt\"], [\"coarse sugar\"], [\"coca-cola\"], [\"cocktail frank\"], [\"cocktail onion\"], [\"coco lopez\"], [\"cocoa\"], [\"cocoa krispies cereal\"], [\"cocoa powder\"], [\"coconut\"], [\"coconut cream\"], [\"coconut essence\"], [\"coconut extract\"], [\"coconut flake\"], [\"coconut flmy\"], [\"coconut milk\"], [\"coconut milk powder\"], [\"coconut oil\"], [\"coconut pecan frosting\"], [\"coconut syrup\"], [\"coconut water\"], [\"coconuting\"], [\"cod\"], [\"cod fish fillet\"], [\"coffee\"], [\"coffee bean\"], [\"coffee creamer\"], [\"coffee ice cream\"], [\"coffee liqueur\"], [\"coffee-mate\"], [\"cognac\"], [\"cointreau liqueur\"], [\"coke\"], [\"cola\"], [\"cola drink\"], [\"colby\"], [\"colby cheese\"], [\"colby-monterey jack cheese\"], [\"cold water\"], [\"coleman's dry mustard\"], [\"coleslaw\"], [\"coleslaw mix\"], [\"collard green\"], [\"colored ature marshmallow\"], [\"colored crystal sugar\"], [\"colored sprinkle\"], [\"colored sugar sprinkle\"], [\"condensed beef consomme\"], [\"condensed cream of broccoli soup\"], [\"condensed cream of celery soup\"], [\"condensed cream of chicken soup\"], [\"condensed cream of mushroom & garlic soup\"], [\"condensed cream of mushroom soup\"], [\"condensed cream of potato soup\"], [\"condensed french onion soup\"], [\"condensed golden mushroom soup\"], [\"condensed milk\"], [\"condensed mushroom soup\"], [\"condensed tomato soup\"], [\"condiment\"], [\"confectioners' sugar\"], [\"consomme\"], [\"converted long grain rice\"], [\"converted rice\"], [\"converted white rice\"], [\"convertedrice\"], [\"cooked bacon\"], [\"cooked barley\"], [\"cooked basmati rice\"], [\"cooked beef\"], [\"cooked beet\"], [\"cooked broccoli\"], [\"cooked brown rice\"], [\"cooked chicken\"], [\"cooked chicken breast\"], [\"cooked corned beef\"], [\"cooked couscou\"], [\"cooked egg noodle\"], [\"cooked elbow macaroni\"], [\"cooked fettuccine\"], [\"cooked ground beef\"], [\"cooked ham\"], [\"cooked jasmine rice\"], [\"cooked lentil\"], [\"cooked linguine\"], [\"cooked lobster meat\"], [\"cooked long-grain rice\"], [\"cooked macaroni\"], [\"cooked noodle\"], [\"cooked oatmeal\"], [\"cooked orzo pastum\"], [\"cooked pastum\"], [\"cooked penne\"], [\"cooked pork\"], [\"cooked pumpkin\"], [\"cooked quinoa\"], [\"cooked rice\"], [\"cooked salmon\"], [\"cooked short-grain rice\"], [\"cooked shrimp\"], [\"cooked spaghettus\"], [\"cooked sweet potato\"], [\"cooked turkey\"], [\"cooked turkey breast\"], [\"cooked white rice\"], [\"cooked wild rice\"], [\"cookie\"], [\"cookie crumb\"], [\"cookies\"], [\"cooking apple\"], [\"cooking oil\"], [\"cooking onion\"], [\"cooking sherry\"], [\"cooking spray\"], [\"cooking wine\"], [\"cool whip\"], [\"cool whip free\"], [\"cool whip lite\"], [\"cool whip topping\"], [\"copha\"], [\"coriander\"], [\"coriander leaf\"], [\"coriander powder\"], [\"coriander root\"], [\"coriander seed\"], [\"coriander sprig\"], [\"corkscrew macaroni\"], [\"corn\"], [\"corn beef hash\"], [\"corn chex\"], [\"corn chip\"], [\"corn cob\"], [\"corn flake\"], [\"corn flake crumb\"], [\"corn flakes cereal\"], [\"corn husk\"], [\"corn kernel\"], [\"corn mixed\"], [\"corn muffin mix\"], [\"corn niblet\"], [\"corn oil\"], [\"corn on the cob\"], [\"corn syrup\"], [\"cornbread\"], [\"corned beef\"], [\"corned beef brisket\"], [\"cornflmy\"], [\"cornichon\"], [\"cornish hen\"], [\"cornmeal\"], [\"cornstarch\"], [\"cotija cheese\"], [\"cottage cheese\"], [\"country bread\"], [\"country gravy mix\"], [\"country ham\"], [\"courgette\"], [\"couscou\"], [\"crab\"], [\"crab boil\"], [\"crab boil seasoning\"], [\"crabmeat\"], [\"cracked black pepper\"], [\"cracked ice\"], [\"cracked pepper\"], [\"cracked wheat\"], [\"cracker\"], [\"cracker crumb\"], [\"craisin\"], [\"cranberry\"], [\"cranberry juice\"], [\"cranberry juice cocktail\"], [\"cranberry sauce\"], [\"cranberry-apple juice\"], [\"cranberry-raspberry juice\"], [\"crawfish\"], [\"crawfish tail\"], [\"cre mushroom\"], [\"cream\"], [\"cream cheese\"], [\"cream of asparagus soup\"], [\"cream of broccoli soup\"], [\"cream of celery soup\"], [\"cream of chicken and mushroom soup\"], [\"cream of chicken soup\"], [\"cream of coconut\"], [\"cream of mushroom soup\"], [\"cream of onion soup\"], [\"cream of potato soup\"], [\"cream of shrimp soup\"], [\"cream of tartar\"], [\"cream of tomato soup\"], [\"cream of wheat\"], [\"cream sherry\"], [\"cream soda\"], [\"cream soup\"], [\"cream-filled chocolate sandwich cookies\"], [\"creamed coconut\"], [\"creamed corn\"], [\"creamed horseradish\"], [\"creamy peanut butter\"], [\"crema\"], [\"creme de banane\"], [\"creme de cacao\"], [\"creme de cassi\"], [\"creme de menthe\"], [\"creme fraiche\"], [\"creole mustard\"], [\"creole seasoning\"], [\"crepe\"], [\"crescent roll\"], [\"crescent roll dough\"], [\"crisco\"], [\"crisp bacon\"], [\"crisp chow mein noodle\"], [\"crisp rice cereal\"], [\"crispix cereal\"], [\"crispy rice cereal\"], [\"croissant\"], [\"crookneck yellow squash\"], [\"crouton\"], [\"crunchy peanut butter\"], [\"crushed pineapple\"], [\"crushed pineapple in juice\"], [\"crushed pineapple in syrup\"], [\"crushed red pepper flake\"], [\"crushed tomato\"], [\"crushed tomatoes in puree\"], [\"crusty bread\"], [\"crusty italian bread\"], [\"crystallized ginger\"], [\"cubanelle pepper\"], [\"cube steak\"], [\"cubed ham\"], [\"cucumber\"], [\"cumin\"], [\"cumin powder\"], [\"cumin seed\"], [\"cupcake\"], [\"cupcake liner\"], [\"curacao\"], [\"curd\"], [\"currant\"], [\"currant jelly\"], [\"curry\"], [\"curry leaf\"], [\"curry paste\"], [\"curry powder\"], [\"custard\"], [\"custard powder\"], [\"cut green bean\"], [\"daikon radish\"], [\"dairy-free margarine\"], [\"dandelion flower\"], [\"dandelion green\"], [\"danish blue cheese\"], [\"dark beer\"], [\"dark brown sugar\"], [\"dark chocolate\"], [\"dark chocolate bar\"], [\"dark chocolate chip\"], [\"dark cocoa\"], [\"dark cooking chocolate\"], [\"dark corn syrup\"], [\"dark creme de cacao\"], [\"dark karo syrup\"], [\"dark molass\"], [\"dark muscovado sugar\"], [\"dark raisin\"], [\"dark rye bread\"], [\"dark seedless raisin\"], [\"dark sesame oil\"], [\"dark soya sauce\"], [\"dark sweet cherry\"], [\"dashi\"], [\"date\"], [\"day-old french bread\"], [\"day-old white bread\"], [\"decorative candy\"], [\"decorator sugar\"], [\"deep dish pie crust\"], [\"deep dish pie shell\"], [\"dehydrated onion\"], [\"deli corned beef\"], [\"deli ham\"], [\"deli roast beef\"], [\"deli turkey\"], [\"delicata squash\"], [\"demerara sugar\"], [\"demi-glace\"], [\"desiccated coconut\"], [\"deviled ham\"], [\"diced fire-roasted tomato\"], [\"diced green chili\"], [\"diced green chily\"], [\"diced onion\"], [\"diced pimento\"], [\"diced potato\"], [\"diced tomato\"], [\"diced tomatoes in tomato puree\"], [\"diet cola\"], [\"diet lemon-lime soda\"], [\"diet sprite\"], [\"digestive biscuit\"], [\"dijon mustard\"], [\"dijonnaise mustard\"], [\"dill\"], [\"dill relish\"], [\"dill seed\"], [\"dill sprig\"], [\"dill weed\"], [\"dinner roll\"], [\"dipping chocolate\"], [\"distilled vinegar\"], [\"distilled white vinegar\"], [\"ditalini\"], [\"dorito\"], [\"double cream\"], [\"double crust pie crust\"], [\"double-acting baking powder\"], [\"dr. pepper cola\"], [\"drambuie\"], [\"dream whip\"], [\"dressing\"], [\"dried apple\"], [\"dried apricot\"], [\"dried apricot half\"], [\"dried basil\"], [\"dried basil leaf\"], [\"dried bay leaf\"], [\"dried bean\"], [\"dried beef\"], [\"dried black bean\"], [\"dried black mushroom\"], [\"dried black-eyed pea\"], [\"dried blueberry\"], [\"dried breadcrumb\"], [\"dried brown lentil\"], [\"dried celery flake\"], [\"dried chamomile\"], [\"dried cherry\"], [\"dried chervil\"], [\"dried chili\"], [\"dried chili pepper flake\"], [\"dried chily\"], [\"dried chinese mushroom\"], [\"dried chipotle pepper\"], [\"dried chipotle powder\"], [\"dried chive\"], [\"dried cilantro\"], [\"dried coconut\"], [\"dried coriander\"], [\"dried cranberry\"], [\"dried currant\"], [\"dried date\"], [\"dried dill\"], [\"dried dill weed\"], [\"dried fenugreek leaf\"], [\"dried fig\"], [\"dried fruit\"], [\"dried garbanzo bean\"], [\"dried garlic\"], [\"dried ginger\"], [\"dried great northern bean\"], [\"dried herb\"], [\"dried hibiscus flower\"], [\"dried hot chili pepper\"], [\"dried hot pepper\"], [\"dried hot red chili pepper\"], [\"dried italian herb seasoning\"], [\"dried italian seasoning\"], [\"dried lavender\"], [\"dried lavender blossom\"], [\"dried lavender flower\"], [\"dried leaf basil\"], [\"dried leaf thyme\"], [\"dried lemon peel\"], [\"dried lentil\"], [\"dried lima bean\"], [\"dried lime\"], [\"dried mango\"], [\"dried marjoram\"], [\"dried mexican oregano\"], [\"dried mint\"], [\"dried mixed fruit\"], [\"dried mushroom\"], [\"dried mustard\"], [\"dried navy bean\"], [\"dried onion\"], [\"dried onion flake\"], [\"dried orange peel\"], [\"dried oregano\"], [\"dried oregano leaf\"], [\"dried parsley\"], [\"dried parsley flake\"], [\"dried peach\"], [\"dried pear\"], [\"dried pear half\"], [\"dried pineapple\"], [\"dried pinto bean\"], [\"dried plum\"], [\"dried porcini mushroom\"], [\"dried prune\"], [\"dried red bean\"], [\"dried red chili\"], [\"dried red chili pepper\"], [\"dried red chily\"], [\"dried red lentil\"], [\"dried red pepper\"], [\"dried red pepper flake\"], [\"dried rice noodle\"], [\"dried rosemary\"], [\"dried rosemary leaf\"], [\"dried rubbed sage\"], [\"dried sage\"], [\"dried savory\"], [\"dried shiitake mushroom\"], [\"dried shredded coconut\"], [\"dried shrimp\"], [\"dried sour cherry\"], [\"dried split green pea\"], [\"dried split pea\"], [\"dried split yellow pea\"], [\"dried summer savory\"], [\"dried sweet basil leaf\"], [\"dried sweetened cranberry\"], [\"dried tarragon\"], [\"dried tarragon leaf\"], [\"dried tart cherry\"], [\"dried thyme\"], [\"dried thyme leaf\"], [\"dried tomato\"], [\"dried tomatoe\"], [\"dried white bean\"], [\"dried whole thyme\"], [\"dried wild mushroom\"], [\"dripping\"], [\"dry basil\"], [\"dry bread\"], [\"dry bread cube\"], [\"dry breadcrumb\"], [\"dry buttermilk\"], [\"dry cider\"], [\"dry crushed red pepper\"], [\"dry curd cottage cheese\"], [\"dry dill weed\"], [\"dry fettuccine\"], [\"dry green lentil\"], [\"dry lentil\"], [\"dry linguine\"], [\"dry marsala\"], [\"dry marsala wine\"], [\"dry milk\"], [\"dry milk powder\"], [\"dry mustard\"], [\"dry onion\"], [\"dry onion flake\"], [\"dry onion soup mix\"], [\"dry oregano\"], [\"dry oregano leaf\"], [\"dry parmesan cheese\"], [\"dry parsley flake\"], [\"dry pastum\"], [\"dry pectin\"], [\"dry penne pastum\"], [\"dry pinto bean\"], [\"dry red wine\"], [\"dry roasted peanut\"], [\"dry roasted salted peanut\"], [\"dry rub seasoning\"], [\"dry sherry\"], [\"dry tapioca\"], [\"dry tarragon\"], [\"dry vegetable soup mix\"], [\"dry vermouth\"], [\"dry white bean\"], [\"dry white vermouth\"], [\"dry white wine\"], [\"dry wine\"], [\"dry-roasted unsalted peanut\"], [\"duck\"], [\"duck breast\"], [\"dulce de leche\"], [\"dumpling\"], [\"dungeness crab\"], [\"dungeness crabmeat\"], [\"dutch process cocoa\"], [\"dutch-processed cocoa powder\"], [\"eaglecondensed milk\"], [\"ear of corn\"], [\"ears of corn\"], [\"earth balance margarine\"], [\"edam cheese\"], [\"edamame\"], [\"egg\"], [\"egg beaters egg substitute\"], [\"egg bread\"], [\"egg noodle\"], [\"egg roll wrap\"], [\"egg substitute\"], [\"egg wash\"], [\"egg white\"], [\"egg yolk\"], [\"eggnog\"], [\"eggplant\"], [\"elbow macaroni\"], [\"emeril's essence\"], [\"emmenthaler cheese\"], [\"enchilada sauce\"], [\"endive\"], [\"ener-g egg substitute\"], [\"english cucumber\"], [\"english muffin\"], [\"english mustard\"], [\"english mustard powder\"], [\"english pea\"], [\"english seedless cucumber\"], [\"english toffee bit\"], [\"english walnut\"], [\"epazote\"], [\"escarole\"], [\"espresso\"], [\"espresso bean\"], [\"espresso coffee\"], [\"espresso powder\"], [\"evaporated milk\"], [\"evaporated skim milk\"], [\"extract\"], [\"eye of round roast\"], [\"family-size tea bag\"], [\"farfalle pastum\"], [\"farina\"], [\"farmer cheese\"], [\"fat\"], [\"fat buttermilk\"], [\"fat cottage cheese\"], [\"fava bean\"], [\"fennel\"], [\"fennel bulb\"], [\"fennel leaf\"], [\"fennel seed\"], [\"fenugreek leaf\"], [\"fenugreek seed\"], [\"fermented black bean\"], [\"feta cheese\"], [\"fettuccine\"], [\"fettuccine pastum\"], [\"fetum\"], [\"fiber one cereal\"], [\"fiddlehead\"], [\"field mushroom\"], [\"fiesta nacho cheese soup\"], [\"fig\"], [\"fig preserve\"], [\"file powder\"], [\"filet mignon\"], [\"filet mignon steak\"], [\"filet of beef\"], [\"fillet\"], [\"fine breadcrumb\"], [\"fine cracker crumb\"], [\"fine dry breadcrumb\"], [\"fine egg noodle\"], [\"fine noodle\"], [\"fine salt\"], [\"fine sea salt\"], [\"fine semolina\"], [\"fine sugar\"], [\"fines herbe\"], [\"fingerling potato\"], [\"fire-roasted tomato\"], [\"firm banana\"], [\"firm butter\"], [\"firm silken tofu\"], [\"firm tofu\"], [\"firm tomato\"], [\"fish\"], [\"fish fillet\"], [\"fish sauce\"], [\"fish steak\"], [\"fish stock\"], [\"five-spice powder\"], [\"flaked coconut\"], [\"flaked sea salt\"], [\"flakey biscuit\"], [\"flank steak\"], [\"flat bread\"], [\"flat iron steak\"], [\"flat leaf parsley\"], [\"flat-leaf italian parsley\"], [\"flavoring\"], [\"flax seed\"], [\"flax seed meal\"], [\"flax seed oil\"], [\"fleur de sel\"], [\"flmy\"], [\"flounder\"], [\"flounder fillet\"], [\"floury potato\"], [\"focaccia bread\"], [\"fontina\"], [\"fontina cheese\"], [\"food coloring\"], [\"four cheese blend\"], [\"four-cheese mexican blend cheese\"], [\"frangelico\"], [\"frank\"], [\"frank's red hot sauce\"], [\"frankfurter\"], [\"free-range egg\"], [\"french baguette\"], [\"french bean\"], [\"french bread\"], [\"french bread cube\"], [\"french bread dough\"], [\"french fried onion ring\"], [\"french fry\"], [\"french haricots vert\"], [\"french lentil\"], [\"french mustard\"], [\"french onion dip\"], [\"french onion soup\"], [\"french onion soup mix\"], [\"french roll\"], [\"french vanilla coffee creamer\"], [\"french vanilla ice cream\"], [\"french vanilla instant pudding\"], [\"french's french fried onion\"], [\"french-fried onion\"], [\"fresh apricot\"], [\"fresh asparagu\"], [\"fresh basil\"], [\"fresh basil leaf\"], [\"fresh bay leaf\"], [\"fresh bean sprout\"], [\"fresh black pepper\"], [\"fresh blackberry\"], [\"fresh blueberry\"], [\"fresh breadcrumb\"], [\"fresh broccoli\"], [\"fresh broccoli floret\"], [\"fresh brussels sprout\"], [\"fresh button mushroom\"], [\"fresh carrot\"], [\"fresh cherry\"], [\"fresh chervil\"], [\"fresh chili pepper\"], [\"fresh chive\"], [\"fresh cilantro\"], [\"fresh cilantro leaf\"], [\"fresh cilantro stem\"], [\"fresh coarse ground black pepper\"], [\"fresh coconut\"], [\"fresh coriander\"], [\"fresh coriander leaf\"], [\"fresh corn\"], [\"fresh corn kernel\"], [\"fresh crabmeat\"], [\"fresh cracked pepper\"], [\"fresh cranberry\"], [\"fresh cream\"], [\"fresh curly-leaf parsley\"], [\"fresh dill\"], [\"fresh dill leaf\"], [\"fresh dill sprig\"], [\"fresh dill weed\"], [\"fresh edible flower\"], [\"fresh fettuccine\"], [\"fresh fig\"], [\"fresh flat-leaf parsley\"], [\"fresh fruit\"], [\"fresh garlic\"], [\"fresh garlic clove\"], [\"fresh ginger\"], [\"fresh gingerroot\"], [\"fresh goat cheese\"], [\"fresh green bean\"], [\"fresh green chily\"], [\"fresh ground black pepper\"], [\"fresh ground pepper\"], [\"fresh ground white pepper\"], [\"fresh herb\"], [\"fresh horseradish\"], [\"fresh italian parsley\"], [\"fresh jalapeno\"], [\"fresh jalapeno pepper\"], [\"fresh kale\"], [\"fresh large mushroom\"], [\"fresh lemon\"], [\"fresh lemon juice\"], [\"fresh lemon rind\"], [\"fresh lemon zest\"], [\"fresh lemongras\"], [\"fresh lime juice\"], [\"fresh lime leaf\"], [\"fresh linguine\"], [\"fresh lump crabmeat\"], [\"fresh mango\"], [\"fresh marjoram\"], [\"fresh mint leaf\"], [\"fresh mushroom\"], [\"fresh mussel\"], [\"fresh nutmeg\"], [\"fresh okra\"], [\"fresh onion\"], [\"fresh orange juice\"], [\"fresh oregano\"], [\"fresh parmesan cheese\"], [\"fresh parsley\"], [\"fresh parsley leaf\"], [\"fresh parsley sprig\"], [\"fresh pea\"], [\"fresh peach\"], [\"fresh pear\"], [\"fresh pepper\"], [\"fresh pineapple\"], [\"fresh pineapple chunk\"], [\"fresh portabella mushroom\"], [\"fresh pumpkin\"], [\"fresh pumpkin puree\"], [\"fresh raspberry\"], [\"fresh rhubarb\"], [\"fresh ricottum\"], [\"fresh rosemary\"], [\"fresh rosemary leaf\"], [\"fresh sage\"], [\"fresh sage leaf\"], [\"fresh salmon\"], [\"fresh savory\"], [\"fresh scallop\"], [\"fresh sea scallop\"], [\"fresh shiitake mushroom\"], [\"fresh shrimp\"], [\"fresh snow pea\"], [\"fresh spearmint\"], [\"fresh spinach\"], [\"fresh spinach leaf\"], [\"fresh strawberry\"], [\"fresh tarragon\"], [\"fresh tarragon leaf\"], [\"fresh thyme\"], [\"fresh thyme leaf\"], [\"fresh thyme leave\"], [\"fresh thyme sprig\"], [\"fresh tomato\"], [\"fresh white breadcrumb\"], [\"fresh white mushroom\"], [\"fresh zucchini\"], [\"fried chinese noodle\"], [\"fried onion\"], [\"frisee\"], [\"frito corn chip\"], [\"fritos corn chip\"], [\"frosted flake\"], [\"frosting\"], [\"frozen apple juice concentrate\"], [\"frozen artichoke heart\"], [\"frozen asparagus cut\"], [\"frozen baby lima bean\"], [\"frozen baby pea\"], [\"frozen blackberrie\"], [\"frozen blackberry\"], [\"frozen blueberry\"], [\"frozen bread dough\"], [\"frozen broccoli\"], [\"frozen broccoli carrots cauliflower mix\"], [\"frozen broccoli cut\"], [\"frozen broccoli floret\"], [\"frozen broccoli spear\"], [\"frozen brussels sprout\"], [\"frozen carrot\"], [\"frozen cauliflower\"], [\"frozen cheese ravioli\"], [\"frozen cheese tortellini\"], [\"frozen cherry\"], [\"frozen chopped broccoli\"], [\"frozen chopped onion\"], [\"frozen chopped spinach\"], [\"frozen concentrated lemonade\"], [\"frozen concentrated orange juice\"], [\"frozen cooked shrimp\"], [\"frozen corn\"], [\"frozen corn kernel\"], [\"frozen crabmeat\"], [\"frozen cranberry\"], [\"frozen cranberry juice concentrate\"], [\"frozen creamed spinach\"], [\"frozen cubed hash brown potato\"], [\"frozen cut broccoli in cheese sauce\"], [\"frozen cut green bean\"], [\"frozen cut okra\"], [\"frozen dark sweet cherry\"], [\"frozen deep dish pie shell\"], [\"frozen dinner roll\"], [\"frozen dough roll\"], [\"frozen edamame\"], [\"frozen english pea\"], [\"frozen french fry\"], [\"frozen french-cut green bean\"], [\"frozen fruit\"], [\"frozen green bean\"], [\"frozen green pea\"], [\"frozen hash brown\"], [\"frozen hash brown potato\"], [\"frozen italian cut green bean\"], [\"frozen lemonade\"], [\"frozen lemonade concentrate\"], [\"frozen light whipped dessert topping\"], [\"frozen lima bean\"], [\"frozen limeade concentrate\"], [\"frozen mango chunk\"], [\"frozen mixed berry\"], [\"frozen mixed vegetable\"], [\"frozen non-dairy topping\"], [\"frozen okra\"], [\"frozen orange juice\"], [\"frozen orange juice concentrate\"], [\"frozen pea\"], [\"frozen pea pod\"], [\"frozen peach\"], [\"frozen pearl onion\"], [\"frozen peas and carrot\"], [\"frozen peppers and onion\"], [\"frozen pie crust\"], [\"frozen pineapple concentrate\"], [\"frozen pink lemonade concentrate\"], [\"frozen pound cake\"], [\"frozen puff pastry\"], [\"frozen raspberries in light syrup\"], [\"frozen raspberry\"], [\"frozen rhubarb\"], [\"frozen shredded hash brown\"], [\"frozen shrimp\"], [\"frozen sliced peach\"], [\"frozen sliced strawberries in syrup\"], [\"frozen sliced strawberry\"], [\"frozen spinach\"], [\"frozen strawberry\"], [\"frozen sugar snap pea\"], [\"frozen sweet corn\"], [\"frozen sweet pea\"], [\"frozen sweetened strawberry\"], [\"frozen tart shell\"], [\"frozen tater tot\"], [\"frozen tiny pea\"], [\"frozen unsweetened raspberry\"], [\"frozen unsweetened strawberry\"], [\"frozen vegetable\"], [\"frozen waffle\"], [\"frozen whipped topping\"], [\"frozen white bread dough\"], [\"frozen white corn\"], [\"frozen whole kernel corn\"], [\"frozen whole strawberry\"], [\"frozen yogurt\"], [\"fruit\"], [\"fruit chutney\"], [\"fruit cocktail\"], [\"fruit filling\"], [\"fruit jam\"], [\"fruit juice\"], [\"fruit pectin\"], [\"fruit preserve\"], [\"fryer\"], [\"fryer chicken\"], [\"frying chicken\"], [\"frying oil\"], [\"fudge brownie mix\"], [\"fudge sauce\"], [\"fuji apple\"], [\"full-fat milk\"], [\"fusilli\"], [\"gai lan\"], [\"gala apple\"], [\"galangal\"], [\"galliano\"], [\"garam masala\"], [\"garam masala powder\"], [\"garbanzo bean\"], [\"garbanzo flmy\"], [\"garlic\"], [\"garlic & herb cheese\"], [\"garlic and herb seasoning\"], [\"garlic bread\"], [\"garlic butter\"], [\"garlic chive\"], [\"garlic clove\"], [\"garlic crouton\"], [\"garlic flake\"], [\"garlic granule\"], [\"garlic head\"], [\"garlic juice\"], [\"garlic oil\"], [\"garlic paste\"], [\"garlic pepper seasoning\"], [\"garlic powder\"], [\"garlic salt\"], [\"garlic sauce\"], [\"garlic scape\"], [\"garlic seasoning\"], [\"gelatin\"], [\"gelatin powder\"], [\"gemelli pastum\"], [\"genoa salami\"], [\"german chocolate\"], [\"german mustard\"], [\"german sweet chocolate\"], [\"ghee\"], [\"gherkin\"], [\"giardiniera\"], [\"gin\"], [\"ginger\"], [\"ginger ale\"], [\"ginger beer\"], [\"ginger juice\"], [\"ginger paste\"], [\"ginger powder\"], [\"ginger snap\"], [\"ginger-garlic paste\"], [\"gingerroot\"], [\"gingersnap\"], [\"gingersnap cookie\"], [\"gingersnap cookies\"], [\"gingersnap crumb\"], [\"glace cherry\"], [\"glaze\"], [\"gluten\"], [\"gluten flmy\"], [\"glutinous rice\"], [\"glutinous-rice flmy\"], [\"gnocchi\"], [\"goat cheese\"], [\"goat's cheese\"], [\"goji berry\"], [\"gold medal all-purpose flmy\"], [\"gold tequila\"], [\"golden brown sugar\"], [\"golden caster sugar\"], [\"golden delicious apple\"], [\"golden grahams cereal\"], [\"golden mushroom soup\"], [\"golden raisin\"], [\"golden seedless raisin\"], [\"golden syrup\"], [\"goldfish cracker\"], [\"gooseberry\"], [\"gorgonzola\"], [\"gouda cheese\"], [\"graham cracker\"], [\"graham cracker crumb\"], [\"graham cracker crumb crust\"], [\"graham cracker crust\"], [\"graham cracker pie crust\"], [\"graham cracker square\"], [\"graham flmy\"], [\"graham wafer\"], [\"graham wafer crumb\"], [\"grainy mustard\"], [\"gram flmy\"], [\"grand marnier\"], [\"grands refrigerated buttermilk biscuit\"], [\"granny smith apple\"], [\"granola\"], [\"granola cereal\"], [\"granulated garlic\"], [\"granulated onion\"], [\"granulated sugar\"], [\"grape\"], [\"grape jelly\"], [\"grape juice\"], [\"grape leaf\"], [\"grape tomato\"], [\"grape-nuts cereal\"], [\"grapefruit\"], [\"grapefruit juice\"], [\"grapefruit zest\"], [\"grapeseed oil\"], [\"grated parmesan cheese\"], [\"gravy\"], [\"gravy mix\"], [\"great northern bean\"], [\"greek feta cheese\"], [\"greek olife\"], [\"greek olive\"], [\"greek oregano\"], [\"greek seasoning\"], [\"greek yogurt\"], [\"green\"], [\"green apple\"], [\"green asparagu\"], [\"green bean\"], [\"green bell pepper\"], [\"green cabbage\"], [\"green capsicum\"], [\"green cardamom\"], [\"green cardamom pod\"], [\"green chili\"], [\"green chili pepper\"], [\"green chili salsa\"], [\"green chily\"], [\"green coriander\"], [\"green creme de menthe\"], [\"green curry paste\"], [\"green enchilada sauce\"], [\"green food coloring\"], [\"green glazed cherry\"], [\"green grape\"], [\"green lentil\"], [\"green mango\"], [\"green olife\"], [\"green olives in brine\"], [\"green pea\"], [\"green pepper\"], [\"green pepper ring\"], [\"green pepper strip\"], [\"green peppercorn\"], [\"green plantain\"], [\"green seedless grape\"], [\"green sweet pepper\"], [\"green tea\"], [\"green tea bag\"], [\"green tea leaf\"], [\"green tea powder\"], [\"green tomato\"], [\"green zucchini\"], [\"grenadine\"], [\"grey poupon dijon mustard\"], [\"grey poupon mustard\"], [\"grilled chicken\"], [\"grilled chicken breast\"], [\"grilled chicken breast strip\"], [\"grit\"], [\"ground allspice\"], [\"ground almond\"], [\"ground ancho chili pepper\"], [\"ground aniseed\"], [\"ground basil\"], [\"ground beef\"], [\"ground beef round\"], [\"ground black pepper\"], [\"ground buffalo meat\"], [\"ground caraway\"], [\"ground cardamom\"], [\"ground cayenne pepper\"], [\"ground celery seed\"], [\"ground chicken\"], [\"ground chicken breast\"], [\"ground chuck\"], [\"ground cinnamon\"], [\"ground clove\"], [\"ground coffee\"], [\"ground coriander\"], [\"ground cumin\"], [\"ground deer meat\"], [\"ground fennel\"], [\"ground fenugreek\"], [\"ground flax seed\"], [\"ground ginger\"], [\"ground ham\"], [\"ground hazelnut\"], [\"ground lamb\"], [\"ground lean pork\"], [\"ground mace\"], [\"ground marjoram\"], [\"ground meat\"], [\"ground mixed spice\"], [\"ground mustard\"], [\"ground nut\"], [\"ground nutmeg\"], [\"ground oregano\"], [\"ground paprika\"], [\"ground pecan\"], [\"ground pepper\"], [\"ground pork\"], [\"ground red chili pepper\"], [\"ground red pepper\"], [\"ground rosemary\"], [\"ground round\"], [\"ground sage\"], [\"ground sirloin\"], [\"ground sumac\"], [\"ground thyme\"], [\"ground turkey\"], [\"ground turkey breast\"], [\"ground turmeric\"], [\"ground veal\"], [\"ground venison\"], [\"ground walnut\"], [\"grouper\"], [\"grouper fillet\"], [\"gruyere\"], [\"gruyere cheese\"], [\"guacamole\"], [\"guar gum\"], [\"guava\"], [\"guava juice\"], [\"guava nectar\"], [\"guinness stout\"], [\"gumdrop\"], [\"gummy worm\"], [\"habanero\"], [\"habanero pepper\"], [\"habanero sauce\"], [\"haddock\"], [\"haddock fillet\"], [\"half & half light cream\"], [\"half and half milk\"], [\"half-and-half\"], [\"half-and-half cream\"], [\"halibut\"], [\"halibut fillet\"], [\"halibut steak\"], [\"halloumi cheese\"], [\"ham\"], [\"ham bone\"], [\"ham hock\"], [\"ham slice\"], [\"ham steak\"], [\"ham stock\"], [\"hamburger\"], [\"hamburger bun\"], [\"hamburger meat\"], [\"hamburger patty\"], [\"hard alcoholic cider\"], [\"hard cheese\"], [\"hard roll\"], [\"hard salami\"], [\"hard-boiled egg\"], [\"hard-cooked egg\"], [\"hardboiled egg\"], [\"harissa\"], [\"hash brown\"], [\"hash brown patty\"], [\"hash brown potato\"], [\"hass avocado\"], [\"havarti cheese\"], [\"hawaiian bread\"], [\"hawaiian roll\"], [\"hazelnut\"], [\"hazelnut liqueur\"], [\"hazelnut oil\"], [\"hazelnut syrup\"], [\"head broccoli\"], [\"head cauliflower\"], [\"head of broccoli\"], [\"head of cabbage\"], [\"head of garlic\"], [\"heads of garlic\"], [\"hearts of palm\"], [\"heavy cream\"], [\"heavy whipping cream\"], [\"heirloom tomato\"], [\"hemp seed\"], [\"herb\"], [\"herb seasoned stuffing mix\"], [\"herb stuffing\"], [\"herb stuffing mix\"], [\"herb-seasoned stuffing cube\"], [\"herbed crouton\"], [\"herbed goat cheese\"], [\"herbes de provence\"], [\"herring fillet\"], [\"hickory barbecue sauce\"], [\"hickory chip\"], [\"hickory liquid smoke\"], [\"hickory smoke salt\"], [\"hickory smoked bacon\"], [\"hing\"], [\"hoagie roll\"], [\"hoisin sauce\"], [\"hokkien noodle\"], [\"hollandaise sauce\"], [\"hollandaise sauce mix\"], [\"hominy\"], [\"homogenized milk\"], [\"honey\"], [\"honey bunches of oats cereal\"], [\"honey dijon mustard\"], [\"honey graham cracker\"], [\"honey mustard\"], [\"honey roasted peanut\"], [\"honey-roasted ham\"], [\"honey-roasted peanut\"], [\"honeydew\"], [\"honeydew melon\"], [\"hormel real bacon bit\"], [\"horseradish\"], [\"horseradish cream\"], [\"horseradish mustard\"], [\"horseradish sauce\"], [\"hostess twinky\"], [\"hot banana pepper\"], [\"hot chicken stock\"], [\"hot chili bean\"], [\"hot chili flake\"], [\"hot chili oil\"], [\"hot chili paste\"], [\"hot chili pepper\"], [\"hot chili powder\"], [\"hot chocolate powder\"], [\"hot cocoa\"], [\"hot cocoa mix\"], [\"hot coffee\"], [\"hot dog\"], [\"hot dog bun\"], [\"hot fudge\"], [\"hot fudge topping\"], [\"hot green chili pepper\"], [\"hot green pepper\"], [\"hot mustard\"], [\"hot paprika\"], [\"hot pepper\"], [\"hot pepper flake\"], [\"hot pepper jelly\"], [\"hot pepper sauce\"], [\"hot red chili pepper\"], [\"hot red pepper\"], [\"hot red pepper flake\"], [\"hot red pepper sauce\"], [\"hot roll mix\"], [\"hot salsa\"], [\"hot sauce\"], [\"hot smoked paprika\"], [\"hot water\"], [\"huckleberry\"], [\"hummu\"], [\"hungarian paprika\"], [\"ice\"], [\"ice cream\"], [\"ice cream cone\"], [\"ice cream sandwich\"], [\"ice cube\"], [\"ice water\"], [\"icing\"], [\"icing sugar\"], [\"idaho potato\"], [\"imitation bacon bit\"], [\"imitation crabmeat\"], [\"instant banana pudding mix\"], [\"instant beef bouillon\"], [\"instant bouillon granule\"], [\"instant brown rice\"], [\"instant butterscotch pudding mix\"], [\"instant cheesecake pudding mix\"], [\"instant chicken bouillon\"], [\"instant chicken bouillon granule\"], [\"instant chocolate drink mix\"], [\"instant chocolate pudding mix\"], [\"instant coconut cream pudding mix\"], [\"instant coffee\"], [\"instant coffee crystal\"], [\"instant coffee granule\"], [\"instant coffee powder\"], [\"instant couscou\"], [\"instant dry milk powder\"], [\"instant espresso\"], [\"instant espresso coffee powder\"], [\"instant espresso powder\"], [\"instant lemon pudding\"], [\"instant lemon pudding mix\"], [\"instant malted milk powder\"], [\"instant mashed potato\"], [\"instant milk\"], [\"instant minced garlic\"], [\"instant minced onion\"], [\"instant oat\"], [\"instant oatmeal\"], [\"instant pistachio pudding mix\"], [\"instant polentum\"], [\"instant potato flake\"], [\"instant pudding mix\"], [\"instant rice\"], [\"instant tea\"], [\"instant tea powder\"], [\"instant vanilla pudding\"], [\"instant vanilla pudding and pie filling\"], [\"instant vanilla pudding mix\"], [\"instant white chocolate pudding and pie filling mix\"], [\"irish cream\"], [\"irish whiskey\"], [\"israeli couscou\"], [\"italian bread\"], [\"italian breadcrumb\"], [\"italian cheese\"], [\"italian cheese blend\"], [\"italian herb seasoning\"], [\"italian parsley\"], [\"italian plum\"], [\"italian plum tomato\"], [\"italian roll\"], [\"italian seasoned breadcrumb\"], [\"italian seasoning\"], [\"italian spice\"], [\"italian stewed tomato\"], [\"italian tomato\"], [\"jack daniels whiskey\"], [\"jaggery\"], [\"jalapeno\"], [\"jalapeno jack cheese\"], [\"jalapeno jelly\"], [\"jalapeno juice\"], [\"jalapeno pepper\"], [\"jalapeno pepper cheese\"], [\"jam\"], [\"jamaican jerk spice\"], [\"japanese eggplant\"], [\"jar\"], [\"jarlsberg cheese\"], [\"jasmine rice\"], [\"jeera powder\"], [\"jell-o chocolate pudding and pie filling\"], [\"jellied cranberry sauce\"], [\"jello\"], [\"jello gelatin\"], [\"jello instant vanilla pudding mix\"], [\"jelly\"], [\"jelly bean\"], [\"jerusalem artichoke\"], [\"jicama\"], [\"jiffy corn muffin mix\"], [\"juice\"], [\"jumbo egg\"], [\"jumbo pasta shell\"], [\"jumbo shrimp\"], [\"juniper berry\"], [\"k cereal\"], [\"kabocha squash\"], [\"kaffir lime leaf\"], [\"kahlua\"], [\"kaiser roll\"], [\"kalamata olife\"], [\"kalamata olive\"], [\"kale\"], [\"kale leaf\"], [\"karo light corn syrup\"], [\"karo syrup\"], [\"kasseri cheese\"], [\"kernel corn\"], [\"ketchup\"], [\"ketjap mani\"], [\"key lime\"], [\"key lime juice\"], [\"key lime zest\"], [\"kidney bean\"], [\"kielbasa\"], [\"king prawn\"], [\"kirby cucumber\"], [\"kirsch\"], [\"kitchen bouquet\"], [\"kiwi\"], [\"kiwi fruit\"], [\"kohlrabi\"], [\"kool-aid\"], [\"kosher salt\"], [\"kosher salt & ground black pepper\"], [\"kumara\"], [\"kumquat\"], [\"ladyfinger\"], [\"lager beer\"], [\"lamb\"], [\"lamb chop\"], [\"lamb cutlet\"], [\"lamb fillet\"], [\"lamb loin chop\"], [\"lamb rib chop\"], [\"lamb shank\"], [\"lamb shoulder\"], [\"lamb steak\"], [\"lamb stew meat\"], [\"lamb stock\"], [\"lard\"], [\"lardon\"], [\"large egg\"], [\"large egg yolk\"], [\"large marshmallow\"], [\"large refrigerated biscuit\"], [\"large scallop\"], [\"large shrimp\"], [\"lasagna noodle\"], [\"lasagna sheet\"], [\"laughing cow cheese\"], [\"laughing cow light swiss cheese\"], [\"lavash bread\"], [\"lavender\"], [\"lavender flower\"], [\"lawry's seasoned salt\"], [\"leafy green\"], [\"lean bacon\"], [\"lean beef\"], [\"lean flank steak\"], [\"lean ground beef\"], [\"lean ground chicken\"], [\"lean ground chuck\"], [\"lean ground lamb\"], [\"lean ground meat\"], [\"lean ground sirloin\"], [\"lean ground turkey\"], [\"lean ham\"], [\"lean hamburger\"], [\"lean lamb\"], [\"lean pork\"], [\"lean pork chop\"], [\"lean pork loin\"], [\"lean round steak\"], [\"lean sirloin steak\"], [\"lean stewing beef\"], [\"lebanese cucumber\"], [\"leek\"], [\"leek soup mix\"], [\"leg of lamb\"], [\"lemon\"], [\"lemon & herb seasoning\"], [\"lemon balm\"], [\"lemon curd\"], [\"lemon extract\"], [\"lemon gelatin\"], [\"lemon instant pudding and pie filling\"], [\"lemon jell-o gelatin\"], [\"lemon juice\"], [\"lemon juice concentrate\"], [\"lemon peel\"], [\"lemon pepper\"], [\"lemon pepper seasoning\"], [\"lemon pie filling\"], [\"lemon pudding mix\"], [\"lemon rind\"], [\"lemon slice\"], [\"lemon slouse\"], [\"lemon sorbet\"], [\"lemon thyme\"], [\"lemon twist\"], [\"lemon verbena leaf\"], [\"lemon vodka\"], [\"lemon wedge\"], [\"lemon yogurt\"], [\"lemon zest\"], [\"lemon, juice and rind of\"], [\"lemon, juice and zest of\"], [\"lemon, juice of\"], [\"lemon, rind of\"], [\"lemon, zest of\"], [\"lemon-pepper seasoning\"], [\"lemonade\"], [\"lemonade concentrate\"], [\"lemonade drink mix\"], [\"lemonade mix\"], [\"lemongras\"], [\"lemoning\"], [\"lemons, juice and zest of\"], [\"lemons, juice of\"], [\"lemons, rind of\"], [\"lemons, zest of\"], [\"lentil\"], [\"lettuce\"], [\"libby's canned pumpkin\"], [\"licorice\"], [\"light beer\"], [\"light bread\"], [\"light brown sugar\"], [\"light butter\"], [\"light cheese\"], [\"light chunk tuna in water\"], [\"light coconut milk\"], [\"light corn syrup\"], [\"light cream\"], [\"light karo syrup\"], [\"light maple syrup\"], [\"light margarine\"], [\"light miso\"], [\"light molass\"], [\"light muscovado sugar\"], [\"light oil\"], [\"light raisin\"], [\"light ricotta cheese\"], [\"light sesame oil\"], [\"light sour cream\"], [\"light soya sauce\"], [\"light vanilla soymilk\"], [\"light vegetable oil\"], [\"light whipped topping\"], [\"light-brown sugar\"], [\"lightly-salted butter\"], [\"lima bean\"], [\"lime\"], [\"lime gelatin\"], [\"lime jell-o gelatin\"], [\"lime juice\"], [\"lime peel\"], [\"lime rind\"], [\"lime sherbet\"], [\"lime slice\"], [\"lime slouse\"], [\"lime wedge\"], [\"lime zest\"], [\"lime, juice and zest of\"], [\"lime, juice of\"], [\"lime, zest of\"], [\"limeade\"], [\"limes, juice and zest of\"], [\"limes, juice of\"], [\"limes, zest of\"], [\"limoncello\"], [\"lingonberry\"], [\"linguine\"], [\"liqueur\"], [\"liquid\"], [\"liquid egg product\"], [\"liquid egg substitute\"], [\"liquid fruit pectin\"], [\"liquid honey\"], [\"liquid hot pepper sauce\"], [\"liquid pectin\"], [\"liquid smoke\"], [\"liquid smokeing\"], [\"liquid stevium\"], [\"liquor\"], [\"littleneck clam\"], [\"liver\"], [\"lo mein noodle\"], [\"lobster\"], [\"lobster meat\"], [\"lobster tail\"], [\"lollipop stick\"], [\"london broil beef\"], [\"long bean\"], [\"long grain and wild rice blend\"], [\"long grain brown rice\"], [\"long grain rice\"], [\"long grain white rice\"], [\"long-grain rice\"], [\"long-grain white rice\"], [\"longhorn cheese\"], [\"louisiana hot sauce\"], [\"lovage\"], [\"lox\"], [\"lump crabmeat\"], [\"lumpia skin\"], [\"lychee\"], [\"m&m'\"], [\"macadamia\"], [\"macadamia nut\"], [\"macadamia nut oil\"], [\"macaroni\"], [\"macaroni & cheese dinner mix\"], [\"macaroni and cheese\"], [\"macaroni and cheese mix\"], [\"macaroni noodle\"], [\"macaroni shells and cheese\"], [\"macaroon\"], [\"mace\"], [\"madeira wine\"], [\"madras curry powder\"], [\"mafalda pastum\"], [\"maggi seasoning\"], [\"mahi mahi\"], [\"mahi mahi fillet\"], [\"malt vinegar\"], [\"malted milk ball\"], [\"manchego cheese\"], [\"mandarin orange\"], [\"mandarin orange section\"], [\"mandarin orange segment\"], [\"mandarin oranges in juice\"], [\"mandarin oranges in light syrup\"], [\"mange-touts pea\"], [\"mango\"], [\"mango chutney\"], [\"mango juice\"], [\"mango nectar\"], [\"mango powder\"], [\"mango pulp\"], [\"mango puree\"], [\"manicottus\"], [\"manwich sloppy joe mix\"], [\"manzanilla olife\"], [\"maple bacon\"], [\"maple extract\"], [\"maple sugar\"], [\"maple syrup\"], [\"mapleing\"], [\"maraschino cherry\"], [\"maraschino cherry juice\"], [\"margarine\"], [\"margarita mix\"], [\"marinade\"], [\"marinara sauce\"], [\"marinated artichoke\"], [\"marinated artichoke heart\"], [\"marjoram\"], [\"marjoram leaf\"], [\"marmalade\"], [\"marmite\"], [\"mars bar\"], [\"marsala\"], [\"marsala wine\"], [\"marshmallow\"], [\"marshmallow cream\"], [\"marshmallow creme\"], [\"marzipan\"], [\"masa harina\"], [\"masa harina flmy\"], [\"masala\"], [\"mascarpone\"], [\"mascarpone cheese\"], [\"mashed banana\"], [\"mashed potato\"], [\"mashed sweet potato\"], [\"matzo\"], [\"matzo meal\"], [\"maui onion\"], [\"mayonnaise\"], [\"mccormick grill seasoning\"], [\"mcintosh apple\"], [\"meat\"], [\"meat stock\"], [\"meat tenderizer\"], [\"meatball\"], [\"meatless sauce\"], [\"meatless spaghetti sauce\"], [\"meatloaf\"], [\"medium egg noodle\"], [\"medium firm tofu\"], [\"medium grain rice\"], [\"medium noodle\"], [\"medium pasta shell\"], [\"medium shrimp\"], [\"medium-dry sherry\"], [\"melba toast\"], [\"melon\"], [\"melon ball\"], [\"melon liqueur\"], [\"merlot\"], [\"mesclun\"], [\"mesquite wood chip\"], [\"mexican blend cheese\"], [\"mexican cheese\"], [\"mexican cheese blend\"], [\"mexican chili powder\"], [\"mexican chocolate\"], [\"mexican crema\"], [\"mexican oregano\"], [\"mexican seasoning\"], [\"mexicorn\"], [\"mexicorn whole kernel corn\"], [\"meyer lemon\"], [\"microwave popcorn\"], [\"midori melon liqueur\"], [\"mild cheese\"], [\"mild chili pepper\"], [\"mild chili powder\"], [\"mild curry paste\"], [\"mild curry powder\"], [\"mild enchilada sauce\"], [\"mild green chili\"], [\"mild green chily\"], [\"mild paprika\"], [\"mild salsa\"], [\"milk\"], [\"milk chocolate\"], [\"milk chocolate chip\"], [\"milk chocolate frosting\"], [\"milk chocolate kiss\"], [\"milk chocolate piece\"], [\"milky way bar\"], [\"millet\"], [\"millet flmy\"], [\"minced beef\"], [\"minced clam\"], [\"minced garlic clove\"], [\"minced ginger\"], [\"mincemeat\"], [\"mineral water\"], [\"minestrone soup\"], [\"mint\"], [\"mint chocolate chip\"], [\"mint extract\"], [\"mint jelly\"], [\"mint leaf\"], [\"mint sauce\"], [\"mint sprig\"], [\"minute brown rice\"], [\"minute rice\"], [\"minute steak\"], [\"minute tapioca\"], [\"minute white rice\"], [\"miracle whip\"], [\"miracle whip light\"], [\"mirin\"], [\"miso\"], [\"mixed baby green\"], [\"mixed berry\"], [\"mixed candied fruit\"], [\"mixed dried fruit\"], [\"mixed fresh herb\"], [\"mixed fruit\"], [\"mixed green\"], [\"mixed herb\"], [\"mixed italian herb\"], [\"mixed mushroom\"], [\"mixed nut\"], [\"mixed peel\"], [\"mixed peppercorn\"], [\"mixed salad green\"], [\"mixed spice\"], [\"mixed sprout\"], [\"mixed vegetable\"], [\"mizithra cheese\"], [\"mochiko sweet rice flmy\"], [\"molass\"], [\"mole\"], [\"monkfish\"], [\"monterey jack cheese\"], [\"monterey jack pepper cheese\"], [\"montrealsteak seasoning\"], [\"morel\"], [\"mortadella\"], [\"morton lite salt\"], [\"morton tender quick salt\"], [\"mostaccioli pastum\"], [\"mountain dew soda\"], [\"mozzarella\"], [\"msg\"], [\"muenster cheese\"], [\"muesli\"], [\"multi-grain bread\"], [\"multigrain bread\"], [\"mung bean\"], [\"mung bean sprout\"], [\"mung dal\"], [\"muscovado sugar\"], [\"mushroom\"], [\"mushroom cap\"], [\"mushroom gravy\"], [\"mushroom gravy mix\"], [\"mushroom piece\"], [\"mushroom soup\"], [\"mushroom stem\"], [\"mushroom stems and piece\"], [\"mussel\"], [\"mustard\"], [\"mustard green\"], [\"mustard oil\"], [\"mustard powder\"], [\"mustard seed\"], [\"mutton\"], [\"naan bread\"], [\"nacho cheese dorito\"], [\"nacho cheese soup\"], [\"nacho chip\"], [\"nam pla\"], [\"napa cabbage\"], [\"natural almond\"], [\"natural applesauce\"], [\"natural bran\"], [\"natural yoghurt\"], [\"navel orange\"], [\"navy bean\"], [\"nectarine\"], [\"nestl butterscotch morsel\"], [\"nestl chocolate morsel\"], [\"neufchatel cheese\"], [\"new potato\"], [\"new york strip steak\"], [\"nicoise olife\"], [\"nicoise olive\"], [\"nigella seed\"], [\"no yolks egg noodle substitute\"], [\"no-added-salt tomato paste\"], [\"no-boil lasagna noodle\"], [\"non-dairy coffee creamer\"], [\"non-dairy powdered coffee creamer\"], [\"non-dairy whipped topping\"], [\"non-hydrogenated margarine\"], [\"nonstick spray coating\"], [\"noodle\"], [\"norus\"], [\"nut\"], [\"nutella\"], [\"nutmeat\"], [\"nutmeg\"], [\"o'brien frozen potato\"], [\"o'brien potato\"], [\"oat\"], [\"oat bran\"], [\"oat flmy\"], [\"oatmeal\"], [\"of fresh mint\"], [\"oil\"], [\"oil-cured black olife\"], [\"oil-cured black olive\"], [\"oil-cured olife\"], [\"okra\"], [\"okra pod\"], [\"old bay seasoning\"], [\"old english cheese\"], [\"old fashioned oat\"], [\"old-fashioned oatmeal\"], [\"oleo\"], [\"olife\"], [\"olive\"], [\"olive juice\"], [\"olive oil\"], [\"onion\"], [\"onion and mushroom soup mix\"], [\"onion flake\"], [\"onion hamburger bun\"], [\"onion juice\"], [\"onion powder\"], [\"onion ring\"], [\"onion roll\"], [\"onion salt\"], [\"onion seed\"], [\"onion soup\"], [\"onion soup mix\"], [\"orange\"], [\"orange bell pepper\"], [\"orange blossom honey\"], [\"orange blossom water\"], [\"orange curacao\"], [\"orange drink mix\"], [\"orange extract\"], [\"orange flower water\"], [\"orange food coloring\"], [\"orange gelatin\"], [\"orange jell-o\"], [\"orange juice\"], [\"orange juice concentrate\"], [\"orange liqueur\"], [\"orange marmalade\"], [\"orange peel\"], [\"orange pekoe tea bag\"], [\"orange pepper\"], [\"orange rind\"], [\"orange rind twist\"], [\"orange roughy\"], [\"orange roughy fillet\"], [\"orange section\"], [\"orange sherbet\"], [\"orange slice\"], [\"orange slouse\"], [\"orange soda\"], [\"orange wedge\"], [\"orange yogurt\"], [\"orange zest\"], [\"orange, juice and rind of\"], [\"orange, juice and zest of\"], [\"orange, juice of\"], [\"orange, rind of\"], [\"orange, zest of\"], [\"oranges, juice and zest of\"], [\"oranges, juice of\"], [\"oranges, zest of\"], [\"orecchiette\"], [\"oregano\"], [\"oregano flake\"], [\"oregano leaf\"], [\"oregano sprig\"], [\"oreo cookie crumb\"], [\"oreo cookie pie crust\"], [\"oreo cookies\"], [\"oriental instant ramen noodle\"], [\"oriental sesame oil\"], [\"orzo pastum\"], [\"ouzo\"], [\"oven cooking bag\"], [\"oven-roasted deli chicken\"], [\"oxtail\"], [\"oyster\"], [\"oyster cracker\"], [\"oyster mushroom\"], [\"oyster sauce\"], [\"pace picante sauce\"], [\"packaged coleslaw mix\"], [\"pak chous\"], [\"palm oil\"], [\"palm sugar\"], [\"pan dripping\"], [\"pancake syrup\"], [\"pancettum\"], [\"panir\"], [\"panko breadcrumb\"], [\"papaya\"], [\"papaya nectar\"], [\"paper\"], [\"paper baking cup\"], [\"paper cup\"], [\"pappardelle pastum\"], [\"paprika\"], [\"paraffin wax\"], [\"parboiled rice\"], [\"parchment paper\"], [\"parma ham\"], [\"parmesan cheese\"], [\"parmesan-romano cheese mix\"], [\"parmigiano\"], [\"parmigiano-reggiano cheese\"], [\"parsley\"], [\"parsley flake\"], [\"parsley root\"], [\"parsley sprig\"], [\"parsley stem\"], [\"parsnip\"], [\"part-skim ricotta cheese\"], [\"passatum\"], [\"passion fruit\"], [\"passion fruit juice\"], [\"passion fruit pulp\"], [\"pasta noodle\"], [\"pasta sauce\"], [\"pasta shell\"], [\"pasteurized liquid egg-white\"], [\"pastrami\"], [\"pastry crust\"], [\"pastry dough\"], [\"pastry flmy\"], [\"pastry for a double-crust pie\"], [\"pastry for double-crust pie\"], [\"pastry for single-crust pie\"], [\"pastry shell\"], [\"pastum\"], [\"pattypan squash\"], [\"pea\"], [\"pea pod\"], [\"peach\"], [\"peach brandy\"], [\"peach halves in syrup\"], [\"peach jam\"], [\"peach jell-o\"], [\"peach juice\"], [\"peach liqueur\"], [\"peach nectar\"], [\"peach pie filling\"], [\"peach preserve\"], [\"peach schnapp\"], [\"peach slice\"], [\"peach slices in heavy syrup\"], [\"peach yogurt\"], [\"peaches in juice\"], [\"peaches in light syrup\"], [\"peanut\"], [\"peanut butter\"], [\"peanut butter and milk chocolate chip\"], [\"peanut butter chip\"], [\"peanut butter cookie dough\"], [\"peanut butter cup\"], [\"peanut butter morsel\"], [\"peanut oil\"], [\"peanut sauce\"], [\"pear\"], [\"pear half\"], [\"pear halves in natural juice\"], [\"pear juice\"], [\"pear nectar\"], [\"pearl barley\"], [\"pearl tapioca\"], [\"peas and carrot\"], [\"pecan\"], [\"pecan half\"], [\"pecan nut\"], [\"pecan piece\"], [\"pecorino cheese\"], [\"pecorino romano cheese\"], [\"pectin\"], [\"penne\"], [\"penne pastum\"], [\"penne rigate\"], [\"pepita\"], [\"pepper\"], [\"pepper bacon\"], [\"pepper jelly\"], [\"pepper sauce\"], [\"peppercorn\"], [\"peppermint candy\"], [\"peppermint extract\"], [\"peppermint patty\"], [\"peppermint schnapp\"], [\"peppermint stick candy\"], [\"peppermint tea bag\"], [\"pepperoncini pepper\"], [\"pepperoni\"], [\"pepperoni slice\"], [\"pepperoni slouse\"], [\"pepsi\"], [\"perch fillet\"], [\"peri-perus\"], [\"pernod\"], [\"persimmon\"], [\"persimmon pulp\"], [\"pesto sauce\"], [\"pesto sauce mix\"], [\"pheasant\"], [\"phyllo dough\"], [\"phyllo pastry\"], [\"phyllo pastry sheet\"], [\"picante sauce\"], [\"pickapeppa sauce\"], [\"pickle\"], [\"pickling cucumber\"], [\"pickling onion\"], [\"pickling salt\"], [\"pickling spice\"], [\"pico de gallo\"], [\"pie apple\"], [\"pie crust\"], [\"pie crust mix\"], [\"pie dough\"], [\"pie filling\"], [\"pie pastry\"], [\"pie shell\"], [\"piece\"], [\"pierogi\"], [\"pierogy\"], [\"pig's foot\"], [\"pigeon pea\"], [\"pimento\"], [\"pimento pepper\"], [\"pimento stuffed olife\"], [\"pimento stuffed olive\"], [\"pimento-stuffed green olife\"], [\"pimiento\"], [\"pina colada nonalcoholic drink mix\"], [\"pine nut\"], [\"pineapple\"], [\"pineapple chunk\"], [\"pineapple chunks in juice\"], [\"pineapple in juice\"], [\"pineapple juice\"], [\"pineapple preserve\"], [\"pineapple ring\"], [\"pineapple sherbet\"], [\"pineapple slice\"], [\"pineapple slices in juice\"], [\"pineapple slouse\"], [\"pineapple tidbit\"], [\"pink bean\"], [\"pink grapefruit\"], [\"pink grapefruit juice\"], [\"pink lemonade\"], [\"pink peppercorn\"], [\"pink salmon\"], [\"pinot noir wine\"], [\"pinto bean\"], [\"piquillo pepper\"], [\"pistachio\"], [\"pistachio nut\"], [\"pistachio pudding mix\"], [\"pita bread\"], [\"pita bread round\"], [\"pita chip\"], [\"pita pocket\"], [\"pita pocket bread\"], [\"pitted black olife\"], [\"pitted date\"], [\"pitted olife\"], [\"pitted prune\"], [\"pizza cheese\"], [\"pizza crust\"], [\"pizza dough\"], [\"pizza sauce\"], [\"pizza seasoning\"], [\"pizza topping\"], [\"plain breadcrumb\"], [\"plain croissant\"], [\"plain dorito\"], [\"plain flmy\"], [\"plain gelatin\"], [\"plain soymilk\"], [\"plain sweet biscuit\"], [\"plain white flmy\"], [\"plain yogurt\"], [\"plantain\"], [\"plastic wrap\"], [\"plum\"], [\"plum jam\"], [\"plum sauce\"], [\"plum tomato\"], [\"poblano pepper\"], [\"polentum\"], [\"pollock fillet\"], [\"polska kielbasa\"], [\"pomegranate\"], [\"pomegranate juice\"], [\"pomegranate molass\"], [\"pomegranate seed\"], [\"pomegranate syrup\"], [\"ponzu sauce\"], [\"popcorn\"], [\"popped corn\"], [\"popped popcorn\"], [\"poppy seed\"], [\"porcini mushroom\"], [\"pork\"], [\"pork & bean\"], [\"pork and bean\"], [\"pork and beans in tomato sauce\"], [\"pork baby back rib\"], [\"pork back rib\"], [\"pork belly\"], [\"pork butt\"], [\"pork chop\"], [\"pork cutlet\"], [\"pork fat\"], [\"pork fillet\"], [\"pork leg\"], [\"pork loin\"], [\"pork loin chop\"], [\"pork loin roast\"], [\"pork mince\"], [\"pork rib\"], [\"pork rib rack\"], [\"pork rind\"], [\"pork roast\"], [\"pork shoulder\"], [\"pork sirloin roast\"], [\"pork sparerib\"], [\"pork steak\"], [\"pork stuffing mix\"], [\"pork tenderloin\"], [\"porridge oat\"], [\"port wine\"], [\"portabella mushroom\"], [\"portabella mushroom cap\"], [\"porterhouse steak\"], [\"pot barley\"], [\"pot roast\"], [\"potato\"], [\"potato chip\"], [\"potato flake\"], [\"potato flmy\"], [\"potato starch\"], [\"potato water\"], [\"poultry seasoning\"], [\"poundcake\"], [\"powdered chocolate milk mix\"], [\"powdered clove\"], [\"powdered cocoa mix\"], [\"powdered coffee creamer\"], [\"powdered cumin\"], [\"powdered drink mix\"], [\"powdered fruit pectin\"], [\"powdered ginger\"], [\"powdered instant coffee\"], [\"powdered milk\"], [\"powdered saffron\"], [\"powdered soy protein concentrate\"], [\"powdered sugar\"], [\"powdered sugar icing\"], [\"prawn\"], [\"premade puff pastry\"], [\"preserve\"], [\"preserved gingerroot\"], [\"preserved lemon\"], [\"pretzel\"], [\"pretzel nugget\"], [\"pretzel stick\"], [\"pretzel twist\"], [\"prime rib roast\"], [\"process american cheese\"], [\"processed cheese\"], [\"processed swiss cheese\"], [\"prosciutto\"], [\"prosciutto di parma\"], [\"prosciutto ham\"], [\"protein powder\"], [\"provolone cheese\"], [\"prune\"], [\"prune baby food\"], [\"prune juice\"], [\"prune puree\"], [\"pudding\"], [\"puff pastry\"], [\"puff pastry sheet\"], [\"puffed rice cereal\"], [\"puffed wheat cereal\"], [\"pumpernickel bread\"], [\"pumpkin\"], [\"pumpkin pie filling\"], [\"pumpkin pie spice\"], [\"pumpkin puree\"], [\"pumpkin seed\"], [\"pumpkin spice\"], [\"pure maple syrup\"], [\"pure vanilla extract\"], [\"puree\"], [\"purple cabbage\"], [\"purple onion\"], [\"purple plum\"], [\"quail\"], [\"quark\"], [\"queso blanco\"], [\"queso fresco\"], [\"quick oat\"], [\"quick oatmeal\"], [\"quince\"], [\"quinoa\"], [\"quinoa flmy\"], [\"rabbit\"], [\"rack of lamb\"], [\"racks of baby-back pork rib\"], [\"racks of lamb\"], [\"radiatore\"], [\"radicchio\"], [\"radish\"], [\"rag pasta sauce\"], [\"raisin\"], [\"raisin bran cereal\"], [\"raisin bread\"], [\"ramen noodle\"], [\"ranch dip\"], [\"ranch dip mix\"], [\"ranch dips mix\"], [\"raspberry\"], [\"raspberry gelatin\"], [\"raspberry gelatin powder\"], [\"raspberry jam\"], [\"raspberry jell-o gelatin\"], [\"raspberry jelly\"], [\"raspberry liqueur\"], [\"raspberry pie filling\"], [\"raspberry preserve\"], [\"raspberry sherbet\"], [\"raspberry syrup\"], [\"raspberry vinegar\"], [\"raspberry vodka\"], [\"raspberry yogurt\"], [\"ravioli\"], [\"raw beet\"], [\"raw carrot\"], [\"raw cashew\"], [\"raw cashew nut\"], [\"raw cauliflower\"], [\"raw cranberry\"], [\"raw honey\"], [\"raw peanut\"], [\"raw potato\"], [\"raw rice\"], [\"raw shrimp\"], [\"raw sugar\"], [\"raw zucchini\"], [\"real butter\"], [\"real maple syrup\"], [\"real vanilla\"], [\"real vanilla extract\"], [\"realemon juice\"], [\"recaito\"], [\"red apple\"], [\"red bean\"], [\"red beet\"], [\"red bell pepper\"], [\"red bliss potato\"], [\"red burgundy wine\"], [\"red cabbage\"], [\"red capsicum\"], [\"red cayenne pepper\"], [\"red cherry\"], [\"red chili paste\"], [\"red chili pepper\"], [\"red chili pepper flake\"], [\"red chili powder\"], [\"red chily\"], [\"red cinnamon candy\"], [\"red currant jelly\"], [\"red curry paste\"], [\"red delicious apple\"], [\"red enchilada sauce\"], [\"red food coloring\"], [\"red grape\"], [\"red grapefruit\"], [\"red hot pepper\"], [\"red hot sauce\"], [\"red lentil\"], [\"red maraschino cherry\"], [\"red miso\"], [\"red onion\"], [\"red onion ring\"], [\"red paprika\"], [\"red pasta sauce\"], [\"red pepper\"], [\"red pepper flake\"], [\"red pepper jelly\"], [\"red pepper paste\"], [\"red pepper powder\"], [\"red pepper sauce\"], [\"red plum\"], [\"red potato\"], [\"red radish\"], [\"red raspberry\"], [\"red raspberry preserve\"], [\"red salmon\"], [\"red seedless grape\"], [\"red snapper\"], [\"red snapper fillet\"], [\"red sugar crystal\"], [\"red sweet bell pepper\"], [\"red sweet pepper\"], [\"red swiss chard\"], [\"red table wine\"], [\"red tomato\"], [\"red wine\"], [\"red wine vinegar\"], [\"red-hot candy\"], [\"refried bean\"], [\"refried black bean\"], [\"refrigerated biscuit\"], [\"refrigerated breadstick dough\"], [\"refrigerated buttermilk biscuit\"], [\"refrigerated buttermilk flaky biscuit\"], [\"refrigerated cheese tortellini\"], [\"refrigerated chocolate chip cookie dough\"], [\"refrigerated crescent dinner roll\"], [\"refrigerated crescent roll\"], [\"refrigerated pie crust\"], [\"refrigerated pizza crust\"], [\"refrigerated sugar cookie dough\"], [\"regular grind coffee\"], [\"relish\"], [\"reynolds wrap foil\"], [\"rhubarb\"], [\"rib\"], [\"rib eye\"], [\"rib eye steak\"], [\"rib roast\"], [\"rib-eye steak\"], [\"rice\"], [\"rice bubble\"], [\"rice cake\"], [\"rice chex\"], [\"rice cracker\"], [\"rice flmy\"], [\"rice krispy\"], [\"rice milk\"], [\"rice noodle\"], [\"rice paper\"], [\"rice paper sheet\"], [\"rice pilaf\"], [\"rice stick\"], [\"rice vermicelli\"], [\"rice vinegar\"], [\"rice wine\"], [\"rice wine vinegar\"], [\"ricotta cheese\"], [\"ricottum\"], [\"riesling wine\"], [\"rigatoni pastum\"], [\"rindless bacon\"], [\"risotto rice\"], [\"ritz cracker\"], [\"ritz cracker crumb\"], [\"ro-tel tomato\"], [\"roast\"], [\"roast beef\"], [\"roast pork\"], [\"roasted almond\"], [\"roasted cashew\"], [\"roasted cashew nut\"], [\"roasted chicken breast\"], [\"roasted deli chicken\"], [\"roasted garlic\"], [\"roasted garlic clove\"], [\"roasted peanut\"], [\"roasted pepper\"], [\"roasted pistachio\"], [\"roasted red pepper\"], [\"roasted sesame seed\"], [\"roasted soybean\"], [\"roasted sunflower seed\"], [\"roasted sweet pepper\"], [\"roasted sweet red pepper\"], [\"roasted unsalted peanut\"], [\"roasting chicken\"], [\"rock cornish game hen\"], [\"rock salt\"], [\"rocket\"], [\"roll\"], [\"rolled oat\"], [\"rolo chocolate\"], [\"roma tomato\"], [\"romaine leaf\"], [\"romano cheese\"], [\"rome apple\"], [\"root beer\"], [\"roquefort cheese\"], [\"rose petal\"], [\"rose water\"], [\"rose wine\"], [\"rose's lime juice\"], [\"rosemary\"], [\"rosemary sprig\"], [\"rotel\"], [\"rotel diced tomato\"], [\"rotel tomato\"], [\"rotel tomatoes & chily\"], [\"rotelle pastum\"], [\"rotini noodle\"], [\"rotini pastum\"], [\"rotisserie-cooked chicken\"], [\"round loaf italian bread\"], [\"round roast\"], [\"round sourdough loaf\"], [\"round steak\"], [\"roux\"], [\"rubbed sage\"], [\"ruby port\"], [\"ruby red grapefruit juice\"], [\"rum\"], [\"rum extract\"], [\"ruming\"], [\"rump roast\"], [\"rump steak\"], [\"russet baking potato\"], [\"russet potato\"], [\"rutabaga\"], [\"rye bread\"], [\"rye cocktail bread\"], [\"rye flmy\"], [\"rye whiskey\"], [\"s chocolate syrup\"], [\"safflower oil\"], [\"saffron\"], [\"saffron strand\"], [\"saffron thread\"], [\"sage\"], [\"sage leaf\"], [\"sage sprig\"], [\"sake\"], [\"salad green\"], [\"salad leaf\"], [\"salad macaroni\"], [\"salad oil\"], [\"salami\"], [\"salmon\"], [\"salmon fillet\"], [\"salmon steak\"], [\"salsa\"], [\"salsa con queso\"], [\"salsa verde\"], [\"salt\"], [\"salt & fresh ground pepper\"], [\"salt & ground black pepper\"], [\"salt & pepper\"], [\"salt and black pepper\"], [\"salt and fresh pepper\"], [\"salt and pepper\"], [\"salt cod fish\"], [\"salt pork\"], [\"salt substitute\"], [\"salt water\"], [\"salted butter\"], [\"salted cashew\"], [\"salted macadamia nut\"], [\"salted mixed nut\"], [\"salted peanut\"], [\"saltine\"], [\"saltine cracker\"], [\"saltine crumb\"], [\"sambal oelek\"], [\"sambal oelek chili paste\"], [\"san marzano tomato\"], [\"sandwich bread\"], [\"sandwich bun\"], [\"sandwich cookies\"], [\"sandwich wrap\"], [\"sardine\"], [\"satay sauce\"], [\"sauerkraut\"], [\"sausage\"], [\"sauvignon blanc wine\"], [\"savory\"], [\"savory herb\"], [\"savoy cabbage\"], [\"sazon\"], [\"scallion\"], [\"scallop\"], [\"scalloped potatoes mix\"], [\"scotch bonnet pepper\"], [\"scotch whisky\"], [\"sea bas\"], [\"sea bass fillet\"], [\"sea salt\"], [\"sea scallop\"], [\"seafood\"], [\"seafood cocktail sauce\"], [\"seafood sauce\"], [\"seafood seasoning\"], [\"season salt\"], [\"season-all salt\"], [\"seasoned bread crumb\"], [\"seasoned crouton\"], [\"seasoned dry bread crumb\"], [\"seasoned flmy\"], [\"seasoned pepper\"], [\"seasoned rice vinegar\"], [\"seasoned rice wine vinegar\"], [\"seasoned stuffing mix\"], [\"seasoning\"], [\"seasoning mix\"], [\"seasoning salt\"], [\"seed\"], [\"seedless cucumber\"], [\"seedless european cucumber\"], [\"seedless grape\"], [\"seedless orange\"], [\"seedless raisin\"], [\"seedless raspberry jam\"], [\"seedless raspberry preserve\"], [\"seedless watermelon\"], [\"seitan\"], [\"self raising flmy\"], [\"self rising flmy\"], [\"self-raising flmy\"], [\"self-rising cornmeal\"], [\"self-rising cornmeal mix\"], [\"self-rising flmy\"], [\"seltzer water\"], [\"semolina\"], [\"semolina flmy\"], [\"serrano chili\"], [\"serrano chili pepper\"], [\"serrano chily\"], [\"serrano ham\"], [\"serrano pepper\"], [\"sesame\"], [\"sesame oil\"], [\"sesame paste\"], [\"sesame seed\"], [\"sesame seed oil\"], [\"shake-n-bake\"], [\"shallot\"], [\"shaoxing wine\"], [\"sharp american cheese\"], [\"shell macaroni\"], [\"shell pastum\"], [\"shelled pistachio\"], [\"sherbet\"], [\"sherry wine\"], [\"sherry wine vinegar\"], [\"shiitake mushroom\"], [\"shiitake mushroom cap\"], [\"shoe peg corn\"], [\"shoestring potato\"], [\"short rib of beef\"], [\"short-grain brown rice\"], [\"short-grain rice\"], [\"short-grain white rice\"], [\"shortbread cookies\"], [\"shortbread pie crust\"], [\"shortcrust pastry\"], [\"shortcut bacon\"], [\"shortening\"], [\"shoulder lamb chop\"], [\"shoyu\"], [\"shredded coconut\"], [\"shredded hash brown\"], [\"shredded hash brown potato\"], [\"shredded wheat cereal\"], [\"shrimp\"], [\"shrimp paste\"], [\"shrimp stock\"], [\"sifted flmy\"], [\"silken tofu\"], [\"simple syrup\"], [\"single cream\"], [\"sirloin\"], [\"sirloin beef\"], [\"sirloin steak\"], [\"sirloin tip roast\"], [\"sirloin tip steak\"], [\"skewer\"], [\"skim evaporated milk\"], [\"skim milk\"], [\"skim milk powder\"], [\"skim milk ricotta cheese\"], [\"skirt steak\"], [\"skor english toffee bit\"], [\"sliced almond\"], [\"sliced apple\"], [\"sliced mushroom\"], [\"sliced olife\"], [\"sliced peaches in juice\"], [\"sliced water chestnut\"], [\"sloppy joe sandwich sauce\"], [\"small caper\"], [\"small curd cottage cheese\"], [\"small elbow macaroni\"], [\"small macaroni noodle\"], [\"small marshmallow\"], [\"small mushroom\"], [\"small onion\"], [\"small potato\"], [\"small pretzel\"], [\"small red potato\"], [\"small shell pastum\"], [\"small shrimp\"], [\"small white bean\"], [\"small-curd cottage cheese\"], [\"smoked almond\"], [\"smoked bacon\"], [\"smoked chicken\"], [\"smoked chicken breast\"], [\"smoked gouda cheese\"], [\"smoked ham\"], [\"smoked ham hock\"], [\"smoked kielbasa\"], [\"smoked oyster\"], [\"smoked paprika\"], [\"smoked salmon\"], [\"smoked turkey\"], [\"smoked turkey breast\"], [\"smooth cashew butter\"], [\"smooth peanut butter\"], [\"snap pea\"], [\"snow pea\"], [\"snow pea pod\"], [\"snow pea sprout\"], [\"soba noodle\"], [\"sockeye salmon\"], [\"soda cracker\"], [\"soda water\"], [\"sofrito sauce\"], [\"soft bread cube\"], [\"soft breadcrumb\"], [\"soft brown sugar\"], [\"soft fresh goat cheese\"], [\"soft margarine\"], [\"soft silken tofu\"], [\"soft tofu\"], [\"sole\"], [\"sole fillet\"], [\"solid pack pumpkin\"], [\"solid shortening\"], [\"solid white tuna\"], [\"solid white tuna packed in water\"], [\"solid-pack pumpkin\"], [\"sorghum flmy\"], [\"sorrel\"], [\"soup\"], [\"soup bone\"], [\"soup mix\"], [\"soup stock\"], [\"sour apple liqueur\"], [\"sour cherry\"], [\"sour cream\"], [\"sour milk\"], [\"sour mix\"], [\"sourdough baguette\"], [\"sourdough bread\"], [\"sourdough starter\"], [\"southern comfort\"], [\"southwest seasoning\"], [\"soy cheese\"], [\"soy crumble\"], [\"soy flmy\"], [\"soy margarine\"], [\"soy sauce\"], [\"soy yogurt\"], [\"soya milk\"], [\"soya oil\"], [\"soya sauce\"], [\"soybean\"], [\"soymilk\"], [\"spaetzle noodle\"], [\"spaghetti noodle\"], [\"spaghetti sauce\"], [\"spaghetti sauce mix\"], [\"spaghetti squash\"], [\"spaghettini\"], [\"spaghettus\"], [\"spam\"], [\"spanish chorizo\"], [\"spanish olife\"], [\"spanish onion\"], [\"spanish peanut\"], [\"spanish rice\"], [\"spanish rice mix\"], [\"sparerib\"], [\"sparkling water\"], [\"sparkling white wine\"], [\"sparkling wine\"], [\"spearmint\"], [\"spelt flmy\"], [\"spice\"], [\"spice essence\"], [\"spice mix\"], [\"spicy brown mustard\"], [\"spicy hot\"], [\"spicy mustard\"], [\"spicy vegetable juice\"], [\"spike seasoning\"], [\"spinach\"], [\"spinach fettuccine\"], [\"spinach leaf\"], [\"spinach linguine\"], [\"spinach noodle\"], [\"spinach souffle\"], [\"spiral shaped pastum\"], [\"split pea\"], [\"split red lentil\"], [\"sponge cake\"], [\"spring green\"], [\"spring roll wrapper\"], [\"sprite\"], [\"squash\"], [\"squid\"], [\"squid ring\"], [\"sriracha sauce\"], [\"stale bread\"], [\"standing rib roast\"], [\"star anise\"], [\"star anise pod\"], [\"star fruit\"], [\"steak\"], [\"steak fillet\"], [\"steak sauce\"], [\"steak seasoning\"], [\"steak spice\"], [\"steak-um\"], [\"steamed rice\"], [\"steel cut oat\"], [\"stevia powder\"], [\"stevium\"], [\"stew beef chunk\"], [\"stew meat\"], [\"stewed tomato\"], [\"stewing beef\"], [\"stewing chicken\"], [\"stewing lamb\"], [\"stick\"], [\"sticky rice\"], [\"stilton cheese\"], [\"stir fry vegetable\"], [\"stir-fry sauce\"], [\"stock\"], [\"stone ground dijon mustard\"], [\"stone ground mustard\"], [\"stone-ground yellow cornmeal\"], [\"stout beer\"], [\"stove top stuffing mix\"], [\"straw mushroom\"], [\"strawberry\"], [\"strawberry extract\"], [\"strawberry gelatin\"], [\"strawberry glaze\"], [\"strawberry ice cream\"], [\"strawberry ice cream topping\"], [\"strawberry jam\"], [\"strawberry jell-o gelatin dessert\"], [\"strawberry jelly\"], [\"strawberry liqueur\"], [\"strawberry pie filling\"], [\"strawberry preserve\"], [\"strawberry puree\"], [\"strawberry slice\"], [\"strawberry syrup\"], [\"strawberry yogurt\"], [\"streaky bacon\"], [\"string\"], [\"string bean\"], [\"strip steak\"], [\"strong black coffee\"], [\"strong coffee\"], [\"stuffed green olife\"], [\"stuffed green olive\"], [\"stuffed olife\"], [\"stuffing\"], [\"sucanat\"], [\"suet\"], [\"sugar\"], [\"sugar cookie dough\"], [\"sugar cookie mix\"], [\"sugar crystal\"], [\"sugar cube\"], [\"sugar ice cream cone\"], [\"sugar pumpkin\"], [\"sugar snap pea\"], [\"sugar syrup\"], [\"sultana\"], [\"sultana raisin\"], [\"sumac\"], [\"sumaq\"], [\"summer savory\"], [\"summer squash\"], [\"sun-dried tomato\"], [\"sun-dried tomato packed in oil\"], [\"sun-dried tomato paste\"], [\"sun-dried tomato pesto\"], [\"sun-dried tomatoes packed in oil\"], [\"sunflower oil\"], [\"sunflower seed\"], [\"superfine sugar\"], [\"sure-jell\"], [\"sushi rice\"], [\"swede\"], [\"sweet and sour sauce\"], [\"sweet apple\"], [\"sweet baking chocolate\"], [\"sweet basil\"], [\"sweet bell pepper\"], [\"sweet butter\"], [\"sweet cherry\"], [\"sweet chocolate\"], [\"sweet corn\"], [\"sweet cream\"], [\"sweet creamy butter\"], [\"sweet gherkin\"], [\"sweet green pepper\"], [\"sweet hungarian paprika\"], [\"sweet marsala wine\"], [\"sweet milk\"], [\"sweet onion\"], [\"sweet paprika\"], [\"sweet pea\"], [\"sweet pepper\"], [\"sweet potato\"], [\"sweet red pepper\"], [\"sweet red wine\"], [\"sweet relish\"], [\"sweet rice flmy\"], [\"sweet sherry\"], [\"sweet smoked paprika\"], [\"sweet tart crust\"], [\"sweet unsalted butter\"], [\"sweet vermouth\"], [\"sweet white onion\"], [\"sweet white wine\"], [\"sweet whole kernel corn\"], [\"sweet wine\"], [\"sweet yellow onion\"], [\"sweet-and-sour mix\"], [\"sweetcorn\"], [\"sweetened coconut\"], [\"sweetened condensed milk\"], [\"sweetened flaked coconut\"], [\"sweetened lime juice\"], [\"sweetened whipped cream\"], [\"swiss brown mushroom\"], [\"swiss chard\"], [\"swiss chard leaf\"], [\"swiss cheese\"], [\"swordfish steak\"], [\"syrup\"], [\"szechuan peppercorn\"], [\"szechwan pepper\"], [\"tabasco jalapeno sauce\"], [\"tabasco sauce\"], [\"tabascochipotle pepper sauce\"], [\"table cream\"], [\"table salt\"], [\"taco cheese\"], [\"taco chip\"], [\"taco sauce\"], [\"taco seasoning\"], [\"taco shell\"], [\"tagliatelle pasta noodle\"], [\"tahini\"], [\"tahini paste\"], [\"tamale\"], [\"tamarind juice\"], [\"tamarind paste\"], [\"tamarind pulp\"], [\"tamarus\"], [\"tandoori paste\"], [\"tang orange crystal\"], [\"tangerine\"], [\"tangerine juice\"], [\"tangerine peel\"], [\"tap water\"], [\"tapenade\"], [\"tapioca\"], [\"tapioca flmy\"], [\"tapioca starch\"], [\"taro\"], [\"tarragon\"], [\"tarragon leaf\"], [\"tarragon vinegar\"], [\"tart apple\"], [\"tart cherry\"], [\"tart cooking apple\"], [\"tart green apple\"], [\"tart red cherry\"], [\"tart shell\"], [\"tartar sauce\"], [\"tasso\"], [\"tasty cheese\"], [\"tater tot\"], [\"tawny port\"], [\"tea\"], [\"tea bag\"], [\"tea leaf\"], [\"teff flmy\"], [\"tempeh\"], [\"tequila\"], [\"teriyaki marinade\"], [\"teriyaki sauce\"], [\"texas toast thick bread\"], [\"textured vegetable protein\"], [\"thai basil\"], [\"thai fish sauce\"], [\"thai pepper\"], [\"thai red chili pepper\"], [\"thai red curry paste\"], [\"thick & chunky salsa\"], [\"thick bread\"], [\"thick slab bacon\"], [\"thickened cream\"], [\"thin egg noodle\"], [\"thin pizza crust\"], [\"thin spaghettus\"], [\"thyme\"], [\"thyme leaf\"], [\"tia marium\"], [\"tiger shrimp\"], [\"tilapia fillet\"], [\"tiny new potato\"], [\"tiny pea\"], [\"toast\"], [\"toasted almond\"], [\"toasted breadcrumb\"], [\"toasted hazelnut\"], [\"toasted rice cereal\"], [\"toasted sesame oil\"], [\"toasted sesame seed\"], [\"toasted sliced almond\"], [\"toasted wheat germ\"], [\"toblerone chocolate bar\"], [\"toffee piece\"], [\"tofu\"], [\"tomatillo\"], [\"tomatillo salsa\"], [\"tomato\"], [\"tomato and basil pasta sauce\"], [\"tomato juice\"], [\"tomato ketchup\"], [\"tomato paste\"], [\"tomato puree\"], [\"tomato sauce\"], [\"tomato soup\"], [\"tomatoes and green chily\"], [\"tomatoes in puree\"], [\"tomatoes seasoned\"], [\"tonic water\"], [\"tony chachere's seasoning\"], [\"toor dal\"], [\"toothpick\"], [\"top ramen noodle\"], [\"top round beef\"], [\"top round roast\"], [\"top round steak\"], [\"top sirloin steak\"], [\"tortellini\"], [\"tortilla\"], [\"tostada\"], [\"tri-color spiral pastum\"], [\"tri-colored pastum\"], [\"tri-tip roast\"], [\"tri-tip steak\"], [\"triple sec\"], [\"trout\"], [\"trout fillet\"], [\"truffle oil\"], [\"tuna\"], [\"tuna fillet\"], [\"tuna fish\"], [\"tuna in brine\"], [\"tuna in vegetable oil\"], [\"tuna in water\"], [\"tuna packed in oil\"], [\"tuna steak\"], [\"turbinado sugar\"], [\"turkey\"], [\"turkey bacon\"], [\"turkey breast\"], [\"turkey breast cutlet\"], [\"turkey breast tenderloin\"], [\"turkey broth\"], [\"turkey carcas\"], [\"turkey cutlet\"], [\"turkey drumstick\"], [\"turkey giblet\"], [\"turkey gravy\"], [\"turkey gravy mix\"], [\"turkey ham\"], [\"turkey kielbasa\"], [\"turkey leg\"], [\"turkey meat\"], [\"turkey pepperoni\"], [\"turkey tenderloin\"], [\"turkey thigh\"], [\"turkey wing\"], [\"turkish bread\"], [\"turmeric\"], [\"turmeric powder\"], [\"turnip\"], [\"turnip green\"], [\"tzatziki\"], [\"udon noodle\"], [\"unbaked deep dish pie pastry\"], [\"unbaked pastry shell\"], [\"unbaked pie crust\"], [\"unbaked pie shell\"], [\"unblanched whole almond\"], [\"unbleached all-purpose flmy\"], [\"unbleached cane sugar\"], [\"unbleached flmy\"], [\"unbleached white flmy\"], [\"uncle bens wild rice\"], [\"uncooked rice\"], [\"unflavored gelatin\"], [\"unpopped popcorn\"], [\"unrefined sugar\"], [\"unsalted almond\"], [\"unsalted butter\"], [\"unsalted cashew\"], [\"unsalted chicken stock\"], [\"unsalted dry roasted peanut\"], [\"unsalted margarine\"], [\"unsalted nut\"], [\"unsalted peanut\"], [\"unsalted pumpkin seed\"], [\"unsalted sunflower seed\"], [\"unseasoned breadcrumb\"], [\"unsifted all-purpose flmy\"], [\"unsifted flmy\"], [\"unsulphured molass\"], [\"unsweetened apple juice\"], [\"unsweetened applesauce\"], [\"unsweetened baking chocolate\"], [\"unsweetened baking cocoa\"], [\"unsweetened blueberry\"], [\"unsweetened chocolate\"], [\"unsweetened chocolate square\"], [\"unsweetened cocoa\"], [\"unsweetened cocoa powder\"], [\"unsweetened coconut\"], [\"unsweetened coconut milk\"], [\"unsweetened crushed canned pineapple\"], [\"unsweetened dried shredded coconut\"], [\"unsweetened dutch cocoa\"], [\"unsweetened flaked coconut\"], [\"unsweetened frozen blueberry\"], [\"unsweetened instant tea\"], [\"unsweetened orange juice\"], [\"unsweetened pineapple chunk\"], [\"unsweetened pineapple juice\"], [\"unsweetened pineapple tidbit\"], [\"unsweetened plain yogurt\"], [\"unsweetened powdered drink mix\"], [\"unsweetened raspberry\"], [\"unsweetened soymilk\"], [\"urad dal\"], [\"vanilla\"], [\"vanilla baking chip\"], [\"vanilla bean\"], [\"vanilla bean paste\"], [\"vanilla candy coating\"], [\"vanilla caramel\"], [\"vanilla chip\"], [\"vanilla essence\"], [\"vanilla extract\"], [\"vanilla frosting\"], [\"vanilla frozen yogurt\"], [\"vanilla ice cream\"], [\"vanilla instant pudding and pie filling mix\"], [\"vanilla instant pudding mix\"], [\"vanilla pod\"], [\"vanilla powder\"], [\"vanilla protein powder\"], [\"vanilla pudding\"], [\"vanilla pudding mix\"], [\"vanilla soymilk\"], [\"vanilla sugar\"], [\"vanilla syrup\"], [\"vanilla vodka\"], [\"vanilla wafer\"], [\"vanilla wafer cookies\"], [\"vanilla wafer crumb\"], [\"vanilla whey protein powder\"], [\"vanilla yogurt\"], [\"vanillaing\"], [\"veal\"], [\"veal chop\"], [\"veal cutlet\"], [\"veal scallop\"], [\"veal scallopini\"], [\"veal shank\"], [\"veal shoulder\"], [\"veal stock\"], [\"veg-all\"], [\"vegan butter\"], [\"vegan chocolate chip\"], [\"vegan margarine\"], [\"vegan parmesan cheese\"], [\"vegan sour cream\"], [\"vegan sugar\"], [\"vegemite\"], [\"vegetable\"], [\"vegetable bouillon\"], [\"vegetable bouillon cube\"], [\"vegetable bouillon granule\"], [\"vegetable broth\"], [\"vegetable juice\"], [\"vegetable juice cocktail\"], [\"vegetable oil\"], [\"vegetable seasoning\"], [\"vegetable shortening\"], [\"vegetable soup\"], [\"vegetable soup mix\"], [\"vegetable stock\"], [\"vegetable stock cube\"], [\"vegetable stock powder\"], [\"vegetarian bacon\"], [\"vegetarian baked bean\"], [\"vegetarian ground beef\"], [\"vegetarian refried bean\"], [\"vegetarian worcestershire sauce\"], [\"veggie burger\"], [\"veggie crumble\"], [\"velveeta cheese\"], [\"velveeta cheese product\"], [\"velveeta mexican cheese\"], [\"venison\"], [\"venison roast\"], [\"venison steak\"], [\"vermicelli\"], [\"vermicelli rice noodle\"], [\"vermouth\"], [\"vidalia onion\"], [\"vinaigrette\"], [\"vinegar\"], [\"vital wheat gluten\"], [\"vodka\"], [\"waffle\"], [\"wagon wheel macaroni\"], [\"wakame seaweed\"], [\"walla walla onion\"], [\"walnut\"], [\"walnut half\"], [\"walnut oil\"], [\"walnut piece\"], [\"warm water\"], [\"wasabi\"], [\"wasabi paste\"], [\"wasabi pea\"], [\"wasabi powder\"], [\"water\"], [\"water chestnut\"], [\"water-packed artichoke heart\"], [\"watercres\"], [\"watercress leaf\"], [\"watermelon\"], [\"watermelon ball\"], [\"wax bean\"], [\"wax paper\"], [\"wesson oil\"], [\"wheat\"], [\"wheat berry\"], [\"wheat bran\"], [\"wheat chex\"], [\"wheat flake\"], [\"wheat flakes cereal\"], [\"wheat flmy\"], [\"wheat germ\"], [\"wheat gluten\"], [\"wheat hamburger bun\"], [\"whey\"], [\"whey protein\"], [\"whipped butter\"], [\"whipped cream\"], [\"whipped dessert topping mix\"], [\"whipped topping\"], [\"whipping cream\"], [\"whiskey\"], [\"white almond bark\"], [\"white asparagu\"], [\"white baking chocolate\"], [\"white balsamic vinegar\"], [\"white bean\"], [\"white bread\"], [\"white bread flmy\"], [\"white breadcrumb\"], [\"white button mushroom\"], [\"white cabbage\"], [\"white candy coating\"], [\"white cheese\"], [\"white chocolate\"], [\"white chocolate baking bar\"], [\"white chocolate baking square\"], [\"white chocolate chip\"], [\"white chocolate curl\"], [\"white chocolate liqueur\"], [\"white corn\"], [\"white corn kernel\"], [\"white corn syrup\"], [\"white cornmeal\"], [\"white crab meat\"], [\"white cranberry juice\"], [\"white creme de cacao\"], [\"white creme de menthe\"], [\"white distilled vinegar\"], [\"white fish fillet\"], [\"white flmy\"], [\"white frosting\"], [\"white grape juice\"], [\"white hominy\"], [\"white horseradish\"], [\"white karo\"], [\"white meat chicken\"], [\"white miso\"], [\"white mushroom\"], [\"white onion\"], [\"white pearl onion\"], [\"white pepper\"], [\"white pepper powder\"], [\"white peppercorn\"], [\"white potato\"], [\"white raisin\"], [\"white rice\"], [\"white sauce\"], [\"white sesame seed\"], [\"white shoepeg corn\"], [\"white sugar\"], [\"white syrup\"], [\"white tequila\"], [\"white truffle oil\"], [\"white vinegar\"], [\"white whole wheat flmy\"], [\"white wine\"], [\"white wine vinegar\"], [\"white wine worcestershire sauce\"], [\"white zinfandel wine\"], [\"whole allspice\"], [\"whole almond\"], [\"whole bay leaf\"], [\"whole berry cranberry sauce\"], [\"whole black peppercorn\"], [\"whole canned tomato\"], [\"whole cardamom pod\"], [\"whole chicken\"], [\"whole chicken breast\"], [\"whole clove\"], [\"whole coriander seed\"], [\"whole corn\"], [\"whole cumin seed\"], [\"whole grain bread\"], [\"whole grain bun\"], [\"whole grain dijon mustard\"], [\"whole grain mustard\"], [\"whole grain wheat flmy\"], [\"whole green chily\"], [\"whole kernel corn\"], [\"whole milk\"], [\"whole milk ricotta cheese\"], [\"whole mushroom\"], [\"whole nutmeg\"], [\"whole oat\"], [\"whole pecan\"], [\"whole tomato\"], [\"whole turkey\"], [\"whole wheat bread\"], [\"whole wheat bread crumb\"], [\"whole wheat bread flmy\"], [\"whole wheat breadcrumb\"], [\"whole wheat couscou\"], [\"whole wheat cracker\"], [\"whole wheat egg noodle\"], [\"whole wheat elbow macaroni\"], [\"whole wheat english muffin\"], [\"whole wheat flmy\"], [\"whole wheat hamburger bun\"], [\"whole wheat lasagna noodle\"], [\"whole wheat linguine\"], [\"whole wheat pastry flmy\"], [\"whole wheat pastum\"], [\"whole wheat penne\"], [\"whole wheat pita bread\"], [\"whole wheat rotini\"], [\"whole wheat spaghettus\"], [\"wholemeal self-rising flmy\"], [\"wide egg noodle\"], [\"wide rice noodle\"], [\"wild blueberry\"], [\"wild mushroom\"], [\"wild rice\"], [\"wild rice mix\"], [\"wine\"], [\"wine vinegar\"], [\"winter squash\"], [\"wondra flmy\"], [\"wonton skin\"], [\"wonton wrapper\"], [\"wood chip\"], [\"wooden popsicle stick\"], [\"wooden skewer\"], [\"wooden stick\"], [\"worcestershire sauce\"], [\"worchestershire sauce\"], [\"x-rated fusion liqueur\"], [\"xanthan gum\"], [\"yam\"], [\"yeast\"], [\"yellow bean\"], [\"yellow bell pepper\"], [\"yellow capsicum\"], [\"yellow cheese\"], [\"yellow cherry tomato\"], [\"yellow cornmeal\"], [\"yellow curry paste\"], [\"yellow food coloring\"], [\"yellow hominy\"], [\"yellow mustard\"], [\"yellow mustard seed\"], [\"yellow onion\"], [\"yellow pepper\"], [\"yellow potato\"], [\"yellow rice\"], [\"yellow split pea\"], [\"yellow squash\"], [\"yellow sweet onion\"], [\"yellow sweet pepper\"], [\"yellow tomato\"], [\"yellow wax bean\"], [\"yellow zucchini\"], [\"yoghurt\"], [\"yogurt\"], [\"yogurt cheese\"], [\"yucca root\"], [\"yukon gold potato\"], [\"za'atar spice mix\"], [\"zinfandel\"], [\"ziploc bag\"], [\"ziti pastum\"], [\"zucchini\"]], \"hovertemplate\": \"x=%{x}<br>y=%{y}<br>name=%{customdata[0]}<extra></extra>\", \"legendgroup\": \"\", \"marker\": {\"color\": \"#636efa\", \"symbol\": \"circle\"}, \"mode\": \"markers\", \"name\": \"\", \"showlegend\": false, \"type\": \"scattergl\", \"x\": [8.520132370744223, 10.866503161841353, 5.044400754930827, 15.519834265396284, 78.60576974128585, 1.9437945596577815, 0.7789045085277394, 0.4525568228070728, 99.89251666563221, 20.29827788987374, 130.03414250616854, 12.268330129228247, 112.63800588546235, 61.80967037222551, 9.942007722530189, 6.71333479104675, 74.28545868623368, 10.984337759615237, 5.403587990948008, 5.6983051959446165, 10.004190204621217, 32.07395680266958, 25.94169320943836, 35.39242160612449, 49.529010252200415, 125.3066635194438, 2.6118867900739455, 54.24110941403213, 142.0516279399546, 14642.740018910334, 61.15944500006224, 1254.4203604970292, 40.0268484231939, 1008.6990042465762, 3.6694976363931375, 13.816845081577728, 26.64060584449998, 19.9620471843485, 1486.90855442352, 61.031939886634454, 16.155945830885656, 59.070905304244754, 46.500454760135895, 11.904537299163803, 79.04963745551835, 2.4071125029352354, 58.282999272180625, 13.252568090124633, 15.172626890395852, 80.87189925870884, 9.379754012316797, 8.126105536974498, 5.243418624069179, 102.7550076993512, 37.67339763274061, 5.540835740024282, 9.943888292849524, 387.7948797793589, 26.015343959318436, 17.475422858357394, 52.58538886339122, 9.42892674926439, 13.694421650180345, 18.906948566506372, 68.4417350230972, 146.62952980090287, 86.52056184754451, 14.483776442684162, 13.574179890974246, 38.99432417758229, 276.53085284729076, 11.146339448754638, 14.119839726910884, 32.01963984101457, 114.11545626301165, 7.327509196537656, 16.100783816686718, 31.47409205461065, 2638.269707624994, 9.328654116476574, 106.60925135171699, 277.4749161665687, 694.6057020638026, 45.04495836363682, 432.3839989792365, 32.40798045659085, 118.9010009616, 61.417972677761206, 1.27443866826254, 2.5592298480862485, 1105.279853667345, 82.2515379753548, 13.220013661851528, 4.345568178371495, 4.161117736756704, 25.109325389603306, 129.16408887088835, 43.91428600108571, 182.63580838871766, 236.535863262541, 59.053306392429825, 89.36071233902125, 10.666889307857922, 409.90354430553697, 1250.281326969286, 158.22756979462127, 39.09853729195531, 5.165314809434312, 51.076252152130635, 260.62726955605655, 7.8955498705542215, 562.9359367451096, 228.6554611362046, 9.46244830783281, 30.957193269392377, 259.16926918179564, 23.754944203986682, 265.4225598789886, 12.125542315775302, 29.26221207340876, 21.588050132400504, 8.173815466725975, 7.341255165501476, 6.206716968551369, 6.29306911784062, 9.781345522901775, 39.60317268489355, 1283.5549846689298, 12.571289117262427, 29.132758837714892, 19.608901634663017, 13.060372842793063, 33.77973510047054, 509.15863317757396, 37.36910631495085, 67.11499665910073, 9.31558826088508, 25.310681312075022, 9.437255374267936, 12.80542983048644, 13.628540700274227, 11.996591263805328, 75.65072054300948, 48.7959936025574, 50.009970393695916, 11.817373765742479, 86.19400928009979, 476.83464447944897, 230.30876950405246, 1.4476036886022356, 9.868721276865058, 13.730301767463898, 3888.433441523816, 180.36861318174385, 99.30805616918396, 50.75073749397387, 85.77581727709857, 35.04918853945873, 149.2789994199134, 13.715893548753863, 117.8832148012776, 8.779668382446404, 20.770468833864967, 5.173781444452854, 8.603417541257446, 77.97565713112287, 110.9633517851996, 12.404370966658306, 354.4439392136096, 119.39051815295376, 572.7359988161401, 18358.283120417815, 15482.216182741195, 34.86500404930419, 1895.884494049922, 129.4602961323624, 57.2392700986439, 2937.210663458116, 6.799412159539919, 3.700363616237683, 26.825450420205666, 8.030675403059945, 15.50618675514438, 44.03124768844096, 5.947626609468033, 14.551651264105628, 25.25221776605925, 625.2109077366994, 9.457115982965952, 5.223360004240329, 8.186758425660909, 231.67924710508447, 23.157289927762143, 40.39139541169624, 1802.4881188681893, 492.8998191593873, 77.3504621898469, 27.522009838530373, 289.17755748370524, 11.38923188762503, 3755.1794020925904, 8.145911193929996, 84.70076767863043, 13.601732316823647, 154.8384836540038, 7.979335117991914, 14.411993830695542, 273.82833918594963, 13.750015659826333, 11.890366099415676, 11.599992433121573, 375.1429033639874, 2.829130586129672, 49.0954474614238, 21.580153434210445, 139.66151201468037, 394.81151022653785, 159.4696967624306, 38.238243150228186, 120.59140779264138, 1678.3221848450435, 82.66591728177993, 87.58065636791979, 11.950025372153084, 99.35786284772578, 7.2957149300452295, 23.243710336782776, 27.974729041801435, 9.057812667338647, 21.967474863655315, 44.64282562093892, 92.18258530931557, 16.434891830909546, 44.110288122559446, 11.921826763672414, 13.719157769192293, 110.31773432345723, 76.84471930625347, 16.749477079332205, 64.85970229541394, 9.159564966959222, 51.50663334208126, 23.825071906435134, 55.8854567116764, 224.3525550026443, 597.2869413579923, 15.209824777431423, 13.561600093915652, 24.68020188895122, 79.61668011233552, 57.7115474375754, 9.259753571501495, 5.861393387624457, 36.70948123108942, 62.1892820575092, 31.473308494155926, 737.7091190971497, 256.52164121466853, 12.716818915988467, 15.716334529141053, 45.8010782170542, 36.62892141547278, 1350.992536893837, 14.149623605493227, 13.881315150400779, 114.53138507809311, 9.382924202116302, 181.8623439977151, 16.223413160918298, 3.712368723304388, 92.94897668509036, 18.57746528951148, 129.1940897917415, 281.6128735542705, 245.92093986135575, 9.390756005303942, 5.194946395751216, 266.7840753712442, 41.97746431229385, 10.81157725581049, 1239.4347215166365, 7.282224783190663, 4.807656774075002, 19.963284330341633, 19.90695733450673, 5.386514018711783, 6.902386498220784, 31.864532335836717, 6.831807303526663, 1.3316440875174274, 20.505838089040427, 78.03482807201783, 929.8932667550102, 8170.776570126928, 318.61254684282005, 39.892715651959826, 20.71294713748586, 15.130933175086348, 8.567922951169892, 11.006061261439806, 13.18896981867628, 37.614187203687514, 192.6174719693905, 133.57716321518217, 10.968613100042312, 12.934070601698414, 35.58959237374283, 10.610416653697476, 164.94636590427396, 16.633237121581587, 11.527106160170504, 9.446999562843544, 573.262972768253, 23.087361512122907, 5.711893296399852, 14.103904165032654, 899.593976088061, 6.725184934719, 44.2482657114895, 7.24349854115607, 6.387410934861018, 12.64455487985662, 17.751278357924743, 6.433083867340585, 12.450765795661189, 21.32747902409672, 10.283450037473058, 66.49305616569374, 1515.539940773246, 122.39653850755997, 14.607444620442774, 2.679245577686209, 3.3480592053710603, 37.558122412133116, 25.187735899659252, 7.266899830857916, 39.46041784075763, 18.558722373281235, 5.6062315756232675, 11.343497790472252, 15.426164498755291, 9.895716265360965, 28.067881652249643, 75.93613069961518, 39.44180215046315, 242.1009138182447, 5.771207645332439, 27.3720758594638, 200.83388393691646, 47.93581935404087, 45.251367898801284, 412.5283516100378, 10.391970319536782, 63.47579655073318, 26.79191710424927, 1158.6455693381492, 12.774435067754812, 63.79279562097075, 14.168359043022866, 801.4819195928104, 5.942891502414722, 10.648685789245626, 2113.4768692645166, 10.44251655486211, 180.17510304234037, 13.758358138340743, 8.326138167899188, 142.9894637650988, 13.353486808115534, 18.50768873520286, 5.702260685127109, 18.528842189562006, 15.736572085235151, 29.097798773705506, 875.3045481451793, 16.400724679814697, 18.88172157893625, 655.5686984886495, 22.117952451047174, 19.14468245460582, 5.761623974049366, 31.224330758157997, 13.914089468073962, 18.676632740135116, 128.41016216626318, 133.1108302404254, 6.11053130213257, 27.500740984589473, 11.068280836212793, 18.606832541827803, 73.05381368639307, 84.68901760920855, 54.377563568557505, 22.921087422117346, 96.3277294790616, 391.71215548179794, 73.7654525879226, 17.70954083850016, 13921.704450143296, 9.675438032565365, 81.74428462383412, 31.92597415017437, 226.2373790054006, 8.022505664721619, 98.14879693633196, 19.422650948775328, 23.252129998988334, 4.1204381805517425, 31.876456426616564, 7.828634658588863, 54.20964464102294, 94.15030565155014, 15.546153815188692, 73.02362896917307, 88.5671231591495, 4.976738349385016, 35858.40191812918, 90.54575261755446, 9.185693761759753, 60.8988928545516, 26.3292222039145, 2.025504688430862, 4.724211102699353, 112.24443450154823, 65.48295655977422, 19.213025675261527, 33.84396735232753, 41.77311157535101, 3916.598095948328, 26.390032001806325, 25.127216075362988, 8.708522757438912, 25.700372990078982, 462.55473671563567, 301.0892275117738, 10.230687457113168, 24.61929851936728, 11.839539722411788, 5.598288655499011, 31.722211796703917, 480.54335285956483, 1162.3770407668528, 10.63971824321403, 6.6108344130516, 33.69405267027999, 16.27720183452213, 6.7809351021412665, 2.8899117907699745, 371.28954155454056, 31.589980970772054, 20.512952450368182, 6.3316332711560595, 556.1520770174503, 1581.5006662371225, 8.655229264868371, 11.413844130985817, 6.990429307356502, 10.127355776310576, 18.335942740368424, 22.00095157731182, 6.784466524328815, 1.5167369623948899, 114.08304750122622, 66.56939095328048, 33.346581573479604, 86.9529558491124, 31.900168498030183, 6.420048614696591, 8.90122341434076, 24.30789139593004, 25.808545136959765, 5.05426068904888, 22.713879305129154, 226.17283519627378, 31.435819262636784, 23.41906310137268, 12.197862468672344, 67.03853399920555, 12.181714265569418, 29.30504378031629, 83.6095293065567, 80.53522448576264, 20.486289608065515, 8.34954352576909, 58.69034816664004, 11.98294436003237, 43.600847222299286, 19.813354539286085, 23.25840114465015, 13.715452004588851, 20.07783540983923, 20.889464983426727, 5.604589294671328, 27.23236037565945, 40.33411361798246, 26.172133633442932, 30.9565548801853, 2.717568707523536, 11.181673476038952, 7.977455322836414, 22.164005438122484, 17.809411072282252, 17.02746564954037, 478.3048557446288, 89.96182858511123, 33.578602632135485, 22.529007895794106, 10.34458130381488, 282.6083333114423, 42.16774451297686, 60.38180405503354, 14.493389100946562, 6.517953910633118, 24.106175242118137, 33.81140616146198, 358.60061619818856, 17.434819533697244, 25.508842901556594, 2744.300311552071, 75.9232769469468, 2.5043064555501227, 22.363575939008992, 854.055521596712, 7.3868377059011285, 15.01269924351535, 151.385620051934, 22.510453949335613, 97.05758392386755, 49.556700081335364, 12.617699808826016, 52.95432757583891, 519.9298916673968, 37.06869699782258, 7.014723085319539, 304.5502222900474, 144.83919134628138, 37.0155742210054, 41.32066720397207, 15.229375762182249, 12.28597242160468, 18.785027284836563, 8817.150810756211, 14.193138680217224, 9.763281412708192, 4.580902038244475, 299.90264034591127, 11.386356107141195, 69.29450960858425, 18.897019801371147, 8.106626932869982, 526.2567092180316, 12.043996117995807, 102.51449507180413, 12.105454831513304, 441.064932158537, 629.371442941129, 214.897900373266, 9.937083685824764, 31.998322875356227, 8.490689274739523, 1143.8723865984425, 3826.954256132953, 29.523539626222302, 61.20604104594591, 8.628940970602672, 22.831500260850625, 6404.421899122241, 67.5847919453177, 18.209986954525487, 88.7246738061021, 1611.2978655425381, 33.56369701898694, 461.5468901350713, 755.1874949010924, 19.95421221654574, 34.4986269014675, 7.665649896270635, 23.251674930923667, 62.99620752582107, 11.246030030881217, 68.01872840857493, 32.18614699490294, 6.477176046667723, 42.97719183376671, 11.548453354696736, 38.36239726664, 37.239443363532445, 19.45352875922532, 13.920783982927107, 10.407977201469878, 39.751084090674375, 13.98217035173325, 20.167264820262233, 8858.727006928902, 44.52140966200257, 1563.2820620664932, 19.66173164766163, 50.000426942559635, 18.161528365051787, 16.962762401396734, 12.770981945666495, 5.763116006029933, 60.125896568585844, 91.5338547376501, 20.648317040489125, 10.334973526573009, 24.813686927175535, 4.42740880022891, 12.16016151250273, 30.751562682419095, 12.256489340830777, 135.19797937273896, 10.450373528815739, 12.419043023964065, 11.729863612870679, 12.65372343867392, 24.265047996262386, 5.506563248271846, 11.454706556265126, 240.5776662046866, 23.697991865648678, 775.0669537302402, 28.60979459249866, 12.953544744425013, 9.488029843854923, 20.44447114325348, 12.002820261723453, 16.884211244456267, 9.673062727404712, 1347.5931692455206, 10.924109606889367, 80.84320702002339, 185.5973718448989, 539.3216591296394, 215.8387550423972, 78.3746988369591, 5066.925398572928, 103.31500129234905, 1376.2348384166705, 48.48956226165072, 6778.466797401416, 3.2397408352540498, 60.81504112291802, 18.712874930072875, 132.52419529779323, 14.260899943581524, 25.938244585478532, 10.14733063775709, 19.140502173426157, 12.115272337607752, 6.326162691448066, 11.887082928696143, 145.25929853831886, 14.358752224330056, 12.311740775429268, 73.552324954357, 9.063114979880307, 5.436251553875011, 55.67839382030402, 355.2174436639405, 19.071627401883752, 32.966027282169804, 7.483898502001216, 30.415086705673136, 10.123109935926756, 2531.415933529489, 85.96620933280967, 39.215860120833426, 6.360193182354607, 19.105994889691864, 43.340816709290664, 112.74210334743255, 53.75493811797311, 806.5348285941874, 39.27455664687508, 282.0565234510602, 6.870489837005699, 776.5144464103498, 31.222532936970282, 1324.203060012793, 187.7894084640645, 125.03770189982099, 11.02655707782195, 141.3679167060307, 64.58935169506117, 147.37284957575181, 218.6382163418604, 52.56947854782849, 4254.874538004915, 797.1510388108129, 11.849580753065196, 98.59197481172308, 121.62216218630655, 52.26957511506418, 5.644758865199549, 13.001706912077152, 104.60786661179442, 5.616767587483505, 5.087065018442038, 21.21332977728941, 27.333657932109926, 10.885124311755794, 10.952139061879555, 17.276970191491383, 18.33900302838656, 9.542771583449285, 69.08003006904589, 6.718216210155995, 1039.072198964623, 632.1099209498082, 3.3970482270369953, 127.47435338408633, 22.600397292856584, 13.484331248557007, 1.4385540908877659, 103.99893754427059, 6.849932972945284, 4367.061015329222, 5.699532920778188, 94.71227646068392, 11.049312168285688, 11.47186056200974, 13.234759441515507, 12.144563496434259, 39.133353422329016, 47.34405058061055, 8.561338454983597, 4.838043749281898, 20.388913766604112, 9.885294682588555, 13.127502180963159, 7.450706695199926, 18.39793740169895, 19.46612697028953, 13.103854032227341, 28.03450998569326, 12.259902006355931, 11.058475763835503, 66.8370279713059, 8.408913938619591, 18.82274189604908, 140.90811152552538, 85.03050133107406, 4.39246066152581, 11.86535737806442, 24.860836481398447, 45.024783700265765, 3.178417012075228, 26.388459101693112, 11.585956726240584, 204.66991239885553, 29.96237772494091, 13.968553263950284, 29.31372530752064, 5.383943363456565, 4.240421289998632, 14.355387207091235, 31.06722532427807, 9.576004371816246, 113.83556098530174, 758.2223025184616, 96.26286187916702, 17.988858967116713, 203.22047229026876, 43.155202276747424, 6.947983134237697, 11.527001319860155, 9.537452768236983, 9.342571788773542, 29.435850174981542, 123.03172586721122, 105.105209716881, 71.3728682706531, 17.153611873190254, 44.89518413353675, 35.32921343811674, 1517.7368282676916, 1865.907815972434, 277.5218529541825, 10686.318277492077, 11.626182929686207, 54.33979794227734, 14.498461595347743, 7.191412843897554, 3.2506055553233804, 21.39566644037557, 5.183086233758361, 731.5838895680471, 135.71155946433007, 2.142661175523299, 10.490879423605582, 37.90266784787254, 21.95434928979548, 15.179075878488055, 17.40777130111403, 8.321815100409612, 1.0420169075525865, 154.29429480851113, 16.60624973723495, 134.78709956312372, 11.104696215697539, 48.026074792447815, 42.93499812936803, 13.126966898008384, 1442.2898107039646, 16.10906773586697, 73.51746402206426, 88.12011426712195, 91.44894557120706, 388.2991341329863, 50.019760113302866, 45.13784666542848, 44.42333719874738, 11.161571341491697, 4.327259218128317, 5.478852687286049, 1674.9340841868764, 3.7012742145272046, 942.8300366076904, 1139.9974768833692, 75.49257246240273, 3.7515366386496547, 108.58312850277991, 65.48006273161003, 39.366664032887435, 775.5004262582776, 9.144338108233622, 110.86603860382671, 17.359713765574735, 2.507735681718922, 6.185405969709674, 21.14711712645989, 80.49873691727073, 143.04975159748963, 181.19063526367907, 14.673888353460075, 17.032917564206482, 11.318062806804734, 57.16994582965601, 2.1036372426667818, 105.85856090876993, 27.393406667806964, 27.784069259092302, 28.161888372420275, 7.203603911039091, 14.632374263545994, 78.07834095916132, 153.4408226256237, 1048.0228297475476, 9.370378035238808, 27.0043984687202, 124.34951897329023, 75.29657789723431, 4.9513286908376495, 27.97653290603071, 31.331865223893566, 11.416623451129496, 13.876529840125684, 4.6033467733728495, 70.60761869851483, 182.85192825090775, 12.93192275493906, 214.50956170562023, 23.86747158982164, 17.627822792252715, 64.38397298959413, 104.06252221960663, 13.852201823964355, 182.59303587447945, 6.71871231525083, 2087.3825582463637, 27.84645083253334, 10.82190613263095, 34.706684238409295, 18.56234232706054, 7.69224631074718, 299.4131282305187, 9.554494384784128, 48.00871351152413, 43.05951103668658, 11.447501704237713, 12.499696520544, 240.72734948553594, 1114.9543742081594, 337.39925662381984, 6.727762396624064, 23.159085997432776, 47.05972096604563, 34.83812080722331, 17.08668772969856, 10.64303491275587, 604.6148197365092, 16.631977309449173, 16.19959307319647, 24.028543451839234, 6.485511641518935, 92.09220465240712, 41.70360074350178, 60.998825999263005, 12.085129598384011, 7.044476756838574, 90.27990528258758, 12.684270303045206, 40.038575679795265, 45.66927389200394, 18.96940508032216, 1067.153349085045, 10.98537302425821, 4.8622303212238185, 124.20393906877017, 65.13883140379895, 23.76621764882715, 225.7533065635058, 23.809654125553095, 177.35317963166656, 44.84620473359697, 7.538243952618311, 14.491274024852757, 13.905207235132982, 166.93594614223065, 960.1583242077121, 19.499906145224255, 75.92057865695988, 2200.636340355192, 21.824506561572118, 473.0893496875405, 11.268046663968484, 18.953454026113267, 40.04746574708217, 2.813304971756633, 620.8165775567186, 184.62211304257093, 195.9019320542716, 6.82282335271976, 203.84126318108508, 15.033636925636905, 27.37313844883333, 1255.817421331027, 10.000967905176585, 31.06813084340696, 95.95265856954664, 9.419772231536449, 425.55135009633983, 114.22815655285048, 33.176642452871285, 6.171937692501922, 335.993408154193, 6.8088406497459095, 74.29481819438378, 15.456570742382379, 260.95539660038924, 50.56277489644043, 424.38734190716497, 269.03835519561835, 86.88091039503064, 24.4095472300259, 341.7942668808551, 17.776996662427585, 57.03884168491262, 1312.8158517089184, 4469.55973804543, 18.704923260343755, 913.5407106589411, 31.547511169584652, 12.090355208747193, 18.552883727823524, 67.28402527571117, 401.9310749944713, 55.19991875455473, 9.050004697250994, 7.4774557579751155, 414.35022408698876, 401.56017222427533, 3.4831086926327837, 106.24376047777338, 15.594244157052993, 160.29896813273706, 153.8943524594341, 83.33449901433843, 423.38488540775097, 59.31231314704519, 21.68454952230868, 69.38367242175832, 1.7522256851579154, 4.426947230517727, 14.978256104990109, 26.538741888420233, 163.7888520871539, 1336.6644242859634, 5952.243504977577, 5.049743427243396, 17.426112539605203, 241.51638267574018, 10.707466838566697, 878.9469605553352, 33.64756329211943, 1193.207288117362, 12.245028116462171, 49.18300972996125, 21.880981943808948, 803.3576294026242, 12.999199666319013, 25.834177348987097, 26.57062686071129, 1.2408248129019392, 12.92277759895955, 12.362457332128105, 6.529909289134608, 317.147892713142, 19.771742113106882, 514.8981206646206, 8.698494260662896, 2.7754791923781563, 16.9889445000266, 2.8579285507400782, 17.73420894123028, 167.3329878429685, 54.39472541846518, 199.02340091080472, 34.198997250809484, 112.58278311173265, 38.848729790721904, 238.3123707845959, 31.827607873790793, 6.818054105720277, 63.591887700794224, 18.157980704010356, 44.636256295033746, 26.565608316580196, 29.082163152080657, 203.87235220056056, 148.61701759245648, 838.7791432589983, 90.31042126991204, 14.323673244580721, 1648.0993213348677, 748.2251611567348, 36.24483784086022, 79.96771059753074, 18.617741252236964, 207.05918944249632, 14.89843921419235, 85.62567895688996, 42.14393499895838, 1496.1526834484202, 2555.074898560105, 238.93501166009403, 558.0418078082779, 0.7827707928720445, 6.709235092895318, 8.134256996730336, 12.121662060708672, 217.38566332171123, 17.947585107417666, 81.03404929950378, 138.63527333988358, 84.43677432060981, 1819.6780733284045, 6.75431055301713, 36.989713131141045, 75.60101109278774, 30.950616917036047, 9.308399180741846, 5.453199038699959, 10.037063018827004, 10.71629480405886, 90.2089721506912, 1043.2062175402805, 215.56719031156845, 4.982575199388635, 107.07490843502889, 23.5472926004563, 4.594803278389066, 146.85196838449247, 2.259172244000865, 14.331745647681805, 131.02982186227112, 6.951182107015705, 79.89369483363328, 7.947408954936073, 15.160385033324715, 178.04775404519052, 12.517345367227344, 13.750791538237214, 16.069117481508343, 543.1137457875161, 24.22927487514692, 29.72428069785333, 17.796008651868494, 23.252756053554677, 23.28756983890448, 109.76344705900794, 14.773794431908065, 7.392810794428113, 141.28666349266928, 38.35583979251241, 38.12550624249238, 5.294646864861873, 39.46306219668955, 4.886057417555766, 136.28414185345875, 8.900309895518697, 21.82281247106109, 23.171953873212733, 323.9964437866553, 276.2737492086897, 116.49164191102595, 14.624788401764116, 3000.3718969564616, 8.688555857949442, 4.425755167067018, 1.742630347624133, 1.9448615070927422, 13.170191781360357, 2834.7963425386533, 8.592584845123534, 388.1586996286286, 21.645407990924404, 90.21506861789807, 18.751612113492794, 461.58553533024997, 33.8393468947196, 10.10368218554857, 13.967202148227543, 106.49154480658888, 44.68977103287887, 12.391931689409802, 113.09639951068797, 41.51957025600123, 61.11147944379079, 15.86880751589356, 4.25741165406346, 23.009346960647907, 1199.0745400055976, 44.26577339498133, 541.6875781672687, 21.78829020160923, 2256.565289422512, 169.27487948323213, 40.820311325300985, 16.13287301809709, 29.31258496456168, 72.87219367692427, 8.49281621281186, 37.31518556211953, 39.85725884436913, 190.23248441267825, 28.19085134920144, 20.740260068987943, 2.6743685774854504, 198.33024275620747, 8.255874253054488, 39.43978673117456, 124.01837835789641, 40.353728556448566, 20.07303507372112, 6.962451452727898, 93.51707598572719, 76.67614406911342, 92.4886622469539, 18.73665048974449, 34.20604316497613, 826.2645739362212, 112.49033957252946, 21.396184208558285, 251.58865780007355, 195.98107876212904, 20.84400159621917, 85.14174601551615, 102.59092069196394, 37.22493415184787, 22.127081670291325, 33.718014381834536, 30.70199409484902, 95.54833054183622, 4.676928471356181, 12.039076445290421, 13.774984551329341, 24.109483208505043, 48.405048631193, 226.29990172912693, 10.563056879036692, 6.758946718687595, 7.90916173178979, 13.197056138478835, 20.821368603421895, 11.214455581332706, 122.96759954318689, 16.370300082933905, 8.024691188379219, 14.843492614017766, 364.50386778165, 17.78276680007884, 112.27894902345821, 22.968031507282266, 33.876316204424484, 64.67032157187319, 59.6931639674202, 111.19231103693727, 344.9331697655523, 9.84897914520576, 3092.0773968122057, 220.6733633943786, 841.5402461671101, 333.82755924004306, 15.920703042157678, 6.198482120599704, 6.848925115868718, 24.90742160754054, 60.649983220537926, 14.449078034657497, 43.76050072045132, 16.863317603095954, 21.72810715028329, 26.95522549795484, 31.888777561767377, 98.61521862468999, 38.49630510899051, 28.87753345762693, 115.09232717902857, 8.942161659869937, 705.33461583355, 54.1589690540521, 36.91317438043454, 321.67494666758427, 39.78077335668637, 31.645645115557652, 13.041812663902421, 13.309991923531092, 17.593923458773627, 11.213646467775678, 65.82937970180735, 9.253095092818002, 5.23951838500807, 23.732030734620608, 116.71597932727433, 295.67204937617197, 33.750949244971075, 42.687634983913085, 2331.594605742012, 243.00153112570396, 8.737035729395343, 12.045571030380435, 23.395874860821937, 18.68645232856952, 8.853751134764284, 37.007235912879786, 64.23125031360323, 34.78666695837806, 21.93504031710854, 788.5166330305321, 54.11056971553807, 6.440268538278089, 83.9282876279312, 13.813199137327226, 14.846335043142204, 11.810398209000498, 15.771285418965055, 72.33598000888357, 7.748655699793554, 12.836273726500744, 15.981053841405409, 105.16512488291055, 173.5976773172608, 2012.5593155442994, 7.136378905699385, 9.473736980120556, 158.40160299531314, 63.628644682652, 9.524088824464542, 12.303112923096256, 17.02163170422937, 55.094612016347256, 23.02287665547349, 37.49042444232033, 28.822164126636494, 588.4287612424558, 78.4934637776866, 33.94561057395879, 10.595848163315555, 662.005626638761, 16.045720487432845, 7.554735393347156, 6.497135142905358, 72.35769533443148, 13.549985408575195, 11.171534930306633, 1768.5728925282156, 10.68025841143653, 21.215870040077274, 18.363393103320824, 20.11106288156467, 12.77350190668385, 17.693597886850895, 7.789981721634455, 9.006118809573023, 20.667824876670476, 93.31929084130181, 25.758691973674292, 18.826458918518295, 26.494994081396186, 6.267219433296614, 15.555435495776337, 63.70994957668991, 36789.338316595415, 117.53392127639303, 13.560415203210916, 446.10965006266616, 66.13878216772612, 473.6643989890342, 18.59135188838699, 2903.3978525856814, 2165.0697448300725, 96.6874863150055, 834.8478991822506, 731.9279973309482, 45.71664436798461, 32.7515503209347, 124.6889362967634, 11.719920153065281, 19.560396715885794, 163.12184702019232, 152.98864452063165, 31.15520263288524, 16.99417030080226, 19.072775827001475, 10.816264595057337, 38.60422131966637, 11.7139214433021, 9.148500709517696, 52.21677786983128, 42.014956455203496, 12.206647339849939, 14.776500754479336, 36.98061108168239, 1787.6672938605398, 103.26499805362594, 17.411317138420003, 11.669094273083639, 10.888120774121678, 88.07004007614339, 21.52306446710256, 31.9342740746375, 79.80248769617076, 19.052934542212572, 37.20356676479517, 38.22166500801083, 74.83921409288097, 165.97600988737508, 15.445115613699874, 371.9744527460466, 10.424116598032349, 65.26471629566488, 8.180932668245777, 1359.4985289493443, 209.95706942114757, 165.7625768038842, 171.94790646162406, 25.466350252549965, 10.105796515487429, 19.283682565362582, 8.179249250192633, 38.74406316482449, 11.885788570995079, 18.088686296863457, 13.610248433585795, 18.899508631790674, 25.992662289940245, 6.415585608111751, 122.82961857139773, 12.403602593770684, 237.36753109270555, 25.404094486595575, 11.060870371899632, 20.11083769695685, 42.86779534280643, 9.22532044325088, 13.133071741806553, 11.398839640299053, 34.58461097720422, 25.5471655261595, 35.32402902815352, 15.351924108674392, 26.49877556890121, 339.2091428765809, 23.02255311637086, 80.1604098294328, 233.35791522707657, 547.3378795514935, 13.952646788889107, 69.0444489694469, 110.2277560261214, 649.7767918704394, 17.292655631590613, 10.891043613578574, 253.7919071800281, 18.873726439751607, 8.257985112130408, 623.9045851284052, 66.68517754037934, 21.377354471990408, 184.13793035042377, 173.00838131694246, 12.225407337275225, 5.796502479480755, 24002.933843244, 16.482452431089065, 64.90466248185041, 20.82057013408837, 28.130845186819542, 30.156566345462373, 107.90170613230276, 102.3196553928563, 7.20267936740538, 19.895133600127764, 22.584985356682356, 10.301933263683837, 56.41251229155139, 28.11224927892231, 13.148530221911283, 110.33815456366997, 21.816730551466037, 623.3643535926508, 11.798387362522675, 13.218691484162322, 31.4316114123189, 14.110813976091439, 21.19308518764637, 9.161750668961595, 33.88533026535188, 16.204360474059026, 34.749180765042574, 18.616561077343896, 51.61427280989484, 6.735982897552123, 6.225145387221706, 28.312640695687314, 20.822756560096895, 104.44009904819485, 13.787274326334495, 215.41045873038146, 2096.0308256783387, 669.8550766945376, 36.75976539270642, 52.01382166335041, 100.21106407541383, 70.38588150178666, 561.8706087087623, 450.29143766875245, 165.28690017380234, 104.96307814022285, 39.67199777995309, 14.737440231177944, 55.45652416189545, 23.530466923420995, 12.050664660953332, 50.374248139765704, 727.1926183209916, 2198.6234772527223, 220.23719978518025, 70.85594954617864, 431.75577142918985, 18.966670988038295, 343.0280324347693, 109.2463259417532, 128.07625018317418, 124.94292114750809, 40.870653470381114, 48.328130375785065, 351.44062291094997, 32.2532222403597, 16.71782601177704, 807.2990792031474, 6.966257281213975, 18.305416153851844, 50.599192601349706, 14.13877114774798, 18.09398763076652, 33.76980381775959, 235.93798172232988, 85.27019279284158, 501.1797361389908, 196.416153606741, 2042.134431512126, 298.7166466079645, 28.03300592460028, 353.01337774937207, 25.108429579505042, 3788.7599927521255, 1911.4316768934204, 54.21441236212407, 145.6615570781979, 19.294236458792128, 217.0476371878673, 77.04676239479907, 109.47369074447037, 17.112307226350403, 15.372352004574427, 48.27926645824247, 2707.43496245838, 308.9076904832967, 64.25071805107014, 32.96163562223171, 1010.5689911807693, 11.34053693369003, 18.936245216615177, 18.9221317860358, 28.683597346772263, 74.74871843972892, 246.6439746524257, 1463.0594985316843, 16.83958605123627, 48.58039255711838, 40.63110011560726, 34.359430228413935, 324.8365642931365, 520.4544285262194, 240.52007258898786, 5082.882109493018, 320.17885567243667, 37.58839250713709, 57.162263882115695, 149.56958008449425, 14.678805804588029, 35.32776929940422, 128.06124325384584, 23.4700387969032, 9.713524261372356, 39.46848440616342, 11.030812086973379, 223.7123716523765, 68.48536075143464, 12.852496788321556, 913.3216161836633, 100.5974080536786, 326.53478230043936, 116.59021689314326, 16.16702837463355, 11.535540207668484, 15.624771682188308, 8.574693270784238, 45.48317342288226, 68.73653533975869, 36.973880432849526, 16.336669704384764, 690.6293207687022, 120.20330623246616, 455.3260383727897, 249.63427181729125, 23.265195214454483, 1121.8836188237012, 125.69327896257155, 147.0376282089099, 104.65891782811477, 397.6937182887921, 50.39483137840751, 20.25951332299897, 32.538116443539096, 3.57284376349674, 20.232509940416413, 9.865872290299327, 5.539671240401654, 29.881312090293036, 8.229149984805682, 75.37474535641259, 36.01740897454773, 50.60497638431256, 8.306805654598113, 20.18679837912715, 65.03536882056754, 8.230559863437541, 20.97501338831686, 123.51563752785523, 51.24806935546359, 139.777012183616, 26.90481704592569, 16.637809884784915, 64.38371698811393, 7.068974631566973, 27.066786090337587, 23.121829746558, 33.46043907943889, 3.4996876854215158, 22.678919189417584, 9.40541061255171, 194.02312943301683, 9.227819809257959, 735.749470555576, 1.291441858405021, 5.95543676820602, 12.008526537089702, 592.7949884758779, 188.44443287428527, 11.628959990637178, 29.410022895214396, 5.619658752306907, 16.635573361134114, 24.38342467613602, 7.4153455311639505, 56.878583553285125, 13.699855204360562, 7.162914526931395, 18.432508976638925, 10.765932276968657, 4.361924192710827, 12.71616875428224, 10.59690444076194, 19.645652662628894, 16.68589888936433, 5.348761095816291, 103.34499712357217, 184.92304339671983, 144.29155152707753, 185.6381749343805, 10.633394697268212, 14.462525854372105, 44.60158586427199, 11.223023151756776, 42.5368763758269, 21.893302472172934, 2.4614715352895797, 27.80531736594514, 240.8059400591281, 8.75758436024679, 24.795161181634793, 26.94287699069025, 153.5814573833562, 989.5606021468014, 7.13348759564469, 16.002743994185064, 22.183335579920833, 66.47041339745763, 7.344190291753881, 26.75199550744109, 3.3036722916999937, 8.782396696317607, 6.582882530673148, 113.40922384912965, 10.25606914743524, 107.85504801219942, 8.964720154250827, 26.769714434042882, 19.78256754483285, 7.854577579925572, 6.754997762569972, 11.668094690632218, 481.7776705787193, 99.60194005689398, 7.3776316673160105, 16.459941589472404, 19.07953977871099, 8.716013718525373, 8.131631179588446, 45.01593080686603, 11.449188522237428, 11.865823138897543, 12.111066514772284, 50.212035096670526, 3.8995389242044656, 122.01874831797863, 12.381153057042075, 14.184260483193786, 121.43553581256175, 3.2196547800307087, 3.050967499598476, 127.24923396116363, 15.810231483921704, 54.16980478206439, 9.199063509270683, 5.7117979182284495, 12.540671570738871, 10.901870853631088, 19.753328726528768, 25.40497173338621, 37.36601583851831, 74.3783335886609, 11.944608226981243, 46.45343641416194, 9.921153677716461, 24.3512875608411, 36.189245790374734, 75.93990992009371, 4.968402441548545, 35.712372001193, 21.188914666601633, 2.8421275055857347, 483.30304486060044, 56.0631022719953, 353.1221612327493, 11.559266093373095, 9792.929357209165, 10.500498042762864, 23.604172677115688, 15.159585098622566, 14.326025793513463, 10.851260641061932, 18983.653717046924, 38.62708712174172, 5.287326405881393, 93.09865921670225, 18.40468088029904, 4.8480928700009915, 12.543788797903131, 92.13299523790319, 43.48581564948958, 5926.544695985226, 1320.9285952584305, 9.88857900429919, 6.209683284919528, 7.3960012098060455, 81.36053095411762, 14.456668943573183, 11.0565975671017, 29.576201548242157, 7.715255057633365, 8.757273027320927, 19.186210733999744, 184.80224447305562, 35.7518524513705, 5.243317334834653, 17.397162403855432, 2241.7456435756717, 59.6980658736858, 1.4820365765419707, 14.581560759074703, 86.16452913523433, 129.83823805074854, 9.979894852775736, 51.74630814613973, 693.5570570717165, 30.290078700950275, 9.21759745725, 28.98803921359848, 21.26887356896038, 45.896321622689314, 47.50894282564058, 43.7000837288256, 12.482708848538872, 5.366549589872034, 6.01856448687797, 54.972935091453316, 313.7543086857335, 9.355378255185334, 7.1785786538293195, 31.405053204862266, 5.864241281220213, 87.82771102664802, 8.736599665598794, 96.09614631852101, 11.442653881873296, 8.503998369869237, 562.2456674395204, 12.99968257096244, 183.24366594486264, 3.5116840778145324, 8.28949660741266, 169.20966797664164, 104.28412245321016, 171.89670545084164, 526.9994953679535, 8.972528143112696, 94.47335529347073, 63.630736816483, 15.469940166777175, 15.58499957893703, 7.5283514102265015, 29.56724113953492, 93.71385612960077, 22.326008265745248, 113.64546226057038, 29.66652993215726, 609.6063826613116, 12.646042345773004, 104.32495954285199, 86.56707582775, 12.575649558478709, 4120.5299239101105, 51.855833317514346, 31.27885847555647, 14.482913739316457, 14.21755743976544, 288.54501742794633, 32.61102518695418, 37.65198768544323, 43.819636637721956, 9.83749213629516, 69.33480664184951, 2.9145077441201943, 43.44401143687171, 11.81300600326749, 227.67328251956974, 11.42959280944568, 7.913364959469075, 20.179519280860127, 17.89153312742036, 7.439932867660016, 226.12849347220734, 48.090479707530136, 79.51081586894438, 11.5724026050112, 949.1485782131433, 2504.2457604118763, 347.57878131002275, 64.42383193098728, 30.491544929961524, 43.130036152431664, 188.54424132376803, 264.80350146969323, 29.843817134269827, 1078.9418704164668, 10.726886457330268, 7.320971847660348, 38.42092230039871, 37.51949267367029, 141.134449654635, 19.13918206280014, 35.928957674426044, 72.66978427384595, 6.333482672847317, 303.36282000649794, 5.378659636856382, 172.8053668859977, 3612.849377237377, 8.474646255992857, 4.358056958073442, 36.79895961936516, 8.714289894253033, 44.706632493029566, 45.768639277804844, 7.2224902133237805, 9.629909314093972, 4.877605442569787, 13.635880965349429, 87.66530918636619, 24.32214647448791, 24.62602539408062, 18.83967933293865, 8.002655204669706, 12.27175807314861, 20.786987279707745, 5.520164740651866, 133.8645092165737, 791.9514965204924, 199.8865110986192, 9.062536379683346, 20.500042592003247, 8.974270502296456, 3877.911696004815, 6.909254428601423, 2301.4526323813798, 20.658231934134847, 9.931950507462926, 512.7705887193883, 236.7521812099206, 16.481087052425714, 228.9167846204525, 15.81449504484142, 332.6349734237542, 4770.406805211573, 1738.8038064066816, 27.12568338406604, 1170.2178818150344, 3596.685725512329, 7.563783935636081, 52.368670715578716, 15.33033279745337, 205.93643725314087, 2351.8018570170675, 20.665815432504463, 19.195562470933446, 186.44754126862864, 107.02674655225997, 99.29893589679428, 14.266479971918756, 41.94497866038837, 7.4227743433363464, 316.3552283971159, 15.376313243927024, 2164.5421211408393, 67.21917422784817, 51.57025753661166, 38.048721332376836, 671.4811270076713, 565.3075545298877, 26.51209328098446, 622.192361547628, 24.59201377372688, 118.8852044784741, 151.19381002456166, 134.51074156377283, 21.044170729881053, 131.78349399219698, 567.2543979361564, 95.6273557293526, 434.2299864917053, 88.50256949273675, 40.27623116329896, 54.14398319168128, 8.528099469475054, 20.473420102264242, 101.4315421245557, 294.25602038028194, 124.50926265366125, 36.28006802502037, 8.50145116531059, 3.966367083635429, 2.7578444134582405, 66.79955886173965, 34.264132196328305, 7.576313039049401, 20.515737074525703, 87.91271434679739, 13.962788641779285, 25.023117723425564, 38.15526098757552, 13.474537997049783, 12.079595158780174, 1633.4356409914176, 626.7324168575558, 34.213957233435686, 75.57189957948529, 42.55341463784997, 31.068043279173963, 990.7222405333949, 60.57274885032406, 73.80646615272947, 20.916071472910755, 44.15340501415913, 9.569742396481441, 312.0428435524061, 455.1242924305205, 32.41944745293265, 12.763034465455513, 10.969292221911685, 6.548555747749087, 17.092005057492276, 28.68082111991068, 655.0046485470519, 61.682895313206046, 66.45034223469298, 69.61897540032555, 79.79438447903837, 9.177710029607407, 50.497445631452926, 68.15907904984229, 47.15506748133137, 8.90034890493343, 4.23387945453724, 219.70415561488954, 8.132264780784185, 6.962789123487158, 4.101583014327801, 17.021750746803985, 67.83389089108955, 12.384231849707191, 81.74275705205, 25.11996931567678, 7.542622527258873, 30.68789113313391, 2607.0330431364723, 485.901842681855, 13.531789841092952, 7.196527280521689, 127.17872354873262, 55.90394774587075, 13.64628536210528, 29.74396203637286, 10.854733163100605, 15.93266326559126, 7.216655876291839, 131.63474157204692, 8.23786390177176, 11.18065738069939, 5.8439772087744135, 7.787638223019665, 5.597495921116406, 10.339985369894194, 10.423212245335934, 84.58253954758727, 322.8829244392392, 13.403965483743386, 10.572281082141815, 7.429853023949148, 60.76647291286001, 11.02326593872511, 4313.41038629107, 5.357673752778958, 19.335627852710495, 13.794628474857962, 91.31756779639825, 12.432918172454707, 13.898239926770854, 10.826234420414824, 5.52398935037216, 24.615861476694402, 13.257923390319473, 595.7515554551721, 17.047875997970415, 8.437547191089067, 33.0583732609208, 6.082050277797913, 7.91653125849913, 28.18242457546612, 10.61625148854975, 13.302548700779816, 28.95901646972583, 14.758717789803741, 56.95590417792766, 25.414665724899926, 12.171518375867505, 3.491640960268212, 6.701154660881625, 51.660803543533305, 171.6915700977109, 69.42486568850073, 16.703483361302492, 8.440050185371152, 34.422716275853176, 11.027672420208164, 16.215878182883714, 51.9435982433218, 133.61556785488128, 121.5031226440386, 7.872829112084384, 778.7408146205639, 24.704235706453016, 25.984534773590145, 101.23650847437439, 35.496102349491665, 11.458031775806308, 16.142259006788112, 1177.328936723511, 8.391359192998152, 1119.8802398700043, 4.565651988655973, 34.63928640987384, 86.90649434130854, 181.410211434824, 71.23749342598362, 2.9421068623977846, 0.3883891774454495, 212.93258960905249, 167.4836811929722, 66.19741375104499, 812.4747555439907, 82.08405029305938, 11.748612372109095, 100.09983149274522, 14.485692875139538, 34.512837185789806, 11.635877493273028, 41.15595369994691, 37.55188022411755, 2.649152668651337, 36.7442966360616, 78.52192325751989, 7.671077499327721, 167.74831094929925, 13.355450032603356, 254.31505499563332, 33.54510710856246, 203.4488941392302, 71.41316822680777, 20.647403256063967, 33.758955222887025, 19.518864649928734, 14.560442962473187, 81.08477174110578, 30.07030556323388, 39.11861756266207, 33.09619494956916, 77.51072183444053, 11.241700914410243, 47.169406495716466, 120.31949185858718, 24.394090011222165, 11.141988014978827, 39.355445746708895, 4.8269530833589736, 103.6932351326281, 29.424773950330778, 151.84496774865667, 6.387999994473192, 3.9877455044205066, 236.72327771451125, 14.888168433233897, 25.795202968604208, 6.471654315987745, 75.2801303669232, 32.99546475743592, 25.453117476618825, 203.5342383023985, 93.16876936070601, 15.27679614717793, 69.42227994699833, 57.806213316975274, 220.67325276198056, 8.962141698222009, 83.82557923811652, 16.986993492876188, 312.88698440390425, 1189.1732647395052, 74.99161300832169, 37.741428078078, 76.74576670284968, 34.55804582991208, 7.889071777277243, 938.206775704193, 29.044462885065585, 29.557762367768234, 28.680196029436637, 1223.4882234358035, 7.62341781731636, 140.36256473742364, 12.303253525724408, 40.445558568743955, 10.146979693517949, 36.668674296895304, 92.87347008571619, 10.893833203162107, 3.633112630988935, 44.693150678558375, 3.675047057482466, 24.55365466480372, 7.47432768262889, 44.727581744726436, 6.809730736576237, 11.018452669583809, 82.27080839602144, 57.71113279951517, 57.64453397856267, 10.829530393924898, 69.58807170146852, 100.2236376552536, 34.68098777669713, 21.192852795575043, 9.04834163296946, 61.93589388633285, 156.26696861729357, 89.6396887004167, 184.66070540816494, 337.8131106045686, 186.87312509717793, 11.79725260833762, 19.40484961781968, 31.245600755550125, 8.636554706148477, 51.14531062703007, 2362.390549433635, 29.355174462071403, 13.849118256173897, 71.99016179748303, 11.861682789830754, 1370.0764037192878, 196.9704081122756, 22.137115562547972, 11.501427658018132, 28.717291832420262, 66.77062329655865, 46.723453959118174, 74.21923966868077, 19.59206691877196, 4.956609033052705, 1850.4204638307438, 43.60933590884969, 33.522347857134775, 16.73731237899353, 25.187721064585226, 24.009554916912414, 136.63758913279705, 56.31995966031095, 11.663193660360962, 10.753716613559424, 29.739590854331993, 8.649134803705657, 59.639709156987244, 43.35221807968427, 9.534350815529491, 22.151805269320977, 7.635551364368479, 190.9526723678159, 8.277286012383078, 119.436434308958, 8.471877311053674, 9.160584238856913, 10.073695605077466, 20.12529646812696, 404.2319141109605, 341.1794079622245, 12.51213186216701, 9.333401592583662, 6.020115802205177, 5.3968330188617655, 23.834041969799088, 29.8004451391243, 76.04951021294404, 5.889116713945461, 67.77836782531536, 73.68499597592951, 8.772672529212418, 2077.5716589416606, 13.624371174665352, 28.241478301990167, 38.38004633954753, 13.493077073982588, 19.438547315944856, 140.54203058441365, 50.82068574427045, 40.733761449605105, 24.326549116574228, 89.27192016952924, 13.603236139913747, 12.643876532098613, 8.269525036924456, 7.076332587842566, 46.875492521444244, 26.581127383624434, 942.2705815453127, 10.691610795309838, 96.78631514375991, 1860.6970351671375, 8.057163507405763, 4.276248071802154, 34.568797864625274, 354.5950864093496, 27.353991313004983, 13.118847974753063, 40.76714470624154, 8098.582376059349, 14.2876333197029, 507.5955287490102, 302.89146643592204, 73.92706417969052, 12.748326718277655, 8.679482026812469, 482.6330978120569, 65.94338482404557, 129.27063779296088, 4.355490071558448, 22.63525502223875, 7.733006647363762, 8.848625469418462, 1.6768155223901713, 354.7851223046861, 61.86869120062873, 1178.1326457501789, 26.797869104145445, 138.04106633429345, 1069.9452998186391, 311.160059913865, 558.3344496208796, 72.29841607870216, 13.79528161482936, 11.906007654567318, 1.0036249343177515, 7.1115619734605, 183.45680508118556, 22.69942165698151, 33.086666877547074, 207.82455972934002, 102.16265216957652, 154.16441089300005, 328.5403106414187, 2341.9968634488196, 24.884594485065275, 6.947739131304403, 24.789461584550885, 3.7571541863883913, 2037.6963745685487, 80.25470279551065, 9.092201738162679, 24.05894066395765, 124.21426264099763, 647.4476437123437, 500.8656103148736, 30.073532201199082, 7.923550362852116, 60.93935052623366, 5.0519562021634945, 86.98092738013925, 10.703424608672094, 8.525375199440992, 22.50958264545076, 25.305198700601064, 5.77481294146941, 280.9517551479867, 16.46920190778523, 4.706422847817721, 13.254996444410828, 15.815853915889488, 43.71022028886271, 6.604293329130363, 84.42456972011108, 667.6259732681982, 13.645093140492678, 20.97815695357066, 1548.230174844239, 74.46091804791405, 95.87869357289017, 1.4601179424410329, 15.25888009664902, 46.44431918163517, 208.4212757296665, 337.95285049523284, 48.20281941280248, 368.24427929039007, 49.830334272563114, 4.975286138971601, 19.972526798165227, 128.98602526414697, 22.146342887237402, 14.515354872710159, 11.01204831407748, 406.08963004338716, 20.85918213076418, 19.855686513904974, 9.947207100477916, 31.145851426421068, 9.718296313276472, 114.04068375734374, 11.787086275155339, 25.48934325684481, 354.01975270783083, 32.14917909524028, 4.52458515043347, 7.856513413472885, 18.58166375955962, 909.8240096017089, 8.724919965071438, 41.05157809989958, 23.528502557559626, 21.42649674857334, 5.741499268577258, 27.422185522074855, 7.49811196042812, 65.59150682370996, 59.20626421110257, 461.9606938459871, 123.34397329171274, 255.0331796537392, 158.36435277335244, 22.92323664295563, 73.37042822381305, 9.369268416182392, 10.772116563576644, 181.0019248438866, 9.332042416725297, 8.149794229197006, 22.368577031733857, 6.993997334826637, 330.2781389139538, 6.423548156113845, 340.1374497504552, 20.921378008613086, 24.71854099809191, 34.54384131469281, 63.622903006754605, 3.6435011097951397, 3.89188708230436, 164.45276297349582, 59.839650740460925, 39.3139723624966, 8.050927013398374, 22.6948978366804, 7.786072505313171, 28.037884140646238, 72.04131023680769, 15.59268552202515, 45.14209636479904, 251.71658360078877, 23.57846657720525, 45.146282520809685, 12.246618275970215, 6.04038164624822, 7.436325408552415, 421.23274536860526, 96.91776579545329, 11.188253794734372, 10.453162884671533, 21.08160759443391, 3.9979071308498204, 10.712976656943232, 75.58199834144236, 5.11855003037201, 6.375651017643336, 5.4773398454549165, 134.2150041470344, 18.72873366307742, 1200.3971720239938, 75.24367641518977, 367.8425261706696, 33.830885058379586, 3636.2486486018124, 8.46318149845771, 31.994799925773663, 237.1928273042766, 29.402686311368967, 148.41891138451282, 390.15884780214424, 14.940937066742995, 34.245976152198004, 15.411739990764033, 5.191562301096006, 32.90955088246993, 113.13819361543622, 378.8676818296269, 112.46936289197401, 106.00334836605609, 16.736125594367472, 45.4776507863098, 12.811975565898617, 11.636525218077475, 34.95645502388195, 117.52157732508667, 302.3955086259362, 434.3121068947634, 92.11054458966987, 15.146585660310043, 105.70616517167348, 5.857168390218006, 4334.930111422212, 12.461613353229184, 35.84205480527371, 104.13534248830923, 11.996154131175615, 22.82946386935463, 98.4273121795318, 10.465731163402411, 16.513812558664153, 8.661655737291138, 86.67612119570366, 7.325623422046218, 22.277160586591624, 37.460771937048705, 53.190161453327924, 402.99283643311753, 9.01661096602792, 12.608176968263479, 11.602350792802667, 2.8860158830848537, 1.1544711292474208, 38.99990356265124, 17.916810204132698, 3.5037106864533474, 149.8179901381055, 26.23295781560503, 23.59214953658912, 15.163137936113095, 16.9449226732597, 7.39646320895322, 43.90217329979569, 9.793947810820661, 39.00050832534805, 7.106274494027503, 6.14844122869352, 19.84762301438347, 4.189963172177382, 10.9797369289187, 7.079576664471602, 30.94302008686505, 20.57817242730256, 46.27587756950908, 11.040437640727754, 11.755318532522226, 75.77986681323507, 19.90648184964498, 42.483178655038785, 21088.86427378801, 81.29640590471621, 364.3820895803544, 7.561535924402013, 19.138647352737266, 8.24670897472444, 11.336135386750897, 47.52761501436356, 16.22810375468389, 49.779689364533574, 75.86458443165373, 514.9189839839256, 99.31433977820436, 73.9001333243223, 7.123954729700965, 2.1655943504747746, 236.31358279859404, 23.74883921138566, 35.14718039135382, 6.746502372378005, 229.70796483003738, 7.409615825785623, 92.21210258338274, 6.150254193632366, 94.66186739719156, 15.66805958815656, 26.35079793367787, 12.75003793338246, 192.28586030212796, 19.976885072724393, 140.04625358471776, 28.544276586859453, 38.40159031043946, 31.76124652344914, 21.152394860878314, 39.415139134092726, 19.957940966958404, 25.72733669035375, 70.59076166156554, 86.82375686496113, 69.2088404325981, 98.6445346372121, 72.92061764712805, 19.184873250179, 5.605671191824412, 161.06992186225906, 129.45534473684978, 21.129879737833743, 133.61862558823907, 8.476425407989636, 19.40763670816577, 1405.2027938539072, 5.148408359129207, 6.974977461816907, 1443.1575901088179, 236.1473423501328, 61.65106368036316, 7.544981997678698, 10.601295223805723, 8.222971515243788, 1.8667596989623854, 28.706085153361357, 9.186232887819916, 3065.0891260448725, 77.20961507954156, 86.9871238609775, 12.296886449270431, 9.142714885197034, 14.781520687378254, 15.991491694756014, 24.232294712378526, 9.099244040377348, 7.518039685578755, 3165.8293142321977, 40.36701032281199, 8.221837181229148, 6.687259621508806, 53.52492322880383, 64.22269219894577, 9.542613656189252, 118.70522442716558, 102.4358674995468, 1633.4851548259487, 25.567157757968946, 17.14801159345901, 383.81039528804723, 387.62984085316634, 23.41727379749973, 10.221463624086704, 6.258625992959844, 8.357175221119483, 6.841874152213391, 12.693825329077837, 104.12026834958834, 10.653487557145311, 12.165567114304713, 130.36339636989462, 37.250093471346965, 67.67707172396746, 133.8123386500302, 52.69084840788934, 15.576682241129008, 12.2924172570552, 86.43702324150877, 288.22758754948455, 29.064614238246843, 11.292644369738715, 9.13545104366897, 17.442692112948762, 5.192631437001109, 22.577008515774065, 36.38467407988897, 18.76458368446661, 16.65083836253615, 18.613718076126723, 9.889147483375, 10.598128199853198, 281.07468946289384, 22.812053341628776, 2343.422898646625, 66.7107963511512, 17.15755035475861, 5218.110874291069, 13.854741863646487, 10.25901765306841, 1539.7563178909404, 247.37819775212466, 79.14905280998516, 967.4912205848075, 572.0776872221693, 6959.0650181918845, 9.13084051581281, 10.74416060743519, 11.052171900130082, 113.54754633312378, 10.092896864452007, 312.7099616839695, 6.737891594596734, 473.1014682964644, 76.29889234599457, 86.47729405786107, 239.5579570739482, 166.63615016766266, 9.306109052633708, 19686.830603723298, 28053.072915982637, 8.213966147110186, 85.36400379005636, 7.634094957442082, 15.88893142552649, 1807.9272327826607, 13.05150182770054, 14.542782294453307, 222.93004970043418, 14.874063629312927, 12.060052630372978, 331.0093442428708, 630.9523239968086, 103.97089334391191, 6.184814121527488, 29.8210836106134, 1.4784586308344436, 3.3576038327264977, 154.92167075379484, 17.20235712712447, 15.355706097657718, 21.288194558996626, 19.81594915471057, 2318.639828432386, 97.384589670558, 79.08186937995947, 286.1796343193073, 302.4185265935461, 4.323634207431408, 5.73004715791911, 669.2560707053419, 4.591724753092898, 8.525618045500854, 28.549612738038267, 21.58586607997351, 5.413001167192218, 15.077982571973202, 39.09384196601528, 1.2354058125353624, 8.34062433910373, 8.711642493082712, 1039.4629133594908, 10.0524569713589, 30.70875046628534, 81.0279867056559, 48.83911388521291, 170.4364872764599, 10.058971572798649, 28.630480372331906, 30.73542658857506, 26.357426288968465, 2781.9488060840667, 10.385685615784068, 167.72307780802424, 10.412746624485742, 20.305879974051805, 6.43774862651291, 130.94126156787013, 16.24086038224003, 29.247119808680075, 351.1954586474087, 25.513705911185063, 9.393265137859634, 7.212722633657564, 18.51141022769747, 105.41396662632255, 17.230857165371262, 17.933991907398294, 303.6754825841257, 21.05088658027638, 8.163542446402378, 4.360525734460601, 7.856233641206162, 48.70275068070644, 22.10877762367264, 10.736078724274233, 162.20238783609904, 29.04811592936013, 328.6285806987359, 94.23565678093077, 2.2297785789821205, 7.424124452451836, 7.1868002909305115, 5.146446018290683, 15.07060644907685, 5275.699848808128, 11.245584316713646, 8.863923574699289, 17.00040228622645, 4.644186335219535, 8774.810953891383, 10.895786974357634, 23.195368036181442, 272.536726023757, 4828.456826199293, 411.509671147931, 9.567751404683076, 113.07780919452598, 4.525492518490953, 322.1652847488164, 148.4681888945504, 23.329038554748507, 11.285842956867297, 1.3451819349259917, 11.714631982930745, 15.20400755124209, 228.59170275089787, 73.64869730685959, 6.117130669071385, 14.223846804593201, 15.194510829621985, 42.171226745475415, 42.7084120058711, 29.241165671313524, 80.78621368925837, 19.947153958474285, 57.11496306819754, 634.3350418024125, 14.688057047564953, 379.40079802103526, 27.009799400793202, 602.936882499597, 12.153377983841649, 13.681368411914738, 14.369377428062132, 5.522985598254854, 24.3429383384797, 2.930960060351164, 9.630729096210743, 17.97112354874703, 37.575935180729985, 11.556952725384138, 36.65150169269813, 6.457102537155812, 10.536192583550832, 6.229425286485867, 11.424706769808573, 451.9631417312886, 1343.3085228772761, 13.229589648777683, 149.05978278277547, 1.762026314743581, 34.88018647208362, 17.6651526135796, 755.4817695376743, 12.574986283694464, 425.5883681252035, 7.7919620094627176, 18.415633270647575, 5.90327957875226, 3.7847795288712507, 228.5238931596957, 15.843397666630091, 15.55351057293952, 4515.646937284033, 387.249992916243, 19.670654232356746, 126.41573084277617, 43.589796894698736, 102.59094959837425, 11.44126703116006, 195.49523592626426, 413.31911988514287, 37.206368332743075, 20.703363017172375, 17597.615140753114, 9.491757731385777, 4.355995523093584, 26.352853723205293, 285.6643288277236, 40.52315033300586, 123.54967830712417, 9.426659182383982, 3.889311006141826, 3.615171330530351, 2.467946505047829, 56.302634897738955, 267.3550674737158, 25.27893925710287, 8.853119126203456, 9.746513656456742, 7.530100443664632, 8.643537856177593, 13.671328807055254, 17.751019172720046, 26.11659956090933, 231.99815287195273, 5.3065945249472755, 28.806208499561475, 95.19871516778917, 60.343675624339994, 37.63651509717595, 132.96952113826458, 10.994386086266653, 870.5610432810587, 24.30787798550286, 7.710351879357285, 42.86275262492632, 51.57789523895151, 28.305162733544726, 8.891514805756149, 510.52429197542057, 9.526108365568364, 13.488180778036797, 58.88002501368617, 43.214639401368046, 350.64092173508556, 16.140608611959667, 11.485044553911798, 9.922091563546882, 5.69667130463737, 19.04226076832086, 36.25949345199792, 17.84123615171093, 39.8970131982492, 97.79946952571137, 32.3230692744711, 279.9132039706366, 4.085961422381567, 858.65405651481, 260.7336710790109, 271.94569134203135, 62.719261743931696, 7.654439275913157, 385.66876342008686, 20.068210696411043, 44.91409838068169, 2.292561088325701, 43.24456108083098, 6.539982837001285, 5.09905476039831, 117.71754261552165, 9.280810385942146, 14.523307434077218, 6.095828275269865, 0.42931050841088897, 12.658600458426589, 47.596507143961404, 7.127881171775016, 409.73380496327565, 9.900475742672825, 152.54393443486637, 68.85051616201604, 8.105479872725375, 224.02810117403334, 28.48351953009334, 6.3548541135108225, 13.028053977168927, 7.1932786008750975, 120.35744101189543, 138.4330997043677, 65.27911247588743, 20.651243797813745, 10.15046094249862, 126.75680859233961, 132.69167595881504, 204.41683993840007, 16.92227774973304, 10.296825269240951, 246.6201728051918, 22.08402964755962, 12.934675096526696, 821.2086122736595, 7.922841141502271, 22.256192239845785, 10.507611108601935, 12.713372017383719, 1721.8789250425386, 57.61048872798725, 5.149303206512961, 96.68539179023065, 15.710499603711288, 32.98244922698671, 786.5502081358622, 114.99191387611084, 123.19608734807417, 7.10625199759759, 12.803855697070063, 17.206999945614314, 40.89885570208869, 32.855946238328414, 48.20788664172653, 6.37887752162601, 10.581955960354954, 45.3738471946775, 34.26017640739525, 93.15455006412851, 561.1499833571103, 7.765339388112464, 264.27399256131685, 18.870821297145458, 121.23918935503548, 11.079606925418647, 16.19120588486074, 14.822574123692098, 9.144932062547722, 68.68152286497558, 832.4907680695295, 29.43073922798896, 11.757956622121716, 28.6603275904262, 7.823201258741812, 180.02770974285204, 227.08342454870515, 119.97895189064833, 13.390181919357968, 125.63229252965293, 6.665446963766341, 13.170964676444202, 108.4384157383099, 143.43867453164842, 10.851714204385475, 65.57847644862399, 41.392303082705425, 3.0285356130112113, 530.3075946568991, 12.889741597117522, 87.2918568246076, 293.4345600690373, 61.57138856451014, 9.046015904372046, 6.193803942175635, 28.233186762161395, 5607.282920396729, 114.630670494267, 42.721574880106175, 27.609806292114055, 160.43108634752846, 14.132198240173894, 525.7885146488406, 18.02349580387326, 7.418587776925094, 12.382999519337906, 7.335540861363578, 21.29190871548959, 9.857549672186405, 5.933034580682209, 15.128089951526137, 96.96265806909203, 8.426540131987945, 271.51035668314626, 26.53612624462582, 4.32646481340043, 3872.475883442729, 4.475277890018895, 163.101676461159, 5.956571235355931, 20.39801283413132, 7.975704338816452, 38.5406951320636, 81.01122138259021, 1.7074780214362455, 28.760369180220476, 8.990987883077928, 14.359976015196466, 35.7451942571499, 44.841372016855956, 1.8209924170393634, 269.93537062335963, 7.711332996487163, 13.54540096169572, 19.03135471661966, 347.88048384971324, 136.17213914644486, 13.505852229694025, 11.587808556735498, 13.345437179087924, 15.043336984373305, 126.6320627330701, 52.27369378824843, 10.792672818575287, 5.345315015362332, 37.751893461824864, 801.6139074092022, 41.3999851697928, 537.4726482812658, 509.95301962471734, 132.02537076956384, 17.354805300555995, 238.79390080502517, 776.1325465880897, 11.871617933941488, 21.297794355168012, 103.44655631948154, 10.198302057754786, 9.716412535526336, 21.627703351056056, 9.828992972218307, 60.88513200774259, 484.9878474971629, 54.44556030309927, 9.514579827955155, 240.1118436218355, 9.963429731444503, 37.093073799664666, 8.001500584195167, 11.005426949167473, 19.599107157526937, 7.487674012193815, 44.728072323458086, 262.44603303195834, 7.3495050315787624, 3543.5078287616525, 49.70149968856721, 20.687648994250402, 104.01418678970234, 7.3020120352302555, 6.050036832582554, 9.49514021637893, 228.36357533779173, 2.698275778947143, 17.24530166217479, 178.71484674366835, 18.5569018104331, 13.191035420561402, 7.473376860246836, 6.773646274311923, 101.76793421447223, 1.9851280553005655, 5.015345089610068, 83.92056446377141, 0.7766458010366587, 9.40218821608059, 18.198401579082148, 8.820100547993013, 40.154220618969056, 56.29541105310341, 5.100104705741643, 10.827697298649502, 14.508867460469999, 16.39078150637788, 22.937442020189206, 57.56804317785043, 37.37548838620344, 252.29848164169906, 104.96022245062683, 17.69370683506598, 65.440628166552, 61.055927175067126, 19.642050653536995, 22.43988422167541, 9.60400627688831, 5.440079381714095, 85.02731429875142, 67.65997798213672, 19.348462870289506, 3089.7512268272585, 8.622190367850383, 11.794527505023439, 228.50869404586618, 183.60291819349362, 50.628889136427105, 4.015674290994142, 21.67018178782274, 179.78029827298877, 107.5791192301879, 229.5201125198447, 173.1634470539759, 30.89044307206549, 36.38455009516722, 81.87327519961416, 44.23353083881622, 38.10759343890336, 282.2343767173012, 30.08266229875574, 9.427770423575565, 7.480633966395171, 14.045386636431953, 198.10166278586783, 10.620086811698377, 8.243366038546428, 3096.140692537777, 14.21532847160756, 8.951562575467161, 7.257263281224822, 1602.7653586496376, 1437.980020761758, 4.8240128676269585, 14.870104922421794, 15.3496014958255, 56.72167213754944, 10.590620382955281, 858.1863357359332, 33.79119471634051, 9.093719152495161, 10.951925256604717, 33.20654270301158, 65.12070496321122, 35.169107837725086, 68.98783172030716, 8.45539457234116, 58.07976918004175, 16.80081370332232, 9.842609089656213, 8.659108290029634, 16.72499888674469, 885.1799439922879, 1823.070202050009, 13.964880849959506, 247.78598049745514, 8.656791377124716, 91.76882308701002, 16.835597750727036, 76.20537805867646, 15.706135602062167, 14.179568727622703, 22.73785722305099, 237.43452752620823, 12.732082339910903, 106.61911330865608, 3.0285364729469655, 26.146746148265976, 4.781912033877995, 30.11515058449696, 10.160468957627128, 356.23562320436645, 17.313892924140497, 9.246557763620228, 75.97223072585466, 5.0098793523036305, 10.177714241370087, 966.3455984812288, 8.653154491948397, 2.677992535841721, 37.59604130760163, 5.205484850005831, 251.21029201280334, 189.9900072840296, 49.415790336077414, 85.41185857184881, 12.736669499093052, 9.302165766508084, 9.138392626499202, 7.159023101397334, 22.14821253615636, 665.4571124418749, 144.0420810412674, 312.5029734590019, 888.9110083966976, 9.442941891515064, 15.269717124789357, 126.44970279909573, 16.8154826777481, 25.31687733831728, 201.3455199213847, 33.492921527638295, 30.09728544926774, 37.44902742994471, 65.30668527606667, 12.354929374683357, 18.720058296003597, 40.329770687761744, 9.664708373829653, 8.65925213886362, 6.830052893274132, 74.12050123032846, 19.704706230933766, 114.1564061371034, 13.201723216014152, 10.90417261913221, 485.742877281955, 16.343632893482486, 5.051077671773209, 25.254026567408687, 6.8253557616536, 18.844235091852415, 14.923748448347938, 194.8438284716669, 6.849461820283323, 17.909560760238282, 35.224783519406024, 121.49424941244062, 1432.966001643191, 10.75898257934408, 492.5139630203019, 12.824553437455727, 367.55681833325775, 5.586111328207368, 17.78114018372871, 43.44321977212733, 2.781068218753845, 86.28044227171534, 10.278927781691342, 2.254694901078954, 879.4396499910071, 77.31197821712968, 69.00212209739935, 4.608263946998527, 112.71628470732931, 66.42337140619946, 18.54071318207829, 11.761180351522118, 169.99044785366647, 53.14112207253577, 5.383221818011146, 11.475354510656251, 7.096737948681073, 286.3842704495912, 12.361337861762303, 148.70775531092588, 21.0280087745755, 4.872640454893078, 767.0891341871071, 109.06348416422468, 24.950841277238535, 45.20931503962629, 23.299491114545496, 10.654288957425258, 566.8205051509354, 97.55688049185939, 75.61555338392114, 9.004936561087796, 112.97624053792742, 2.7911799655004255, 19.562112311661977, 63.44456320460164, 226.34380546447215, 26.54039243295337, 180.7342628698165, 545.7966033618468, 84.02313724860498, 9.409568284084791, 104.31886157514046, 108.00904907300729, 16.077860840083435, 8.724385339269386, 369.5816013044958, 84.83767469339642, 259.38805739476993, 565.506622422128, 66.58596706198469, 1175.9111866733626, 6.426257985896437, 56.53986005947642, 50635.56202385057, 178.0554663073086, 1191.6282043588662, 1008.5316826221037, 401.29352787584645, 10.61966479478865, 7297.393274727389, 14.939662206959632, 62.783461622065566, 22.434983803041987, 29.129258283295627, 139.87108760324548, 44.716047495367235, 7.706761284883341, 9.670606149789284, 121.0139852901988, 46.79232482303175, 176.49899842259717, 30.515135504750123, 66.66083137083537, 5.572059393756075, 12.70034675452217, 40.18780086629216, 66.02200726719238, 4.031140597918933, 5.0238943169130765, 7.503436559858862, 6.198033002433205, 286.0731987178237, 3037.7142903894187, 5.976279248600723, 80.21091542135703, 6.755656804036354, 61.47296866912903, 29.007815181227738, 8316.331649336096, 133.44248493524765, 9.031797749123639, 67.33086709312377, 15.440843777246807, 16.870366394159003, 20.92662956050373, 1098.2668054988421, 151.4147392896173, 24.634855855871965, 32.408609463327245, 5.098524523063862, 35.77601200546118, 82.18190549709809, 25.51740901470137, 236.28345345545767, 69.45525392151761, 132.78564612681546, 48.43409504101287, 41.33688432027705, 58.23584850504381, 7.618000568749673, 106.25194340803814, 291.6780736085806, 472.54611901357583, 1207.4148799310194, 8.852414665960705, 54.76349520752396, 5.774164346330918, 45.78600677686604, 11.434507521794211, 81.01838425041893, 65.90993859264361, 26.79568938550932, 16.384347598020227, 25.916454013924493, 309.0444390916532, 145.48648133588736, 277.8271960354933, 35.497318111760194, 11.596325931116603, 313.17348342564463, 12.627339984940331, 67.43420833178361, 25.34619162734081, 61.958382691741505, 15.280196831291107, 71.85194795233365, 11.063578197890568, 122.57622455326076, 12.123659784003577, 1309.4401421357231, 8.278985719658145, 1022.8938770657069, 42.37476561347525, 6.197563566145039, 2084.849674613938, 14.427026936514507, 13.259556910850195, 24.775455399102785, 54.71880995011699, 5.2127828561400795, 1.6421487069144676, 536.5177935177132, 148.21621535921085, 159.0666454750931, 33.90102773989658, 6.779234316588552, 2.4448507831254167, 35.0192225645557, 8.692049789550516, 58.44566434396059, 10.482436480758937, 13.549001447960196, 6.511866322311167, 50.430358929436345, 7.6274131417958815, 2964.9119256990966, 18.959593881009614, 20.806151875605636, 335.1227085749114, 19.300333597354282, 12.273292017136809, 12.994771272434333, 1061.1855050292231, 24.277121543758177, 14.742518025975153, 110.6583516943054, 54.59983304681086, 10.559702066084787, 38.35382602716223, 56.95264456091719, 10.43390182308257, 200.19519207932055, 25.51849763793269, 23.453906771609805, 61.64600623090129, 6.279356759391702, 1215.9137907106176, 42.311241567931546, 4.458335288694271, 51.70130093485702, 22.354127062768658, 725.532067981261, 70.40077765779613, 1308.461408017485, 139.92044795462172, 3.765466797455242, 186.56162241852834, 8.965135170564785, 16.773906032265515, 149.08861054833298, 16.074550672553144, 9.994344826652764, 7.545580707049568, 35.23727282784376, 29.16057923003615, 30.109717886022906, 10.898472842369559, 143.723714779269, 118.66498856211103, 74.9396284951855, 27.776006989486927, 8.014603528464745, 5.609653553769294, 94.78871832241782, 10.050992754257368, 5.002041587585729, 71.14921222562187, 117.07582684216449, 51.415663204245945, 21.368864401582865, 7.291345418928022, 232.65874804511236, 166.2179934974379, 30.500557044396725, 13.847135548326657, 13.510560871076937, 158.1432757047147, 18.417543578715893, 244.7976763926731, 15.589755298407448, 6.966997000082678, 38.695504178529106, 8.32566600627844, 37.840424687191664, 16.586923155676697, 24.359976547194226, 17.810273786416776, 322.54135346307254, 59.068441492137765, 56.3593411640833, 33.631112021257024, 14.9960132333956, 36.4401983905039, 15.34590891698846, 57.938638831061716, 69.9161790341184, 26.70920828018714, 29.351469964177916, 22.607721401260598, 54.67555075768086, 25.065298276062578, 10.061377074329004, 18.097139586388565, 9.702813588376571, 16.217293885350763, 11.63176480716281, 0.37556042522082517, 19.496622710202004, 7946.624987841237, 144.00625004331224, 0.6168836581290045, 10.830926676097839, 155.08524215121685, 144.00541488515867, 19.120064215058882, 13.541378297233035, 8.39170464447365, 15.725536938545797, 67.99802745570047, 19.570711242044617, 5093.105181857312, 22.69027754762341, 5.7808205934336545, 6.532299132657125, 159.21728636495732, 20.263987528160104, 358.72631513441746, 8.46087384757861, 81.3821956585873, 518.0142980252737, 14.231395109597264, 73.68072216264562, 23.87046734146877, 701.2202900528979, 41.84311954023027, 9.01252505428756, 31.243250442817214, 143.06610668496054, 18.06829386215655, 5.63831474004043, 5.78905426013345, 42.36283123203251, 25.469074867265164, 1.031631587263302, 6.056358782733563, 8.071121940303513, 67.64342914887082, 50.534252347183134, 9.15555037886354, 36.92835839602278, 125.3024303428693, 11.750831649358078, 35.717500798074795, 10.744168858493195, 8.812503513059383, 748.2664803492153, 27.65807814989073, 190.67802420404402, 9.013977447676032, 7.489610004610429, 5.090889307899926, 49.29114120212261, 80.1937266287767, 14.249107986404494, 6.454861823720532, 20.95275656022387, 23.45623551311042, 20.571844843558715, 91.5906809573118, 29.313682468812882, 8.737397319064772, 41.612123018535485, 65.93933663527908, 6.282593147489405, 100.03678242346575, 4.848091446747506, 6.057174680683638, 153.55476792400083, 21.91689210893561, 161.97222929631474, 41.23414346916729, 7.319576481762429, 8.953261152998431, 60.435794316221354, 52.888475537004076, 15.306020144288121, 33.81849065102384, 11.123477609935023, 100.9400014698806, 639.6599034484435, 166.94698422832735, 16.518274023119787, 11.772668137397389, 9.43274893071894, 5.596273553836973, 43.34229027355828, 26.553723112636238, 18.30012814254446, 124.89086400143798, 10.132508110729813, 31.332450726203163, 17.1596053821854, 30.37484501588472, 51.93316979764198, 17.65378842280724, 764.695838338879, 10.9098748045887, 58.90451140271423, 10.026433709377661, 7.611855509165278, 5.398872558247123, 120.99036079120778, 57.20698051298965, 20.12035072400367, 1.5865285509173344, 4.690090581228743, 63.239571703306524, 3.7528425758942623, 4.090710673222752, 14.68277185505383, 24.708831700204616, 29.777459272920588, 13.789681035245628, 49.44162474731988, 14.58317042333231, 44.05657017330624, 121.29906820990462, 22.668173724792375, 30.650064266388245, 36.70210129259311, 48.02664063846219, 31.798732058073558, 21.98756038438786, 29608.733001412722, 3.1036659820960226, 26.990671681352236, 11.496879404582755, 6.712464064586853, 2.7464603141846227, 8.549666983329269, 126.46814917776953, 7.106930583151917, 156.31216793353101, 22.588074927408158, 22.94627532150693, 15.709255468492616, 24.942615213383323, 171.57418701789427, 507.4097553458149, 129.23103908135366, 13.297540904589377, 25.160663102648744, 101.6825694735184, 175.96752467221643, 336.54423146896715, 106.03291414765577, 4.201662736944068, 10.103551595157235, 22.970419017972482, 31.36304461297962, 20.321573016616288, 13.476117960100284, 79.0952946898578, 22.653529473259482, 81.65994779690458, 30.143163564510143, 6.2947288006350135, 113.48271875611654, 13.545147866143118, 8.167698961501555, 28.04183385466364, 90.5381654222075, 70.17612612004321, 6.987076885917106, 12.223154746571117, 827.0661411862096, 262.0328229638577, 33.507552321186076, 88.96338012797281, 1255.7707627192756, 545.9703756059527, 4.171483041199514, 31.91094631361925, 26.607813231833447, 12.9339249332191, 12.7215837745734, 7.627385327410465, 37.200337884052146, 12.310492923088047, 26.18396142949981, 13.410383450268421, 14.536804403427558, 11.323992177815486, 10.09404306560005, 3.282969470117146, 29.270403733498537, 106.87507949495166, 788.0274789389355, 289.75816318270336, 2.4880703797037094, 75.40927206937086, 12.005891338489446, 114.85490258637122, 9.555633882391534, 1289.6665177765667, 29.14137226167354, 103.87316074384401, 20.001683250598305, 14.004021754472861, 22.23720643052408, 1283.8213978321896, 16.724336514295732, 35.1122893925229, 170.78987653057882, 8.752923978949964, 8.769426383961477, 96.33730586367129, 309.1628484397083, 68.81716792380091, 23.581494318896176, 263.76772994789746, 17.06527058835576, 7.5411281874026574, 16.435473583386546, 65.6144141385984, 26.608442720341607, 126.09131453021821, 7.532986524539132, 4.697482635159804, 25.357759124327938, 11.438376544017464, 10.25579845846786, 25.21475690065725, 9.700838187365449, 124.19193588249364, 95.74445641473815, 58.08354835115703, 8.818299183652359, 275.39096342971203, 32.267523887485375, 77.83982752603853, 357.96310132697226, 21.831880230987103, 23.076070331643027, 17.492837192936808, 11.891461853359212, 19.747767511811738, 30.89189823958923, 9.65877166691995, 133.37622634260455, 30.544171409919798, 9.809117143824396, 29.90037120034683, 73.90756823820776, 18.91513269716202, 5.361895792887949, 39.63010006110332, 167.37898204545203, 15.566149327980716, 191.32537681566393, 30.114960007042246, 46.137612584665085, 41.61256878454806, 32.33191888569965, 9.955355317861212, 29.86459449386041, 43.76089021075305, 33.36952001425368, 13.889953428728862, 17.14844364832096, 33.463758744163, 11.463666310727978, 8.763185948524217, 91.0273133284403, 2083.78010362702, 171.24760445507818, 8.149306035964202, 16.083780064891357, 227.07941578415173, 43.627813691080675, 14.912785984538301, 78.69175435151232, 115.99375756635416, 15.20944622892299, 21.600730403852193, 4.411413451090064, 153.1540948953855, 183.51416804501832, 53.22192046733699, 70.8673712621329, 10.568167557303324, 148.31739267974203, 104.68933674528235, 125.53700528573737, 17.334280507213762, 7150.289842112162, 22.788240324960324, 491.214143178861, 102.06094681312915, 2909.546776746721, 475.2329188911279, 3095.2611882508168, 387.28392975690923, 159.20734509136668, 14.717102846232741, 19.346777059942024, 0.6081876447292593, 16.98034048270745, 5.17062618497278, 47.44897449452437, 8.939826464104307, 18.035993655223425, 11.433130186316507, 40.025494659636074, 62.77240471487557, 39.67790570349675, 2172.518805768498, 12.399954274105774, 23.838056469518317, 4.52828696657353, 8.773862315131588, 5.554179971868816, 61.755313285555, 32.22478173554363, 26.672563910753926, 17.646988514385114, 339.156046224492, 6.1518699370012175, 17.577888054314336, 6.946905333505416, 22.24393048947021, 132.92045968225074, 14.301910956553108, 69.94262668734737, 79.38559481274538, 139.55044990967434, 75.22250440087234, 123.94296403501275, 16.196380279284668, 24.344632617828427, 38.879311111004206, 24.825699657572542, 25.45519816995556, 14.88239198208563, 6.0231449270011295, 17.442268488325396, 6.17975476422021, 13.611831379096802, 26.608215851628476, 9.089812632969487, 21.463351500161025, 20.675113537324595, 7.169482642787615, 8.956650669251209, 12.38694345801422, 9.086415486118105, 1158.0373681448689, 250.0230460256948, 217.57087734121606, 15.664870065679933, 18.32991426220395, 25.76655953726028, 31.605460301562182, 41.54414620344234, 56.05882374890157, 336.29571648651057, 10.454477732350647, 373.295968367401, 45.2637022575051, 403.5914185660031, 133.42232573191413, 6.501555434383995, 123.35933072785895, 173.78387312871482, 6.893857932533215, 3.6801200040322564, 4.3539018081536085, 4293.955897007172, 35.21557949592034, 14.749056087023314, 37.60202302177995, 21.12778435237313, 7.893946264066651, 47.8739145108323, 5.622704860843701, 14.568329346184072, 62.46386132645841, 56.07126671125294, 100.89948379384519, 40.21375436786512, 53.04623515168398, 641.5645399326834, 74.56121953395618, 55.74282126149651, 6.58797261291161, 395.48057560784525, 251.79558433748952, 394.2851524729773, 753.8092552443236, 101.66336380477239, 113.68520885069205, 24.125597430591373, 42.462722766414224, 14.129305706776135, 30.89058561122995, 6.786880114858976, 4.590267781492257, 18.16133540413153, 20.012115016256708, 53.7623066628997, 5.536463730772951, 7.0371616513916715, 8.861322285486505, 7.868727844914332, 9.690970436562608, 19.022108375118396, 12520.847696679599, 21.414012924895406, 145.30860804291066, 14.46747276305535, 1.9156600555713543, 14.275538448510488, 60.677510999958244, 301.9889888863196, 7667.483525971129, 42.01849153984095, 17.240147424554866, 340.7747477027491, 18.670689431387462, 187.62896074973207, 10.676853052641645, 23.796095449680376, 11.12308922918466, 5.533032922671883, 84.262550223854, 31.7480983810066, 102.34964923721918, 5.622932679760475, 5.5871195864469065, 115.13317619641258, 14.950536185245122, 27.468554063157423, 6.498079826002085, 241.52975362829312, 67.6920236635234, 44.36520482564319, 12.33964344818522, 43.27815040293314, 9.97917096532576, 16.247583199960697, 19.659734900751467, 12.34717919537229, 11.24700613867068, 12.066884499541866, 18.964032566639816, 19.939351345091545, 52.297114000145804, 8.22648935280261, 6.381212319939622, 11.0549393094591, 18.341582723830722, 189.56958861559332, 11.712080537312731, 81.86391595239719, 32.556253776897464, 932.6790341601578, 123.24367250688861, 9.430957365207226, 9151.215332692564, 10.66423377053155, 377.30768341741515, 9.483697289741043, 24.2192318177898, 725.1125875159537, 30.877210144759378, 19.235650130643897, 8.607459854791925, 17.02429713588124, 16.990527563664028, 12.8338326701071, 11.989670502408035, 17.45399945847865, 20.605919713241356, 415.62708818213537, 23.055328771100832, 13.170077414803592, 35.581164824348555, 7.218847892620215, 16.63836232785397, 100.67978419788531, 8.093158530048255, 48.3579874925128, 277.4861698099026, 19.229197571248093, 2344.4263706675115, 56.81619511881203, 173.28085097158984, 10.514443830228947, 12.310862525852764, 8.634384165506926, 15.811343585361637, 4749.10396160724, 108.17807116325748, 67.53508214463459, 126.4323442406165, 1148.3609868160868, 16.885178467466886, 24.350879997389864, 5.93848895964039, 42.28124945127842, 19176.98710635755, 298.8383637092573, 40.29891931202335, 99.28447072005977, 25.379943104643015, 55.938670044903574, 2.630877468450516, 23.739506091747085, 8.352625195644169, 27.46714786919832, 13.137509586652307, 25.029474460417585, 164.11298158853032, 19.15116728960612, 7.325675677789774, 7.084872974880882, 158.10263525921553, 390.3568102314501, 15.514834312185627, 13.796476346592772, 7.126569525189952, 6.195776838907887, 10.652547676845037, 580.3279476547713, 11.880118872717157, 253.7323990416717, 1742.8532907892152, 113.45008112540611, 3.8259141685657383, 10.164112889277765, 18.72273098433799, 63.78525890847906, 186.383003005973, 640.7024946253047, 117.85304715274496, 33.26099231655671, 79.93208966688094, 18.490984515703982, 8.06925955409579, 19.27772626605815, 226.5870167391932, 12.645399785912922, 30.396531379429092, 467.1155780515632, 5.1044145336045625, 1.6209884119819826, 49.92656199120107, 7.935981659453893, 75.0951422648806, 42.14920713513309, 12.40325489686033, 0.8958835866803387, 2.3844807133434767, 1.2154604767065307, 26.08880478739164, 147.07925474790562, 458.1371890850258, 8.303251756068857, 10.80271614335503, 22.84165184838556, 11.977575346530921, 26.285360528084745, 8.77561973419701, 10.972686790983285, 171.55035627870416, 726.7564475234999, 96.20171068991412, 1846.2338806270288, 5.48185156421, 25.196915604885202, 135.43634998202327, 25.535937684113225, 333.6529759318551, 21.15704406585013, 15.826618803596048, 54.42966435295916, 2573.9404468080807, 5.966291271950131, 3.454095919283202, 9.317848952223505, 1283.046652094236, 68.24426859821729, 1731.6317906622605, 781.9286694407028, 9.794106943075459, 7.081943309509812, 47.64327643025037, 88.44596899058989, 10.140584983435087, 135.43974069054897, 78.77601555294224, 68.08972207799764, 5.174088865028724, 252.1583079980958, 69.40687426373228, 257.12145185341, 15.49107521399843, 17.347966205332188, 39.86109598815564, 39.45873206947918, 19.584583288584817, 15.065260329000013, 97.93307334537104, 11.128571589133475, 55.29437701433734, 458.50128533496724, 1012.7255937544405, 27.36051564468695, 49.63727039738845, 10.60567418689206, 18.766316545852803, 25.672351738197765, 354.3681573841427, 14.339300633772256, 228.68833850320843, 45.70479254339669, 11.59432317470123, 18.886022759712407, 16.78388652086082, 5.8606862242214595, 7.751912536378897, 10.417696629931717, 11.160089397133053, 2660.3978681417593, 31.820960019437692, 17.355373506819078, 10.085737551713182, 269.69153866817754, 48.245625943188934, 33.093867090575266, 46.00802877850061, 6.941507191688834, 54.425134489020614, 21.298145389609935, 225.03921966058937, 9.454032509843042, 20.438236608790877, 46.93331174732186, 217.21884552861613, 11.323935360554307, 106.34670075641586, 189.43581750096212, 39.17837892532042, 22.171883360682067, 24.762346700123675, 124.94842516584225, 6.291454104233375, 10.217028215032782, 56.52469186364317, 6.5684068935458235, 4922.298670935756, 4.925860197870946, 0.34268781897647577, 210.35313277446357, 145.63232305398304, 3095.2651936908765, 8.715137592754214, 443.22348368485467, 10.679094485643741, 10.114769174977065, 10.827673910227233, 738.3693452204677, 8.084497981162325, 92.93379172272347, 12.349766428986054, 376.1986477978043, 30.334664445165235, 1458.7845333899083, 244.3108982141003, 19.715803880479005, 13.581152226982605, 55.42577274567745, 426.07079511734236, 31.762484015656824, 48.06022703445689, 18.41629907031583, 17.797647954848262, 16.776029213747627, 100.44404055112153, 498.1772942514879, 5.813003160080239, 6.084560558723223, 275.45150634429206, 28.08577518198607, 3.157632737484365, 20.906715076470977, 131.1407902007334, 3211.5347757916843], \"xaxis\": \"x\", \"y\": [-5.888900114656894, -7.546210888367207, -1.4355857644820198, -5.186498853908883, 43.09999842253182, -0.7072492888922473, -0.0007400372690296578, -0.06470854464785265, 35.32223606158952, 4.897931912941962, 36.37149539063819, -9.233026950490583, 73.89161765861277, 48.24804248715508, 6.269712478544705, -0.10740209265281782, -10.069892411544956, -0.33359294921742844, 4.109215424182337, 3.2097051290086296, 2.3877685659384653, 18.22321422035715, 17.850352030324053, 13.261979500299772, 38.487288480463626, 94.0726382872276, 1.7387342082317774, 39.70757588926891, -88.68630599399744, -5548.920281832359, -27.848810025878304, -287.138418940827, 15.42635472189797, -250.09546525975867, -2.5780896409638685, -9.244581234599549, -9.056536483257213, -12.582259036924823, -911.3981742720432, -27.772535365000696, -8.886671935308845, -26.849677563646086, -20.509969495184375, -3.6167865515601236, -48.276659592368055, 0.058702889522652034, -38.38621993349656, 11.522694571848138, 3.9609196298146583, 37.09670482606716, 4.129147199637125, -3.8435875003285056, -2.722925970877675, -51.0204509845256, -21.570874399111396, -2.0218932545939756, 2.886048909013879, 101.8610570037883, -19.608170041168382, 16.637183632041854, 36.309257999142424, 6.445122400801746, 8.514697428291178, 18.809120800383006, 59.33052558742327, 148.2659636247102, 73.78708960884649, -9.13492249180506, -9.146857255498341, -23.3536763131241, 212.8600289782472, 3.50587106126893, -5.846395778104964, -18.855489773896863, -8.688175074210966, -5.360586283669463, 0.9603957614530659, 23.187693838282133, -921.4488564384133, -1.4136784196043606, -40.03927717998835, 3.577499489189098, 269.7975770204361, 0.5794906226561893, 12.550027960702053, -4.155824848829088, -72.48053437211739, -35.063523511060744, -0.697043566220816, 2.6281483174611604, -667.4040268986711, -18.35203458987061, -3.7808776232207353, -2.74174498452812, -2.0182891491549517, -9.261232552949693, 1.138641934556199, 0.18043265790043808, 11.461262377994165, 178.07792313125393, -0.17703829270356955, 63.37380698431721, 7.534388803562526, 308.5103316057764, -516.5849237291267, 135.86605987752583, 36.861748389937304, 4.093850406975552, 19.461979947674365, 106.0790142787662, 3.5536654643316576, 356.5365403045244, 116.52929000808506, 4.390134532007619, 20.60174176038859, -170.6435651807209, -16.72931235973015, -158.08984383141654, 7.5771224221471805, -19.304051328086803, 0.8322445956820903, -3.8176311818627995, -3.368582341964672, 1.5741756524166977, 2.668798299887442, 6.799258559063805, 40.08425403851497, 1000.4998946697897, 7.717097088072824, 29.10799083294701, 11.531877718402612, 11.410171782632853, 31.12461033181588, 304.2710465158673, 27.249104726747234, 57.00237731568212, 7.4947034379222055, 20.88396838824379, 5.693395800072997, 7.21350073856253, 9.474051370759176, 7.978498916185348, 56.13699340971666, 41.00217389988065, 36.231559435735335, 11.971709706998485, 54.897179356340246, 359.2724728322962, 177.9748213951585, 0.03192442015688019, 5.382445427364016, 3.30259881224432, 1696.780304081098, 78.83158622403577, 26.632598733320474, 24.325113482199946, 21.086521249786536, 8.330048420297748, 105.52414543893097, 9.180049496473606, 79.7389001982593, 1.4608231546069241, -9.911691429454741, 5.3376802034059985, -5.403944160257138, -41.45726990078708, -70.66732221670871, -6.550344409407252, -227.6209035149246, -33.03741147534338, 242.7474399151451, -9906.923781068876, -9053.21853389819, 32.1504767164284, 1580.7070612967227, 69.01003169608907, 40.198018229867806, -1819.1045243692122, -2.7834896904325155, -2.9729206942248094, -19.490577303257393, 4.285856652281315, -10.015098862278899, 28.10604102146624, 3.609181330867377, -10.191108598034681, -16.360542079657, 378.70683713405754, 3.923692121298997, 3.2541076984833883, 1.437305550947122, 189.42883652913727, -5.971497739402557, -10.072135914143598, 1306.509616693896, 410.2089884189407, 59.49662017713415, 23.403283307498732, 176.2439735750502, -7.2227580953393415, 2886.5355435442793, 4.536680014987626, 48.54893297352535, 6.511648284644431, 132.4956881546396, 6.024969245154355, -6.491949825046113, 186.45980354330422, 8.04706494625755, 6.455325414679852, 4.392789393544814, 228.0993491086697, 2.378851598095147, 36.81752761049242, 16.86437976506407, 82.84675593721656, 262.89162922106203, 97.38785838854876, 22.233591988229005, 83.02379860130056, 1130.2414222577036, 50.960948912841374, 63.04043990181758, 7.602058624523278, 58.88311674119373, 2.1875849152053535, 16.8446990322884, 9.373623038192344, -2.1958679249451225, 15.767493108831205, 37.13938376105631, 53.697904387328315, 11.434074068602584, 28.121416398874196, 7.460339524091505, 7.664083522673291, 76.18295625165055, 53.42894325557042, 16.292683943787395, 48.79371550865802, 7.372372065780473, 36.95728869322778, 21.363422637325716, 33.48568691920062, 161.06322960137842, 408.2275181971569, 12.679914419907808, 10.942015454862455, 15.677623459945742, 48.83205136648831, 28.96887854731135, 5.145308611486633, 4.882798835714627, 19.72604850386408, 48.429896409606165, 29.05859300459243, 257.98624933599996, 110.56005218869724, 3.5459505841726364, 12.48381683330964, 23.269322150479148, 23.7475653714033, 1038.4202452094667, 10.74220745913508, 11.174947096902748, -64.13717541266804, 1.6392785230820788, -90.94713921549214, -7.010156631766377, -2.2572227818471675, 0.2665870977708363, 3.075458862658875, -13.47209933308539, -77.27681140979725, -58.99511388294989, 0.48233334768044916, -0.7257366069016954, -157.68187446098509, -27.01231941575903, -6.125518183609461, 1185.6064973319567, 6.904091146290895, 4.704234093759619, 16.81574215887896, 10.144244479120813, 1.2562822104491955, -2.989710552893379, -14.876472981654704, 0.5090582856880942, -0.9113227838101795, 3.4396568402645644, 47.7353102438565, 821.650066410422, 4041.0004381194026, 202.86012492302115, 18.516918907343623, -5.748524458440513, -1.470453109767598, -3.041878058487542, -5.535211491994251, 6.457048723869762, -25.09686680748893, 162.54946475423793, -63.663153262187556, -4.253958775863112, 8.724830313013468, -4.970733889496365, 8.465933786842417, -35.58738196729854, 7.101861398914161, -1.5185762902978797, 6.510835674959703, 257.3144486725309, -10.703277757304098, -1.6919866009615865, -7.226388066431265, -526.5985993640207, -3.7529595737400245, -30.225844198014855, -4.674224221002859, -3.1152151846697267, 13.3312026702703, 17.106246467584082, 4.553197225025027, 4.242760409067557, 8.964834124629173, 4.492003386886968, 37.01931294453641, -315.8543911568087, 104.17595125522587, 6.706821503242995, -0.9930428254604481, 0.6530002404812222, -0.43630790825871407, 20.666464356101105, 6.444831798373505, 23.35801329633542, -0.9044227909237103, 1.2636337473401387, 7.989023519633633, 11.25360827461614, 8.154250230932577, 17.17655123850133, 44.70350981606768, 24.97180841645864, -21.645856761196672, 1.1358487056632665, 12.993302235274339, 151.14203948442204, 44.11955174153649, -28.33114656874877, -62.73080278452108, -6.26379788117159, 44.2455826067721, -7.666298711387573, 64.30978724392962, 0.5181961591439243, 2.0608085971086854, 2.5501669812870182, -130.4223153776709, 4.041600809412329, 3.0811960627178574, 544.0480795765928, 5.753008305209668, -75.10243382856412, -8.344883146551833, -1.6807053876203257, 40.33322292328031, -2.4054623866574234, 12.537976896950834, 8.459536267068984, -7.826676749049711, 14.80531998356408, 9.060204679517167, 501.02148145254614, 6.233135414651319, 9.59729001465892, 456.0386363786514, 21.109121437950396, 12.484976618541776, 3.9639240771847106, 12.946975683750182, 10.667690755793496, 8.803252418978122, 55.583598052112265, 88.1673098514521, 4.361526177212796, 21.927850631099307, 3.861115618928299, 14.351055205340197, 41.59554403596277, 82.93257001059796, 24.183212215161138, 16.545274816468385, 83.07026596419149, 314.24261690630226, -31.724787608636408, -7.107352748323676, -4162.542528151491, 1.5251740361812944, -45.84239675742623, 11.18604877713897, 117.85782018368297, 7.450928773525767, -53.28223758575634, 3.712684659715614, 10.214893163902165, -0.47882818982128067, 21.291662136329673, 3.38159152463122, 42.398824101653695, 75.93823487121439, 13.890990889284867, 43.33140498102301, 50.19085292641001, 2.819999845087796, -5547.809593949887, 82.9658231350239, 2.2990286551908916, 9.81802642648559, -15.836537804354824, -1.3227458821557427, -2.3763689296599866, -72.94941651446253, -17.2061842317728, -5.6886372645047105, 4.5223050166602174, -24.10870764362353, -2018.2721431969449, -3.899357245082762, 2.8702729577444113, -2.0887148423775814, 24.000809749138657, 289.20922982181725, -201.7315803727227, -7.439321054434024, -16.142240790356894, -7.437386635224818, -3.690753479582136, 4.697076578976071, 341.91215376570847, 654.3476260338682, 7.858616739691808, 3.926079994317531, 14.411073799010335, 4.508443815679465, -1.9227817463594554, -1.6574276008335178, 226.81549365905096, 19.787069535110987, -12.171744888641049, -3.7321012523045236, -331.70793585882086, -871.0055897027388, -5.544624490524519, 7.989499702089941, 4.252186567930803, 3.664140557979122, 0.7267574528342623, 7.78813334765229, 6.77255115742271, -0.5659895137991104, 30.16393196116744, -42.585001019841066, -21.925920511176717, -32.1835671826395, -20.11049315103524, 2.4374341437679172, -5.487585376829841, -16.383054075232664, -17.929758684080312, 2.407417159733991, -13.290915062303064, -144.44864561607588, -18.889709184557486, -14.88533338739521, -9.318635306508398, -47.331005827293616, -2.019333820087126, 28.50463713411681, 76.92288615294335, 76.43139146745963, 10.544098775095458, 5.239270850781426, 30.98036260731479, 4.959181771924011, 9.980412352690587, 7.1247621186309145, -8.713917132671906, 10.233796861619052, 7.018119980816355, 10.40326144932846, 1.6593692309005519, -7.742153170498789, 21.6234948623373, 11.725867524683279, -14.860637519153828, -0.3735859962803348, -5.641806315823522, 0.8211505038699833, 0.9729704702408268, 17.89191135171568, 16.59991639943111, -293.8872807850553, -52.5582944110775, 8.144388271522564, -11.549878636787014, 9.780664150690692, 216.79925001512058, 31.198819076097386, 27.19816805101409, 8.601433794701633, 2.0387718338766305, 20.21906065809466, 37.200811142132316, 407.20842078659086, 2.0896696773134558, 15.040460894091447, -37.596483069073834, 1.902640376085385, 1.1110976331754723, 19.106944977050787, 727.0220771285094, 8.774773151421506, 12.264208144128437, -93.80138023089211, -14.54568789434688, -61.603165916391106, -31.23053945178564, -8.66336323149233, -35.595778545284325, 162.47126241880397, -6.081969499630133, -0.10935733889217189, -58.23304222176097, 60.42313904503217, -9.354762332303933, 8.910452103042337, 10.077226724414455, -8.559703657348361, -10.67733868205037, 4971.154624934799, -8.568007072377489, 3.5128789000380616, 2.2856401677809366, 95.25528928755244, 1.1344097758447222, 34.56533012500765, 9.139565852213003, 3.511440205523448, -217.74608663944605, 5.750733895846194, 28.929131090158073, 2.354945087983939, 179.02408827983123, 348.1677410383547, 136.00982125377314, 4.274909423689717, 17.26169523273099, 7.446291810832636, 586.8435796108424, 1884.887872293599, 17.672961897537256, 32.74777628202814, 4.965003404461213, 14.77999193359545, 4136.175660353431, 38.58398103445373, 14.185270895623946, 53.6499272835093, 1246.7251002530456, 20.381454114694712, 213.16312035329614, 295.5335869305439, 13.506876256747203, 17.564387687951854, 3.485465049932452, 13.207906886648377, 32.22168038857149, 4.4195435030712575, -37.42536936951842, 17.540815615939174, -3.87706988227891, -20.954670578169925, -3.0419671322732, 3.6189960626650786, 28.284331379782245, 11.023055235669819, 8.106675396730354, 8.297828558430764, 22.615072695277128, 4.891840575261516, 14.650123905688123, 2494.009784250741, -17.575266295252256, 552.933056473801, 1.98249905032422, 39.86103544193131, 8.042233246604766, 9.984724801837423, 5.010442986787748, 3.442798054827721, 17.87315898303609, 82.41763780972813, 7.972209260174387, 11.25609380089362, 16.69286825270308, -2.388544479507348, -1.463362869444226, 12.473913109998797, 1.3740764106009342, -54.42231166021527, -3.7252210023765926, -4.860375849526642, -3.527306969191566, -6.502606311775025, -12.783468566823055, -3.5739758490921165, 12.195497607250447, -159.54604175727707, -2.2469011051615784, 682.7557569629396, 10.248984208706304, 8.444103097148597, 8.582038208129447, 9.839084328480014, -4.8020069374709795, -8.520645802122758, 8.942699885202963, 748.6228800805952, 4.828227338561319, 39.0450524455103, 102.75559668924156, 289.6940639289912, 105.62728191249747, 36.386378652547094, 3175.2438009336206, 62.93828834377728, 782.6812452078456, 35.76516520361205, 4350.662121603015, 1.1879924805944881, 31.5416872183922, 7.393688552437304, 84.6860441823527, 6.148318625629525, 16.9023049977764, 2.1914062895900877, 9.045346822340745, 7.327330400110995, 4.196350035758307, 3.874740886713068, 92.64276621741666, 10.126179392790975, 5.144508273647477, 44.71851089493697, 5.046038853163589, 3.0519097840308778, 26.177213698090423, 198.8713697311304, 11.779707782958132, 9.04025664054457, 2.9849300697677696, 18.621018157392072, 3.7188750427826243, 1729.4933685976946, 63.205234478484954, 30.94907677833233, 1.959589570322045, 8.098564389199105, 13.236218896210696, 59.22440800864662, 26.18343224421114, 613.0893785710383, 31.975023312876854, 116.3858045005499, 1.0932680793000316, 723.9369626132692, 10.215872214555743, 941.7135419657925, 143.81115877087717, 110.53893840064534, 4.777164487903064, 125.23496036372583, 42.180451791729816, 103.54565444986962, 151.38875511040214, 37.38496355572977, 2973.2037257432817, 503.4580739860242, 9.233262884099647, 68.76193538890566, 81.46018199111958, 30.3971366926163, 2.6070661551469883, 10.833282523138482, 55.9881387739527, 2.3671831897576276, 3.29436520853297, 13.4852914928822, 14.539960879925335, 10.12620171915183, 5.484558949223208, 6.505340714144621, -1.9083417827712092, 8.743154763797492, 58.26706719807938, 0.881082107498007, 361.3287626304274, -389.864491208661, -2.3362723537022747, -84.25509575397992, -13.430913861508946, -8.235334601016621, -1.4128522039245144, -73.87303166119003, -4.398458197254346, -2881.478020000615, -3.9746372655125293, -61.91856474224549, -7.648879851634655, -9.296959385147149, -8.189057121883318, -8.539539165236462, -25.54800887830804, -26.208682148034853, -5.413888295588432, -2.7668471952179754, -12.037397548700977, -6.669240073353532, -9.472514453407126, -5.260212865304422, -10.618704653982704, -13.482238393335571, -9.54344088214851, -16.405888559595105, -8.036313405157056, -7.254146191092832, -43.61424679907451, -6.086232227676193, -11.418546739698591, -86.99407010196424, -54.142946743173994, -2.8077476088369893, -8.703879199957232, -17.026722119117196, -28.625672943886247, -1.697720250429175, -15.530373095698081, -8.026748441953773, -135.01146865228063, -19.602634123317824, -8.940362031197536, -20.336244316984704, -4.504631715624993, -2.1064675186314843, -9.954975784795383, -20.07929898199638, -6.723240701716467, 29.458341400771285, 653.9276886004942, 50.51596597653714, 12.433943312132604, 145.79394396326285, 33.01230502460438, 5.16331166721064, 7.526652952122951, -0.7438753113927943, 6.693685343658689, -15.38868440770028, -34.673276476236154, 77.66283074997372, 34.47618287754815, 18.266203151122372, 41.394679608172176, 9.50194606632872, 661.794150062329, 1476.4345749624576, 210.85460032462498, -5178.05985890016, -7.111423679050429, -36.462867183099725, 3.0530598615807096, -5.951814492544242, -1.2480028438174884, -10.608221756025706, -2.8530679040935834, 134.61626727844637, -80.21335540752025, -1.482454540957941, -6.81272188363313, -23.41744896903855, -15.646930020838688, -0.993290717168651, -10.473797572579265, -4.339272061630984, -0.2572874160730895, 101.93581012055019, 10.157635991311865, 84.75512129679565, 9.549806727254705, 13.778152558624235, 18.679402882746512, -3.688857496240382, -356.1709824080397, -6.571382648161019, -28.252744322337747, 48.04608372217592, 54.89639908830655, 278.3902939584945, 36.88039205084041, -28.133856717790213, -1.30244978988492, 1.0237306179271448, 4.5330049858037285, -3.008326685260984, -1072.2136372764364, -2.4053801132374177, -551.6711499018952, -635.6084599214126, 41.03677896266579, 2.20739958977214, -53.140643174856706, -26.926786280135346, -22.166952422364552, 354.8538333722199, -0.31904137659274284, -7.115058404946665, -10.11450461937957, -1.47394071401486, 0.8101776740129225, -13.631901176256427, 40.1181750228163, 76.7464903514637, -102.16207213744148, -2.904325372455914, -8.552058595874243, -8.544373642772243, -36.73812874502368, -1.488713820279924, 8.117154783219428, -11.294953428956086, -1.0784973983716872, 16.35701258945716, 0.4916514278532223, 7.232202394080469, 24.014746475868357, 64.58705553111758, 52.40933563788701, 2.55367022665159, 11.054197303975293, 53.02409972472866, 57.692555628596494, -3.176744643952634, -20.19844205813283, -21.91811288745202, -8.00572417057135, 5.876569917969381, 0.9085967910141268, 37.129629392462824, 80.1362739934998, 7.0237938924983085, 107.47869154288763, 7.115544317407857, 4.484469001555047, 39.80378131966145, -56.990605339983475, 5.129883791514098, 107.18295475012656, 4.046766568454733, -1274.5679752792869, 12.037799090179638, 5.627690155670036, 25.099211613919344, 16.02061951556021, 4.337775240557433, 95.21275566701235, 4.327599183971379, 33.178227637023156, 21.143884458987223, 1.3665683690414878, 3.519034635095824, 175.84914647259504, 571.5939658118634, 212.52505467692777, 3.3894775865885043, 22.97161036438236, 23.706236109493368, 15.31003799347666, 10.949608217891214, 7.5667278144879475, 146.62491323158326, 15.005056253060165, 14.755183747787997, 15.702610296473988, 3.129770953782683, 43.09302465049167, 20.316925546253447, 33.749727504184065, -7.547121382554704, 5.906519089027775, 71.75116660878219, 11.252864722699856, 23.005909949992034, -19.39716486434534, 10.469272402406304, 590.9791291100413, 4.285284740085351, 1.0071434176837257, 73.86803030993079, 47.901714072352206, -8.742891695917791, 95.00559138996572, 9.712953223062968, 100.48633672872882, 19.87517877862213, -5.010370097714227, -9.107715770752892, -9.547041955973159, -49.55749867840743, 136.08138764062807, 14.003919911775043, 33.12462803293159, 383.48429990590023, 8.239623523266816, -286.8935589709576, -5.326924327461227, -12.302339697115164, -23.75803561055505, -2.118222689346535, 429.1250944754514, 116.7362255638678, 118.39447686838466, 4.96330237803356, 151.1354010570546, 13.967597508032743, 19.90781187436791, 580.9941709378375, 0.7417160279663199, -9.279033168354077, 69.39660602037755, 5.13931800212997, -79.20024698065053, 1.246244495825788, -7.325326180887972, -0.7583081720854846, 184.3172798771832, 5.18282233800295, 0.504838791179256, 7.185813277334788, 8.831726469837124, 17.710745158032992, -211.0101779691179, 64.2036561564508, 30.608175272968825, 22.255914233377325, 73.28933454533444, 13.164239899203194, 32.686507270953484, -312.7137198470146, 577.2604840794638, 14.197500727292491, 107.10161668581348, 23.105738873739362, 4.3006996020136565, 2.554154076952522, 57.690841208880485, 331.98816527602287, 21.137571665652725, 5.1107988264844915, 3.130122680254813, 153.30500844702144, 250.37158330626806, -1.301936488123646, 50.7977594915751, -0.016481889540242385, 52.40327796716854, 19.68423318309163, -17.290953772843093, -202.30168512193322, -6.355328117622247, -5.720120136075317, 1.6230324816793678, -0.15454432067975643, -2.293560270737233, 7.194341369531248, 7.773434756569334, 127.84197701720718, 72.9840809685617, -1287.618240609313, 2.4983286134362497, 6.058126209060429, 120.03080122816269, 4.642596626198131, 421.3705985653733, -12.284517001892397, 619.0236629908202, 7.428151833250973, 20.48641414269271, 9.110608631664322, -468.258701991757, 6.862124651869414, -12.698832856897097, 4.468707114995359, -0.9492734675682506, 5.69441588415222, -7.7153018409296426, 4.827267627557671, 7.999301430182911, 8.837021240907482, -178.91512314574618, 5.636905585315748, -1.8218444899183082, -10.23508567810287, -1.2713185783618532, -9.181682856789214, 44.9300624465147, 29.27112631484026, 133.16642111657686, -1.1640267991462114, 7.143740016752451, 1.2716036649956108, -127.42323753494645, 10.967537311305692, 6.143199062043331, -36.077608064767006, -7.739927790476548, -25.46378770682352, -2.2383126807509908, 10.449295859998166, 114.00518796083203, -47.33636155590938, -397.64788771985377, -41.56077307284158, -4.75947328866101, 1316.2694865822589, 653.790309119794, 35.671181207435865, 67.04563103954474, 17.589466319176186, -95.37677594440876, 13.23102906535955, 26.444002076487017, 13.556239950933707, 1058.0358682969033, 1956.2969331990337, 163.96621949723317, 380.7232901903973, -0.3324308408768096, -3.8856253827531884, -4.294987957689092, 1.1642175197936744, -37.30215128374446, 2.0429811366687503, 45.99300536123137, 77.0730750580727, 65.98681116032644, 1082.1963571260376, -4.0706884393407, -23.94703010808404, 44.633987034500045, 13.992217796673554, -2.323167576631188, -1.3527451821561591, 6.948627593067406, 6.150749056309641, 47.962908205897726, -281.6414243929509, -123.3507176644314, -2.241644661776598, -70.57161234361041, -14.526697559162645, -2.7714983337792716, -61.886014160336224, -1.3139927401007647, -6.342801596914405, -37.687739424949086, -1.9291322765963135, -17.49049517060585, 2.0385925190134415, -3.4687756494931197, 132.89415880830686, 3.9027991987051314, -3.8480324400178554, 2.2998035657544635, -267.2233699402793, -8.201497768741417, -4.449727716986812, -12.062530232642075, -14.006190526533114, -11.03851906208638, -26.908226698893635, 3.798424216196146, 1.685159463658036, 27.753189668575608, 24.476385439407597, 22.670115059777647, 2.6182587531465886, -13.497394233136704, 3.0644410341625874, -48.57223829816475, 4.083728145721597, 22.80980569294908, 13.685203184282663, 209.13956010348957, 138.25830855197742, 45.675851896883465, 6.130526791139721, 2649.073445119786, 8.200102873042391, 4.4109673351748135, 0.18008440677130436, -0.74954639007706, -7.269488463704314, 1655.25165930269, 3.1736878108415185, 198.86685447767022, 10.361959269354447, 29.567388630998025, 6.738925995100208, 173.27609946375026, 9.79948926824128, -5.196422997239577, 4.070796600627845, 32.48404009821591, 49.00703385748046, 9.940138642592089, 13.065908979091228, -4.700072628163984, -30.58616165500658, 9.40696525265803, 0.16101901900369134, -15.290373299285246, 841.9842941820417, -14.13056955800248, -33.23514241123668, 0.28146881490022596, 1646.1313522021005, 104.50797198096362, 32.88651226160201, 13.886584598655647, 5.9279543654389, 67.22381393599466, 3.4586025870884196, 29.737431490036638, -17.147397418604257, 56.522664491555325, 24.75277916685641, 10.124964532679533, 0.2426566712314724, -76.28392981146635, 2.620196076895756, 31.913999255275538, 105.19702549285066, 30.651548661395147, 8.159219109760775, 6.413778612566173, 60.81402625066959, 20.753505468972072, 70.52407402642767, -4.591919130550871, 22.403807348070316, -204.52274713868889, 3.361526918445765, -9.852412739368223, 113.39464448220443, 83.78118131375531, 11.027252762366349, -14.057279499509846, -43.924611028947304, 28.145664843530177, 10.88879970491522, 6.738548819379749, 25.999792430341564, 52.80484508899093, -1.5121607499340053, 5.585457401205924, 9.354208326013817, 15.01566452750679, 32.01933964326735, 147.8299341779298, 0.07919985621423553, -3.10371171757609, -3.141364321121136, 8.503778516219306, 10.952843050551424, 2.5185374230694486, 117.76677221172442, 11.24955560335025, 6.620198765059621, -1.2133304683730284, 247.33078207521925, 17.05678907160695, 71.49379052768559, -12.281627416317685, 18.19202146775264, 20.745878044436758, 44.932468093007664, 34.823247888600555, 87.7585457249027, -2.964184126020331, 2494.2848589370433, 153.26581221242634, 474.5124432888504, 147.11229289478624, -4.776928686133036, -1.5522193753661497, -3.143206834685078, -16.917683897401762, 50.852080439701886, 0.6899879209793637, 35.30017599836717, 3.4546759245729994, 18.050024216184028, 19.515462250322642, 23.53367948180193, 61.626284093479164, 33.52366476490184, 17.01813110982779, 101.671391351571, 3.7431429781481507, 457.7647989478066, 24.338884236935357, 18.3241830036705, 170.58447279737712, 22.031513694742902, 22.661075529396765, -5.6898336538615775, 9.602301024675304, -6.571050115482159, 9.713430209543032, 60.96733685239884, 6.499950645413157, 4.718759696473788, 15.666345634121383, -40.12075258257146, 157.5640761752077, 16.2229116083823, -7.565087039260042, 1506.5463915431037, 135.74394853682176, 3.790522705585738, 10.024519372849541, 24.420034943556175, 10.62822770991012, 6.18954729052792, 10.19893822431444, 45.64661435944847, -0.08448847538450162, 4.826728858735551, 194.00811175783872, -18.90696692765428, 2.9462686545489194, 76.96369142819538, -1.6792902610929985, 8.008838370393741, 4.715869275045978, 16.8954357270514, 64.81451388953045, 7.89169126692974, 5.967728215674657, 7.484398850468886, -21.940151899429903, -49.78890803220395, 582.468009842937, 0.47038274758714127, 2.3808647913894045, 77.0275744288758, 51.69071990635772, 6.040973161949238, 5.293410522777194, 7.378564685616182, 46.36089527626868, -6.941091187861035, 35.872859469723664, 25.52912887803623, 460.54126321196367, 15.509149957719732, 1.6342508383420546, 4.155721463898732, 373.3237625839075, -7.183436650815404, 5.5712340994108365, 3.0528924091834635, 42.979539729655485, 10.730124986586308, 7.09483685036814, 1236.3657262744637, 7.412297445775432, 10.221087065368952, 11.437933942466506, 9.339102443803421, -8.619583359069484, 6.24707045465277, 6.495892462795744, 4.568794451002382, -11.62534071791484, -59.47543085434399, -13.917673064673883, 15.068868224761575, 12.274766706035829, 0.06849444762992671, 0.890019649659502, 55.15836498689884, -11019.64567305278, -13.349855171760886, -6.558171338039956, 222.80133310376556, 29.419994396736637, -107.83171957369086, 2.7464723664347073, -965.5301733170753, -692.3899757220962, -63.31785220623045, 676.778102871961, 256.9931212622633, 25.24384466895969, 12.454349964366811, 107.17388107255584, 9.70034293517918, -10.810197522775589, 127.15054403467396, 9.271295339601673, 14.779438692500145, 2.2639839569224143, 9.506326677818462, 5.711637829398771, -26.84268772547631, -6.829942715845221, 9.423142822572432, 51.72165400498139, -25.302818085449143, -7.013784107891014, -8.318690138159699, -25.82758191885789, -357.76470054957525, 33.970634017852646, -9.416286403847003, 5.637519920872453, -4.136913787631241, 78.12045758927538, -7.2815316553896166, -7.150998213909385, -0.055133972917379724, -5.149058275036247, 5.3830254234704125, 39.27134273344798, 64.37983254739396, 152.24686106352237, 13.16698258650952, 265.00165417652636, 5.410139502477269, 41.87284800019902, 5.527870808863201, 1099.8964480718523, 133.37930828415253, 107.3038210135165, 134.50785613940346, -8.466892242622166, 3.308641195218975, 14.920551014068879, 4.948542758570098, -8.11066207378807, -1.9216625483226544, 11.510055538145654, 6.724299765323053, 7.149026909724475, 17.67275025431297, 3.8409089869615727, 25.847838714603952, 1.3278923740516568, 47.95487219199568, 11.714451979725778, 3.334028217708738, -9.012255762781027, 22.21886688845665, -3.722443974082727, -4.9386317505973, 2.9071282889390693, 27.95402482882075, 25.914585517135357, -14.174661555641524, -9.727475162830663, 0.4966143981567513, 268.5811040816598, 18.607666722587673, 40.59130389600797, 107.0858145366014, 328.57976108558563, 10.179512412604156, 44.92440225132074, 67.02294726328323, -384.54861362237574, 13.909111867227855, 3.6360321234464843, 208.33261239628538, 14.967396106496023, 7.953314034280003, 533.4038087916313, 49.90706069523111, -8.843590835264148, -74.00626092752162, -97.05049776729912, 8.156731393691837, 2.6370442362135837, -7161.547023345975, 8.999673585611637, 33.283478299392826, 9.14243262401808, 28.26135773036184, 13.72996753195466, 46.44804773116758, -54.237998194535784, 4.613588931522611, 13.144646637732919, -12.14633897805277, 2.8637104230519146, 23.964986778658904, 12.431057687622324, -0.9971541102200547, 83.81554692700541, 10.083824248845142, 119.4993906444426, -0.8223570771707084, 4.696262471093595, 9.427753547721855, 7.946753129271602, 15.579876156764204, 11.570751323054434, 11.541930882203497, 4.713646782925455, 14.368644367672257, 8.92811643343368, 37.4654192029517, -3.9062789703272607, -3.7269783523864284, -19.17077478134406, 7.021903822613446, 24.7969454707251, -4.105539108646434, 113.52217797441938, 1742.1088832486275, 619.9577481117605, 35.16960601834054, 31.15494405768489, 57.97033749654388, -32.874428046104704, -300.3819203417212, 141.70906523063962, 69.09105608554736, 48.19902091624531, 15.078920454911401, 8.455168481568705, 17.563815056840834, -7.266366850565158, 8.642114806917586, 36.622992016977555, 286.0202905599657, 1768.509600723304, 169.6653255918998, 55.192829106183844, 228.37816841450734, 0.6274014428456844, 271.32686316684095, 71.80037274373092, 52.66450346870505, 45.60264980207974, 13.219199276840598, 30.666262422482145, -174.06573507063257, 5.842619211074331, 8.851503181888999, 423.84792707676394, 4.539449736970696, 11.078046450288653, 27.77336776145377, 1.8558582448110097, 10.047282733048817, -1.3023464597402619, 200.91931979488365, -44.95944021601046, 312.756194985673, 132.07638882223722, 1321.9049599354264, 203.7526855394901, 19.854301815505767, 228.86685851676253, 15.68774691176936, 2310.7813263897187, 1058.1375006870676, 14.833538250163482, 96.05670460327546, 9.821366990376578, 185.24134209256067, 51.37077676729618, 77.59313191810932, 13.696889481759776, 12.214043897625398, 23.126363832267426, 1161.4675761449423, -57.55761869975914, -5.337074087886606, 22.269197441868606, 642.6048064358698, 8.797697537110775, 14.85987088482136, 4.084105243775468, 1.7747939250496678, 57.77305137181407, 143.78661689104052, 779.620869364358, 16.387152598850804, -2.8967867648448107, 23.91801152212072, 12.832175471290709, 8.859840873203932, 486.6484480043103, 156.02701401378945, 3146.325573929518, 230.6882096053747, 20.535532945896584, 41.71567809722866, -67.42934659076764, -4.853407188420857, 19.466981365163235, 34.32139479028122, 4.166125529100923, 8.192592695495751, 10.818309138783848, -7.282199899930751, -108.44562433931875, -38.652250452036284, 0.6612661307478633, 714.4479531948413, 71.9714856948933, 203.07169010620393, 71.4993103271298, 9.223571916591926, 9.452650121872669, 7.128187315431629, 4.144071457226488, 33.88593442779067, 40.256027957684815, 26.841125106785174, 9.71782842905134, 459.5249231851722, 94.07493738265578, -214.6443657205505, 140.73936589631194, 15.268181454420127, 816.4733271604978, 97.69049533138302, 115.08844547051388, 87.19446474438443, 293.0792685347376, 13.753362989781872, 14.945843609704689, 6.941150041888084, 2.8044545314426403, 9.500776092785795, 9.860250150305044, 5.136707504748705, 22.463228574172895, -4.214070103677244, -46.35253487219461, -3.1286825806185212, 35.28858992098374, 3.4005599656855168, 13.784339383501202, 35.10054186323953, -5.338370158108698, -12.525231307866042, -77.22876663708047, 9.646497906109468, 46.7599068702206, 11.195796554515718, 5.1636041898855245, 30.521634098692484, 0.9751142989168395, 4.603502164004549, 10.327646186960758, 11.796942318675693, 4.570157100604079, 22.518352093943534, -3.858236612898684, 45.19120748441983, 5.409423940878131, 314.4893975006027, -0.4360516093449747, 0.796947248433347, 6.3202486241358535, 358.2838946577195, 93.27405000479817, 1.8052283326298102, -18.439417567657507, 1.0301662607754796, 8.195722919025128, 5.9691782913543205, 4.249411760908081, 37.15705939029533, 9.92591939108559, -2.9746596581746467, -1.8947571401823367, -2.1032582064431655, -2.1544520705450942, 12.814880971024577, 6.031361208313529, 8.144542383910043, 11.151664378323671, -3.0562216795706734, 73.00504983079664, 123.79887281258343, 41.79375619601567, 51.641454038094324, 6.53726504254367, -3.721607280852414, -13.040326864126351, -6.950352914770007, 26.35408707804478, -3.44912733017891, -0.9733788125667618, -17.027227580724837, 128.70943201289438, -5.90087924630388, 21.32691973010238, -3.404433888152246, -16.59247494296054, 610.5613472984228, 3.973775666623777, -8.17870434980618, 12.669149153577436, 24.781558444793344, 3.6075035679276977, -7.388393124060067, 0.002450146079953688, -1.3401373580336144, -4.607603808032555, -2.2516191265014736, -6.67083364112835, -61.081397514857386, -4.356265591573484, 5.858573367998267, 12.231813193647255, -1.7824953587985786, -4.405756372488256, -6.653474807324868, 242.39095755377005, -52.50349429905188, 4.329911801535807, 11.089309632901289, 10.02265074977096, -4.779309490584042, -4.243198759163132, 23.978427497608422, 7.3810525761034, -7.127867920450923, -7.554486170966946, 29.15409767536275, -1.4211244780979184, -72.83386854693478, -0.024050998644682315, 8.287234546806117, 70.7318210828726, -2.256716389817534, -1.9358884174465547, -76.67980311767364, 6.158412887801451, -32.457111360581045, -5.345396352547423, -3.6608445205288884, -5.685504480731032, -3.6875432023207644, -10.971565448484151, 5.2633212138367576, 11.827591286322198, 22.631226963849105, 1.9335057645803588, -25.246666587954948, -6.359533146710449, 5.25334320514253, -5.641930918702, 71.80728150243522, 2.66583741268761, 2.966188923298628, 13.565340621299155, -1.8466990240988823, 333.5765772496237, 29.51450685213948, 319.28143942545825, 0.7902591839190061, 6124.861175795978, 4.348910407464078, 13.985363799292344, 9.578330387115109, 10.13112553743867, 6.416241301781869, 12819.528012008244, 25.30250269128682, 4.416439710057853, 45.8441608844946, 14.177092864771682, 2.6391162593334565, 8.894127020759559, 44.347811185391734, 24.782761040103644, 2482.3203329864614, 613.9303239245071, 6.340181916325318, 3.6571421763602374, 3.134685211566041, -25.092517572606376, -5.183601374269243, 7.714823847748358, 28.656256624496212, -4.4777009286299565, 4.451835266010764, -11.290087349990293, 79.56254126039046, 19.25972290488299, 5.172810920455367, 4.270123226401849, 308.52653423539874, -10.850570043604835, -0.4367079133997157, 5.850066473778389, 40.647980120364814, 23.718770197347048, -3.8765341322201285, 22.771895896416364, 443.30489036431186, -6.161962706156253, 0.17496558269050635, -10.45434213758293, -10.840582937683713, -27.633334097138054, -24.751988396247736, -9.178457691314229, 0.9219596108659999, -0.46079938715577373, -1.053674636770703, 49.57429851389313, 216.6926573347219, 10.075482124119754, 0.23003114780885944, -13.099028391164044, 5.0966378875129195, -37.56853254443193, -5.327675400398316, -20.98793817789431, -6.712495608621659, 5.469231966970694, -95.13689603462595, -4.932789057442615, -107.73545430431605, 1.149234034076409, -3.8300690015120145, 95.94904536095378, 27.971382326811522, -111.79777357777738, -339.5304253941999, -6.660523178742298, -63.136390318670756, -40.023730869427816, -9.227202820062947, -8.641519336900332, -5.1135956542838965, -19.08754163313426, 55.88727532797926, 5.804940329404218, -48.29971540755334, -0.7472831001605779, -102.75096305217617, -7.264806328341881, -65.61976291799034, 38.1860063938531, 6.6882595562750256, -2146.2854519190946, 1.612322473577339, 3.777691398187736, -0.1127986950107633, 8.897642294052174, 256.83037762614674, -19.224310201928265, 7.409017645453849, 3.9748217223541933, -2.6349413930763044, 6.059663995896185, 2.0682948012364633, 14.660715367316064, 6.43299770771103, 217.3050046398062, 9.758690920005257, 8.384186269867815, 18.34188784311967, 14.591201214480602, 7.733826690369054, 80.89516242781868, 40.17710423192056, 14.527905228706853, 2.9763409516502777, 664.5241230589427, 1943.6022189608486, 211.03568760110505, 54.375967578076654, 10.714558304372677, 17.944088223002645, 115.22938053291898, 166.58188260458084, 22.981698783793497, 610.3877305484189, 5.561606974440946, -4.73671921545087, 26.03894130219847, 37.676519156882215, -74.78548820502922, -12.686348930626153, 3.3130878781289885, 75.23755200561723, 2.953400981147316, 282.5160139169241, 6.706760625584018, 97.52479304614893, 2395.7975594579916, 5.298755537309058, 4.405726171966155, 15.094667861375157, 4.046790700695537, 7.937392391445685, 36.142810010325604, -0.07664752100024841, -0.7879221285101226, -0.9218297587088333, -7.995941313574813, 10.285921884205402, 19.04522949810391, -5.002175583117134, 11.11449696988867, 2.7711755458439957, 9.704021289032147, 14.803461467068669, 4.533601286676364, 20.38655189197246, 26.573050144726473, -77.67336791846732, 1.3475178943660147, -1.106745351100742, 7.5277138184402475, 2033.8992692517345, 5.774703109666922, 1151.1092391730706, 13.274891250619216, 7.786975112765842, -70.7960947855969, 131.04927769895286, 4.473837006754995, 132.90339913066958, 12.315245038046653, 174.2666430471683, -1831.901078234947, -551.469730273313, -11.195034217668853, 866.7654726083704, 2842.7892000003253, 3.5698696585179195, 32.143736419690015, 11.15324055380064, -112.2276941302252, -78.46409770993613, -0.890991792324835, -13.09281503763116, 110.59738997664951, 53.91695176670597, -4.767197839776958, 7.802229017392494, 21.084738837910656, -1.681910852802851, 84.68441801436263, -6.247636057490337, -674.8291866456234, 46.857551472345754, 32.98150763562324, -22.505204708501985, 339.43460534885986, 244.09688256993277, 16.05958484091535, 309.10938518483346, 13.37055749922066, 73.40410664893474, 62.494369664525095, 89.51017390067958, 14.428235520004261, 71.83855505966852, 389.93536940435416, 68.60871337650147, 324.93958157085353, 46.227356478168446, 25.23881628179911, -27.516678948417656, 6.271659345578085, 12.450131200012953, 29.76543960954277, 68.09731078254802, 102.85551494564257, -17.83208715614189, -2.814614053799732, -0.9802031934151666, 0.10080966976060644, 17.533369837138284, -22.28976964665556, -4.012989601075219, 13.077105491551212, 65.47699370752784, 4.166394968198921, 8.76697333926896, 15.854476850011967, 1.0768900640019228, -0.3189216987647152, 109.15054227924438, -8.448924351129776, 25.288697386395754, 53.4455141562504, 20.650943184969595, 22.436915854679288, 271.51422891338086, 50.83752926984069, 61.83779501521682, 5.107655517868922, 17.083828928820232, 5.158602761509296, 181.97629811698533, 295.4250341749389, 19.617296836835497, 7.979111549702132, 6.852266582754818, 1.7484783417017356, 11.25178274311569, 22.297586246576362, 389.0501019468253, 36.818127198049986, 37.29105617024651, 68.06706041066305, 18.43495781542389, -0.3554013007420643, 11.213710021382182, 56.14829878140727, 21.66999459890126, -0.8606407541383977, 1.8328847361777034, -78.40840671601836, -5.406503160770181, 3.566411032414156, -2.9485082114085577, 13.914635839274515, 31.60532679406652, 12.073297403054227, 40.650907208076916, 15.659142161120961, 5.284080527548691, 26.097533065365152, 191.66365722458409, -52.027052286996366, 14.727223318329385, -1.7842807058005266, 74.70510095059132, 15.101163313196523, 1.1121583272231215, 7.013081567314367, 5.974538499483065, 6.56858106542463, 3.4123261300694647, 107.4819320145346, 1.8414519843757142, 6.8424179011729445, 4.135217540301446, 5.36888617652479, 4.496098274202425, 6.808028369866531, 3.657137029712377, 70.45497739111262, 263.81879283749106, 11.380359554008333, -0.2799525949372837, 2.231808072854266, 46.72324364001509, -2.7460490946933263, 501.3784263210188, -2.7358243840534264, 9.396729228848242, -9.094058137964709, 52.21200752932066, -2.5352104102482476, 4.28946259121057, -1.7538062352807682, -0.9494917167000416, 1.187661363913558, 4.595128119595239, 267.76908645538845, 9.237150216319382, 4.031088935225722, 19.38674850585666, -3.487021062482548, 8.113425529284626, 18.00286756809053, 8.962449212272377, 7.164711665481666, 21.759135376718767, 13.45946830830173, 45.9291302883511, 20.0439398504109, -7.528754825410414, -2.5060930425498307, -3.513153760506544, -35.084074651975016, 42.12606942257675, 46.569679381849944, -9.664174011237002, -4.991107591106556, 19.834343133868792, 7.731239628046429, 10.365836479693291, 36.51838016787936, 98.2343671748419, 100.53806316433709, 1.6667636831000021, 444.29804626111024, 15.964246952180265, 15.56194572723296, 77.62337927369069, 22.47441702554367, 3.333668855351311, 15.00999316813614, 674.295548840249, 3.9591568100165575, -143.23965525331673, -2.523722953007839, 36.436093834461026, 49.70107399727775, -66.03684489731185, -42.84836020387676, -1.5887531627823641, -0.41712543401997537, -75.55114269244655, -36.85823569009378, -41.95972419753452, -501.5724006103985, 33.21842467435971, 5.055595844387917, 54.36571720342626, -8.812515122879445, 19.608113182914, 4.414369792229859, 32.672834948383866, -24.04407016986126, -1.2350376475257054, 12.407874488844442, 48.91727788379165, -5.29689939769051, -104.48575758459953, -7.557687394108357, -159.95286766986436, -20.451741808699936, -116.97438564436314, -44.426405206132635, 15.929317650022089, -12.640521546351346, -11.011709705635358, -9.126996487993681, -54.55102761205111, -15.539281857833604, -20.789624947540155, -21.923582191503897, 12.429198201123153, -2.848624751091031, 27.159108417962898, 14.069188924556325, -10.965811993481427, -7.00239191953114, -24.143447228424595, 2.427268110696322, 1.4493430533682465, -18.674203644294344, 94.80767371974724, -4.782533667416034, -2.0776242544225796, -151.736630064439, -8.938292361086742, -17.65746266729335, -3.432434946347799, -49.19319890683411, -12.698153828926605, 20.81631784034391, 124.94689422337113, 34.22809702836608, 7.905755811930604, 32.62961402400091, 37.40716744136067, 183.39288621712424, -4.738983420478899, 76.58607141509312, 14.578894605137847, 116.11504210974736, 806.8405377061255, 50.73116893501433, 30.88116502020408, 68.3479414248987, 3.14807574232232, 0.8454179653000812, 671.3790760060342, 13.224474193337477, 11.576072616317285, 9.91547292301841, 843.1099788025986, -0.37279581693903324, -83.63029778106375, 7.7783204375508275, 31.71175710317087, 2.0490413999544645, 6.521420806945817, 57.34150122191137, 3.874294504677828, -2.532103462291586, -0.6775271470985277, -1.8466717188130752, -12.472863999516132, -5.232435734120901, -23.973673688957447, -4.039645354380092, 7.380098463955469, 56.949715850414066, -18.098147267455353, 21.681849453960435, -3.0122162992207517, 35.418578036538555, 64.0380528981045, 25.054390712258122, -8.301170324279267, 4.140250310853027, 40.81798312409532, -88.53238606968021, 67.68199741259713, 198.2137496368912, 345.76425607019144, 179.82118017407674, 11.686592580379374, -11.925678556903243, -20.84558737227855, 2.5393180807208426, 23.02736727469752, 1131.5157873382643, 22.67595686548011, 5.266788550758489, -29.37509918248927, -6.766680748812983, 1237.0078171401287, 143.4349604759557, 17.571507627288238, 7.344075750441878, -11.892633144366156, 26.244842982198566, -7.748600987874193, -8.178178223641707, 8.92578490833291, -1.9889129274425505, 1284.066428060393, 49.78516659676644, 18.634834946340376, -3.717362377653705, -16.006860210710997, 16.93720346887269, 101.51630957401153, 36.222696079429234, 6.926900446450135, 11.901400590926603, 21.186172235678775, 8.199695879376307, 64.2802804365176, 34.138800869226785, 7.798274919136421, 17.66111191481797, 7.561053406894831, -26.980953709756687, 6.168953599537812, -45.27119453984649, 0.16863121048813198, -4.963382654056268, 1.3286496037213515, 12.392840165851403, 308.2670567855372, 168.62630537256294, 11.786879491677142, 2.0799896447938986, 2.234443188548843, 5.701940702319214, 1.557256981819352, -6.5977060802619265, 35.63734046049481, 5.084764763378352, 26.017148720653136, 42.87849912873579, 6.907744125329038, 1227.6378808246563, 11.140767469399213, 14.804025245972511, 25.31600450966847, 5.73324560106986, 12.449921005174241, 111.90972321203051, 26.469299212033505, 24.565813918836483, 15.310855172269164, 49.845261545563396, 5.8307825803922535, 12.09888841972123, 5.971433828228615, 5.621930676603549, 31.128652895690916, 24.593454849649717, 556.4374957509074, 4.263347896595494, 90.0943831431748, 837.2411602948495, 4.947782663628504, -1.3716131794405828, -16.6129650169771, -215.2254333573958, -7.853179220431197, -6.698776090228227, -14.182907197329525, 2135.3447843652916, 1.6987001326012803, -28.0295190174837, 184.72741093386952, 37.334601443658244, -8.127889745251222, -4.637618119830921, -48.7117055417858, 23.342601273746286, 36.81523353787448, -2.2110082734468683, 19.684969722756357, 0.9267046053683673, -1.757949717477249, -0.08781519691257778, 193.10250429726548, -35.11579882176328, 40.22932335918868, 1.3366320739669248, 67.76100496965192, 566.0399868954704, -54.026228698762004, 36.194242512599324, 38.85987643976123, -3.2727241957781956, -4.219591854570358, -0.2953604977583791, -3.4970397472489414, 121.93352363698769, -14.347944837721183, -1.3530739113117656, 108.38179072834049, -29.430325916087593, -19.01788272556457, 290.6791084332849, 1735.7350359780246, -10.480159386734316, -5.006939202322145, 12.084490116408114, 2.248834065491747, -865.0234494202175, -14.560603058666244, 3.359496641417252, 12.924828608913487, 85.23606349728716, -352.34034099156844, 39.418473182047485, -17.38708107395485, -4.136217386191059, -13.524102761543938, 2.2332114206245532, -31.645798159226864, -4.575677402086163, 3.276666942295947, -12.446155876572325, -2.535534578069006, 3.722501606203805, 88.46993108875951, 8.793309399244126, -3.1995143812527456, 1.917697954123533, -7.596124462533932, -25.021940364751828, -3.578285088621645, 59.98418394647692, 440.98257164408346, -4.7623355118410515, -9.495257328612503, 931.118365380832, 13.890344451352153, 13.849421439970968, -0.7255148646673137, 0.6076979395222192, 12.842221449562494, 142.06687950887175, 72.41743154020209, 38.472035850707805, 284.97193247911684, 21.186614459353265, 1.3476588893361885, 6.64963748870976, 108.29659921055395, 1.4863837175356764, -1.9916199111593753, -6.252538590260517, 323.8041324989981, -9.801292935397942, 6.5301620999941905, -0.14104398769051704, -3.07727081141559, -3.3803966781229526, 20.156146891918546, 6.686837580537685, -9.517141672208334, 207.03683409440046, 17.973752159071076, -3.2563210025312204, -2.480058464347923, 16.939762448603577, 122.24775179312545, 6.754711607966495, 16.202686927612728, 9.769366705373981, 11.830892362444478, -4.119940751202096, 24.553913981911155, 5.1895473187971985, 39.24523133472188, 48.712932913466005, 269.15641254217616, 86.02915128899737, 159.44361969774002, 113.43655223783229, 0.8709100319417425, 35.960863305122274, 6.54749912036787, 0.17868488709179164, 72.711329983249, 5.567594935009761, -0.3426005955254733, -15.395698410240705, -1.80097533085513, -150.8268119414967, 1.467811715833933, 134.1892964706253, 5.629383317668446, 10.011190568777224, 7.140001602751746, 18.710122159110878, 1.8252880674359158, -2.1142132235755065, -47.58367238915135, 30.857882227303953, 24.651744076420346, 6.039092435927738, 10.846119568363601, 5.419200953969184, 20.35695861753059, 32.990050461139134, -9.836969699393409, 24.524685524787262, -14.175001070323304, 1.5324518955184492, 10.612099925851561, -5.333301617056361, 2.5182483286616133, 6.701786215777448, 105.9496391917038, 59.23333413645755, -2.6188882729466383, 1.9022009870434289, 8.862065559274589, -0.8848389263737237, -5.248728059650575, 38.48295550830757, 2.884716485758464, 4.892082250057584, 1.5339988967816693, -81.26200487943824, -7.37780106541743, -309.71475321146096, -42.69049852192396, -223.57449774299477, -18.401944069277306, -1157.0949614506847, 3.6234532161203106, 25.017149537367303, 135.2285302562804, 27.8120975662067, 127.7947892239894, 233.43228642653844, 9.170917379489955, -7.646714141454533, 8.932402004697567, -2.919132421069018, 10.387483980808025, 59.890507371986, -234.36398156127922, -72.98351587413003, -65.89979169906549, -10.952640340694508, 7.832739149815495, 2.3071979648350665, 7.74932492274926, -2.3916913305607124, -11.076016462552094, -206.07134804001203, 81.64997860197116, -46.6503534828399, -4.2109904364035105, -6.112177370719934, 4.862566367297754, 2152.776351669503, 7.075585027986384, -1.8442347360115976, 53.60853312131528, 6.039372839314655, 14.989208586722043, 72.48538369557642, 6.213109617427901, 8.855835175911125, 2.593985189451106, 39.703639964568, 4.0572188160098595, 12.955334149235687, 10.845520111625303, 34.303457403726476, 284.9377862162824, 6.658715885212834, 5.841960129695356, -3.1111853733667223, -0.1565154210531801, -0.16613210631514733, 25.556194995167637, 14.584227120459186, 3.0381759083835633, 90.78455939222025, 18.120607918726908, 21.93102330283612, 11.28046473989244, -6.052901389675533, 3.061466032797538, 36.81502400728845, 6.39190338933135, 27.152904553348872, 2.978838590374005, -0.13704424566740056, -8.671594758519166, 0.3665258934638835, 2.440170640014886, 5.369454550037919, 17.696874801572026, 17.944751739163504, 26.598550340362642, 8.384399709598739, 3.4416626827533907, 45.47987987429442, 11.656227674555511, 32.32262108548394, -5397.771821585664, -50.204060556994726, -235.62155541928945, -4.558062230607527, -13.755059128409048, -5.577482326112272, -7.770833360921315, 19.652658435113786, -3.784059776215378, 32.874327097521416, 37.369618389665824, 326.9918514714107, 66.03933695412145, -29.022208776735464, -1.0102379273427822, 2.9576006309699707, 140.75691594948816, -14.296004705834319, -21.40353962342357, 1.242980808489139, 109.15418787601311, 5.139522948189118, -16.994714816894767, 6.657974830689047, 54.711298252224545, 8.794850689489907, -1.0694224439378548, 3.6999904449390155, 71.79331134869749, 11.199734998938027, 67.96545947947851, 23.791291188780853, 29.315781633164757, -16.83775356034908, -13.037242473215692, -12.63934266467802, 11.175895150386248, -10.249280313468587, 51.06806390482025, 41.965309641131675, 43.44041187471578, 64.64830089236753, -23.739050373096024, -11.23267668069852, 2.305958156215373, 110.40751763213605, -18.43952074831986, 14.895234172955504, 61.64210555419321, 6.515908398676969, -8.620703347042745, -425.44433249748624, 3.8893880944204713, 6.4328614576044965, 645.7316780943704, 119.99404185404404, 51.87989656783518, 3.245020474759963, 13.734523351654126, 2.990360611385532, 1.3312930707666866, 19.432718282084103, -3.9659678100202806, 1792.9064555645732, 15.881795716914397, 16.743716261413493, -6.587554388790592, 2.0663752399486284, 4.513245755647387, 11.132288656445034, 16.9538054946602, 3.549959087403368, -1.2512650763047386, 1851.205912687007, 30.696735429583306, 3.989804357587694, 2.6563837126258503, 35.536153356553406, 36.98632525708737, 5.1568942705493335, 55.0381748799409, 92.64917934605946, 651.8968248237956, 19.80133868089948, 9.843265265424858, 142.1207590297625, 197.99298861597936, 10.770412476026339, 12.401524486414651, 5.27050727548237, 4.4535442044885905, 6.841921009298262, 8.044046439404639, 63.97475800658844, -5.116173704112415, -7.178054947512329, -81.39946747932225, 16.372844619159395, 20.713203616173708, 119.5587594974221, -11.788997883016592, -9.058765481780863, -8.614776884830055, 8.749966529440691, 188.0859879143736, 23.0682412890191, 11.76226170538819, 10.384102963146065, 3.0613768826551, 3.98874641136267, 17.238615253887097, 13.62980390931276, -7.165979630568403, -9.745098713280223, -12.278404168902739, 1.614830986280874, 7.81068596856636, 144.31865726696782, 11.894041912636352, -1487.0250965525354, -46.442671401657975, -9.827331978674753, -1825.0730601884275, 3.8238643707807456, 3.3966425170595214, -867.2320451176818, -149.6548468652131, -45.70805811746022, -545.160845079177, 374.45073809602474, 424.76760490982997, 8.715464389726735, 11.530832737450833, 12.518126388593142, 85.94963713580104, 7.265001392310163, 132.87723695264998, 1.5297330842056296, -274.5545212189482, -38.358543504054225, -50.54153071766736, 195.67898595938942, 146.40697445587801, 5.985877498391671, 13187.998276862058, 13498.398805047927, 6.499104193889596, 25.86439431960649, 4.71532059895543, 3.8697030337800404, 738.0173391448403, 4.352560489869061, 8.834559633866169, 81.21188618680017, 9.95920635976108, 7.637494720617219, 154.25070221960465, 27.83371835397967, 94.12379941766464, -2.393791556579206, -7.383894718071647, -0.07794652305693854, -2.3581586858694044, -96.85579625689951, -5.008148439975141, -7.0620520321094755, -8.654487177979206, -8.80150897308005, -307.5266310774989, 6.6707290253052856, -35.9558011528601, -2.1347324470570235, -93.09416047386671, 0.21080547485771656, 5.359468698681314, -248.91553404838135, -1.361266584724145, 5.05480604010182, 11.98002890503616, 6.132052886893541, -2.370848475854018, -2.0805027651099435, -5.47490296137231, -0.0400063151417948, 0.8431484496907822, -4.712484321205112, -301.64115647663544, -1.9704235457751005, 3.0657705840308713, 11.728949391159581, -23.634815454163352, -33.933599119589736, -0.1278409227548802, 7.671350766202099, -6.795155322790804, 27.582395152800746, 2024.3343794914665, 10.787213304867269, 129.74412690622756, 10.27505749444302, -13.449542578348796, -4.587853847302855, -81.5030774120869, 5.427693337038773, 21.128319770842634, 305.772454511274, 11.514957254980738, 4.6891822352423205, 6.529222321473911, 16.998080599213118, 28.52906673298066, 6.2066070504026785, 14.918786398882704, 197.84840749914244, 17.29886569852085, 4.672809581209169, 3.0739747089600566, 7.17704852830245, 40.93673055714903, 3.7703510998458745, -0.8178932703277131, 134.79950510644503, 14.206040537779328, 69.67007068257841, 11.674662257396912, -1.0256024114536706, -0.18102691104223353, -4.103873912617919, -2.75899478867141, 15.226324498336588, 2413.0409928030094, -7.992052259297695, 7.008055999337993, -1.9235207382515953, 3.349792054559437, 4526.7883112141, 5.858526203947565, 18.501494571307823, 194.03944129264949, 2678.9856520695503, 170.62943765747306, 5.39161783699572, 54.61576562696419, 5.386764305629253, 232.3043566837244, 52.11276756262975, 21.82715295177191, -3.434046958616088, -0.646880515294078, -4.899430021888283, 8.687548828846753, 160.29554378998492, 48.863134403131724, -1.9616226699947295, 7.439712388913244, -3.342624875453677, -3.820940569561131, -24.78076238413298, -7.336758465190149, -16.44653265298953, -9.616416020525811, -22.32678078141731, 506.50008261407226, 8.829583757941457, 241.5509675668621, 17.120422370269843, -248.38332484055118, -7.093300767386692, -7.754936957929645, -0.21838785338683836, -1.937390454394044, -12.007756015983379, -1.5043195607111182, -2.647064255375361, -10.868690545174761, 0.48365928451302603, -5.583099138168539, -14.1544283707181, -2.7616757162562964, -6.4334717052939006, -3.2962784395996048, -6.23279247443353, -25.902097503475726, -524.6104779026939, -8.906152235530831, -102.82913629930636, -1.531974660820706, -23.449241549164682, -11.310495462130485, 385.4579895319472, 9.95675650294021, -103.40909003249428, -1.9494764165046947, -7.805010978420284, -0.7527606305387599, -1.4354159485745739, 204.83624633485272, -6.815157446595936, 7.654724041415455, -2326.7949651111776, -149.53290284850516, -7.560034892106922, -51.818937724410155, 34.47469059601178, 73.56773923838726, -4.7342299683648355, 166.393184123052, 340.35660153834385, 28.915828685716257, 7.832971303187963, 6495.01959752178, 5.229123480301245, 2.6228412188434564, 13.671339653102459, 175.7696954527843, -24.509652644218495, -76.89951414907325, -6.082438273957358, -2.221660420366349, -2.432750812803366, 0.3755621893497846, 59.06321763557253, 172.0633951567725, 14.770246863552993, 6.682849593317511, 7.5387504689664375, 0.5460065381887583, 4.424983767129825, 10.435636118386382, -11.62656824971247, -17.85858595736829, 180.27098375878649, 4.54104179511968, 9.464306500207314, 7.907076322308721, 11.797428543927143, 8.3727741728213, 94.27271419611593, 5.067724142925434, 486.2627457609812, 11.769774204701916, 5.807273293525437, 27.092099366484646, 17.933023240068547, 20.484699367679323, -5.357896651741069, -162.25419680880273, -3.6456261702695207, -2.141983544695263, -38.3423685222638, -16.599843390645024, -127.2314498063614, -9.745169706863253, 7.645166662205162, 5.7831207513437475, 3.123245093023289, 13.019420607476645, 16.629352032459817, 8.184697951705704, 31.954549575385343, 81.19728362369999, 20.885527733365716, 127.22531376214368, -0.681433516663732, 623.3259016953233, 2.871468857177044, 64.12160787888982, 28.836868427195846, -0.4190150476591386, -0.5662141805110598, 0.44431391219119853, -0.3511690414061873, -1.2494291754753808, -5.314461749640889, -2.534960392245809, 0.7826662879437183, 23.959799858035733, 12.08100523546076, 5.469677608342071, -0.033193993360017764, -0.28196629170806575, 8.255980440010354, 7.480241670042305, 4.783584297580814, 353.25059202341583, 8.851386074906056, -15.753846106588927, -7.432684542292462, -5.723876110038087, 208.90915699923178, 29.439498300918284, 7.275287430898434, 13.703395735654173, 3.9861904098479752, 119.06402324944578, -60.529054667533536, 50.61946052562434, 4.547218246966431, 5.835064183927306, 121.21361478753846, 120.23626887252196, 116.79995629486142, 9.886502150340798, -0.2163184391261743, 77.18346583550134, -3.3891517038571575, 10.842673635727325, -126.9631236473053, -2.2370504614929474, -0.9893770263300126, -5.221456714661674, -3.6476198954034516, 269.4769793092942, 12.796834245954944, -0.07114932843932346, -36.288171443602515, 3.986578818740212, 27.35170808774561, 691.1717585344272, 78.46069820535205, 50.41653954405254, 2.2746736483965275, 7.686856480173043, 8.69823062516148, 6.2778294384386015, 17.898055997865953, 19.770056124398376, 2.616500998900346, 6.197415078622548, -10.361968129349854, -14.15161882384683, -37.25093848911001, -112.74740895113212, 4.501957521728815, 149.43656630648107, 7.858450607057512, 72.2544056335509, 8.751882706463173, 9.149411478064787, 8.211663128086137, 4.4315367981654274, 42.08332637148686, 400.52736516783426, 7.124411359527081, 4.55170435193606, 21.09938001069215, 3.966580437642346, 116.75938026088207, 119.19332062937879, 73.89101503357453, 8.427591980613835, 78.39326104248939, 4.276649967802199, 0.8416489308520387, 75.98733981858867, 107.42056762584308, 6.354754949354278, 38.17933104870445, 24.72714295922451, 0.673605891687761, 344.0880349997487, -5.573148680444923, 26.210686785839368, 227.783361714041, 58.27132067987275, 7.897795302793793, 7.3931364827162644, 15.832259635995324, 2896.2846111169383, 29.221698004284985, 3.9383105611540725, -8.096094019609255, -56.86053638143888, -2.846304658499247, 206.2879872175416, -11.120283582844605, -4.086239074087261, -2.3839777795757855, -4.065045476721558, -9.551589843231529, 4.822723441540492, -3.651319148235384, -3.144398606545082, 5.110804488601517, -5.573446471126261, -85.54797591073884, 16.169199506620558, -1.9224063725068006, -2409.1344529584408, -2.6234555601907337, 114.70402247541266, 1.5461555424957554, -11.975500612050517, -0.4219098617000586, 38.28021836015661, -26.91049812073741, 0.17257492909734445, -7.247017417354456, -2.6985108248781455, 8.975832668104504, 9.163478139043635, 12.522374180380144, 0.4638774761172265, 185.48102487827504, 6.639474753294929, 7.607479331881547, -11.382083235431637, 225.0565716101394, -19.253687631771008, -9.040223433163996, -6.3644863965302365, -11.077082803090017, -7.772781253062073, 8.88832228614147, 1.8158196163285139, -4.337205613113673, -3.7558588206314902, 12.196137768532573, -250.13752796091592, -24.906791659717882, -320.76737276725254, -244.1626992090563, 29.463578613038234, -10.336849083234572, -63.46475419107613, -454.92564988226854, 1.2208358120536766, 11.62499735638283, 66.61285455730086, -2.7333009074543164, 3.2550751575255403, -10.011559815851923, 4.63072982983041, 49.672382536978525, -269.963712246482, -33.530639319491165, -3.074217629008854, 180.3248328871147, -5.495197837101356, 19.472308385472836, 4.172636710085004, 7.698936922150384, 15.262590911869072, 5.690427954452912, 39.72515232633817, 176.03712170924294, 3.9863452382127345, -1537.6841780353877, -35.81887184963118, -9.671695616034091, 42.02890541302786, 5.6679492029891385, 3.78503380129909, 4.144867250922531, -126.19087421619409, -0.4976538854387552, -7.939111300526116, -97.28962941484617, -8.409667389740868, -6.210908285971385, -4.192597342085182, -4.197269545048013, -50.5653804649168, -0.5829286954035574, -2.7915777205480166, 40.16940577744555, -0.17316034247167966, -6.109248166622887, 14.207826485757856, 2.3976235926128124, -4.210854741839072, 28.28190493845013, 3.225087503032533, 5.742225081849349, -7.017304026732875, 0.3908657449279046, -3.2290138534366597, 20.223216182953145, 23.363382963591015, 156.28673831236745, -33.88441641676346, -6.299432275525484, -17.59625544272529, -11.610871063812041, -11.725143653427747, -12.636716746175455, -3.580754277720123, 3.256275607784321, 16.335801565151968, 61.84301640889276, 9.883165337478118, 2471.4712184514274, 6.3881293721871675, 6.8687155270174864, 106.07312295979274, 157.17041239769006, 27.3059117843768, -2.2668972430117225, 15.715437754342746, 146.16756642383945, 95.63759393896669, 110.93689258545731, 120.67936639750886, -15.137284558573944, 4.888701392529826, 50.15617761960426, -2.7534652946614764, 28.932938655062628, -134.07314663545202, 9.920832436803165, 3.224584119350968, 6.433481114546296, 8.902165006655778, 188.24749020624176, -6.722165093452623, 5.508096311068164, 2335.733184679494, 9.800521281345631, 3.5070441198597595, 6.386624509118348, 1216.3839671664628, 1161.2114090848845, 1.1712876498213487, 10.601920503387383, 8.876705227446516, 32.299102044464476, -4.305142877448791, 533.5674394889564, 17.034556959335195, -4.001545085142875, -5.27670468986513, 9.618865649990688, 20.209560757567097, 25.145242855697422, 54.06686772682146, -5.003139854091556, 38.73146732571632, 12.637623547857443, 10.013082249805272, 3.5516539213437115, 15.481835206866037, 684.9301465068914, 1445.8875207952508, -5.909649787546774, 228.7562803872735, 8.306458577295944, 10.807978758517136, 1.9961977768945478, 14.295868629388327, 2.8956639341413597, 9.505000377906013, -17.08191319222088, 12.835422482834892, 6.165483093291555, -16.51885043947468, 3.9423059951914183, -17.738227221537127, -1.9681305514426126, 18.33065963483643, 2.102222785890093, -188.31743443694492, 8.774785562387475, 4.753156734032031, 56.93248436954855, 2.723032126310008, 7.1086117359553045, 540.426434683746, -4.544682302578025, 0.7950360481841852, -12.31595069980817, 1.5517743053423476, -92.06540710874944, -117.5505364599205, -15.717102586366797, 59.86653657961803, 9.311341357621483, 7.385802043758114, 7.38341163924088, 4.703870175379554, 17.12420121977174, 389.8025505515316, 78.57393038538932, 192.71106473875727, 239.91821754769964, 1.4523136618276704, 8.615298212041013, 114.16013417487883, 10.225076375833211, 18.299209662415894, 29.57563587462466, 2.8730066676981956, 24.302811534517215, 27.221315913580483, 49.3839997211621, 6.885708026515253, 2.422799046116415, 23.290381531241202, 9.462686847383974, 7.413009971491012, 5.155429004984646, 41.864432230685615, 10.288781187710535, 37.47128227467767, 11.04138326463463, 4.7219609286170945, 386.89167388380093, 8.60332205668261, 0.6219552025939025, 3.8247667177792737, 6.1532425607618615, 16.679101450692528, 4.892204399451189, 126.46325418330184, 4.328894372055315, 7.407590150401162, 28.58380122168923, 81.32201588056581, -814.8039148574693, -7.6208403701415826, 437.1004459339808, 10.039389333726753, 213.9912522864386, -2.5069964344252917, 9.0275304435199, 15.42734011248156, 0.2735364845071625, -27.970047990934038, 2.695507994966281, 1.2523526347739915, 616.1706985548179, 71.61942816002103, 58.44017637572623, 3.348249281182022, 97.69342375646232, 56.2670962200491, 15.83686333336005, 8.975503898577239, 132.260645011938, 38.4577948738454, 6.01791811002251, 9.276558471211683, 4.509860735766604, 153.60720891278388, 7.1732881343664925, 64.27942406052695, 5.4392804832535875, -0.36341270207114346, -272.0515455970962, -66.74129242283263, -15.908654541014275, 31.36943553215852, 19.665328968571185, 5.6183090452284254, 279.36988769886335, 48.18053381283229, 30.038177210656137, 6.108954342543, -20.773022414535788, 0.22464460863447172, -12.566002053324258, 7.708654805879493, 125.58600972054693, 15.474760669862736, 135.29620411927283, 245.82437865848283, 51.19609841102384, 4.942248505743865, 42.021029594502224, 73.15868117500288, 13.80451318592001, 6.629221699890077, 48.957479308823565, 66.57296646892428, 88.95721291615364, 377.54578953053715, 45.24006177896295, 836.7441396847288, 5.203887933749355, 47.578987907773296, 611.334734439604, 167.90654664230394, 1054.233637850348, 679.7042745986296, 310.04847678270113, 8.146608559556567, 4994.711508145647, 7.097936017496474, 32.46603771200256, 13.653894954321801, 8.702707651011133, -32.17536312275896, 8.31591217643041, -4.6056819037402565, -1.932454416318014, -44.86289692887474, 3.179483668133377, 12.701753822797462, 3.0373828240445255, 55.960346615331, 4.3019496355538775, 10.522575384439161, 10.014634456443877, 42.011995082701226, -3.055365943452133, 4.9160837320721145, 7.559503844491451, 3.2475544061384554, 115.1624751585999, 1898.061024207986, 4.3590236739100305, 36.58082675340393, 3.338217506116411, 43.62009585168073, 23.75981023342738, 4180.640717502267, 77.77197141666817, 3.870255359078309, 45.18501907602969, 1.551092869990114, 16.818036391420925, 16.91709189799719, 804.8499966860885, 96.01067537204821, 16.283659040685777, 15.831141176721955, 3.0456987460668747, 10.771949901027813, 38.24524444944283, 13.017777873757133, 77.16006716451132, 21.318355653037006, 44.84400364238584, 19.54115100985959, 16.06266892519339, 34.997555159002, 5.900409952178849, 31.440228366892672, 173.88320138436475, 360.95081823463994, 592.0944243954328, 1.7546406513995105, 42.95555494913496, 5.184441873551279, 9.64195685638216, 7.280634660134069, -21.00806158359405, -34.120846932237136, -11.400779836116948, 7.977021021427557, 24.135923529295898, -145.29400155586478, -60.27147695914515, -122.25266431982878, -5.1296920154619485, -3.1735822874177075, -153.6230194630497, -3.57536929932029, -19.37654079493489, -1.9825649448173248, 46.66816109305467, 11.643418970684081, 49.689506448463376, 8.77024477032217, 93.2382227229378, 1.867639213038697, 839.9905196895922, 5.573555625097139, 322.0357674874696, 22.903123849808026, 1.9245207500908985, 1181.6169985186157, 7.380295696969807, 1.7059057706028655, 14.600385991713386, 38.28801057829185, -1.978088849050962, -0.5397934790638266, 232.97544055734053, 131.49313413980448, 115.25758983649462, 24.063563907828552, 1.923065856388745, 1.9891232406933006, 24.51284825171437, 6.530255289989607, 7.429736479398807, -0.409216486285771, -7.6911438242416414, -3.2396763171665497, 1.6006692088739163, 3.963580550700928, -1691.5418004923479, 13.087359544438074, 12.80982064435233, -182.69499503568053, 1.9492893681350445, 4.159169589993681, -3.529635853947197, 683.4572840067932, 14.597125325205075, 7.106765339802086, -65.03671396716689, 6.384888811856075, 1.3744346808627999, 15.687840279365215, 35.181477472223484, 7.065574221689843, 128.80008760654476, 16.819334996573723, 15.401260500159838, 44.45443621733426, 4.95688533301893, -279.0426194283743, -13.156828612831237, 2.918353741497716, 47.67060683448337, -14.757739380395666, -137.59384185321022, -40.665626821567805, 722.3822550223143, 103.75639753958852, -2.602701773633431, 110.27979912427288, 4.044490603775079, 14.327518590449403, 1.535947610980707, 8.104083642226389, 6.245108454987357, -3.7134910498649902, 19.051352218371484, 11.520604746219416, 18.085418292181767, -3.725539752254474, 94.56082192744802, 96.38491857811476, 43.10687373653418, 34.144564949365886, 0.9892586227830257, 3.1866420808394125, 49.11872491194903, 7.825921023913764, 2.3214728593116547, 24.39308670175709, 60.92329922185594, 41.59668310846598, 12.350992968289876, 3.619547616444969, 172.11827918805892, 43.12030661273495, 21.89195148086849, 11.107383957476776, 4.545362573450148, -18.860736681020594, 15.455288608708225, 202.30685419555607, 12.44639427425579, 9.164991236290508, 36.63437734129753, 2.8510621072231785, -0.4819786567072329, -3.6240630107469487, 15.07881795858268, 0.4534993145080797, 61.7919952125889, -5.308561925457246, 40.97648466240043, -19.89850782720472, -1.878867566067661, 10.84369796154245, 6.60907103049677, 19.034388577216795, -39.49062864779889, -15.683016945943164, 22.63333127648098, 13.728328752911635, -28.6969993714418, -10.177078412025779, 3.1491391860083646, 10.254988912832374, 7.841290701938771, 12.219636187618951, 5.569917498731645, 0.01988607087494419, -10.958321066492866, 1081.0831637672914, -101.32818226345313, -0.27442146633642395, 7.6431656290174494, 70.04413037701505, -58.44714902017936, -3.011915298966126, 12.599238404039871, 8.529934498394255, 13.487762014140852, -29.91213495506425, -3.4283531919221084, 3124.698893452786, -0.4099846032848996, -2.007799446077492, -0.5358316670488206, 78.12792929709907, 10.012288095786996, -120.43406150419587, 3.6256269948672775, 55.83665556410512, 315.162856796293, 9.124391244823338, 53.68777597362233, 22.463571400759314, 517.595546619666, 17.05196276950578, 11.372092440273923, 29.210456118289844, 102.74363594803305, -6.478287940694928, 4.86888199767653, 4.985852058049812, 19.17485272256869, -6.388847689209145, -0.5745690225033944, -2.011246428456773, 3.490768526311922, -30.448725116138487, 21.579821284397163, -0.5013438716667442, 35.92366914592754, 51.29525951914647, 9.626583552921403, 17.770156817663572, 9.467487768938692, 7.164198231838155, 447.3422207551926, 22.11748803190519, 141.1152669431383, 6.337000728460175, 4.342092990236761, 3.171426419153029, 38.592851331043356, 63.3229851544607, 14.86790147510109, -4.13650552186639, 11.13763814306115, 8.345790406603081, 0.5958571892220897, 31.603544558853695, 22.943367073939296, 6.046141011767434, 30.06708333381419, 5.13425248742522, 3.714295345874723, 42.292576071290036, 0.12532294248903333, 1.154451099904879, 106.73119973721879, 12.803753154496196, 81.16422980966314, 29.789801912779634, 3.3562427030559485, 5.063567908921679, 34.011780527006245, -17.374814475152895, -9.580902441958177, -13.106802723863948, 8.385893051387605, 72.55925427257525, 526.6241428772465, 124.66928962631019, 5.651456917573971, 10.253670548359837, -1.1313786747582544, 0.9330437426608493, 11.509746950565628, 20.01819777398714, 15.317390838233514, 84.42828064491151, 4.996111472025584, 16.100157704210186, -6.46525083504407, -1.161873532032883, 11.524488654211286, 10.142032707389792, -327.7507603173158, -6.035201163363449, -27.104663716835454, -7.112253207509095, -4.8429975067852356, -3.670247633256928, -68.12625615508848, -27.296968475597982, -9.39083886898674, -0.8414399256657741, -3.403094518534083, -29.48711789018789, -1.1363408357436606, -1.857826052973649, -7.268993026029371, -16.27098372776981, 19.706672829430293, 6.285691562781329, 34.35095162069625, 10.188499665716504, -12.241867283723582, -65.28968065992318, 19.660174186193203, 19.46173729003697, 16.27697115035846, 13.341746555275483, -13.640758112847719, -1.550788017229032, -8751.919437649576, -3.0414373493393887, -16.74120567042049, -6.555871585122611, -3.7544604964684662, -2.425636346918945, 6.380179367593026, 87.43566715216559, -0.3456407286227627, -30.72634199404325, -4.8604649434158285, 19.942063915892287, 12.127516556457218, 13.662195017272483, 119.38716660346783, 404.60303681510317, 86.99409805635712, 13.312280142449229, 24.36251302979939, 95.473718143036, 58.89331720684091, -11.00970800885609, -39.05473728406936, -2.1365239487333483, 2.54015937924466, 14.502245633205256, 17.252666472387116, -2.7642822193686616, -8.038948114845176, 48.29079487319316, 16.92755145565044, -20.108977843645174, -7.570297871600765, -3.1937378938978815, 63.891612171989685, -6.939059112040196, 0.7892269540144443, 16.318233397795755, 68.50051152204865, 41.853764309007204, 1.9501209262519095, -7.374472083431178, 405.78209500800375, 187.1552444559717, 19.294867016602694, 68.10847450496348, 340.257339245321, 379.28915328750344, -2.514323726811236, 19.546467798048887, -15.653846008191314, 4.584235231664165, 11.933235279689848, -4.833187435287856, -17.051043968038375, 6.1053050080727385, 13.26920956121277, 3.814552291295793, 4.253085499899189, -3.1057026924129607, -0.6184897152155324, -0.7116724882954053, 10.439818356298877, -57.69217915615966, -466.9005740451849, -163.6651222299266, -0.2486400147609536, -45.24824390989998, 6.476366194593404, 104.67130904477177, 7.932957031887334, 256.91237085461006, 26.00193879392818, -55.62801272432916, 9.557663168630267, 8.558217393708102, 16.079610383320514, 710.8175630396927, 12.865633603323902, 2.6236284932436957, 33.66955551617757, 6.259159232685971, 6.57228427641972, 81.2627565689187, 268.3899843266001, 61.24696667879736, 23.297693597757704, 195.0052352388779, 18.096451520413673, 6.117444668308584, 7.179250978946657, 43.046562826074606, 14.348001054788613, 109.08133165490419, 5.741254983432065, -4.038129507020737, -0.5808308203212444, 0.265414123251947, -0.9119815420031475, -6.90522254237653, 9.418671281219778, 10.82660685428157, -42.64197944364473, -18.675963617607213, 2.0909606252538344, 139.28308323696, 17.744392146041694, 41.96868029838381, -96.35453719956868, -9.412462991264709, -5.946354281735742, 3.2152105639201487, -6.748926561698972, -4.56148942617462, 2.38343366105731, 5.071806828235083, 17.474038152832566, 12.454123303837052, 3.6545425027870775, -12.25954106686181, -17.87176467987589, -4.096011669078121, -3.3891147729986764, 41.4933171625412, 62.568418338374435, 14.550502624557323, 146.03972727992945, -5.37176160516514, 33.01501565227172, 28.06122931191508, 20.942303101709456, 5.533924762623361, 15.89109396509395, 29.934429395704928, 24.21011981870521, -3.2250070113526617, 9.19572793709095, 5.706588146317065, 7.325578876758902, 10.547662291611967, 59.81889760489254, 1301.5745370284951, 106.25878389982817, -4.246571817750276, 13.012819131566879, 122.83741153906452, 30.6517967491793, 6.681487910017444, 3.6806687000310467, 5.540392389374915, 5.193799565560273, -4.1618600979579305, -2.6680433312193497, 114.03774453264649, 103.91393690769974, 4.620027548507992, -34.31056007340976, -7.010071956118811, -99.26323360860603, 67.76615765853929, 99.78714081711833, 13.049804020210448, 5421.626183870655, 16.511731605068064, 332.1402926926363, 58.07958433546364, 2260.6699608154117, 349.57752904456936, 2188.2492256937467, 240.8222334631588, 132.45526166862527, 12.094240320923006, 15.438807781903822, -0.10552195657173404, 12.233384700120968, 3.3939731369107213, 25.122685404104647, 1.6074031442612444, 13.469935227797174, 8.277189464770315, 24.87827923777754, 51.87305911480431, 35.52819479161596, 1652.1187926350387, 10.964718297871368, 20.193865532795655, 4.492240697455318, 7.177045645511657, 3.283516106498299, -12.269156039647514, 11.846038068402502, 9.265277170701713, 11.727989997459904, 179.437895200441, 4.8673714947697295, 7.416123844133778, 5.114457292500035, 16.87249940004528, 90.78146226519661, 13.383249209791837, 59.036970829386824, -37.45210963813103, 76.29155597273648, 47.36692598741567, 76.66222040518386, 9.318058875073405, 20.03854704351547, 17.235472692674364, 18.93431719708659, 11.885030914265448, 9.866810350858415, 3.291113400546072, 7.872565702355948, 1.4862699910918968, 6.943609267871375, 24.057165632459554, 5.731018511624723, 13.541629939751248, 16.69233248990832, 3.744020614337808, 6.6544456814603885, 9.386121224355437, 10.94346559987866, 758.500902599514, 134.6945388625392, 137.57846700049046, 7.72597988407057, 18.259137363841543, 21.08650192816151, -16.713849360149247, -19.279392703748908, -19.284151887526914, -158.56848853125635, -4.286190281381437, -181.68086695597123, -13.41383495868275, -164.38858660290646, -57.713855165441, 3.6878405218028147, 77.61686158955708, -57.52731906384976, -0.7244681668628108, -1.1429768964340965, 1.644249904483164, -1091.6055315125338, 17.20486113649959, 12.198147997632521, 0.5627134624034547, -0.35046820736520956, 0.5076536187107608, 4.586340293883886, 2.261420875955194, -2.1868033475292736, 23.12156898507306, -29.08381314310728, -58.9549307602511, -12.640648888759872, -4.913261519150069, -427.802802693775, -48.029363903101384, -34.080107158606005, -4.404259063349691, -238.66685722029476, -150.75371172265227, -235.21371309325156, -446.32525183150995, -44.3789538071174, 55.489502277013436, -11.086077079466133, -13.900877887407155, -8.411902090940364, -11.328183800154045, -3.991778299702237, -3.006120259352444, -4.728625792671584, 8.59315071938235, 3.985715200354005, 3.236063020203756, 3.65511794313632, -4.024035980792542, -4.527445470238538, -0.7217060406110453, 7.580042257381179, -7633.15597832459, -13.859420736497071, -63.17636006230991, -8.405021860536971, -0.6553434464552709, -7.748675452346396, -41.57593999034605, -177.42422548922124, -4552.996537098263, -24.427903842353246, -10.418340998279184, -206.15833499692775, -10.85660349865656, -117.07793038377675, -4.346831707172112, -15.138846983174014, -6.671388439705395, -3.8205283188352066, -50.35123602791536, -19.403901712092225, -63.89340331258464, -3.832501196177793, -3.523018516065231, -75.81815416844147, -10.73821651792943, -16.550573437207273, -4.557979120460308, -150.21666603272774, -42.65646751314116, 18.031633702709843, 9.207030221876236, 12.109107458355316, 2.722472049559133, 3.88434257326707, 15.350463015219173, 6.490361767984027, 7.116585594274193, 6.06688876149, -7.551286061945864, -12.214469511338656, -17.01760491876493, 6.718878035068484, 5.16443948017966, 1.9197428627449324, 3.4849995139168968, 105.08270409408728, 10.395272302430723, 70.37093619269172, 26.794246859645142, 836.1194242833897, 102.64598005456831, 6.912275985574216, 363.4547817959452, 9.300383988117142, -200.94074986933506, 8.210175403409618, 16.79606388359976, 665.0572317312248, 27.870754974322516, 14.989214128567992, 4.627604281763828, 15.93359510323876, 15.568441414218773, 12.404004255065942, 9.4700549865493, 14.496131457941955, 18.554963209637172, 131.0718885416298, 10.589213897609874, 6.525666152860904, 20.369532285233177, 4.767179444072729, 6.47945174924482, 63.560887270394325, 3.3357301780959085, 29.40560161024675, 119.6513403205637, 19.801336657903054, 567.234799331762, 2.97336091260458, 48.308348792036824, -3.3706417477135764, 7.228457064735918, 5.586367228406713, 2.2751809148860507, -2218.0232225325444, -7.319692723715018, 19.660168021087884, -13.167713941707, -286.2771228733069, 9.045115580244824, 18.97151738083559, 1.256589470204203, 18.948838533904755, 3654.193973396937, 178.99895689490452, 39.14545171718679, 62.04463468638972, 15.156874127842848, 7.637147048100853, 0.23949761812668505, 13.309885474748253, -3.530313420477637, -7.9960702816866505, 4.339904856151339, 14.448951722658704, -96.3351329671646, -1.6695682573628627, -1.9425483482160577, -3.159106479204717, -70.94314307531681, -183.13492788096875, -1.5694188416345112, 11.134698432940796, -2.791739795060616, -3.3231228117212823, -3.070653768465448, -344.99830883153004, -7.886683822823453, -150.9103362163619, -308.685107498194, -5.031401100474524, -2.6306302639375567, 0.8382923588795773, -12.430130738842324, 50.77473143162161, 195.84963556818892, 29.125742679389653, -14.87697166566861, 10.652334458504365, 51.666056818291175, 10.543409869480382, -4.671050602363485, 6.314276384547193, -148.40778783206417, -8.520301994439489, -21.136560331863638, -306.08929478403, -3.4393667556527863, -1.0359976848571235, 33.19648539741514, 4.624964584820194, -42.70028889677475, -15.242318254260287, 1.8375147640521616, -0.45619193268334524, -1.8474028046103221, -0.948424820747268, 2.6995624340742252, 84.92399735871078, -174.14010798210072, -4.697130941943839, 0.8507921645727522, 24.97285734588936, 6.1431685107423535, -15.113677781788486, 5.48739825487764, 8.100397424311833, 119.71624530931388, 429.0791655264628, 47.809198706468194, 547.3195587645355, 1.4521139658032474, 11.676176415661457, 69.31221649628911, -9.673189080672197, 187.12686898026257, 3.863243835022533, 4.709437421045152, 22.834099502684445, -1254.1234890719568, -4.055652997024362, 0.19701235764725913, 4.834325165181288, 382.30045023630754, -36.602249979238756, 1106.9931672631164, 534.2927750924357, 4.588461005268835, 1.8362671702914866, 8.911570580238624, -16.458307161503463, 8.590700091835517, -15.310429679351712, 46.14187040343795, 65.58646110221554, -0.40186959981849624, 158.87673347527206, 40.411708116185174, 59.12569276137853, 9.566157827219016, 6.5001418605738746, 19.057357026511692, 13.28765026440602, 16.096380928969676, 9.56889313099559, 63.684272748925224, -5.354218040392022, 13.683907264336552, 194.1226753930966, -251.4519235426461, 0.7242418544596851, 31.758786886686316, -2.161191535329404, -8.37064641854456, -10.541142637290017, 283.10722087076334, 8.734013802052447, 76.76693998891444, 25.788806492939553, -1.6122069087400097, 11.678306829898068, 15.573264041046999, 1.905892495107947, 8.322641406014917, 9.240335143073214, 5.703324749586497, -1368.339332867046, 27.475670680843038, 13.445154088296054, 8.794441045561097, -158.7119165354452, 42.12697320763064, 32.78810191774079, 45.54422401344589, 7.116179213002894, 56.64871494487616, -9.57607140470975, 79.29782545915177, 4.082035492148606, -12.390489216916611, 29.800096903233683, 123.02733883798933, 7.115753998263599, 57.43362985430055, 120.0213566158566, 18.835794271221545, 2.4713079098992417, 7.84227220727617, 57.933770728952325, 3.1470122965134175, -5.932740191783644, 37.94049782972412, -3.9892035913091086, 2518.11964083651, 2.8168884141397594, -0.23239610915492817, -110.5197779572906, 4.538473935497134, -646.7822647373252, 6.426133369160574, 423.88081859873836, 9.749874537499029, -1.0713212150535145, 9.493832850775265, -204.90211079806198, 6.887195359331068, -33.323358986127886, 13.394578979187017, 168.80119509197084, 18.10465797726055, 909.0666853206295, 231.32810266042992, 13.254845378864061, 9.78056042758929, 44.407090757362994, 263.35899910024455, 16.82808055190718, 38.79964754826485, 17.19056171185027, 7.659124694164831, 12.104651530971106, 21.88449794416641, 35.3353802385004, 0.034589271988301064, 5.800277885379647, 145.48940524797194, 21.452137753506065, 1.1729957273975553, 0.5096404511989963, 100.36589674363304, 1629.6565379950691], \"yaxis\": \"y\"}],                        {\"legend\": {\"tracegroupgap\": 0}, \"margin\": {\"t\": 60}, \"template\": {\"data\": {\"bar\": [{\"error_x\": {\"color\": \"#2a3f5f\"}, \"error_y\": {\"color\": \"#2a3f5f\"}, \"marker\": {\"line\": {\"color\": \"#E5ECF6\", \"width\": 0.5}}, \"type\": \"bar\"}], \"barpolar\": [{\"marker\": {\"line\": {\"color\": \"#E5ECF6\", \"width\": 0.5}}, \"type\": \"barpolar\"}], \"carpet\": [{\"aaxis\": {\"endlinecolor\": \"#2a3f5f\", \"gridcolor\": \"white\", \"linecolor\": \"white\", \"minorgridcolor\": \"white\", \"startlinecolor\": \"#2a3f5f\"}, \"baxis\": {\"endlinecolor\": \"#2a3f5f\", \"gridcolor\": \"white\", \"linecolor\": \"white\", \"minorgridcolor\": \"white\", \"startlinecolor\": \"#2a3f5f\"}, \"type\": \"carpet\"}], \"choropleth\": [{\"colorbar\": {\"outlinewidth\": 0, \"ticks\": \"\"}, \"type\": \"choropleth\"}], \"contour\": [{\"colorbar\": {\"outlinewidth\": 0, \"ticks\": \"\"}, \"colorscale\": [[0.0, \"#0d0887\"], [0.1111111111111111, \"#46039f\"], [0.2222222222222222, \"#7201a8\"], [0.3333333333333333, \"#9c179e\"], [0.4444444444444444, \"#bd3786\"], [0.5555555555555556, \"#d8576b\"], [0.6666666666666666, \"#ed7953\"], [0.7777777777777778, \"#fb9f3a\"], [0.8888888888888888, \"#fdca26\"], [1.0, \"#f0f921\"]], \"type\": \"contour\"}], \"contourcarpet\": [{\"colorbar\": {\"outlinewidth\": 0, \"ticks\": \"\"}, \"type\": \"contourcarpet\"}], \"heatmap\": [{\"colorbar\": {\"outlinewidth\": 0, \"ticks\": \"\"}, \"colorscale\": [[0.0, \"#0d0887\"], [0.1111111111111111, \"#46039f\"], [0.2222222222222222, \"#7201a8\"], [0.3333333333333333, \"#9c179e\"], [0.4444444444444444, \"#bd3786\"], [0.5555555555555556, \"#d8576b\"], [0.6666666666666666, \"#ed7953\"], [0.7777777777777778, \"#fb9f3a\"], [0.8888888888888888, \"#fdca26\"], [1.0, \"#f0f921\"]], \"type\": \"heatmap\"}], \"heatmapgl\": [{\"colorbar\": {\"outlinewidth\": 0, \"ticks\": \"\"}, \"colorscale\": [[0.0, \"#0d0887\"], [0.1111111111111111, \"#46039f\"], [0.2222222222222222, \"#7201a8\"], [0.3333333333333333, \"#9c179e\"], [0.4444444444444444, \"#bd3786\"], [0.5555555555555556, \"#d8576b\"], [0.6666666666666666, \"#ed7953\"], [0.7777777777777778, \"#fb9f3a\"], [0.8888888888888888, \"#fdca26\"], [1.0, \"#f0f921\"]], \"type\": \"heatmapgl\"}], \"histogram\": [{\"marker\": {\"colorbar\": {\"outlinewidth\": 0, \"ticks\": \"\"}}, \"type\": \"histogram\"}], \"histogram2d\": [{\"colorbar\": {\"outlinewidth\": 0, \"ticks\": \"\"}, \"colorscale\": [[0.0, \"#0d0887\"], [0.1111111111111111, \"#46039f\"], [0.2222222222222222, \"#7201a8\"], [0.3333333333333333, \"#9c179e\"], [0.4444444444444444, \"#bd3786\"], [0.5555555555555556, \"#d8576b\"], [0.6666666666666666, \"#ed7953\"], [0.7777777777777778, \"#fb9f3a\"], [0.8888888888888888, \"#fdca26\"], [1.0, \"#f0f921\"]], \"type\": \"histogram2d\"}], \"histogram2dcontour\": [{\"colorbar\": {\"outlinewidth\": 0, \"ticks\": \"\"}, \"colorscale\": [[0.0, \"#0d0887\"], [0.1111111111111111, \"#46039f\"], [0.2222222222222222, \"#7201a8\"], [0.3333333333333333, \"#9c179e\"], [0.4444444444444444, \"#bd3786\"], [0.5555555555555556, \"#d8576b\"], [0.6666666666666666, \"#ed7953\"], [0.7777777777777778, \"#fb9f3a\"], [0.8888888888888888, \"#fdca26\"], [1.0, \"#f0f921\"]], \"type\": \"histogram2dcontour\"}], \"mesh3d\": [{\"colorbar\": {\"outlinewidth\": 0, \"ticks\": \"\"}, \"type\": \"mesh3d\"}], \"parcoords\": [{\"line\": {\"colorbar\": {\"outlinewidth\": 0, \"ticks\": \"\"}}, \"type\": \"parcoords\"}], \"pie\": [{\"automargin\": true, \"type\": \"pie\"}], \"scatter\": [{\"marker\": {\"colorbar\": {\"outlinewidth\": 0, \"ticks\": \"\"}}, \"type\": \"scatter\"}], \"scatter3d\": [{\"line\": {\"colorbar\": {\"outlinewidth\": 0, \"ticks\": \"\"}}, \"marker\": {\"colorbar\": {\"outlinewidth\": 0, \"ticks\": \"\"}}, \"type\": \"scatter3d\"}], \"scattercarpet\": [{\"marker\": {\"colorbar\": {\"outlinewidth\": 0, \"ticks\": \"\"}}, \"type\": \"scattercarpet\"}], \"scattergeo\": [{\"marker\": {\"colorbar\": {\"outlinewidth\": 0, \"ticks\": \"\"}}, \"type\": \"scattergeo\"}], \"scattergl\": [{\"marker\": {\"colorbar\": {\"outlinewidth\": 0, \"ticks\": \"\"}}, \"type\": \"scattergl\"}], \"scattermapbox\": [{\"marker\": {\"colorbar\": {\"outlinewidth\": 0, \"ticks\": \"\"}}, \"type\": \"scattermapbox\"}], \"scatterpolar\": [{\"marker\": {\"colorbar\": {\"outlinewidth\": 0, \"ticks\": \"\"}}, \"type\": \"scatterpolar\"}], \"scatterpolargl\": [{\"marker\": {\"colorbar\": {\"outlinewidth\": 0, \"ticks\": \"\"}}, \"type\": \"scatterpolargl\"}], \"scatterternary\": [{\"marker\": {\"colorbar\": {\"outlinewidth\": 0, \"ticks\": \"\"}}, \"type\": \"scatterternary\"}], \"surface\": [{\"colorbar\": {\"outlinewidth\": 0, \"ticks\": \"\"}, \"colorscale\": [[0.0, \"#0d0887\"], [0.1111111111111111, \"#46039f\"], [0.2222222222222222, \"#7201a8\"], [0.3333333333333333, \"#9c179e\"], [0.4444444444444444, \"#bd3786\"], [0.5555555555555556, \"#d8576b\"], [0.6666666666666666, \"#ed7953\"], [0.7777777777777778, \"#fb9f3a\"], [0.8888888888888888, \"#fdca26\"], [1.0, \"#f0f921\"]], \"type\": \"surface\"}], \"table\": [{\"cells\": {\"fill\": {\"color\": \"#EBF0F8\"}, \"line\": {\"color\": \"white\"}}, \"header\": {\"fill\": {\"color\": \"#C8D4E3\"}, \"line\": {\"color\": \"white\"}}, \"type\": \"table\"}]}, \"layout\": {\"annotationdefaults\": {\"arrowcolor\": \"#2a3f5f\", \"arrowhead\": 0, \"arrowwidth\": 1}, \"coloraxis\": {\"colorbar\": {\"outlinewidth\": 0, \"ticks\": \"\"}}, \"colorscale\": {\"diverging\": [[0, \"#8e0152\"], [0.1, \"#c51b7d\"], [0.2, \"#de77ae\"], [0.3, \"#f1b6da\"], [0.4, \"#fde0ef\"], [0.5, \"#f7f7f7\"], [0.6, \"#e6f5d0\"], [0.7, \"#b8e186\"], [0.8, \"#7fbc41\"], [0.9, \"#4d9221\"], [1, \"#276419\"]], \"sequential\": [[0.0, \"#0d0887\"], [0.1111111111111111, \"#46039f\"], [0.2222222222222222, \"#7201a8\"], [0.3333333333333333, \"#9c179e\"], [0.4444444444444444, \"#bd3786\"], [0.5555555555555556, \"#d8576b\"], [0.6666666666666666, \"#ed7953\"], [0.7777777777777778, \"#fb9f3a\"], [0.8888888888888888, \"#fdca26\"], [1.0, \"#f0f921\"]], \"sequentialminus\": [[0.0, \"#0d0887\"], [0.1111111111111111, \"#46039f\"], [0.2222222222222222, \"#7201a8\"], [0.3333333333333333, \"#9c179e\"], [0.4444444444444444, \"#bd3786\"], [0.5555555555555556, \"#d8576b\"], [0.6666666666666666, \"#ed7953\"], [0.7777777777777778, \"#fb9f3a\"], [0.8888888888888888, \"#fdca26\"], [1.0, \"#f0f921\"]]}, \"colorway\": [\"#636efa\", \"#EF553B\", \"#00cc96\", \"#ab63fa\", \"#FFA15A\", \"#19d3f3\", \"#FF6692\", \"#B6E880\", \"#FF97FF\", \"#FECB52\"], \"font\": {\"color\": \"#2a3f5f\"}, \"geo\": {\"bgcolor\": \"white\", \"lakecolor\": \"white\", \"landcolor\": \"#E5ECF6\", \"showlakes\": true, \"showland\": true, \"subunitcolor\": \"white\"}, \"hoverlabel\": {\"align\": \"left\"}, \"hovermode\": \"closest\", \"mapbox\": {\"style\": \"light\"}, \"paper_bgcolor\": \"white\", \"plot_bgcolor\": \"#E5ECF6\", \"polar\": {\"angularaxis\": {\"gridcolor\": \"white\", \"linecolor\": \"white\", \"ticks\": \"\"}, \"bgcolor\": \"#E5ECF6\", \"radialaxis\": {\"gridcolor\": \"white\", \"linecolor\": \"white\", \"ticks\": \"\"}}, \"scene\": {\"xaxis\": {\"backgroundcolor\": \"#E5ECF6\", \"gridcolor\": \"white\", \"gridwidth\": 2, \"linecolor\": \"white\", \"showbackground\": true, \"ticks\": \"\", \"zerolinecolor\": \"white\"}, \"yaxis\": {\"backgroundcolor\": \"#E5ECF6\", \"gridcolor\": \"white\", \"gridwidth\": 2, \"linecolor\": \"white\", \"showbackground\": true, \"ticks\": \"\", \"zerolinecolor\": \"white\"}, \"zaxis\": {\"backgroundcolor\": \"#E5ECF6\", \"gridcolor\": \"white\", \"gridwidth\": 2, \"linecolor\": \"white\", \"showbackground\": true, \"ticks\": \"\", \"zerolinecolor\": \"white\"}}, \"shapedefaults\": {\"line\": {\"color\": \"#2a3f5f\"}}, \"ternary\": {\"aaxis\": {\"gridcolor\": \"white\", \"linecolor\": \"white\", \"ticks\": \"\"}, \"baxis\": {\"gridcolor\": \"white\", \"linecolor\": \"white\", \"ticks\": \"\"}, \"bgcolor\": \"#E5ECF6\", \"caxis\": {\"gridcolor\": \"white\", \"linecolor\": \"white\", \"ticks\": \"\"}}, \"title\": {\"x\": 0.05}, \"xaxis\": {\"automargin\": true, \"gridcolor\": \"white\", \"linecolor\": \"white\", \"ticks\": \"\", \"title\": {\"standoff\": 15}, \"zerolinecolor\": \"white\", \"zerolinewidth\": 2}, \"yaxis\": {\"automargin\": true, \"gridcolor\": \"white\", \"linecolor\": \"white\", \"ticks\": \"\", \"title\": {\"standoff\": 15}, \"zerolinecolor\": \"white\", \"zerolinewidth\": 2}}}, \"xaxis\": {\"anchor\": \"y\", \"domain\": [0.0, 1.0], \"title\": {\"text\": \"x\"}}, \"yaxis\": {\"anchor\": \"x\", \"domain\": [0.0, 1.0], \"title\": {\"text\": \"y\"}}},                        {\"responsive\": true}                    ).then(function(){\n",
       "                            \n",
       "var gd = document.getElementById('8fc46881-924c-4299-8de1-514bddc30b11');\n",
       "var x = new MutationObserver(function (mutations, observer) {{\n",
       "        var display = window.getComputedStyle(gd).display;\n",
       "        if (!display || display === 'none') {{\n",
       "            console.log([gd, 'removed!']);\n",
       "            Plotly.purge(gd);\n",
       "            observer.disconnect();\n",
       "        }}\n",
       "}});\n",
       "\n",
       "// Listen for the removal of the full notebook cells\n",
       "var notebookContainer = gd.closest('#notebook-container');\n",
       "if (notebookContainer) {{\n",
       "    x.observe(notebookContainer, {childList: true});\n",
       "}}\n",
       "\n",
       "// Listen for the clearing of the current output cell\n",
       "var outputEl = gd.closest('.output');\n",
       "if (outputEl) {{\n",
       "    x.observe(outputEl, {childList: true});\n",
       "}}\n",
       "\n",
       "                        })                };                });            </script>        </div>"
      ]
     },
     "metadata": {},
     "output_type": "display_data"
    }
   ],
   "source": [
    "fig = px.scatter(df, x=\"x\", y=\"y\", hover_data=['name'])\n",
    "fig.show()"
   ]
  },
  {
   "cell_type": "code",
   "execution_count": null,
   "metadata": {},
   "outputs": [],
   "source": []
  }
 ],
 "metadata": {
  "kernelspec": {
   "display_name": "Python 3",
   "language": "python",
   "name": "python3"
  },
  "language_info": {
   "codemirror_mode": {
    "name": "ipython",
    "version": 3
   },
   "file_extension": ".py",
   "mimetype": "text/x-python",
   "name": "python",
   "nbconvert_exporter": "python",
   "pygments_lexer": "ipython3",
   "version": "3.7.3"
  },
  "toc": {
   "base_numbering": 1,
   "nav_menu": {},
   "number_sections": true,
   "sideBar": true,
   "skip_h1_title": false,
   "title_cell": "Table of Contents",
   "title_sidebar": "Contents",
   "toc_cell": false,
   "toc_position": {},
   "toc_section_display": true,
   "toc_window_display": false
  },
  "varInspector": {
   "cols": {
    "lenName": 16,
    "lenType": 16,
    "lenVar": 40
   },
   "kernels_config": {
    "python": {
     "delete_cmd_postfix": "",
     "delete_cmd_prefix": "del ",
     "library": "var_list.py",
     "varRefreshCmd": "print(var_dic_list())"
    },
    "r": {
     "delete_cmd_postfix": ") ",
     "delete_cmd_prefix": "rm(",
     "library": "var_list.r",
     "varRefreshCmd": "cat(var_dic_list()) "
    }
   },
   "types_to_exclude": [
    "module",
    "function",
    "builtin_function_or_method",
    "instance",
    "_Feature"
   ],
   "window_display": false
  }
 },
 "nbformat": 4,
 "nbformat_minor": 4
}
